{
 "cells": [
  {
   "cell_type": "code",
   "execution_count": 2,
   "metadata": {},
   "outputs": [
    {
     "name": "stdout",
     "output_type": "stream",
     "text": [
      "OpenServer is connected\n",
      "No OpenServer license available\n",
      "OpenServer has been disconnected\n"
     ]
    },
    {
     "ename": "ValueError",
     "evalue": "No OpenServer license available",
     "output_type": "error",
     "traceback": [
      "\u001b[1;31m---------------------------------------------------------------------------\u001b[0m",
      "\u001b[1;31mValueError\u001b[0m                                Traceback (most recent call last)",
      "\u001b[1;32mc:\\prosper\\openserver_with_python\\openserver_connection.ipynb Cell 1\u001b[0m in \u001b[0;36m<cell line: 6>\u001b[1;34m()\u001b[0m\n\u001b[0;32m      <a href='vscode-notebook-cell:/c%3A/prosper/openserver_with_python/openserver_connection.ipynb#W0sZmlsZQ%3D%3D?line=2'>3</a>\u001b[0m c \u001b[39m=\u001b[39m OpenServer()\n\u001b[0;32m      <a href='vscode-notebook-cell:/c%3A/prosper/openserver_with_python/openserver_connection.ipynb#W0sZmlsZQ%3D%3D?line=3'>4</a>\u001b[0m c\u001b[39m.\u001b[39mconnect()\n\u001b[1;32m----> <a href='vscode-notebook-cell:/c%3A/prosper/openserver_with_python/openserver_connection.ipynb#W0sZmlsZQ%3D%3D?line=5'>6</a>\u001b[0m c\u001b[39m.\u001b[39;49mDoCmd(\u001b[39m'\u001b[39;49m\u001b[39mPROSPER.START()\u001b[39;49m\u001b[39m'\u001b[39;49m)\n\u001b[0;32m      <a href='vscode-notebook-cell:/c%3A/prosper/openserver_with_python/openserver_connection.ipynb#W0sZmlsZQ%3D%3D?line=6'>7</a>\u001b[0m \u001b[39m# c.DoCmd('PROSPER.OPENFILE(\"C:\\\\well_2.OUT\")')\u001b[39;00m\n\u001b[0;32m      <a href='vscode-notebook-cell:/c%3A/prosper/openserver_with_python/openserver_connection.ipynb#W0sZmlsZQ%3D%3D?line=7'>8</a>\u001b[0m \u001b[39m# c.DoSet('PROSPER.SIN.SUM.Comments', 'Testing OpenServer from Python')\u001b[39;00m\n\u001b[0;32m     <a href='vscode-notebook-cell:/c%3A/prosper/openserver_with_python/openserver_connection.ipynb#W0sZmlsZQ%3D%3D?line=9'>10</a>\u001b[0m c\u001b[39m.\u001b[39mdisconnect()\n",
      "File \u001b[1;32mc:\\Users\\aliyu\\anaconda3\\envs\\internship\\lib\\site-packages\\openserver\\openserver.py:64\u001b[0m, in \u001b[0;36mOpenServer.DoCmd\u001b[1;34m(self, Cmd)\u001b[0m\n\u001b[0;32m     62\u001b[0m     \u001b[39mif\u001b[39;00m Err \u001b[39m>\u001b[39m \u001b[39m0\u001b[39m:\n\u001b[0;32m     63\u001b[0m         \u001b[39mself\u001b[39m\u001b[39m.\u001b[39merror \u001b[39m=\u001b[39m \u001b[39mself\u001b[39m\u001b[39m.\u001b[39mserver\u001b[39m.\u001b[39mGetErrorDescription(Err)\n\u001b[1;32m---> 64\u001b[0m         \u001b[39mraise\u001b[39;00m \u001b[39mValueError\u001b[39;00m(\u001b[39mself\u001b[39m\u001b[39m.\u001b[39merror)\n\u001b[0;32m     65\u001b[0m \u001b[39mexcept\u001b[39;00m \u001b[39mValueError\u001b[39;00m \u001b[39mas\u001b[39;00m exc:\n\u001b[0;32m     66\u001b[0m     \u001b[39mprint\u001b[39m(exc)\n",
      "\u001b[1;31mValueError\u001b[0m: No OpenServer license available"
     ]
    }
   ],
   "source": [
    "from openserver import OpenServer\n",
    "\n",
    "c = OpenServer()\n",
    "c.connect()\n",
    "\n",
    "c.DoCmd('PROSPER.START()')\n",
    "# c.DoCmd('PROSPER.OPENFILE(\"C:\\\\well_2.OUT\")')\n",
    "# c.DoSet('PROSPER.SIN.SUM.Comments', 'Testing OpenServer from Python')\n",
    "\n",
    "c.disconnect()"
   ]
  },
  {
   "cell_type": "code",
   "execution_count": null,
   "metadata": {},
   "outputs": [],
   "source": []
  }
 ],
 "metadata": {
  "kernelspec": {
   "display_name": "Python 3.8.13 ('internship')",
   "language": "python",
   "name": "python3"
  },
  "language_info": {
   "codemirror_mode": {
    "name": "ipython",
    "version": 3
   },
   "file_extension": ".py",
   "mimetype": "text/x-python",
   "name": "python",
   "nbconvert_exporter": "python",
   "pygments_lexer": "ipython3",
   "version": "3.8.13"
  },
  "orig_nbformat": 4,
  "vscode": {
   "interpreter": {
    "hash": "6dda936634b00118aa3fd5b09b5a04eabba3f4a622f0977e488f0946ea34a453"
   }
  }
 },
 "nbformat": 4,
 "nbformat_minor": 2
}
