{
 "cells": [
  {
   "cell_type": "markdown",
   "metadata": {
    "pycharm": {
     "name": "#%% md\n"
    }
   },
   "source": [
    "# OpenServer Functions"
   ]
  },
  {
   "cell_type": "markdown",
   "metadata": {
    "pycharm": {
     "name": "#%% md\n"
    }
   },
   "source": [
    "## Modules"
   ]
  },
  {
   "cell_type": "code",
   "execution_count": 16,
   "metadata": {
    "pycharm": {
     "name": "#%%\n"
    }
   },
   "outputs": [],
   "source": [
    "import win32com.client\n",
    "import sys\n",
    "import time\n",
    "import os"
   ]
  },
  {
   "cell_type": "markdown",
   "metadata": {
    "pycharm": {
     "name": "#%% md\n"
    }
   },
   "source": [
    "## Functions"
   ]
  },
  {
   "cell_type": "code",
   "execution_count": 17,
   "metadata": {
    "pycharm": {
     "name": "#%%\n"
    }
   },
   "outputs": [],
   "source": [
    "class OpenServer():\n",
    "    \"Class for holding ActiveX reference. Allows license disconnection\"\n",
    "    def __init__(self):\n",
    "        self.status = \"Disconnected\"\n",
    "        self.OSReference = None\n",
    "    \n",
    "    def Connect(self):\n",
    "        self.OSReference = win32com.client.Dispatch(\"PX32.OpenServer.1\")\n",
    "        self.status = \"Connected\"\n",
    "        print(\"OpenServer connected\")\n",
    "        \n",
    "    def Disconnect(self):\n",
    "        self.OSReference = None\n",
    "        self.status = \"Disconnected\"\n",
    "        print(\"OpenServer disconnected\")"
   ]
  },
  {
   "cell_type": "code",
   "execution_count": 18,
   "metadata": {
    "pycharm": {
     "name": "#%%\n"
    }
   },
   "outputs": [],
   "source": [
    "def GetAppName(sv):\n",
    "    # function for returning app name from tag string\n",
    "    pos = sv.find(\".\")\n",
    "    if pos < 2:\n",
    "        sys.exit(\"GetAppName: Badly formed tag string\")\n",
    "    app_name = sv[:pos]\n",
    "    if app_name.lower() not in [\"prosper\", \"mbal\", \"gap\", \"pvt\", \"resolve\",\n",
    "                                   \"reveal\"]:\n",
    "        sys.exit(\"GetAppName: Unrecognised application name in tag string\")\n",
    "    return app_name\n",
    "\n",
    "\n",
    "def DoCmd(OpenServe, cmd):\n",
    "    # perform a command and check for errors\n",
    "    lerr = OpenServe.OSReference.DoCommand(cmd)\n",
    "    if lerr > 0:\n",
    "        err = OpenServe.OSReference.GetErrorDescription(lerr)\n",
    "        OpenServe.Disconnect()\n",
    "        sys.exit(\"DoCmd: \" + err)\n",
    "\n",
    "\n",
    "def DoSet(OpenServe, sv, val):\n",
    "    # set a value and check for errors\n",
    "    lerr = OpenServe.OSReference.SetValue(sv, val)\n",
    "    app_name = GetAppName(sv)\n",
    "    lerr = OpenServe.OSReference.GetLastError(app_name)\n",
    "    if lerr > 0:\n",
    "        err = OpenServe.OSReference.GetErrorDescription(lerr)\n",
    "        OpenServe.Disconnect()\n",
    "        sys.exit(\"DoSet: \" + err)\n",
    "    \n",
    "def DoGet(OpenServe, gv):\n",
    "    # get a value and check for errors\n",
    "    get_value = OpenServe.OSReference.GetValue(gv)\n",
    "    app_name = GetAppName(gv)\n",
    "    lerr = OpenServe.OSReference.GetLastError(app_name)\n",
    "    if lerr > 0:\n",
    "        err = OpenServe.OSReference.GetErrorDescription(lerr)\n",
    "        OpenServe.Disconnect()\n",
    "        sys.exit(\"DoGet: \" + err)\n",
    "    return get_value\n",
    "\n",
    "\n",
    "def DoSlowCmd(OpenServe, cmd):\n",
    "    # perform a command then wait for command to exit and check for errors\n",
    "    step = 0.001\n",
    "    app_name = GetAppName(cmd)\n",
    "    lerr = OpenServe.OSReference.DoCommandAsync(cmd)\n",
    "    if lerr > 0:\n",
    "        err = OpenServe.OSReference.GetErrorDescription(lerr)\n",
    "        OpenServe.Disconnect()\n",
    "        sys.exit(\"DoSlowCmd: \" + err)\n",
    "    while OpenServe.OSReference.IsBusy(app_name) > 0:\n",
    "        if step < 2:\n",
    "            step = step*2\n",
    "        time.sleep(step)\n",
    "    lerr = OpenServe.OSReference.GetLastError(app_name)\n",
    "    if lerr > 0:\n",
    "        err = OpenServe.OSReference.GetErrorDescription(lerr)\n",
    "        OpenServe.Disconnect()\n",
    "        sys.exit(\"DoSlowCmd: \" + err)\n",
    "\n",
    "\n",
    "def DoGAPFunc(OpenServe, gv):\n",
    "    DoSlowCmd(gv)\n",
    "    DoGAPFunc = DoGet(OpenServe, \"GAP.LASTCMDRET\")\n",
    "    lerr = OpenServe.OSReference.GetLastError(\"GAP\")\n",
    "    if lerr > 0:\n",
    "        err = OpenServe.OSReference.GetErrorDescription(lerr)\n",
    "        OpenServe.Disconnect()\n",
    "        sys.exit(\"DoGAPFunc: \" + err)\n",
    "    return DoGAPFunc\n",
    "\n",
    "\n",
    "def OSOpenFile(OpenServe, theModel, appname):\n",
    "    DoSlowCmd(OpenServe, appname + '.OPENFILE (\"' + theModel + '\")')\n",
    "    lerr = OpenServe.OSReference.GetLastError(appname)\n",
    "    if lerr > 0:\n",
    "        err = OpenServe.OSReference.GetErrorDescription(lerr)\n",
    "        OpenServe.Disconnect()\n",
    "        sys.exit(\"OSOpenFile: \" + err)\n",
    "\n",
    "\n",
    "def OSSaveFile(OpenServe, theModel, appname):\n",
    "    DoSlowCmd(OpenServe, appname + '.SAVEFILE (\"' + theModel + '\")')\n",
    "    lerr = OpenServe.OSReference.GetLastError(appname)\n",
    "    if lerr > 0:\n",
    "        err = OpenServe.OSReference.GetErrorDescription(lerr)\n",
    "        OpenServe.Disconnect()\n",
    "        sys.exit(\"OSSaveFile: \" + err)"
   ]
  },
  {
   "cell_type": "code",
   "execution_count": 19,
   "metadata": {
    "pycharm": {
     "name": "#%%\n"
    }
   },
   "outputs": [],
   "source": [
    "# Import modules for plotting and handling data\n",
    "import matplotlib.pyplot as plt\n",
    "import pandas as pd\n",
    "import seaborn as sns\n",
    "import numpy as np\n",
    "import os\n",
    "from tqdm import tqdm\n",
    "\n",
    "# Import input distributions as required\n",
    "from scipy.stats import truncnorm\n",
    "from scipy.stats import triang\n",
    "from scipy.stats import uniform"
   ]
  },
  {
   "cell_type": "code",
   "execution_count": 20,
   "metadata": {
    "pycharm": {
     "name": "#%%\n"
    }
   },
   "outputs": [
    {
     "data": {
      "image/png": "[encoded data removed]",
      "text/plain": [
       "<Figure size 576x360 with 4 Axes>"
      ]
     },
     "metadata": {
      "needs_background": "light"
     },
     "output_type": "display_data"
    }
   ],
   "source": [
    "# Define a random number seed for reproducible results\n",
    "\n",
    "seed = 123456\n",
    "n_trials = 10000\n",
    "\n",
    "\n",
    "# Set up plot grid for inputs\n",
    "\n",
    "fig, axs = plt.subplots(2,2, figsize=[8,5])\n",
    "\n",
    "\n",
    "# Permeability input will be normally distributed, truncated to the range 50 mD - 550 mD\n",
    "# See https://docs.scipy.org/doc/scipy/reference/generated/scipy.stats.truncnorm.html\n",
    "\n",
    "a, b = (50 - 300) / 100, (550 - 300) / 100\n",
    "perm_dist = truncnorm.rvs(a, b, loc = 300, scale = 100, size = n_trials, random_state = seed)\n",
    "ax = sns.distplot(perm_dist, kde = False, ax=axs[0,0])\n",
    "axs[0,0].set_title(\"Input distribution for permeability \\n\", fontweight = 'bold')\n",
    "ax.set_ylabel(\"Count\", fontweight = 'bold')\n",
    "ax.set_xlabel(\"k, mD\", fontweight = 'bold')\n",
    "\n",
    "\n",
    "# Net pay thickness will be uniformly distributed\n",
    "# See https://docs.scipy.org/doc/scipy/reference/generated/scipy.stats.uniform.html\n",
    "\n",
    "pay_dist = uniform.rvs(loc = 5, scale = 10, size = n_trials, random_state = seed)\n",
    "ax = sns.distplot(pay_dist, kde = False, ax=axs[0,1])\n",
    "axs[0,1].set_title(\"Input distribution for pay thickness \\n\", fontweight = 'bold')\n",
    "ax.set_ylabel(\"Count\", fontweight = 'bold')\n",
    "ax.set_xlabel(\"h, m\", fontweight = 'bold')\n",
    "\n",
    "\n",
    "# Skin will be uniformly distributed\n",
    "\n",
    "skin_dist = uniform.rvs(loc = 0, scale = 10, size = n_trials, random_state = seed)\n",
    "ax = sns.distplot(skin_dist, kde = False, ax=axs[1,0])\n",
    "axs[1,0].set_title(\"Input distribution for skin damage \\n\", fontweight = 'bold')\n",
    "ax.set_ylabel(\"Count\", fontweight = 'bold')\n",
    "ax.set_xlabel(\"S\", fontweight = 'bold')\n",
    "\n",
    "\n",
    "# Reservoir pressure will be use the triangular distribution\n",
    "# See https://docs.scipy.org/doc/scipy/reference/generated/scipy.stats.triang.html\n",
    "\n",
    "pres_dist = triang.rvs(c = 0.5, loc = 2750, scale = 500, size = n_trials, random_state = seed)\n",
    "ax = sns.distplot(pres_dist, kde = False, ax=axs[1,1])\n",
    "axs[1,1].set_title(\"Input distribution for reservoir pressure \\n\", fontweight = 'bold')\n",
    "ax.set_ylabel(\"Count\", fontweight = 'bold')\n",
    "ax.set_xlabel(\"P, psia\", fontweight = 'bold')\n",
    "\n",
    "\n",
    "plt.tight_layout()\n",
    "plt.show()"
   ]
  },
  {
   "cell_type": "code",
   "execution_count": 21,
   "metadata": {
    "pycharm": {
     "name": "#%%\n"
    }
   },
   "outputs": [],
   "source": [
    "# Create a dataframe to hold inputs and results\n",
    "# See https://pandas.pydata.org/pandas-docs/stable/reference/api/pandas.DataFrame.html\n",
    "\n",
    "df_well_MC = pd.DataFrame({\n",
    "        'perm' : perm_dist,\n",
    "        'pay' : pay_dist,\n",
    "        'skin' : skin_dist,\n",
    "        'pres' : pres_dist\n",
    "         })"
   ]
  },
  {
   "cell_type": "code",
   "execution_count": 22,
   "metadata": {
    "pycharm": {
     "name": "#%%\n"
    }
   },
   "outputs": [
    {
     "name": "stdout",
     "output_type": "stream",
     "text": [
      "OpenServer disconnected\n"
     ]
    },
    {
     "ename": "com_error",
     "evalue": "(-2147221005, 'Invalid class string', None, None)",
     "output_type": "error",
     "traceback": [
      "\u001B[1;31m---------------------------------------------------------------------------\u001B[0m",
      "\u001B[1;31mcom_error\u001B[0m                                 Traceback (most recent call last)",
      "File \u001B[1;32mc:\\Users\\aliyu\\anaconda3\\envs\\internship\\lib\\site-packages\\win32com\\client\\dynamic.py:86\u001B[0m, in \u001B[0;36m_GetGoodDispatch\u001B[1;34m(IDispatch, clsctx)\u001B[0m\n\u001B[0;32m     85\u001B[0m \u001B[39mtry\u001B[39;00m:\n\u001B[1;32m---> 86\u001B[0m     IDispatch \u001B[39m=\u001B[39m pythoncom\u001B[39m.\u001B[39;49mconnect(IDispatch)\n\u001B[0;32m     87\u001B[0m \u001B[39mexcept\u001B[39;00m pythoncom\u001B[39m.\u001B[39mole_error:\n",
      "\u001B[1;31mcom_error\u001B[0m: (-2147221005, 'Invalid class string', None, None)",
      "\nDuring handling of the above exception, another exception occurred:\n",
      "\u001B[1;31mcom_error\u001B[0m                                 Traceback (most recent call last)",
      "\u001B[1;32mc:\\prosper\\openserver_with_python\\main.ipynb Cell 10\u001B[0m in \u001B[0;36m<cell line: 1>\u001B[1;34m()\u001B[0m\n\u001B[0;32m      <a href='vscode-notebook-cell:/c%3A/prosper/openserver_with_python/main.ipynb#X21sZmlsZQ%3D%3D?line=3'>4</a>\u001B[0m petex \u001B[39m=\u001B[39m OpenServer()\n\u001B[0;32m      <a href='vscode-notebook-cell:/c%3A/prosper/openserver_with_python/main.ipynb#X21sZmlsZQ%3D%3D?line=5'>6</a>\u001B[0m \u001B[39m# Creates ActiveX reference and holds a license\u001B[39;00m\n\u001B[1;32m----> <a href='vscode-notebook-cell:/c%3A/prosper/openserver_with_python/main.ipynb#X21sZmlsZQ%3D%3D?line=7'>8</a>\u001B[0m petex\u001B[39m.\u001B[39;49mConnect()\n\u001B[0;32m     <a href='vscode-notebook-cell:/c%3A/prosper/openserver_with_python/main.ipynb#X21sZmlsZQ%3D%3D?line=9'>10</a>\u001B[0m \u001B[39m# Perform functions\u001B[39;00m\n\u001B[0;32m     <a href='vscode-notebook-cell:/c%3A/prosper/openserver_with_python/main.ipynb#X21sZmlsZQ%3D%3D?line=11'>12</a>\u001B[0m cwd \u001B[39m=\u001B[39m os\u001B[39m.\u001B[39mgetcwd()\n",
      "\u001B[1;32mc:\\prosper\\openserver_with_python\\main.ipynb Cell 10\u001B[0m in \u001B[0;36mOpenServer.Connect\u001B[1;34m(self)\u001B[0m\n\u001B[0;32m      <a href='vscode-notebook-cell:/c%3A/prosper/openserver_with_python/main.ipynb#X21sZmlsZQ%3D%3D?line=6'>7</a>\u001B[0m \u001B[39mdef\u001B[39;00m \u001B[39mConnect\u001B[39m(\u001B[39mself\u001B[39m):\n\u001B[1;32m----> <a href='vscode-notebook-cell:/c%3A/prosper/openserver_with_python/main.ipynb#X21sZmlsZQ%3D%3D?line=7'>8</a>\u001B[0m     \u001B[39mself\u001B[39m\u001B[39m.\u001B[39mOSReference \u001B[39m=\u001B[39m win32com\u001B[39m.\u001B[39;49mclient\u001B[39m.\u001B[39;49mDispatch(\u001B[39m\"\u001B[39;49m\u001B[39mPX32.OpenServer.1\u001B[39;49m\u001B[39m\"\u001B[39;49m)\n\u001B[0;32m      <a href='vscode-notebook-cell:/c%3A/prosper/openserver_with_python/main.ipynb#X21sZmlsZQ%3D%3D?line=8'>9</a>\u001B[0m     \u001B[39mself\u001B[39m\u001B[39m.\u001B[39mstatus \u001B[39m=\u001B[39m \u001B[39m\"\u001B[39m\u001B[39mConnected\u001B[39m\u001B[39m\"\u001B[39m\n\u001B[0;32m     <a href='vscode-notebook-cell:/c%3A/prosper/openserver_with_python/main.ipynb#X21sZmlsZQ%3D%3D?line=9'>10</a>\u001B[0m     \u001B[39mprint\u001B[39m(\u001B[39m\"\u001B[39m\u001B[39mOpenServer connected\u001B[39m\u001B[39m\"\u001B[39m)\n",
      "File \u001B[1;32mc:\\Users\\aliyu\\anaconda3\\envs\\internship\\lib\\site-packages\\win32com\\client\\__init__.py:117\u001B[0m, in \u001B[0;36mDispatch\u001B[1;34m(dispatch, userName, resultCLSID, typeinfo, UnicodeToString, clsctx)\u001B[0m\n\u001B[0;32m    115\u001B[0m \u001B[39m\"\"\"Creates a Dispatch based COM object.\"\"\"\u001B[39;00m\n\u001B[0;32m    116\u001B[0m \u001B[39massert\u001B[39;00m UnicodeToString \u001B[39mis\u001B[39;00m \u001B[39mNone\u001B[39;00m, \u001B[39m\"\u001B[39m\u001B[39mthis is deprecated and will go away\u001B[39m\u001B[39m\"\u001B[39m\n\u001B[1;32m--> 117\u001B[0m dispatch, userName \u001B[39m=\u001B[39m dynamic\u001B[39m.\u001B[39;49m_GetGoodDispatchAndUserName(dispatch, userName, clsctx)\n\u001B[0;32m    118\u001B[0m \u001B[39mreturn\u001B[39;00m __WrapDispatch(dispatch, userName, resultCLSID, typeinfo, clsctx\u001B[39m=\u001B[39mclsctx)\n",
      "File \u001B[1;32mc:\\Users\\aliyu\\anaconda3\\envs\\internship\\lib\\site-packages\\win32com\\client\\dynamic.py:106\u001B[0m, in \u001B[0;36m_GetGoodDispatchAndUserName\u001B[1;34m(IDispatch, userName, clsctx)\u001B[0m\n\u001B[0;32m    103\u001B[0m     \u001B[39m## ??? else userName remains None ???\u001B[39;00m\n\u001B[0;32m    104\u001B[0m \u001B[39melse\u001B[39;00m:\n\u001B[0;32m    105\u001B[0m     userName \u001B[39m=\u001B[39m \u001B[39mstr\u001B[39m(userName)\n\u001B[1;32m--> 106\u001B[0m \u001B[39mreturn\u001B[39;00m (_GetGoodDispatch(IDispatch, clsctx), userName)\n",
      "File \u001B[1;32mc:\\Users\\aliyu\\anaconda3\\envs\\internship\\lib\\site-packages\\win32com\\client\\dynamic.py:88\u001B[0m, in \u001B[0;36m_GetGoodDispatch\u001B[1;34m(IDispatch, clsctx)\u001B[0m\n\u001B[0;32m     86\u001B[0m         IDispatch \u001B[39m=\u001B[39m pythoncom\u001B[39m.\u001B[39mconnect(IDispatch)\n\u001B[0;32m     87\u001B[0m     \u001B[39mexcept\u001B[39;00m pythoncom\u001B[39m.\u001B[39mole_error:\n\u001B[1;32m---> 88\u001B[0m         IDispatch \u001B[39m=\u001B[39m pythoncom\u001B[39m.\u001B[39;49mCoCreateInstance(\n\u001B[0;32m     89\u001B[0m             IDispatch, \u001B[39mNone\u001B[39;49;00m, clsctx, pythoncom\u001B[39m.\u001B[39;49mIID_IDispatch\n\u001B[0;32m     90\u001B[0m         )\n\u001B[0;32m     91\u001B[0m \u001B[39melse\u001B[39;00m:\n\u001B[0;32m     92\u001B[0m     \u001B[39m# may already be a wrapped class.\u001B[39;00m\n\u001B[0;32m     93\u001B[0m     IDispatch \u001B[39m=\u001B[39m \u001B[39mgetattr\u001B[39m(IDispatch, \u001B[39m\"\u001B[39m\u001B[39m_oleobj_\u001B[39m\u001B[39m\"\u001B[39m, IDispatch)\n",
      "\u001B[1;31mcom_error\u001B[0m: (-2147221005, 'Invalid class string', None, None)"
     ]
    }
   ],
   "source": [
    "try:\n",
    "    # Initialises an 'OpenServer' class\n",
    "\n",
    "    petex = OpenServer()\n",
    "    \n",
    "    # Creates ActiveX reference and holds a license\n",
    "\n",
    "    petex.Connect()\n",
    "    \n",
    "    # Perform functions\n",
    "\n",
    "    cwd = os.getcwd()\n",
    "    OSOpenFile(petex, cwd + r'\\Example_Well.Out', 'PROSPER')\n",
    "    DoCmd(petex, 'PROSPER.ANL.SYS.CALC')\n",
    "    OPR = DoGet(petex, 'PROSPER.OUT.SYS.Results[0].Sol.OilRate')\n",
    "    OPR = round(float(OPR),0)\n",
    "    print(\"\"\"\n",
    "            Base case oil rate: %s stb/d\n",
    "          \"\"\" % OPR)\n",
    "  \n",
    "finally:\n",
    "    # Required to close the license otherwise remains checked out\n",
    "    \n",
    "    petex.Disconnect()"
   ]
  },
  {
   "cell_type": "code",
   "execution_count": null,
   "metadata": {
    "pycharm": {
     "name": "#%%\n"
    }
   },
   "outputs": [],
   "source": []
  },
  {
   "cell_type": "code",
   "execution_count": null,
   "metadata": {
    "pycharm": {
     "name": "#%%\n"
    }
   },
   "outputs": [
    {
     "name": "stdout",
     "output_type": "stream",
     "text": [
      "OpenServer disconnected\n"
     ]
    },
    {
     "ename": "com_error",
     "evalue": "(-2147221005, 'Invalid class string', None, None)",
     "output_type": "error",
     "traceback": [
      "\u001B[1;31m---------------------------------------------------------------------------\u001B[0m",
      "\u001B[1;31mcom_error\u001B[0m                                 Traceback (most recent call last)",
      "File \u001B[1;32mc:\\Users\\aliyu\\anaconda3\\envs\\internship\\lib\\site-packages\\win32com\\client\\dynamic.py:86\u001B[0m, in \u001B[0;36m_GetGoodDispatch\u001B[1;34m(IDispatch, clsctx)\u001B[0m\n\u001B[0;32m     85\u001B[0m \u001B[39mtry\u001B[39;00m:\n\u001B[1;32m---> 86\u001B[0m     IDispatch \u001B[39m=\u001B[39m pythoncom\u001B[39m.\u001B[39;49mconnect(IDispatch)\n\u001B[0;32m     87\u001B[0m \u001B[39mexcept\u001B[39;00m pythoncom\u001B[39m.\u001B[39mole_error:\n",
      "\u001B[1;31mcom_error\u001B[0m: (-2147221005, 'Invalid class string', None, None)",
      "\nDuring handling of the above exception, another exception occurred:\n",
      "\u001B[1;31mcom_error\u001B[0m                                 Traceback (most recent call last)",
      "\u001B[1;32mc:\\prosper\\openserver_with_python\\main.ipynb Cell 7\u001B[0m in \u001B[0;36m<cell line: 1>\u001B[1;34m()\u001B[0m\n\u001B[0;32m      <a href='vscode-notebook-cell:/c%3A/prosper/openserver_with_python/main.ipynb#X14sZmlsZQ%3D%3D?line=3'>4</a>\u001B[0m petex \u001B[39m=\u001B[39m OpenServer()\n\u001B[0;32m      <a href='vscode-notebook-cell:/c%3A/prosper/openserver_with_python/main.ipynb#X14sZmlsZQ%3D%3D?line=5'>6</a>\u001B[0m \u001B[39m# Creates ActiveX reference and holds a license\u001B[39;00m\n\u001B[1;32m----> <a href='vscode-notebook-cell:/c%3A/prosper/openserver_with_python/main.ipynb#X14sZmlsZQ%3D%3D?line=7'>8</a>\u001B[0m petex\u001B[39m.\u001B[39;49mConnect()\n\u001B[0;32m     <a href='vscode-notebook-cell:/c%3A/prosper/openserver_with_python/main.ipynb#X14sZmlsZQ%3D%3D?line=9'>10</a>\u001B[0m \u001B[39m# Perform functions\u001B[39;00m\n\u001B[0;32m     <a href='vscode-notebook-cell:/c%3A/prosper/openserver_with_python/main.ipynb#X14sZmlsZQ%3D%3D?line=11'>12</a>\u001B[0m cwd \u001B[39m=\u001B[39m os\u001B[39m.\u001B[39mgetcwd()\n",
      "\u001B[1;32mc:\\prosper\\openserver_with_python\\main.ipynb Cell 7\u001B[0m in \u001B[0;36mOpenServer.Connect\u001B[1;34m(self)\u001B[0m\n\u001B[0;32m      <a href='vscode-notebook-cell:/c%3A/prosper/openserver_with_python/main.ipynb#X14sZmlsZQ%3D%3D?line=6'>7</a>\u001B[0m \u001B[39mdef\u001B[39;00m \u001B[39mConnect\u001B[39m(\u001B[39mself\u001B[39m):\n\u001B[1;32m----> <a href='vscode-notebook-cell:/c%3A/prosper/openserver_with_python/main.ipynb#X14sZmlsZQ%3D%3D?line=7'>8</a>\u001B[0m     \u001B[39mself\u001B[39m\u001B[39m.\u001B[39mOSReference \u001B[39m=\u001B[39m win32com\u001B[39m.\u001B[39;49mclient\u001B[39m.\u001B[39;49mDispatch(\u001B[39m\"\u001B[39;49m\u001B[39mPX32.OpenServer.1\u001B[39;49m\u001B[39m\"\u001B[39;49m)\n\u001B[0;32m      <a href='vscode-notebook-cell:/c%3A/prosper/openserver_with_python/main.ipynb#X14sZmlsZQ%3D%3D?line=8'>9</a>\u001B[0m     \u001B[39mself\u001B[39m\u001B[39m.\u001B[39mstatus \u001B[39m=\u001B[39m \u001B[39m\"\u001B[39m\u001B[39mConnected\u001B[39m\u001B[39m\"\u001B[39m\n\u001B[0;32m     <a href='vscode-notebook-cell:/c%3A/prosper/openserver_with_python/main.ipynb#X14sZmlsZQ%3D%3D?line=9'>10</a>\u001B[0m     \u001B[39mprint\u001B[39m(\u001B[39m\"\u001B[39m\u001B[39mOpenServer connected\u001B[39m\u001B[39m\"\u001B[39m)\n",
      "File \u001B[1;32mc:\\Users\\aliyu\\anaconda3\\envs\\internship\\lib\\site-packages\\win32com\\client\\__init__.py:117\u001B[0m, in \u001B[0;36mDispatch\u001B[1;34m(dispatch, userName, resultCLSID, typeinfo, UnicodeToString, clsctx)\u001B[0m\n\u001B[0;32m    115\u001B[0m \u001B[39m\"\"\"Creates a Dispatch based COM object.\"\"\"\u001B[39;00m\n\u001B[0;32m    116\u001B[0m \u001B[39massert\u001B[39;00m UnicodeToString \u001B[39mis\u001B[39;00m \u001B[39mNone\u001B[39;00m, \u001B[39m\"\u001B[39m\u001B[39mthis is deprecated and will go away\u001B[39m\u001B[39m\"\u001B[39m\n\u001B[1;32m--> 117\u001B[0m dispatch, userName \u001B[39m=\u001B[39m dynamic\u001B[39m.\u001B[39;49m_GetGoodDispatchAndUserName(dispatch, userName, clsctx)\n\u001B[0;32m    118\u001B[0m \u001B[39mreturn\u001B[39;00m __WrapDispatch(dispatch, userName, resultCLSID, typeinfo, clsctx\u001B[39m=\u001B[39mclsctx)\n",
      "File \u001B[1;32mc:\\Users\\aliyu\\anaconda3\\envs\\internship\\lib\\site-packages\\win32com\\client\\dynamic.py:106\u001B[0m, in \u001B[0;36m_GetGoodDispatchAndUserName\u001B[1;34m(IDispatch, userName, clsctx)\u001B[0m\n\u001B[0;32m    103\u001B[0m     \u001B[39m## ??? else userName remains None ???\u001B[39;00m\n\u001B[0;32m    104\u001B[0m \u001B[39melse\u001B[39;00m:\n\u001B[0;32m    105\u001B[0m     userName \u001B[39m=\u001B[39m \u001B[39mstr\u001B[39m(userName)\n\u001B[1;32m--> 106\u001B[0m \u001B[39mreturn\u001B[39;00m (_GetGoodDispatch(IDispatch, clsctx), userName)\n",
      "File \u001B[1;32mc:\\Users\\aliyu\\anaconda3\\envs\\internship\\lib\\site-packages\\win32com\\client\\dynamic.py:88\u001B[0m, in \u001B[0;36m_GetGoodDispatch\u001B[1;34m(IDispatch, clsctx)\u001B[0m\n\u001B[0;32m     86\u001B[0m         IDispatch \u001B[39m=\u001B[39m pythoncom\u001B[39m.\u001B[39mconnect(IDispatch)\n\u001B[0;32m     87\u001B[0m     \u001B[39mexcept\u001B[39;00m pythoncom\u001B[39m.\u001B[39mole_error:\n\u001B[1;32m---> 88\u001B[0m         IDispatch \u001B[39m=\u001B[39m pythoncom\u001B[39m.\u001B[39;49mCoCreateInstance(\n\u001B[0;32m     89\u001B[0m             IDispatch, \u001B[39mNone\u001B[39;49;00m, clsctx, pythoncom\u001B[39m.\u001B[39;49mIID_IDispatch\n\u001B[0;32m     90\u001B[0m         )\n\u001B[0;32m     91\u001B[0m \u001B[39melse\u001B[39;00m:\n\u001B[0;32m     92\u001B[0m     \u001B[39m# may already be a wrapped class.\u001B[39;00m\n\u001B[0;32m     93\u001B[0m     IDispatch \u001B[39m=\u001B[39m \u001B[39mgetattr\u001B[39m(IDispatch, \u001B[39m\"\u001B[39m\u001B[39m_oleobj_\u001B[39m\u001B[39m\"\u001B[39m, IDispatch)\n",
      "\u001B[1;31mcom_error\u001B[0m: (-2147221005, 'Invalid class string', None, None)"
     ]
    }
   ],
   "source": [
    "try:\n",
    "    # Initialises an 'OpenServer' class\n",
    "\n",
    "    petex = OpenServer()\n",
    "    \n",
    "    # Creates ActiveX reference and holds a license\n",
    "\n",
    "    petex.Connect()\n",
    "    \n",
    "    # Perform functions\n",
    "\n",
    "    cwd = os.getcwd()\n",
    "    OSOpenFile(petex, cwd + r'\\well_1.Out', 'PROSPER')\n",
    "    DoCmd(petex, 'PROSPER.ANL.SYS.CALC')\n",
    "    OPR = DoGet(petex, 'PROSPER.OUT.SYS.Results[0].Sol.OilRate')\n",
    "    OPR = round(float(OPR),0)\n",
    "    print(\"\"\"\n",
    "            Base case oil rate: %s stb/d\n",
    "          \"\"\" % OPR)\n",
    "  \n",
    "finally:\n",
    "    # Required to close the license otherwise remains checked out\n",
    "    \n",
    "    petex.Disconnect()"
   ]
  },
  {
   "cell_type": "code",
   "execution_count": null,
   "metadata": {
    "pycharm": {
     "name": "#%%\n"
    }
   },
   "outputs": [],
   "source": []
  }
 ],
 "metadata": {
  "kernelspec": {
   "display_name": "base",
   "language": "python",
   "name": "python3"
  },
  "language_info": {
   "codemirror_mode": {
    "name": "ipython",
    "version": 3
   },
   "file_extension": ".py",
   "mimetype": "text/x-python",
   "name": "python",
   "nbconvert_exporter": "python",
   "pygments_lexer": "ipython3",
   "version": "3.9.12 (main, Apr  4 2022, 05:22:27) [MSC v.1916 64 bit (AMD64)]"
  },
  "orig_nbformat": 4,
  "vscode": {
   "interpreter": {
    "hash": "c92bc8fffe5a7a288d6090c008f991380df73b744774f61abf64ba796088e3c7"
   }
  }
 },
 "nbformat": 4,
 "nbformat_minor": 2
}