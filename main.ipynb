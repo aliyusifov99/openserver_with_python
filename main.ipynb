{
 "cells": [
  {
   "cell_type": "markdown",
   "metadata": {},
   "source": [
    "# Important libraries"
   ]
  },
  {
   "cell_type": "code",
   "execution_count": 1,
   "metadata": {},
   "outputs": [],
   "source": [
    "import win32com.client\n",
    "import sys\n",
    "import time\n",
    "import os\n",
    "import numpy as np\n",
    "import plotly.express as px\n",
    "import plotly.graph_objects as go\n",
    "import pandas as pd"
   ]
  },
  {
   "attachments": {},
   "cell_type": "markdown",
   "metadata": {},
   "source": [
    "# Openserver Setup"
   ]
  },
  {
   "cell_type": "markdown",
   "metadata": {},
   "source": [
    "Openserver class with methods to connect to the server, send commands, and disconnect from the server."
   ]
  },
  {
   "cell_type": "code",
   "execution_count": 2,
   "metadata": {},
   "outputs": [],
   "source": [
    "class OpenServer():\n",
    "    \"Class for holding ActiveX reference. Allows license disconnection\"\n",
    "    def __init__(self):\n",
    "        self.status = \"Disconnected\"\n",
    "        self.OSReference = None\n",
    "    \n",
    "    def Connect(self):\n",
    "        self.OSReference = win32com.client.Dispatch(\"PX32.OpenServer.1\")\n",
    "        self.status = \"Connected\"\n",
    "        print(\"OpenServer connected\")\n",
    "        \n",
    "    def Disconnect(self):\n",
    "        self.OSReference = None\n",
    "        self.status = \"Disconnected\"\n",
    "        print(\"OpenServer disconnected\")"
   ]
  },
  {
   "cell_type": "code",
   "execution_count": 3,
   "metadata": {},
   "outputs": [],
   "source": [
    "def GetAppName(sv):\n",
    "    # function for returning app name from tag string\n",
    "    pos = sv.find(\".\")\n",
    "    if pos < 2:\n",
    "        sys.exit(\"GetAppName: Badly formed tag string\")\n",
    "    app_name = sv[:pos]\n",
    "    if app_name.lower() not in [\"prosper\", \"mbal\", \"gap\", \"pvt\", \"resolve\",\n",
    "                                   \"reveal\"]:\n",
    "        sys.exit(\"GetAppName: Unrecognised application name in tag string\")\n",
    "    return app_name\n",
    "\n",
    "\n",
    "def DoCmd(OpenServe, cmd):\n",
    "    # perform a command and check for errors\n",
    "    lerr = OpenServe.OSReference.DoCommand(cmd)\n",
    "    if lerr > 0:\n",
    "        err = OpenServe.OSReference.GetErrorDescription(lerr)\n",
    "        OpenServe.Disconnect()\n",
    "        sys.exit(\"DoCmd: \" + err)\n",
    "\n",
    "\n",
    "def DoSet(OpenServe, sv, val):\n",
    "    # set a value and check for errors\n",
    "    lerr = OpenServe.OSReference.SetValue(sv, val)\n",
    "    app_name = GetAppName(sv)\n",
    "    lerr = OpenServe.OSReference.GetLastError(app_name)\n",
    "    if lerr > 0:\n",
    "        err = OpenServe.OSReference.GetErrorDescription(lerr)\n",
    "        OpenServe.Disconnect()\n",
    "        sys.exit(\"DoSet: \" + err)\n",
    "    \n",
    "def DoGet(OpenServe, gv):\n",
    "    # get a value and check for errors\n",
    "    get_value = OpenServe.OSReference.GetValue(gv)\n",
    "    app_name = GetAppName(gv)\n",
    "    lerr = OpenServe.OSReference.GetLastError(app_name)\n",
    "    if lerr > 0:\n",
    "        err = OpenServe.OSReference.GetErrorDescription(lerr)\n",
    "        OpenServe.Disconnect()\n",
    "        sys.exit(\"DoGet: \" + err)\n",
    "    return get_value\n",
    "\n",
    "\n",
    "def DoSlowCmd(OpenServe, cmd):\n",
    "    # perform a command then wait for command to exit and check for errors\n",
    "    step = 0.001\n",
    "    app_name = GetAppName(cmd)\n",
    "    lerr = OpenServe.OSReference.DoCommandAsync(cmd)\n",
    "    if lerr > 0:\n",
    "        err = OpenServe.OSReference.GetErrorDescription(lerr)\n",
    "        OpenServe.Disconnect()\n",
    "        sys.exit(\"DoSlowCmd: \" + err)\n",
    "    while OpenServe.OSReference.IsBusy(app_name) > 0:\n",
    "        if step < 2:\n",
    "            step = step*2\n",
    "        time.sleep(step)\n",
    "    lerr = OpenServe.OSReference.GetLastError(app_name)\n",
    "    if lerr > 0:\n",
    "        err = OpenServe.OSReference.GetErrorDescription(lerr)\n",
    "        OpenServe.Disconnect()\n",
    "        sys.exit(\"DoSlowCmd: \" + err)\n",
    "\n",
    "\n",
    "def DoGAPFunc(OpenServe, gv):\n",
    "    DoSlowCmd(gv)\n",
    "    DoGAPFunc = DoGet(OpenServe, \"GAP.LASTCMDRET\")\n",
    "    lerr = OpenServe.OSReference.GetLastError(\"GAP\")\n",
    "    if lerr > 0:\n",
    "        err = OpenServe.OSReference.GetErrorDescription(lerr)\n",
    "        OpenServe.Disconnect()\n",
    "        sys.exit(\"DoGAPFunc: \" + err)\n",
    "    return DoGAPFunc\n",
    "\n",
    "\n",
    "def OSOpenFile(OpenServe, theModel, appname):\n",
    "    DoSlowCmd(OpenServe, appname + '.OPENFILE (\"' + theModel + '\")')\n",
    "    lerr = OpenServe.OSReference.GetLastError(appname)\n",
    "    if lerr > 0:\n",
    "        err = OpenServe.OSReference.GetErrorDescription(lerr)\n",
    "        OpenServe.Disconnect()\n",
    "        sys.exit(\"OSOpenFile: \" + err)\n",
    "\n",
    "\n",
    "def OSSaveFile(OpenServe, theModel, appname):\n",
    "    DoSlowCmd(OpenServe, appname + '.SAVEFILE (\"' + theModel + '\")')\n",
    "    lerr = OpenServe.OSReference.GetLastError(appname)\n",
    "    if lerr > 0:\n",
    "        err = OpenServe.OSReference.GetErrorDescription(lerr)\n",
    "        OpenServe.Disconnect()\n",
    "        sys.exit(\"OSSaveFile: \" + err)"
   ]
  },
  {
   "cell_type": "markdown",
   "metadata": {},
   "source": [
    "# Multiple well calculation"
   ]
  },
  {
   "cell_type": "code",
   "execution_count": 4,
   "metadata": {},
   "outputs": [
    {
     "data": {
      "text/html": [
       "<div>\n",
       "<style scoped>\n",
       "    .dataframe tbody tr th:only-of-type {\n",
       "        vertical-align: middle;\n",
       "    }\n",
       "\n",
       "    .dataframe tbody tr th {\n",
       "        vertical-align: top;\n",
       "    }\n",
       "\n",
       "    .dataframe thead th {\n",
       "        text-align: right;\n",
       "    }\n",
       "</style>\n",
       "<table border=\"1\" class=\"dataframe\">\n",
       "  <thead>\n",
       "    <tr style=\"text-align: right;\">\n",
       "      <th></th>\n",
       "      <th>gas_injection_array</th>\n",
       "    </tr>\n",
       "  </thead>\n",
       "  <tbody>\n",
       "    <tr>\n",
       "      <th>0</th>\n",
       "      <td>0.0</td>\n",
       "    </tr>\n",
       "    <tr>\n",
       "      <th>1</th>\n",
       "      <td>0.1</td>\n",
       "    </tr>\n",
       "    <tr>\n",
       "      <th>2</th>\n",
       "      <td>0.2</td>\n",
       "    </tr>\n",
       "    <tr>\n",
       "      <th>3</th>\n",
       "      <td>0.3</td>\n",
       "    </tr>\n",
       "    <tr>\n",
       "      <th>4</th>\n",
       "      <td>0.4</td>\n",
       "    </tr>\n",
       "    <tr>\n",
       "      <th>5</th>\n",
       "      <td>0.5</td>\n",
       "    </tr>\n",
       "    <tr>\n",
       "      <th>6</th>\n",
       "      <td>0.6</td>\n",
       "    </tr>\n",
       "    <tr>\n",
       "      <th>7</th>\n",
       "      <td>0.7</td>\n",
       "    </tr>\n",
       "    <tr>\n",
       "      <th>8</th>\n",
       "      <td>0.8</td>\n",
       "    </tr>\n",
       "    <tr>\n",
       "      <th>9</th>\n",
       "      <td>0.9</td>\n",
       "    </tr>\n",
       "    <tr>\n",
       "      <th>10</th>\n",
       "      <td>1.0</td>\n",
       "    </tr>\n",
       "    <tr>\n",
       "      <th>11</th>\n",
       "      <td>1.1</td>\n",
       "    </tr>\n",
       "    <tr>\n",
       "      <th>12</th>\n",
       "      <td>1.2</td>\n",
       "    </tr>\n",
       "    <tr>\n",
       "      <th>13</th>\n",
       "      <td>1.3</td>\n",
       "    </tr>\n",
       "    <tr>\n",
       "      <th>14</th>\n",
       "      <td>1.4</td>\n",
       "    </tr>\n",
       "    <tr>\n",
       "      <th>15</th>\n",
       "      <td>1.5</td>\n",
       "    </tr>\n",
       "    <tr>\n",
       "      <th>16</th>\n",
       "      <td>1.6</td>\n",
       "    </tr>\n",
       "    <tr>\n",
       "      <th>17</th>\n",
       "      <td>1.7</td>\n",
       "    </tr>\n",
       "    <tr>\n",
       "      <th>18</th>\n",
       "      <td>1.8</td>\n",
       "    </tr>\n",
       "    <tr>\n",
       "      <th>19</th>\n",
       "      <td>1.9</td>\n",
       "    </tr>\n",
       "    <tr>\n",
       "      <th>20</th>\n",
       "      <td>2.0</td>\n",
       "    </tr>\n",
       "    <tr>\n",
       "      <th>21</th>\n",
       "      <td>2.1</td>\n",
       "    </tr>\n",
       "    <tr>\n",
       "      <th>22</th>\n",
       "      <td>2.2</td>\n",
       "    </tr>\n",
       "    <tr>\n",
       "      <th>23</th>\n",
       "      <td>2.3</td>\n",
       "    </tr>\n",
       "    <tr>\n",
       "      <th>24</th>\n",
       "      <td>2.4</td>\n",
       "    </tr>\n",
       "    <tr>\n",
       "      <th>25</th>\n",
       "      <td>2.5</td>\n",
       "    </tr>\n",
       "    <tr>\n",
       "      <th>26</th>\n",
       "      <td>2.6</td>\n",
       "    </tr>\n",
       "    <tr>\n",
       "      <th>27</th>\n",
       "      <td>2.7</td>\n",
       "    </tr>\n",
       "    <tr>\n",
       "      <th>28</th>\n",
       "      <td>2.8</td>\n",
       "    </tr>\n",
       "    <tr>\n",
       "      <th>29</th>\n",
       "      <td>2.9</td>\n",
       "    </tr>\n",
       "    <tr>\n",
       "      <th>30</th>\n",
       "      <td>3.0</td>\n",
       "    </tr>\n",
       "    <tr>\n",
       "      <th>31</th>\n",
       "      <td>3.1</td>\n",
       "    </tr>\n",
       "    <tr>\n",
       "      <th>32</th>\n",
       "      <td>3.2</td>\n",
       "    </tr>\n",
       "    <tr>\n",
       "      <th>33</th>\n",
       "      <td>3.3</td>\n",
       "    </tr>\n",
       "    <tr>\n",
       "      <th>34</th>\n",
       "      <td>3.4</td>\n",
       "    </tr>\n",
       "  </tbody>\n",
       "</table>\n",
       "</div>"
      ],
      "text/plain": [
       "    gas_injection_array\n",
       "0                   0.0\n",
       "1                   0.1\n",
       "2                   0.2\n",
       "3                   0.3\n",
       "4                   0.4\n",
       "5                   0.5\n",
       "6                   0.6\n",
       "7                   0.7\n",
       "8                   0.8\n",
       "9                   0.9\n",
       "10                  1.0\n",
       "11                  1.1\n",
       "12                  1.2\n",
       "13                  1.3\n",
       "14                  1.4\n",
       "15                  1.5\n",
       "16                  1.6\n",
       "17                  1.7\n",
       "18                  1.8\n",
       "19                  1.9\n",
       "20                  2.0\n",
       "21                  2.1\n",
       "22                  2.2\n",
       "23                  2.3\n",
       "24                  2.4\n",
       "25                  2.5\n",
       "26                  2.6\n",
       "27                  2.7\n",
       "28                  2.8\n",
       "29                  2.9\n",
       "30                  3.0\n",
       "31                  3.1\n",
       "32                  3.2\n",
       "33                  3.3\n",
       "34                  3.4"
      ]
     },
     "execution_count": 4,
     "metadata": {},
     "output_type": "execute_result"
    }
   ],
   "source": [
    "#gas availability and increment steps\n",
    "number_of_wells = int(input('Please enter the number of wells:'))\n",
    "gas_available = float(input('Please enter available gas'))\n",
    "increment = float(input('Please enter the increment value'))\n",
    "gas_injection_array = np.arange(0, gas_available, increment)\n",
    "df=pd.DataFrame()\n",
    "df['gas_injection_array'] = gas_injection_array\n",
    "df"
   ]
  },
  {
   "cell_type": "code",
   "execution_count": 5,
   "metadata": {},
   "outputs": [
    {
     "name": "stdout",
     "output_type": "stream",
     "text": [
      "OpenServer connected\n",
      "Well 1 opened\n",
      "Well 1 closed\n",
      "Well 2 opened\n",
      "Well 2 closed\n",
      "Well 3 opened\n",
      "Well 3 closed\n",
      "Well 4 opened\n",
      "Well 4 closed\n",
      "Well 5 opened\n",
      "Well 5 closed\n",
      "Well 6 opened\n",
      "Well 6 closed\n",
      "Well 7 opened\n",
      "Well 7 closed\n",
      "Well 8 opened\n",
      "Well 8 closed\n",
      "Well 9 opened\n",
      "Well 9 closed\n",
      "Well 10 opened\n",
      "Well 10 closed\n"
     ]
    },
    {
     "data": {
      "text/html": [
       "<div>\n",
       "<style scoped>\n",
       "    .dataframe tbody tr th:only-of-type {\n",
       "        vertical-align: middle;\n",
       "    }\n",
       "\n",
       "    .dataframe tbody tr th {\n",
       "        vertical-align: top;\n",
       "    }\n",
       "\n",
       "    .dataframe thead th {\n",
       "        text-align: right;\n",
       "    }\n",
       "</style>\n",
       "<table border=\"1\" class=\"dataframe\">\n",
       "  <thead>\n",
       "    <tr style=\"text-align: right;\">\n",
       "      <th></th>\n",
       "      <th>gas_injection_array</th>\n",
       "      <th>Well_1</th>\n",
       "      <th>Well_2</th>\n",
       "      <th>Well_3</th>\n",
       "      <th>Well_4</th>\n",
       "      <th>Well_5</th>\n",
       "      <th>Well_6</th>\n",
       "      <th>Well_7</th>\n",
       "      <th>Well_8</th>\n",
       "      <th>Well_9</th>\n",
       "      <th>Well_10</th>\n",
       "    </tr>\n",
       "  </thead>\n",
       "  <tbody>\n",
       "    <tr>\n",
       "      <th>0</th>\n",
       "      <td>0.0</td>\n",
       "      <td>878.37</td>\n",
       "      <td>1657.35</td>\n",
       "      <td>1576.44</td>\n",
       "      <td>1362.42</td>\n",
       "      <td>997.05</td>\n",
       "      <td>1858.40</td>\n",
       "      <td>1767.62</td>\n",
       "      <td>1123.93</td>\n",
       "      <td>1717.52</td>\n",
       "      <td>1749.18</td>\n",
       "    </tr>\n",
       "    <tr>\n",
       "      <th>1</th>\n",
       "      <td>0.1</td>\n",
       "      <td>896.05</td>\n",
       "      <td>1668.40</td>\n",
       "      <td>1588.09</td>\n",
       "      <td>1375.90</td>\n",
       "      <td>1013.68</td>\n",
       "      <td>1867.23</td>\n",
       "      <td>1777.72</td>\n",
       "      <td>1139.83</td>\n",
       "      <td>1728.00</td>\n",
       "      <td>1759.44</td>\n",
       "    </tr>\n",
       "    <tr>\n",
       "      <th>2</th>\n",
       "      <td>0.2</td>\n",
       "      <td>911.90</td>\n",
       "      <td>1677.71</td>\n",
       "      <td>1597.90</td>\n",
       "      <td>1387.41</td>\n",
       "      <td>1027.60</td>\n",
       "      <td>1874.69</td>\n",
       "      <td>1786.06</td>\n",
       "      <td>1153.42</td>\n",
       "      <td>1739.01</td>\n",
       "      <td>1767.97</td>\n",
       "    </tr>\n",
       "    <tr>\n",
       "      <th>3</th>\n",
       "      <td>0.3</td>\n",
       "      <td>924.19</td>\n",
       "      <td>1685.58</td>\n",
       "      <td>1606.21</td>\n",
       "      <td>1397.28</td>\n",
       "      <td>1041.02</td>\n",
       "      <td>1880.97</td>\n",
       "      <td>1793.10</td>\n",
       "      <td>1164.63</td>\n",
       "      <td>1746.45</td>\n",
       "      <td>1775.18</td>\n",
       "    </tr>\n",
       "    <tr>\n",
       "      <th>4</th>\n",
       "      <td>0.4</td>\n",
       "      <td>935.19</td>\n",
       "      <td>1692.24</td>\n",
       "      <td>1613.28</td>\n",
       "      <td>1405.79</td>\n",
       "      <td>1051.22</td>\n",
       "      <td>1886.24</td>\n",
       "      <td>1799.04</td>\n",
       "      <td>1174.25</td>\n",
       "      <td>1752.74</td>\n",
       "      <td>1781.27</td>\n",
       "    </tr>\n",
       "  </tbody>\n",
       "</table>\n",
       "</div>"
      ],
      "text/plain": [
       "   gas_injection_array  Well_1   Well_2   Well_3   Well_4   Well_5   Well_6  \\\n",
       "0                  0.0  878.37  1657.35  1576.44  1362.42   997.05  1858.40   \n",
       "1                  0.1  896.05  1668.40  1588.09  1375.90  1013.68  1867.23   \n",
       "2                  0.2  911.90  1677.71  1597.90  1387.41  1027.60  1874.69   \n",
       "3                  0.3  924.19  1685.58  1606.21  1397.28  1041.02  1880.97   \n",
       "4                  0.4  935.19  1692.24  1613.28  1405.79  1051.22  1886.24   \n",
       "\n",
       "    Well_7   Well_8   Well_9  Well_10  \n",
       "0  1767.62  1123.93  1717.52  1749.18  \n",
       "1  1777.72  1139.83  1728.00  1759.44  \n",
       "2  1786.06  1153.42  1739.01  1767.97  \n",
       "3  1793.10  1164.63  1746.45  1775.18  \n",
       "4  1799.04  1174.25  1752.74  1781.27  "
      ]
     },
     "execution_count": 5,
     "metadata": {},
     "output_type": "execute_result"
    }
   ],
   "source": [
    "# Initialises an 'OpenServer' class\n",
    "\n",
    "petex = OpenServer()\n",
    "\n",
    "# Creates ActiveX reference and holds a license\n",
    "\n",
    "petex.Connect()\n",
    "oil_rates_for_wells = {}\n",
    "\n",
    "# Perform functions\n",
    "\n",
    "cwd = os.getcwd()\n",
    "for j in range(1,number_of_wells+1):\n",
    "    #opening well file\n",
    "    OSOpenFile(petex, cwd + f'\\models\\well_{j}.Out', 'PROSPER')\n",
    "    print(f'Well {j} opened')\n",
    "    #oil rates calculation\n",
    "    for i in range(0,len(gas_injection_array)):\n",
    "        command = f'PROSPER.ANL.SYS.Sens.SensDB.Sens[138].Vals[{i}]'\n",
    "        DoSet(petex, command,gas_injection_array[i])\n",
    "    DoCmd(petex, 'PROSPER.ANL.SYS.CALC')\n",
    "    oil_rates = [] #list of oil rates for 1 well\n",
    "    for i in range(0, len(gas_injection_array)):\n",
    "        value = f'PROSPER.OUT.SYS.Results[{i}].Sol.OilRate'\n",
    "        oil_rates.append(np.round(float(DoGet(petex, value)),2))\n",
    "    oil_rates_for_wells[f'well_{j}'] = oil_rates\n",
    "    #closing file   \n",
    "    OSSaveFile(petex, cwd + f'\\well_{j}.Out', 'PROSPER')\n",
    "    print(f'Well {j} closed')\n",
    "\n",
    "#merging to main dataframe\n",
    "for i in range(1,number_of_wells+1):\n",
    "    df[f'Well_{i}'] = oil_rates_for_wells[f'well_{i}']\n",
    "\n",
    "df.head()"
   ]
  },
  {
   "cell_type": "code",
   "execution_count": 6,
   "metadata": {},
   "outputs": [
    {
     "data": {
      "application/vnd.plotly.v1+json": {
       "config": {
        "plotlyServerURL": "https://plot.ly"
       },
       "data": [
        {
         "mode": "lines",
         "name": "Well_1",
         "type": "scatter",
         "x": [
          0,
          0.1,
          0.2,
          0.30000000000000004,
          0.4,
          0.5,
          0.6000000000000001,
          0.7000000000000001,
          0.8,
          0.9,
          1,
          1.1,
          1.2000000000000002,
          1.3,
          1.4000000000000001,
          1.5,
          1.6,
          1.7000000000000002,
          1.8,
          1.9000000000000001,
          2,
          2.1,
          2.2,
          2.3000000000000003,
          2.4000000000000004,
          2.5,
          2.6,
          2.7,
          2.8000000000000003,
          2.9000000000000004,
          3,
          3.1,
          3.2,
          3.3000000000000003,
          3.4000000000000004
         ],
         "y": [
          878.37,
          896.05,
          911.9,
          924.19,
          935.19,
          944.14,
          951.77,
          958.21,
          963.73,
          968.49,
          973.15,
          976.58,
          979.43,
          981.79,
          983.78,
          985.32,
          986.52,
          987.44,
          979.24,
          978.66,
          974.25,
          955.93,
          951.2,
          948.38,
          939.12,
          928.62,
          923.88,
          919.3,
          914.17,
          909.44,
          904.6,
          898.34,
          887.27,
          867.07,
          853.65
         ]
        },
        {
         "mode": "lines",
         "name": "Well_2",
         "type": "scatter",
         "x": [
          0,
          0.1,
          0.2,
          0.30000000000000004,
          0.4,
          0.5,
          0.6000000000000001,
          0.7000000000000001,
          0.8,
          0.9,
          1,
          1.1,
          1.2000000000000002,
          1.3,
          1.4000000000000001,
          1.5,
          1.6,
          1.7000000000000002,
          1.8,
          1.9000000000000001,
          2,
          2.1,
          2.2,
          2.3000000000000003,
          2.4000000000000004,
          2.5,
          2.6,
          2.7,
          2.8000000000000003,
          2.9000000000000004,
          3,
          3.1,
          3.2,
          3.3000000000000003,
          3.4000000000000004
         ],
         "y": [
          1657.35,
          1668.4,
          1677.71,
          1685.58,
          1692.24,
          1697.85,
          1702.57,
          1706.89,
          1710.09,
          1712.6,
          1714.54,
          1715.98,
          1716.94,
          1717.44,
          1717.55,
          1717.3,
          1716.69,
          1715.76,
          1714.53,
          1713.02,
          1711.08,
          1708.83,
          1704.6,
          1692.93,
          1693.69,
          1679.89,
          1675.19,
          1670.21,
          1664.98,
          1659.46,
          1653.61,
          1633.27,
          1607.69,
          1562.68,
          1555.26
         ]
        },
        {
         "mode": "lines",
         "name": "Well_3",
         "type": "scatter",
         "x": [
          0,
          0.1,
          0.2,
          0.30000000000000004,
          0.4,
          0.5,
          0.6000000000000001,
          0.7000000000000001,
          0.8,
          0.9,
          1,
          1.1,
          1.2000000000000002,
          1.3,
          1.4000000000000001,
          1.5,
          1.6,
          1.7000000000000002,
          1.8,
          1.9000000000000001,
          2,
          2.1,
          2.2,
          2.3000000000000003,
          2.4000000000000004,
          2.5,
          2.6,
          2.7,
          2.8000000000000003,
          2.9000000000000004,
          3,
          3.1,
          3.2,
          3.3000000000000003,
          3.4000000000000004
         ],
         "y": [
          1576.44,
          1588.09,
          1597.9,
          1606.21,
          1613.28,
          1619.15,
          1623.94,
          1630.42,
          1633.8,
          1636.59,
          1638.84,
          1640.6,
          1641.92,
          1642.82,
          1643.34,
          1643.5,
          1643.14,
          1642.45,
          1641.48,
          1640.25,
          1638.77,
          1637.05,
          1635.02,
          1632.71,
          1630.13,
          1627.38,
          1624.37,
          1618.9,
          1598.37,
          1573.41,
          1524.03,
          1558.63,
          1508.31,
          1468.74,
          1459.81
         ]
        },
        {
         "mode": "lines",
         "name": "Well_4",
         "type": "scatter",
         "x": [
          0,
          0.1,
          0.2,
          0.30000000000000004,
          0.4,
          0.5,
          0.6000000000000001,
          0.7000000000000001,
          0.8,
          0.9,
          1,
          1.1,
          1.2000000000000002,
          1.3,
          1.4000000000000001,
          1.5,
          1.6,
          1.7000000000000002,
          1.8,
          1.9000000000000001,
          2,
          2.1,
          2.2,
          2.3000000000000003,
          2.4000000000000004,
          2.5,
          2.6,
          2.7,
          2.8000000000000003,
          2.9000000000000004,
          3,
          3.1,
          3.2,
          3.3000000000000003,
          3.4000000000000004
         ],
         "y": [
          1362.42,
          1375.9,
          1387.41,
          1397.28,
          1405.79,
          1413.16,
          1419.53,
          1425,
          1431.86,
          1435.76,
          1438.99,
          1441.7,
          1443.93,
          1445.58,
          1446.83,
          1447.71,
          1448.19,
          1448.2,
          1447.93,
          1447.39,
          1446.57,
          1445.45,
          1444.07,
          1415.06,
          1402.57,
          1393.1,
          1388.1,
          1382.84,
          1375.93,
          1359.22,
          1339.88,
          1345.71,
          1323.33,
          1315.47,
          1309.38
         ]
        },
        {
         "mode": "lines",
         "name": "Well_5",
         "type": "scatter",
         "x": [
          0,
          0.1,
          0.2,
          0.30000000000000004,
          0.4,
          0.5,
          0.6000000000000001,
          0.7000000000000001,
          0.8,
          0.9,
          1,
          1.1,
          1.2000000000000002,
          1.3,
          1.4000000000000001,
          1.5,
          1.6,
          1.7000000000000002,
          1.8,
          1.9000000000000001,
          2,
          2.1,
          2.2,
          2.3000000000000003,
          2.4000000000000004,
          2.5,
          2.6,
          2.7,
          2.8000000000000003,
          2.9000000000000004,
          3,
          3.1,
          3.2,
          3.3000000000000003,
          3.4000000000000004
         ],
         "y": [
          997.05,
          1013.68,
          1027.6,
          1041.02,
          1051.22,
          1060.09,
          1067.58,
          1074.09,
          1079.76,
          1085.05,
          1089.13,
          1092.54,
          1095.47,
          1097.91,
          1099.84,
          1101.44,
          1102.61,
          1103.48,
          1103.99,
          1104.21,
          1096,
          1075.47,
          1072.51,
          1064.42,
          1059.93,
          1048.84,
          1045.06,
          1041.16,
          1037.17,
          1033.08,
          1002.26,
          1005.17,
          978.56,
          972.76,
          966.29
         ]
        },
        {
         "mode": "lines",
         "name": "Well_6",
         "type": "scatter",
         "x": [
          0,
          0.1,
          0.2,
          0.30000000000000004,
          0.4,
          0.5,
          0.6000000000000001,
          0.7000000000000001,
          0.8,
          0.9,
          1,
          1.1,
          1.2000000000000002,
          1.3,
          1.4000000000000001,
          1.5,
          1.6,
          1.7000000000000002,
          1.8,
          1.9000000000000001,
          2,
          2.1,
          2.2,
          2.3000000000000003,
          2.4000000000000004,
          2.5,
          2.6,
          2.7,
          2.8000000000000003,
          2.9000000000000004,
          3,
          3.1,
          3.2,
          3.3000000000000003,
          3.4000000000000004
         ],
         "y": [
          1858.4,
          1867.23,
          1874.69,
          1880.97,
          1886.24,
          1890.55,
          1895.85,
          1898.62,
          1900.76,
          1902.34,
          1903.41,
          1904,
          1904.17,
          1903.94,
          1903.33,
          1902.36,
          1900.93,
          1899.21,
          1897.19,
          1894.91,
          1892.38,
          1889.63,
          1886.6,
          1883.25,
          1879.7,
          1875.98,
          1872.09,
          1867.97,
          1856.63,
          1788.8,
          1781.28,
          1773.08,
          1746.08,
          1724.14,
          1714.59
         ]
        },
        {
         "mode": "lines",
         "name": "Well_7",
         "type": "scatter",
         "x": [
          0,
          0.1,
          0.2,
          0.30000000000000004,
          0.4,
          0.5,
          0.6000000000000001,
          0.7000000000000001,
          0.8,
          0.9,
          1,
          1.1,
          1.2000000000000002,
          1.3,
          1.4000000000000001,
          1.5,
          1.6,
          1.7000000000000002,
          1.8,
          1.9000000000000001,
          2,
          2.1,
          2.2,
          2.3000000000000003,
          2.4000000000000004,
          2.5,
          2.6,
          2.7,
          2.8000000000000003,
          2.9000000000000004,
          3,
          3.1,
          3.2,
          3.3000000000000003,
          3.4000000000000004
         ],
         "y": [
          1767.62,
          1777.72,
          1786.06,
          1793.1,
          1799.04,
          1804.02,
          1808.15,
          1811.54,
          1814.25,
          1816.36,
          1817.93,
          1819,
          1819.5,
          1819.56,
          1819.23,
          1818.56,
          1817.55,
          1816.18,
          1814.48,
          1812.5,
          1810.24,
          1807.75,
          1805.01,
          1801.96,
          1798.72,
          1792.38,
          1755.16,
          1770.67,
          1724.79,
          1717.58,
          1710.17,
          1702.55,
          1694.7,
          1686.63,
          1678.31
         ]
        },
        {
         "mode": "lines",
         "name": "Well_8",
         "type": "scatter",
         "x": [
          0,
          0.1,
          0.2,
          0.30000000000000004,
          0.4,
          0.5,
          0.6000000000000001,
          0.7000000000000001,
          0.8,
          0.9,
          1,
          1.1,
          1.2000000000000002,
          1.3,
          1.4000000000000001,
          1.5,
          1.6,
          1.7000000000000002,
          1.8,
          1.9000000000000001,
          2,
          2.1,
          2.2,
          2.3000000000000003,
          2.4000000000000004,
          2.5,
          2.6,
          2.7,
          2.8000000000000003,
          2.9000000000000004,
          3,
          3.1,
          3.2,
          3.3000000000000003,
          3.4000000000000004
         ],
         "y": [
          1123.93,
          1139.83,
          1153.42,
          1164.63,
          1174.25,
          1182.55,
          1189.79,
          1197.9,
          1203.44,
          1207.98,
          1211.93,
          1215.35,
          1218.15,
          1220.41,
          1222.28,
          1223.78,
          1224.76,
          1225.44,
          1225.85,
          1225.93,
          1225.67,
          1225.19,
          1217.3,
          1204.19,
          1163.03,
          1159.09,
          1154.29,
          1145.01,
          1139.69,
          1133.85,
          1128.2,
          1122.35,
          1116.33,
          1110.18,
          1103.9
         ]
        },
        {
         "mode": "lines",
         "name": "Well_9",
         "type": "scatter",
         "x": [
          0,
          0.1,
          0.2,
          0.30000000000000004,
          0.4,
          0.5,
          0.6000000000000001,
          0.7000000000000001,
          0.8,
          0.9,
          1,
          1.1,
          1.2000000000000002,
          1.3,
          1.4000000000000001,
          1.5,
          1.6,
          1.7000000000000002,
          1.8,
          1.9000000000000001,
          2,
          2.1,
          2.2,
          2.3000000000000003,
          2.4000000000000004,
          2.5,
          2.6,
          2.7,
          2.8000000000000003,
          2.9000000000000004,
          3,
          3.1,
          3.2,
          3.3000000000000003,
          3.4000000000000004
         ],
         "y": [
          1717.52,
          1728,
          1739.01,
          1746.45,
          1752.74,
          1758.03,
          1762.44,
          1766.08,
          1769.02,
          1771.35,
          1773.09,
          1774.24,
          1774.93,
          1775.91,
          1775.8,
          1775.25,
          1774.36,
          1773.18,
          1771.7,
          1769.92,
          1767.82,
          1765.47,
          1762.89,
          1758.05,
          1749.86,
          1739.91,
          1719.97,
          1705.1,
          1698.88,
          1692.43,
          1685.75,
          1677.63,
          1670.49,
          1614.66,
          1630.18
         ]
        },
        {
         "mode": "lines",
         "name": "Well_10",
         "type": "scatter",
         "x": [
          0,
          0.1,
          0.2,
          0.30000000000000004,
          0.4,
          0.5,
          0.6000000000000001,
          0.7000000000000001,
          0.8,
          0.9,
          1,
          1.1,
          1.2000000000000002,
          1.3,
          1.4000000000000001,
          1.5,
          1.6,
          1.7000000000000002,
          1.8,
          1.9000000000000001,
          2,
          2.1,
          2.2,
          2.3000000000000003,
          2.4000000000000004,
          2.5,
          2.6,
          2.7,
          2.8000000000000003,
          2.9000000000000004,
          3,
          3.1,
          3.2,
          3.3000000000000003,
          3.4000000000000004
         ],
         "y": [
          1749.18,
          1759.44,
          1767.97,
          1775.18,
          1781.27,
          1786.37,
          1790.62,
          1794.11,
          1796.92,
          1799.13,
          1800.78,
          1801.88,
          1802.44,
          1802.58,
          1802.34,
          1801.74,
          1800.76,
          1799.43,
          1797.82,
          1795.94,
          1793.75,
          1791.29,
          1788.57,
          1785.61,
          1782.45,
          1752.05,
          1760.88,
          1725.12,
          1715.02,
          1708.09,
          1700.95,
          1693.59,
          1685.9,
          1678.01,
          1669.91
         ]
        }
       ],
       "layout": {
        "template": {
         "data": {
          "bar": [
           {
            "error_x": {
             "color": "#2a3f5f"
            },
            "error_y": {
             "color": "#2a3f5f"
            },
            "marker": {
             "line": {
              "color": "#E5ECF6",
              "width": 0.5
             },
             "pattern": {
              "fillmode": "overlay",
              "size": 10,
              "solidity": 0.2
             }
            },
            "type": "bar"
           }
          ],
          "barpolar": [
           {
            "marker": {
             "line": {
              "color": "#E5ECF6",
              "width": 0.5
             },
             "pattern": {
              "fillmode": "overlay",
              "size": 10,
              "solidity": 0.2
             }
            },
            "type": "barpolar"
           }
          ],
          "carpet": [
           {
            "aaxis": {
             "endlinecolor": "#2a3f5f",
             "gridcolor": "white",
             "linecolor": "white",
             "minorgridcolor": "white",
             "startlinecolor": "#2a3f5f"
            },
            "baxis": {
             "endlinecolor": "#2a3f5f",
             "gridcolor": "white",
             "linecolor": "white",
             "minorgridcolor": "white",
             "startlinecolor": "#2a3f5f"
            },
            "type": "carpet"
           }
          ],
          "choropleth": [
           {
            "colorbar": {
             "outlinewidth": 0,
             "ticks": ""
            },
            "type": "choropleth"
           }
          ],
          "contour": [
           {
            "colorbar": {
             "outlinewidth": 0,
             "ticks": ""
            },
            "colorscale": [
             [
              0,
              "#0d0887"
             ],
             [
              0.1111111111111111,
              "#46039f"
             ],
             [
              0.2222222222222222,
              "#7201a8"
             ],
             [
              0.3333333333333333,
              "#9c179e"
             ],
             [
              0.4444444444444444,
              "#bd3786"
             ],
             [
              0.5555555555555556,
              "#d8576b"
             ],
             [
              0.6666666666666666,
              "#ed7953"
             ],
             [
              0.7777777777777778,
              "#fb9f3a"
             ],
             [
              0.8888888888888888,
              "#fdca26"
             ],
             [
              1,
              "#f0f921"
             ]
            ],
            "type": "contour"
           }
          ],
          "contourcarpet": [
           {
            "colorbar": {
             "outlinewidth": 0,
             "ticks": ""
            },
            "type": "contourcarpet"
           }
          ],
          "heatmap": [
           {
            "colorbar": {
             "outlinewidth": 0,
             "ticks": ""
            },
            "colorscale": [
             [
              0,
              "#0d0887"
             ],
             [
              0.1111111111111111,
              "#46039f"
             ],
             [
              0.2222222222222222,
              "#7201a8"
             ],
             [
              0.3333333333333333,
              "#9c179e"
             ],
             [
              0.4444444444444444,
              "#bd3786"
             ],
             [
              0.5555555555555556,
              "#d8576b"
             ],
             [
              0.6666666666666666,
              "#ed7953"
             ],
             [
              0.7777777777777778,
              "#fb9f3a"
             ],
             [
              0.8888888888888888,
              "#fdca26"
             ],
             [
              1,
              "#f0f921"
             ]
            ],
            "type": "heatmap"
           }
          ],
          "heatmapgl": [
           {
            "colorbar": {
             "outlinewidth": 0,
             "ticks": ""
            },
            "colorscale": [
             [
              0,
              "#0d0887"
             ],
             [
              0.1111111111111111,
              "#46039f"
             ],
             [
              0.2222222222222222,
              "#7201a8"
             ],
             [
              0.3333333333333333,
              "#9c179e"
             ],
             [
              0.4444444444444444,
              "#bd3786"
             ],
             [
              0.5555555555555556,
              "#d8576b"
             ],
             [
              0.6666666666666666,
              "#ed7953"
             ],
             [
              0.7777777777777778,
              "#fb9f3a"
             ],
             [
              0.8888888888888888,
              "#fdca26"
             ],
             [
              1,
              "#f0f921"
             ]
            ],
            "type": "heatmapgl"
           }
          ],
          "histogram": [
           {
            "marker": {
             "pattern": {
              "fillmode": "overlay",
              "size": 10,
              "solidity": 0.2
             }
            },
            "type": "histogram"
           }
          ],
          "histogram2d": [
           {
            "colorbar": {
             "outlinewidth": 0,
             "ticks": ""
            },
            "colorscale": [
             [
              0,
              "#0d0887"
             ],
             [
              0.1111111111111111,
              "#46039f"
             ],
             [
              0.2222222222222222,
              "#7201a8"
             ],
             [
              0.3333333333333333,
              "#9c179e"
             ],
             [
              0.4444444444444444,
              "#bd3786"
             ],
             [
              0.5555555555555556,
              "#d8576b"
             ],
             [
              0.6666666666666666,
              "#ed7953"
             ],
             [
              0.7777777777777778,
              "#fb9f3a"
             ],
             [
              0.8888888888888888,
              "#fdca26"
             ],
             [
              1,
              "#f0f921"
             ]
            ],
            "type": "histogram2d"
           }
          ],
          "histogram2dcontour": [
           {
            "colorbar": {
             "outlinewidth": 0,
             "ticks": ""
            },
            "colorscale": [
             [
              0,
              "#0d0887"
             ],
             [
              0.1111111111111111,
              "#46039f"
             ],
             [
              0.2222222222222222,
              "#7201a8"
             ],
             [
              0.3333333333333333,
              "#9c179e"
             ],
             [
              0.4444444444444444,
              "#bd3786"
             ],
             [
              0.5555555555555556,
              "#d8576b"
             ],
             [
              0.6666666666666666,
              "#ed7953"
             ],
             [
              0.7777777777777778,
              "#fb9f3a"
             ],
             [
              0.8888888888888888,
              "#fdca26"
             ],
             [
              1,
              "#f0f921"
             ]
            ],
            "type": "histogram2dcontour"
           }
          ],
          "mesh3d": [
           {
            "colorbar": {
             "outlinewidth": 0,
             "ticks": ""
            },
            "type": "mesh3d"
           }
          ],
          "parcoords": [
           {
            "line": {
             "colorbar": {
              "outlinewidth": 0,
              "ticks": ""
             }
            },
            "type": "parcoords"
           }
          ],
          "pie": [
           {
            "automargin": true,
            "type": "pie"
           }
          ],
          "scatter": [
           {
            "marker": {
             "colorbar": {
              "outlinewidth": 0,
              "ticks": ""
             }
            },
            "type": "scatter"
           }
          ],
          "scatter3d": [
           {
            "line": {
             "colorbar": {
              "outlinewidth": 0,
              "ticks": ""
             }
            },
            "marker": {
             "colorbar": {
              "outlinewidth": 0,
              "ticks": ""
             }
            },
            "type": "scatter3d"
           }
          ],
          "scattercarpet": [
           {
            "marker": {
             "colorbar": {
              "outlinewidth": 0,
              "ticks": ""
             }
            },
            "type": "scattercarpet"
           }
          ],
          "scattergeo": [
           {
            "marker": {
             "colorbar": {
              "outlinewidth": 0,
              "ticks": ""
             }
            },
            "type": "scattergeo"
           }
          ],
          "scattergl": [
           {
            "marker": {
             "colorbar": {
              "outlinewidth": 0,
              "ticks": ""
             }
            },
            "type": "scattergl"
           }
          ],
          "scattermapbox": [
           {
            "marker": {
             "colorbar": {
              "outlinewidth": 0,
              "ticks": ""
             }
            },
            "type": "scattermapbox"
           }
          ],
          "scatterpolar": [
           {
            "marker": {
             "colorbar": {
              "outlinewidth": 0,
              "ticks": ""
             }
            },
            "type": "scatterpolar"
           }
          ],
          "scatterpolargl": [
           {
            "marker": {
             "colorbar": {
              "outlinewidth": 0,
              "ticks": ""
             }
            },
            "type": "scatterpolargl"
           }
          ],
          "scatterternary": [
           {
            "marker": {
             "colorbar": {
              "outlinewidth": 0,
              "ticks": ""
             }
            },
            "type": "scatterternary"
           }
          ],
          "surface": [
           {
            "colorbar": {
             "outlinewidth": 0,
             "ticks": ""
            },
            "colorscale": [
             [
              0,
              "#0d0887"
             ],
             [
              0.1111111111111111,
              "#46039f"
             ],
             [
              0.2222222222222222,
              "#7201a8"
             ],
             [
              0.3333333333333333,
              "#9c179e"
             ],
             [
              0.4444444444444444,
              "#bd3786"
             ],
             [
              0.5555555555555556,
              "#d8576b"
             ],
             [
              0.6666666666666666,
              "#ed7953"
             ],
             [
              0.7777777777777778,
              "#fb9f3a"
             ],
             [
              0.8888888888888888,
              "#fdca26"
             ],
             [
              1,
              "#f0f921"
             ]
            ],
            "type": "surface"
           }
          ],
          "table": [
           {
            "cells": {
             "fill": {
              "color": "#EBF0F8"
             },
             "line": {
              "color": "white"
             }
            },
            "header": {
             "fill": {
              "color": "#C8D4E3"
             },
             "line": {
              "color": "white"
             }
            },
            "type": "table"
           }
          ]
         },
         "layout": {
          "annotationdefaults": {
           "arrowcolor": "#2a3f5f",
           "arrowhead": 0,
           "arrowwidth": 1
          },
          "autotypenumbers": "strict",
          "coloraxis": {
           "colorbar": {
            "outlinewidth": 0,
            "ticks": ""
           }
          },
          "colorscale": {
           "diverging": [
            [
             0,
             "#8e0152"
            ],
            [
             0.1,
             "#c51b7d"
            ],
            [
             0.2,
             "#de77ae"
            ],
            [
             0.3,
             "#f1b6da"
            ],
            [
             0.4,
             "#fde0ef"
            ],
            [
             0.5,
             "#f7f7f7"
            ],
            [
             0.6,
             "#e6f5d0"
            ],
            [
             0.7,
             "#b8e186"
            ],
            [
             0.8,
             "#7fbc41"
            ],
            [
             0.9,
             "#4d9221"
            ],
            [
             1,
             "#276419"
            ]
           ],
           "sequential": [
            [
             0,
             "#0d0887"
            ],
            [
             0.1111111111111111,
             "#46039f"
            ],
            [
             0.2222222222222222,
             "#7201a8"
            ],
            [
             0.3333333333333333,
             "#9c179e"
            ],
            [
             0.4444444444444444,
             "#bd3786"
            ],
            [
             0.5555555555555556,
             "#d8576b"
            ],
            [
             0.6666666666666666,
             "#ed7953"
            ],
            [
             0.7777777777777778,
             "#fb9f3a"
            ],
            [
             0.8888888888888888,
             "#fdca26"
            ],
            [
             1,
             "#f0f921"
            ]
           ],
           "sequentialminus": [
            [
             0,
             "#0d0887"
            ],
            [
             0.1111111111111111,
             "#46039f"
            ],
            [
             0.2222222222222222,
             "#7201a8"
            ],
            [
             0.3333333333333333,
             "#9c179e"
            ],
            [
             0.4444444444444444,
             "#bd3786"
            ],
            [
             0.5555555555555556,
             "#d8576b"
            ],
            [
             0.6666666666666666,
             "#ed7953"
            ],
            [
             0.7777777777777778,
             "#fb9f3a"
            ],
            [
             0.8888888888888888,
             "#fdca26"
            ],
            [
             1,
             "#f0f921"
            ]
           ]
          },
          "colorway": [
           "#636efa",
           "#EF553B",
           "#00cc96",
           "#ab63fa",
           "#FFA15A",
           "#19d3f3",
           "#FF6692",
           "#B6E880",
           "#FF97FF",
           "#FECB52"
          ],
          "font": {
           "color": "#2a3f5f"
          },
          "geo": {
           "bgcolor": "white",
           "lakecolor": "white",
           "landcolor": "#E5ECF6",
           "showlakes": true,
           "showland": true,
           "subunitcolor": "white"
          },
          "hoverlabel": {
           "align": "left"
          },
          "hovermode": "closest",
          "mapbox": {
           "style": "light"
          },
          "paper_bgcolor": "white",
          "plot_bgcolor": "#E5ECF6",
          "polar": {
           "angularaxis": {
            "gridcolor": "white",
            "linecolor": "white",
            "ticks": ""
           },
           "bgcolor": "#E5ECF6",
           "radialaxis": {
            "gridcolor": "white",
            "linecolor": "white",
            "ticks": ""
           }
          },
          "scene": {
           "xaxis": {
            "backgroundcolor": "#E5ECF6",
            "gridcolor": "white",
            "gridwidth": 2,
            "linecolor": "white",
            "showbackground": true,
            "ticks": "",
            "zerolinecolor": "white"
           },
           "yaxis": {
            "backgroundcolor": "#E5ECF6",
            "gridcolor": "white",
            "gridwidth": 2,
            "linecolor": "white",
            "showbackground": true,
            "ticks": "",
            "zerolinecolor": "white"
           },
           "zaxis": {
            "backgroundcolor": "#E5ECF6",
            "gridcolor": "white",
            "gridwidth": 2,
            "linecolor": "white",
            "showbackground": true,
            "ticks": "",
            "zerolinecolor": "white"
           }
          },
          "shapedefaults": {
           "line": {
            "color": "#2a3f5f"
           }
          },
          "ternary": {
           "aaxis": {
            "gridcolor": "white",
            "linecolor": "white",
            "ticks": ""
           },
           "baxis": {
            "gridcolor": "white",
            "linecolor": "white",
            "ticks": ""
           },
           "bgcolor": "#E5ECF6",
           "caxis": {
            "gridcolor": "white",
            "linecolor": "white",
            "ticks": ""
           }
          },
          "title": {
           "x": 0.05
          },
          "xaxis": {
           "automargin": true,
           "gridcolor": "white",
           "linecolor": "white",
           "ticks": "",
           "title": {
            "standoff": 15
           },
           "zerolinecolor": "white",
           "zerolinewidth": 2
          },
          "yaxis": {
           "automargin": true,
           "gridcolor": "white",
           "linecolor": "white",
           "ticks": "",
           "title": {
            "standoff": 15
           },
           "zerolinecolor": "white",
           "zerolinewidth": 2
          }
         }
        },
        "title": {
         "text": "Sensitivity Plot",
         "x": 0.5
        },
        "xaxis": {
         "nticks": 50,
         "title": {
          "text": "Gaslift Gas Injection Rate(MMscf/day)"
         }
        },
        "yaxis": {
         "nticks": 20,
         "title": {
          "text": "Oil Rate(STB/day)"
         }
        }
       }
      }
     },
     "metadata": {},
     "output_type": "display_data"
    }
   ],
   "source": [
    "fig = go.Figure()\n",
    "for i in range(1,number_of_wells+1):\n",
    "    \n",
    "    fig.add_trace(go.Scatter(x=df['gas_injection_array'], y=df[f'Well_{i}'],\\\n",
    "                            mode='lines', name=f'Well_{i}'))\n",
    "fig.update_layout(title='Sensitivity Plot',\n",
    "                   xaxis_title='Gaslift Gas Injection Rate(MMscf/day)',\n",
    "                   yaxis_title='Oil Rate(STB/day)',\n",
    "                   title_x=0.5, \n",
    "                   )\n",
    "fig.update_xaxes(nticks=50)\n",
    "fig.update_yaxes(nticks=20)\n",
    "fig.show()"
   ]
  },
  {
   "cell_type": "code",
   "execution_count": 7,
   "metadata": {},
   "outputs": [
    {
     "data": {
      "text/html": [
       "<div>\n",
       "<style scoped>\n",
       "    .dataframe tbody tr th:only-of-type {\n",
       "        vertical-align: middle;\n",
       "    }\n",
       "\n",
       "    .dataframe tbody tr th {\n",
       "        vertical-align: top;\n",
       "    }\n",
       "\n",
       "    .dataframe thead th {\n",
       "        text-align: right;\n",
       "    }\n",
       "</style>\n",
       "<table border=\"1\" class=\"dataframe\">\n",
       "  <thead>\n",
       "    <tr style=\"text-align: right;\">\n",
       "      <th></th>\n",
       "      <th>gas_injection_array</th>\n",
       "      <th>Well_1</th>\n",
       "      <th>Well_2</th>\n",
       "      <th>Well_3</th>\n",
       "      <th>Well_4</th>\n",
       "      <th>Well_5</th>\n",
       "      <th>Well_6</th>\n",
       "      <th>Well_7</th>\n",
       "      <th>Well_8</th>\n",
       "      <th>Well_9</th>\n",
       "      <th>Well_10</th>\n",
       "    </tr>\n",
       "  </thead>\n",
       "  <tbody>\n",
       "    <tr>\n",
       "      <th>0</th>\n",
       "      <td>0.0</td>\n",
       "      <td>878.37</td>\n",
       "      <td>1657.35</td>\n",
       "      <td>1576.44</td>\n",
       "      <td>1362.42</td>\n",
       "      <td>997.05</td>\n",
       "      <td>1858.40</td>\n",
       "      <td>1767.62</td>\n",
       "      <td>1123.93</td>\n",
       "      <td>1717.52</td>\n",
       "      <td>1749.18</td>\n",
       "    </tr>\n",
       "    <tr>\n",
       "      <th>1</th>\n",
       "      <td>0.1</td>\n",
       "      <td>896.05</td>\n",
       "      <td>1668.40</td>\n",
       "      <td>1588.09</td>\n",
       "      <td>1375.90</td>\n",
       "      <td>1013.68</td>\n",
       "      <td>1867.23</td>\n",
       "      <td>1777.72</td>\n",
       "      <td>1139.83</td>\n",
       "      <td>1728.00</td>\n",
       "      <td>1759.44</td>\n",
       "    </tr>\n",
       "    <tr>\n",
       "      <th>2</th>\n",
       "      <td>0.2</td>\n",
       "      <td>911.90</td>\n",
       "      <td>1677.71</td>\n",
       "      <td>1597.90</td>\n",
       "      <td>1387.41</td>\n",
       "      <td>1027.60</td>\n",
       "      <td>1874.69</td>\n",
       "      <td>1786.06</td>\n",
       "      <td>1153.42</td>\n",
       "      <td>1739.01</td>\n",
       "      <td>1767.97</td>\n",
       "    </tr>\n",
       "    <tr>\n",
       "      <th>3</th>\n",
       "      <td>0.3</td>\n",
       "      <td>924.19</td>\n",
       "      <td>1685.58</td>\n",
       "      <td>1606.21</td>\n",
       "      <td>1397.28</td>\n",
       "      <td>1041.02</td>\n",
       "      <td>1880.97</td>\n",
       "      <td>1793.10</td>\n",
       "      <td>1164.63</td>\n",
       "      <td>1746.45</td>\n",
       "      <td>1775.18</td>\n",
       "    </tr>\n",
       "    <tr>\n",
       "      <th>4</th>\n",
       "      <td>0.4</td>\n",
       "      <td>935.19</td>\n",
       "      <td>1692.24</td>\n",
       "      <td>1613.28</td>\n",
       "      <td>1405.79</td>\n",
       "      <td>1051.22</td>\n",
       "      <td>1886.24</td>\n",
       "      <td>1799.04</td>\n",
       "      <td>1174.25</td>\n",
       "      <td>1752.74</td>\n",
       "      <td>1781.27</td>\n",
       "    </tr>\n",
       "  </tbody>\n",
       "</table>\n",
       "</div>"
      ],
      "text/plain": [
       "   gas_injection_array  Well_1   Well_2   Well_3   Well_4   Well_5   Well_6  \\\n",
       "0                  0.0  878.37  1657.35  1576.44  1362.42   997.05  1858.40   \n",
       "1                  0.1  896.05  1668.40  1588.09  1375.90  1013.68  1867.23   \n",
       "2                  0.2  911.90  1677.71  1597.90  1387.41  1027.60  1874.69   \n",
       "3                  0.3  924.19  1685.58  1606.21  1397.28  1041.02  1880.97   \n",
       "4                  0.4  935.19  1692.24  1613.28  1405.79  1051.22  1886.24   \n",
       "\n",
       "    Well_7   Well_8   Well_9  Well_10  \n",
       "0  1767.62  1123.93  1717.52  1749.18  \n",
       "1  1777.72  1139.83  1728.00  1759.44  \n",
       "2  1786.06  1153.42  1739.01  1767.97  \n",
       "3  1793.10  1164.63  1746.45  1775.18  \n",
       "4  1799.04  1174.25  1752.74  1781.27  "
      ]
     },
     "execution_count": 7,
     "metadata": {},
     "output_type": "execute_result"
    }
   ],
   "source": [
    "df.head()"
   ]
  },
  {
   "cell_type": "code",
   "execution_count": 8,
   "metadata": {},
   "outputs": [
    {
     "data": {
      "text/plain": [
       "[{'production_rate': 987.44, 'gas_lift': 1.7000000000000002},\n",
       " {'production_rate': 1717.55, 'gas_lift': 1.4000000000000001},\n",
       " {'production_rate': 1643.5, 'gas_lift': 1.5},\n",
       " {'production_rate': 1448.2, 'gas_lift': 1.7000000000000002},\n",
       " {'production_rate': 1104.21, 'gas_lift': 1.9000000000000001},\n",
       " {'production_rate': 1904.17, 'gas_lift': 1.2000000000000002},\n",
       " {'production_rate': 1819.56, 'gas_lift': 1.3},\n",
       " {'production_rate': 1225.93, 'gas_lift': 1.9000000000000001},\n",
       " {'production_rate': 1775.91, 'gas_lift': 1.3},\n",
       " {'production_rate': 1802.58, 'gas_lift': 1.3}]"
      ]
     },
     "execution_count": 8,
     "metadata": {},
     "output_type": "execute_result"
    }
   ],
   "source": [
    "#extracting max gas lift oil rate pairs\n",
    "df_new = df.drop('gas_injection_array', axis=1)\n",
    "wells = []\n",
    "i=1\n",
    "for element in df_new.idxmax():\n",
    "    oil_rate = df_new[f'Well_{i}'][element]\n",
    "    gas_lift = df['gas_injection_array'][element]\n",
    "    wells.append({'production_rate':oil_rate, 'gas_lift':gas_lift})\n",
    "    i+=1\n",
    "wells"
   ]
  },
  {
   "cell_type": "code",
   "execution_count": 1,
   "metadata": {},
   "outputs": [],
   "source": [
    "wells=[{'production_rate': 987.44, 'gas_lift': 1.7000000000000002},\n",
    " {'production_rate': 1717.55, 'gas_lift': 1.4000000000000001},\n",
    " {'production_rate': 1643.5, 'gas_lift': 1.5},\n",
    " {'production_rate': 1448.2, 'gas_lift': 1.7000000000000002},\n",
    " {'production_rate': 1104.21, 'gas_lift': 1.9000000000000001},\n",
    " {'production_rate': 1904.17, 'gas_lift': 1.2000000000000002},\n",
    " {'production_rate': 1819.56, 'gas_lift': 1.3},\n",
    " {'production_rate': 1225.93, 'gas_lift': 1.9000000000000001},\n",
    " {'production_rate': 1775.91, 'gas_lift': 1.3},\n",
    " {'production_rate': 1802.58, 'gas_lift': 1.3}]"
   ]
  },
  {
   "cell_type": "markdown",
   "metadata": {},
   "source": [
    "# Ant Colony Algorithm"
   ]
  },
  {
   "cell_type": "code",
   "execution_count": 28,
   "metadata": {},
   "outputs": [],
   "source": [
    "import numpy as np\n",
    "\n",
    "def optimize_gas_allocation(wells, gas_capacity, alpha, beta, evaporation_rate, iteration_count):\n",
    "    \"\"\"\n",
    "    Optimizes the allocation of gas to a group of wells using an ant colony algorithm.\n",
    "    \n",
    "    Parameters:\n",
    "    - wells: a list of dictionaries representing the wells, where each dictionary contains the following keys:\n",
    "        - 'production_rate': the production rate of the well (in STB/day)\n",
    "        - 'gas_lift': the gas lift of the well (in STB/day)\n",
    "    - gas_capacity: the total gas capacity available for allocation (in STB/day)\n",
    "    - alpha: the weight of the pheromone trail in the decision making process\n",
    "    - beta: the weight of the heuristic value in the decision making process\n",
    "    - evaporation_rate: the rate at which the pheromone trails evaporate\n",
    "    - iteration_count: the number of iterations to run the algorithm for\n",
    "    \n",
    "    Returns:\n",
    "    - A list of dictionaries representing the optimized allocation of gas to the wells, where each dictionary contains the following keys:\n",
    "        - 'well_id': the ID of the well\n",
    "        - 'allocation': the optimized allocation of gas to the well (in STB/day)\n",
    "    \"\"\"\n",
    "    # Initialize the pheromone trails and heuristic values for each well\n",
    "    pheromone_trails = np.ones(len(wells))\n",
    "    heuristic_values = np.array([well['gas_lift'] / well['production_rate'] for well in wells])\n",
    "    \n",
    "    # Run the algorithm for the specified number of iterations\n",
    "    for i in range(iteration_count):\n",
    "        # Initialize the allocation for each well\n",
    "        allocations = np.zeros(len(wells))\n",
    "        \n",
    "        # Allocate gas to each well using the ant colony algorithm\n",
    "        remaining_gas = gas_capacity\n",
    "        for j, well in enumerate(wells):\n",
    "            # Calculate the allocation probability for the well\n",
    "            allocation_probability = (pheromone_trails[j] ** alpha) * (heuristic_values[j] ** beta)\n",
    "            allocation_probability /= np.sum((pheromone_trails ** alpha) * (heuristic_values ** beta))\n",
    "            \n",
    "            # Allocate gas to the well based on the allocation probability\n",
    "            allocation = remaining_gas * allocation_probability\n",
    "            allocations[j] = allocation\n",
    "            remaining_gas -= allocation\n",
    "            \n",
    "        # Evaporate the pheromone trails based on the evaporation rate\n",
    "        pheromone_trails *= (1 - evaporation_rate)\n",
    "        \n",
    "        # Update the pheromone trails based on the allocations\n",
    "        for j, well in enumerate(wells):\n",
    "            pheromone_trails[j] += allocations[j] / well['production_rate']\n",
    "    \n",
    "    # Return the optimized allocation of gas to the wells\n",
    "    return [{'well_id': j, 'allocation': allocations[j]} for j in range(len(wells))]\n",
    "   \n"
   ]
  },
  {
   "attachments": {},
   "cell_type": "markdown",
   "metadata": {},
   "source": [
    "# Testing"
   ]
  },
  {
   "cell_type": "code",
   "execution_count": 29,
   "metadata": {},
   "outputs": [
    {
     "name": "stdout",
     "output_type": "stream",
     "text": [
      "[{'well_id': 0, 'allocation': 2.7958451134938347}, {'well_id': 1, 'allocation': 0.0050436896972078345}, {'well_id': 2, 'allocation': 0.006686640911786596}, {'well_id': 3, 'allocation': 0.013888613395527683}, {'well_id': 4, 'allocation': 0.06857443284524403}, {'well_id': 5, 'allocation': 0.002256289796639514}, {'well_id': 6, 'allocation': 0.0029716069376196064}, {'well_id': 7, 'allocation': 0.02706769067572858}, {'well_id': 8, 'allocation': 0.002938504307540259}, {'well_id': 9, 'allocation': 0.002818506750440314}]\n"
     ]
    }
   ],
   "source": [
    "# Define the test case\n",
    "gas_capacity = gas_available\n",
    "alpha = 1\n",
    "beta = 2\n",
    "evaporation_rate = 0.1\n",
    "iteration_count = 70\n",
    "\n",
    "# Optimize the allocation of gas to the wells\n",
    "allocations = optimize_gas_allocation(wells, gas_capacity, alpha, beta, evaporation_rate, iteration_count)\n",
    "\n",
    "# Print the optimized allocation\n",
    "print(allocations)\n"
   ]
  },
  {
   "cell_type": "code",
   "execution_count": 27,
   "metadata": {},
   "outputs": [
    {
     "name": "stdout",
     "output_type": "stream",
     "text": [
      "2.9280910888115694\n"
     ]
    }
   ],
   "source": [
    "sum = 0\n",
    "for i in range(len(allocations)):\n",
    "    sum+=allocations[i]['allocation']\n",
    "print(sum)"
   ]
  },
  {
   "cell_type": "code",
   "execution_count": 30,
   "metadata": {},
   "outputs": [],
   "source": [
    "import numpy as np\n",
    "\n",
    "def optimize_gas_allocation(wells, gas_capacity, alpha, beta, evaporation_rate, iteration_count):\n",
    "    \"\"\"\n",
    "    Optimizes the allocation of gas to a group of wells in order to maximize the total production of the wells, using an ant colony algorithm.\n",
    "    \n",
    "    Parameters:\n",
    "    - wells: a list of dictionaries representing the wells, where each dictionary contains the following keys:\n",
    "        - 'production_rate': the production rate of the well (in m3/day)\n",
    "        - 'gas_lift': the gas lift of the well (in m3/day)\n",
    "    - gas_capacity: the total gas capacity available for allocation (in m3/day)\n",
    "    - alpha: the weight of the pheromone trail in the decision making process\n",
    "    - beta: the weight of the heuristic value in the decision making process\n",
    "    - evaporation_rate: the rate at which the pheromone trails evaporate\n",
    "    - iteration_count: the number of iterations to run the algorithm for\n",
    "    \n",
    "    Returns:\n",
    "    - A list of dictionaries representing the optimized allocation of gas to the wells, where each dictionary contains the following keys:\n",
    "        - 'well_id': the ID of the well\n",
    "        - 'allocation': the optimized allocation of gas to the well (in m3/day)\n",
    "    \"\"\"\n",
    "    # Initialize the pheromone trails and heuristic values for each well\n",
    "    pheromone_trails = np.ones(len(wells))\n",
    "    heuristic_values = np.array([well['gas_lift'] / well['production_rate'] for well in wells])\n",
    "    \n",
    "    # Run the algorithm for the specified number of iterations\n",
    "    for i in range(iteration_count):\n",
    "        # Initialize the allocation for each well\n",
    "        allocations = np.zeros(len(wells))\n",
    "        \n",
    "        # Allocate gas to each well using the ant colony algorithm\n",
    "        remaining_gas = gas_capacity\n",
    "        for j, well in enumerate(wells):\n",
    "            # Calculate the allocation probability for the well\n",
    "            allocation_probability = (pheromone_trails[j] ** alpha) * (heuristic_values[j] ** beta)\n",
    "            allocation_probability /= np.sum((pheromone_trails ** alpha) * (heuristic_values ** beta))\n",
    "            \n",
    "            # Allocate gas to the well based on the allocation probability\n",
    "            allocation = remaining_gas * allocation_probability\n",
    "            allocations[j] = allocation\n",
    "            remaining_gas -= allocation\n",
    "              # Evaporate the pheromone trails based on the evaporation rate\n",
    "        pheromone_trails *= (1 - evaporation_rate)\n",
    "        \n",
    "        # Update the pheromone trails based on the allocations\n",
    "        for j, well in enumerate(wells):\n",
    "            pheromone_trails[j] += allocations[j] / well['production_rate']\n",
    "    \n",
    "    # Return the optimized allocation of gas to the wells\n",
    "    return [{'well_id': j, 'allocation': allocations[j]} for j in range(len(wells))]"
   ]
  },
  {
   "cell_type": "code",
   "execution_count": 34,
   "metadata": {},
   "outputs": [
    {
     "name": "stdout",
     "output_type": "stream",
     "text": [
      "[{'well_id': 0, 'allocation': 1.3330493605740525}, {'well_id': 1, 'allocation': 0.07130488163206354}, {'well_id': 2, 'allocation': 0.08862463953951208}, {'well_id': 3, 'allocation': 0.1543241559242013}, {'well_id': 4, 'allocation': 0.42734362956863764}, {'well_id': 5, 'allocation': 0.026293584482126018}, {'well_id': 6, 'allocation': 0.03351777556446701}, {'well_id': 7, 'allocation': 0.19768711924685928}, {'well_id': 8, 'allocation': 0.029203208757630366}, {'well_id': 9, 'allocation': 0.027557944828556984}]\n"
     ]
    }
   ],
   "source": [
    "# Define the test case\n",
    "gas_capacity = gas_available\n",
    "alpha = 1\n",
    "beta = 2\n",
    "evaporation_rate = 0.1\n",
    "iteration_count = 50\n",
    "\n",
    "# Optimize the allocation of gas to the wells\n",
    "allocations = optimize_gas_allocation(wells, gas_capacity, alpha, beta, evaporation_rate, iteration_count)\n",
    "\n",
    "# Print the optimized allocation\n",
    "print(allocations)"
   ]
  },
  {
   "cell_type": "code",
   "execution_count": 35,
   "metadata": {},
   "outputs": [
    {
     "data": {
      "text/plain": [
       "2.388906300118107"
      ]
     },
     "execution_count": 35,
     "metadata": {},
     "output_type": "execute_result"
    }
   ],
   "source": [
    "sum = 0\n",
    "for i in range(len(allocations)):\n",
    "    sum+=allocations[i]['allocation']\n",
    "\n",
    "sum"
   ]
  },
  {
   "cell_type": "markdown",
   "metadata": {},
   "source": []
  },
  {
   "cell_type": "code",
   "execution_count": null,
   "metadata": {},
   "outputs": [],
   "source": []
  }
 ],
 "metadata": {
  "kernelspec": {
   "display_name": "Python 3.8.13 ('internship')",
   "language": "python",
   "name": "python3"
  },
  "language_info": {
   "codemirror_mode": {
    "name": "ipython",
    "version": 3
   },
   "file_extension": ".py",
   "mimetype": "text/x-python",
   "name": "python",
   "nbconvert_exporter": "python",
   "pygments_lexer": "ipython3",
   "version": "3.8.13"
  },
  "orig_nbformat": 4,
  "vscode": {
   "interpreter": {
    "hash": "6dda936634b00118aa3fd5b09b5a04eabba3f4a622f0977e488f0946ea34a453"
   }
  }
 },
 "nbformat": 4,
 "nbformat_minor": 2
}
