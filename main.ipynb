{
 "cells": [
  {
   "cell_type": "markdown",
   "metadata": {},
   "source": [
    "# Important libraries"
   ]
  },
  {
   "cell_type": "code",
   "execution_count": 436,
   "metadata": {},
   "outputs": [],
   "source": [
    "import win32com.client\n",
    "import sys\n",
    "import time\n",
    "import os\n",
    "import numpy as np\n",
    "import plotly.express as px\n",
    "import plotly.graph_objects as go\n",
    "import pandas as pd"
   ]
  },
  {
   "attachments": {},
   "cell_type": "markdown",
   "metadata": {},
   "source": [
    "# Openserver Setup"
   ]
  },
  {
   "cell_type": "markdown",
   "metadata": {},
   "source": [
    "Openserver class with methods to connect to the server, send commands, and disconnect from the server."
   ]
  },
  {
   "cell_type": "code",
   "execution_count": 437,
   "metadata": {},
   "outputs": [],
   "source": [
    "class OpenServer():\n",
    "    \"Class for holding ActiveX reference. Allows license disconnectio\"\n",
    "    def __init__(self):\n",
    "        self.status = \"Disconnected\"\n",
    "        self.OSReference = None\n",
    "    \n",
    "    def Connect(self):\n",
    "        self.OSReference = win32com.client.Dispatch(\"PX32.OpenServer.1\")\n",
    "        self.status = \"Connected\"\n",
    "        print(\"OpenServer connected\")\n",
    "        \n",
    "    def Disconnect(self):\n",
    "        self.OSReference = None\n",
    "        self.status = \"Disconnected\"\n",
    "        print(\"OpenServer disconnected\")"
   ]
  },
  {
   "cell_type": "code",
   "execution_count": 438,
   "metadata": {},
   "outputs": [],
   "source": [
    "def GetAppName(sv):\n",
    "    # function for returning app name from tag string\n",
    "    pos = sv.find(\".\")\n",
    "    if pos < 2:\n",
    "        sys.exit(\"GetAppName: Badly formed tag string\")\n",
    "    app_name = sv[:pos]\n",
    "    if app_name.lower() not in [\"prosper\", \"mbal\", \"gap\", \"pvt\", \"resolve\",\n",
    "                                   \"reveal\"]:\n",
    "        sys.exit(\"GetAppName: Unrecognised application name in tag string\")\n",
    "    return app_name\n",
    "\n",
    "\n",
    "def DoCmd(OpenServe, cmd):\n",
    "    # perform a command and check for errors\n",
    "    lerr = OpenServe.OSReference.DoCommand(cmd)\n",
    "    if lerr > 0:\n",
    "        err = OpenServe.OSReference.GetErrorDescription(lerr)\n",
    "        OpenServe.Disconnect()\n",
    "        sys.exit(\"DoCmd: \" + err)\n",
    "\n",
    "\n",
    "def DoSet(OpenServe, sv, val):\n",
    "    # set a value and check for errors\n",
    "    lerr = OpenServe.OSReference.SetValue(sv, val)\n",
    "    app_name = GetAppName(sv)\n",
    "    lerr = OpenServe.OSReference.GetLastError(app_name)\n",
    "    if lerr > 0:\n",
    "        err = OpenServe.OSReference.GetErrorDescription(lerr)\n",
    "        OpenServe.Disconnect()\n",
    "        sys.exit(\"DoSet: \" + err)\n",
    "    \n",
    "def DoGet(OpenServe, gv):\n",
    "    # get a value and check for errors\n",
    "    get_value = OpenServe.OSReference.GetValue(gv)\n",
    "    app_name = GetAppName(gv)\n",
    "    lerr = OpenServe.OSReference.GetLastError(app_name)\n",
    "    if lerr > 0:\n",
    "        err = OpenServe.OSReference.GetErrorDescription(lerr)\n",
    "        OpenServe.Disconnect()\n",
    "        sys.exit(\"DoGet: \" + err)\n",
    "    return get_value\n",
    "\n",
    "\n",
    "def DoSlowCmd(OpenServe, cmd):\n",
    "    # perform a command then wait for command to exit and check for errors\n",
    "    step = 0.001\n",
    "    app_name = GetAppName(cmd)\n",
    "    lerr = OpenServe.OSReference.DoCommandAsync(cmd)\n",
    "    if lerr > 0:\n",
    "        err = OpenServe.OSReference.GetErrorDescription(lerr)\n",
    "        OpenServe.Disconnect()\n",
    "        sys.exit(\"DoSlowCmd: \" + err)\n",
    "    while OpenServe.OSReference.IsBusy(app_name) > 0:\n",
    "        if step < 2:\n",
    "            step = step*2\n",
    "        time.sleep(step)\n",
    "    lerr = OpenServe.OSReference.GetLastError(app_name)\n",
    "    if lerr > 0:\n",
    "        err = OpenServe.OSReference.GetErrorDescription(lerr)\n",
    "        OpenServe.Disconnect()\n",
    "        sys.exit(\"DoSlowCmd: \" + err)\n",
    "\n",
    "\n",
    "def DoGAPFunc(OpenServe, gv):\n",
    "    DoSlowCmd(gv)\n",
    "    DoGAPFunc = DoGet(OpenServe, \"GAP.LASTCMDRET\")\n",
    "    lerr = OpenServe.OSReference.GetLastError(\"GAP\")\n",
    "    if lerr > 0:\n",
    "        err = OpenServe.OSReference.GetErrorDescription(lerr)\n",
    "        OpenServe.Disconnect()\n",
    "        sys.exit(\"DoGAPFunc: \" + err)\n",
    "    return DoGAPFunc\n",
    "\n",
    "\n",
    "def OSOpenFile(OpenServe, theModel, appname):\n",
    "    DoSlowCmd(OpenServe, appname + '.OPENFILE (\"' + theModel + '\")')\n",
    "    lerr = OpenServe.OSReference.GetLastError(appname)\n",
    "    if lerr > 0:\n",
    "        err = OpenServe.OSReference.GetErrorDescription(lerr)\n",
    "        OpenServe.Disconnect()\n",
    "        sys.exit(\"OSOpenFile: \" + err)\n",
    "\n",
    "\n",
    "def OSSaveFile(OpenServe, theModel, appname):\n",
    "    DoSlowCmd(OpenServe, appname + '.SAVEFILE (\"' + theModel + '\")')\n",
    "    lerr = OpenServe.OSReference.GetLastError(appname)\n",
    "    if lerr > 0:\n",
    "        err = OpenServe.OSReference.GetErrorDescription(lerr)\n",
    "        OpenServe.Disconnect()\n",
    "        sys.exit(\"OSSaveFile: \" + err)"
   ]
  },
  {
   "cell_type": "markdown",
   "metadata": {},
   "source": [
    "# Multiple well calculation"
   ]
  },
  {
   "cell_type": "code",
   "execution_count": 439,
   "metadata": {},
   "outputs": [
    {
     "data": {
      "text/plain": "    gas_injection_array\n0                   0.0\n1                   0.1\n2                   0.2\n3                   0.3\n4                   0.4\n5                   0.5\n6                   0.6\n7                   0.7\n8                   0.8\n9                   0.9\n10                  1.0\n11                  1.1\n12                  1.2\n13                  1.3\n14                  1.4\n15                  1.5\n16                  1.6\n17                  1.7\n18                  1.8\n19                  1.9\n20                  2.0\n21                  2.1\n22                  2.2\n23                  2.3\n24                  2.4\n25                  2.5\n26                  2.6\n27                  2.7\n28                  2.8\n29                  2.9\n30                  3.0\n31                  3.1\n32                  3.2\n33                  3.3\n34                  3.4\n35                  3.5\n36                  3.6\n37                  3.7\n38                  3.8\n39                  3.9\n40                  4.0\n41                  4.1\n42                  4.2\n43                  4.3\n44                  4.4\n45                  4.5\n46                  4.6\n47                  4.7\n48                  4.8\n49                  4.9",
      "text/html": "<div>\n<style scoped>\n    .dataframe tbody tr th:only-of-type {\n        vertical-align: middle;\n    }\n\n    .dataframe tbody tr th {\n        vertical-align: top;\n    }\n\n    .dataframe thead th {\n        text-align: right;\n    }\n</style>\n<table border=\"1\" class=\"dataframe\">\n  <thead>\n    <tr style=\"text-align: right;\">\n      <th></th>\n      <th>gas_injection_array</th>\n    </tr>\n  </thead>\n  <tbody>\n    <tr>\n      <th>0</th>\n      <td>0.0</td>\n    </tr>\n    <tr>\n      <th>1</th>\n      <td>0.1</td>\n    </tr>\n    <tr>\n      <th>2</th>\n      <td>0.2</td>\n    </tr>\n    <tr>\n      <th>3</th>\n      <td>0.3</td>\n    </tr>\n    <tr>\n      <th>4</th>\n      <td>0.4</td>\n    </tr>\n    <tr>\n      <th>5</th>\n      <td>0.5</td>\n    </tr>\n    <tr>\n      <th>6</th>\n      <td>0.6</td>\n    </tr>\n    <tr>\n      <th>7</th>\n      <td>0.7</td>\n    </tr>\n    <tr>\n      <th>8</th>\n      <td>0.8</td>\n    </tr>\n    <tr>\n      <th>9</th>\n      <td>0.9</td>\n    </tr>\n    <tr>\n      <th>10</th>\n      <td>1.0</td>\n    </tr>\n    <tr>\n      <th>11</th>\n      <td>1.1</td>\n    </tr>\n    <tr>\n      <th>12</th>\n      <td>1.2</td>\n    </tr>\n    <tr>\n      <th>13</th>\n      <td>1.3</td>\n    </tr>\n    <tr>\n      <th>14</th>\n      <td>1.4</td>\n    </tr>\n    <tr>\n      <th>15</th>\n      <td>1.5</td>\n    </tr>\n    <tr>\n      <th>16</th>\n      <td>1.6</td>\n    </tr>\n    <tr>\n      <th>17</th>\n      <td>1.7</td>\n    </tr>\n    <tr>\n      <th>18</th>\n      <td>1.8</td>\n    </tr>\n    <tr>\n      <th>19</th>\n      <td>1.9</td>\n    </tr>\n    <tr>\n      <th>20</th>\n      <td>2.0</td>\n    </tr>\n    <tr>\n      <th>21</th>\n      <td>2.1</td>\n    </tr>\n    <tr>\n      <th>22</th>\n      <td>2.2</td>\n    </tr>\n    <tr>\n      <th>23</th>\n      <td>2.3</td>\n    </tr>\n    <tr>\n      <th>24</th>\n      <td>2.4</td>\n    </tr>\n    <tr>\n      <th>25</th>\n      <td>2.5</td>\n    </tr>\n    <tr>\n      <th>26</th>\n      <td>2.6</td>\n    </tr>\n    <tr>\n      <th>27</th>\n      <td>2.7</td>\n    </tr>\n    <tr>\n      <th>28</th>\n      <td>2.8</td>\n    </tr>\n    <tr>\n      <th>29</th>\n      <td>2.9</td>\n    </tr>\n    <tr>\n      <th>30</th>\n      <td>3.0</td>\n    </tr>\n    <tr>\n      <th>31</th>\n      <td>3.1</td>\n    </tr>\n    <tr>\n      <th>32</th>\n      <td>3.2</td>\n    </tr>\n    <tr>\n      <th>33</th>\n      <td>3.3</td>\n    </tr>\n    <tr>\n      <th>34</th>\n      <td>3.4</td>\n    </tr>\n    <tr>\n      <th>35</th>\n      <td>3.5</td>\n    </tr>\n    <tr>\n      <th>36</th>\n      <td>3.6</td>\n    </tr>\n    <tr>\n      <th>37</th>\n      <td>3.7</td>\n    </tr>\n    <tr>\n      <th>38</th>\n      <td>3.8</td>\n    </tr>\n    <tr>\n      <th>39</th>\n      <td>3.9</td>\n    </tr>\n    <tr>\n      <th>40</th>\n      <td>4.0</td>\n    </tr>\n    <tr>\n      <th>41</th>\n      <td>4.1</td>\n    </tr>\n    <tr>\n      <th>42</th>\n      <td>4.2</td>\n    </tr>\n    <tr>\n      <th>43</th>\n      <td>4.3</td>\n    </tr>\n    <tr>\n      <th>44</th>\n      <td>4.4</td>\n    </tr>\n    <tr>\n      <th>45</th>\n      <td>4.5</td>\n    </tr>\n    <tr>\n      <th>46</th>\n      <td>4.6</td>\n    </tr>\n    <tr>\n      <th>47</th>\n      <td>4.7</td>\n    </tr>\n    <tr>\n      <th>48</th>\n      <td>4.8</td>\n    </tr>\n    <tr>\n      <th>49</th>\n      <td>4.9</td>\n    </tr>\n  </tbody>\n</table>\n</div>"
     },
     "execution_count": 439,
     "metadata": {},
     "output_type": "execute_result"
    }
   ],
   "source": [
    "#gas availability and increment steps\n",
    "number_of_wells = int(input('Please enter the number of wells:'))\n",
    "gas_available = float(input('Please enter available gas'))\n",
    "increment = float(input('Please enter the increment value'))\n",
    "gas_injection_array = np.arange(0, gas_available, increment)\n",
    "df=pd.DataFrame()\n",
    "df['gas_injection_array'] = gas_injection_array\n",
    "df"
   ]
  },
  {
   "cell_type": "code",
   "execution_count": 440,
   "metadata": {},
   "outputs": [
    {
     "name": "stdout",
     "output_type": "stream",
     "text": [
      "OpenServer connected\n",
      "Well 1 opened\n",
      "Well 1 closed\n",
      "Well 2 opened\n",
      "Well 2 closed\n",
      "Well 3 opened\n",
      "Well 3 closed\n",
      "Well 4 opened\n",
      "Well 4 closed\n",
      "Well 5 opened\n",
      "Well 5 closed\n",
      "Well 6 opened\n",
      "Well 6 closed\n"
     ]
    },
    {
     "data": {
      "text/plain": "   gas_injection_array  Well_1   Well_2   Well_3   Well_4   Well_5   Well_6\n0                  0.0  878.37  1657.35  1576.44  1362.42   997.05  1858.40\n1                  0.1  896.05  1668.40  1588.09  1375.90  1013.68  1867.23\n2                  0.2  911.90  1677.71  1597.90  1387.41  1027.60  1874.69\n3                  0.3  924.19  1685.58  1606.21  1397.28  1041.02  1880.97\n4                  0.4  935.19  1692.24  1613.28  1405.79  1051.22  1886.24",
      "text/html": "<div>\n<style scoped>\n    .dataframe tbody tr th:only-of-type {\n        vertical-align: middle;\n    }\n\n    .dataframe tbody tr th {\n        vertical-align: top;\n    }\n\n    .dataframe thead th {\n        text-align: right;\n    }\n</style>\n<table border=\"1\" class=\"dataframe\">\n  <thead>\n    <tr style=\"text-align: right;\">\n      <th></th>\n      <th>gas_injection_array</th>\n      <th>Well_1</th>\n      <th>Well_2</th>\n      <th>Well_3</th>\n      <th>Well_4</th>\n      <th>Well_5</th>\n      <th>Well_6</th>\n    </tr>\n  </thead>\n  <tbody>\n    <tr>\n      <th>0</th>\n      <td>0.0</td>\n      <td>878.37</td>\n      <td>1657.35</td>\n      <td>1576.44</td>\n      <td>1362.42</td>\n      <td>997.05</td>\n      <td>1858.40</td>\n    </tr>\n    <tr>\n      <th>1</th>\n      <td>0.1</td>\n      <td>896.05</td>\n      <td>1668.40</td>\n      <td>1588.09</td>\n      <td>1375.90</td>\n      <td>1013.68</td>\n      <td>1867.23</td>\n    </tr>\n    <tr>\n      <th>2</th>\n      <td>0.2</td>\n      <td>911.90</td>\n      <td>1677.71</td>\n      <td>1597.90</td>\n      <td>1387.41</td>\n      <td>1027.60</td>\n      <td>1874.69</td>\n    </tr>\n    <tr>\n      <th>3</th>\n      <td>0.3</td>\n      <td>924.19</td>\n      <td>1685.58</td>\n      <td>1606.21</td>\n      <td>1397.28</td>\n      <td>1041.02</td>\n      <td>1880.97</td>\n    </tr>\n    <tr>\n      <th>4</th>\n      <td>0.4</td>\n      <td>935.19</td>\n      <td>1692.24</td>\n      <td>1613.28</td>\n      <td>1405.79</td>\n      <td>1051.22</td>\n      <td>1886.24</td>\n    </tr>\n  </tbody>\n</table>\n</div>"
     },
     "execution_count": 440,
     "metadata": {},
     "output_type": "execute_result"
    }
   ],
   "source": [
    "# Initialises an 'OpenServer' class\n",
    "\n",
    "petex = OpenServer()\n",
    "\n",
    "# Creates ActiveX reference and holds a license\n",
    "\n",
    "petex.Connect()\n",
    "oil_rates_for_wells = {}\n",
    "\n",
    "# Perform functions\n",
    "\n",
    "cwd = os.getcwd()\n",
    "for j in range(1,number_of_wells+1):\n",
    "    #opening well file\n",
    "    OSOpenFile(petex, cwd + f'\\models\\well_{j}.Out', 'PROSPER')\n",
    "    print(f'Well {j} opened')\n",
    "    #oil rates calculation\n",
    "    for i in range(0,len(gas_injection_array)):\n",
    "        command = f'PROSPER.ANL.SYS.Sens.SensDB.Sens[138].Vals[{i}]'\n",
    "        DoSet(petex, command,gas_injection_array[i])\n",
    "    DoCmd(petex, 'PROSPER.ANL.SYS.CALC')\n",
    "    oil_rates = [] #list of oil rates for 1 well\n",
    "    for i in range(0, len(gas_injection_array)):\n",
    "        value = f'PROSPER.OUT.SYS.Results[{i}].Sol.OilRate'\n",
    "        oil_rates.append(np.round(float(DoGet(petex, value)),2))\n",
    "    oil_rates_for_wells[f'well_{j}'] = oil_rates\n",
    "    #closing file   \n",
    "    OSSaveFile(petex, cwd + f'\\well_{j}.Out', 'PROSPER')\n",
    "    print(f'Well {j} closed')\n",
    "\n",
    "#merging to main dataframe\n",
    "for i in range(1,number_of_wells+1):\n",
    "    df[f'Well_{i}'] = oil_rates_for_wells[f'well_{i}']\n",
    "\n",
    "df.head()"
   ]
  },
  {
   "cell_type": "code",
   "execution_count": 441,
   "metadata": {},
   "outputs": [
    {
     "data": {
      "application/vnd.plotly.v1+json": {
       "data": [
        {
         "mode": "lines",
         "name": "Well_1",
         "x": [
          0.0,
          0.1,
          0.2,
          0.30000000000000004,
          0.4,
          0.5,
          0.6000000000000001,
          0.7000000000000001,
          0.8,
          0.9,
          1.0,
          1.1,
          1.2000000000000002,
          1.3,
          1.4000000000000001,
          1.5,
          1.6,
          1.7000000000000002,
          1.8,
          1.9000000000000001,
          2.0,
          2.1,
          2.2,
          2.3000000000000003,
          2.4000000000000004,
          2.5,
          2.6,
          2.7,
          2.8000000000000003,
          2.9000000000000004,
          3.0,
          3.1,
          3.2,
          3.3000000000000003,
          3.4000000000000004,
          3.5,
          3.6,
          3.7,
          3.8000000000000003,
          3.9000000000000004,
          4.0,
          4.1000000000000005,
          4.2,
          4.3,
          4.4,
          4.5,
          4.6000000000000005,
          4.7,
          4.800000000000001,
          4.9
         ],
         "y": [
          878.37,
          896.05,
          911.9,
          924.19,
          935.19,
          944.14,
          951.77,
          958.21,
          963.73,
          968.49,
          973.15,
          976.58,
          979.43,
          981.79,
          983.78,
          985.32,
          986.52,
          987.44,
          979.24,
          978.66,
          974.25,
          955.93,
          951.2,
          948.38,
          939.12,
          928.62,
          923.88,
          919.3,
          914.17,
          909.44,
          904.6,
          898.34,
          887.27,
          867.07,
          853.65,
          847.09,
          838.34,
          830.57,
          823.54,
          814.95,
          807.55,
          800.24,
          791.88,
          780.77,
          766.07,
          750.27,
          735.8,
          726.96,
          717.8,
          708.5
         ],
         "type": "scatter"
        },
        {
         "mode": "lines",
         "name": "Well_2",
         "x": [
          0.0,
          0.1,
          0.2,
          0.30000000000000004,
          0.4,
          0.5,
          0.6000000000000001,
          0.7000000000000001,
          0.8,
          0.9,
          1.0,
          1.1,
          1.2000000000000002,
          1.3,
          1.4000000000000001,
          1.5,
          1.6,
          1.7000000000000002,
          1.8,
          1.9000000000000001,
          2.0,
          2.1,
          2.2,
          2.3000000000000003,
          2.4000000000000004,
          2.5,
          2.6,
          2.7,
          2.8000000000000003,
          2.9000000000000004,
          3.0,
          3.1,
          3.2,
          3.3000000000000003,
          3.4000000000000004,
          3.5,
          3.6,
          3.7,
          3.8000000000000003,
          3.9000000000000004,
          4.0,
          4.1000000000000005,
          4.2,
          4.3,
          4.4,
          4.5,
          4.6000000000000005,
          4.7,
          4.800000000000001,
          4.9
         ],
         "y": [
          1657.35,
          1668.4,
          1677.71,
          1685.58,
          1692.24,
          1697.85,
          1702.57,
          1706.89,
          1710.09,
          1712.6,
          1714.54,
          1715.98,
          1716.94,
          1717.44,
          1717.55,
          1717.3,
          1716.69,
          1715.76,
          1714.53,
          1713.02,
          1711.08,
          1708.83,
          1704.6,
          1692.93,
          1693.69,
          1679.89,
          1675.19,
          1670.21,
          1664.98,
          1659.46,
          1653.61,
          1633.27,
          1607.69,
          1562.68,
          1555.26,
          1583.54,
          1538.27,
          1513.61,
          1494.29,
          1468.17,
          1457.29,
          1434.41,
          1422.9,
          1412.91,
          1402.84,
          1392.67,
          1382.42,
          1368.46,
          1357.53,
          1346.42
         ],
         "type": "scatter"
        },
        {
         "mode": "lines",
         "name": "Well_3",
         "x": [
          0.0,
          0.1,
          0.2,
          0.30000000000000004,
          0.4,
          0.5,
          0.6000000000000001,
          0.7000000000000001,
          0.8,
          0.9,
          1.0,
          1.1,
          1.2000000000000002,
          1.3,
          1.4000000000000001,
          1.5,
          1.6,
          1.7000000000000002,
          1.8,
          1.9000000000000001,
          2.0,
          2.1,
          2.2,
          2.3000000000000003,
          2.4000000000000004,
          2.5,
          2.6,
          2.7,
          2.8000000000000003,
          2.9000000000000004,
          3.0,
          3.1,
          3.2,
          3.3000000000000003,
          3.4000000000000004,
          3.5,
          3.6,
          3.7,
          3.8000000000000003,
          3.9000000000000004,
          4.0,
          4.1000000000000005,
          4.2,
          4.3,
          4.4,
          4.5,
          4.6000000000000005,
          4.7,
          4.800000000000001,
          4.9
         ],
         "y": [
          1576.44,
          1588.09,
          1597.9,
          1606.21,
          1613.28,
          1619.15,
          1623.94,
          1630.42,
          1633.8,
          1636.59,
          1638.84,
          1640.6,
          1641.92,
          1642.82,
          1643.34,
          1643.5,
          1643.14,
          1642.45,
          1641.48,
          1640.25,
          1638.77,
          1637.05,
          1635.02,
          1632.71,
          1630.13,
          1627.38,
          1624.37,
          1618.9,
          1598.37,
          1573.41,
          1524.03,
          1558.63,
          1508.31,
          1468.74,
          1459.81,
          1445.25,
          1436.7,
          1428.05,
          1419.3,
          1410.46,
          1401.48,
          1392.33,
          1383.05,
          1371.22,
          1361.36,
          1351.4,
          1341.34,
          1328.43,
          1318.04,
          1304.56
         ],
         "type": "scatter"
        },
        {
         "mode": "lines",
         "name": "Well_4",
         "x": [
          0.0,
          0.1,
          0.2,
          0.30000000000000004,
          0.4,
          0.5,
          0.6000000000000001,
          0.7000000000000001,
          0.8,
          0.9,
          1.0,
          1.1,
          1.2000000000000002,
          1.3,
          1.4000000000000001,
          1.5,
          1.6,
          1.7000000000000002,
          1.8,
          1.9000000000000001,
          2.0,
          2.1,
          2.2,
          2.3000000000000003,
          2.4000000000000004,
          2.5,
          2.6,
          2.7,
          2.8000000000000003,
          2.9000000000000004,
          3.0,
          3.1,
          3.2,
          3.3000000000000003,
          3.4000000000000004,
          3.5,
          3.6,
          3.7,
          3.8000000000000003,
          3.9000000000000004,
          4.0,
          4.1000000000000005,
          4.2,
          4.3,
          4.4,
          4.5,
          4.6000000000000005,
          4.7,
          4.800000000000001,
          4.9
         ],
         "y": [
          1362.42,
          1375.9,
          1387.41,
          1397.28,
          1405.79,
          1413.16,
          1419.53,
          1425.0,
          1431.86,
          1435.76,
          1438.99,
          1441.7,
          1443.93,
          1445.58,
          1446.83,
          1447.71,
          1448.19,
          1448.2,
          1447.93,
          1447.39,
          1446.57,
          1445.45,
          1444.07,
          1415.06,
          1402.57,
          1393.1,
          1388.1,
          1382.84,
          1375.93,
          1359.22,
          1339.88,
          1345.71,
          1323.33,
          1315.47,
          1309.38,
          1303.22,
          1295.44,
          1289.14,
          1282.75,
          1257.79,
          1221.03,
          1234.96,
          1180.36,
          1168.34,
          1157.9,
          1147.98,
          1137.22,
          1126.83,
          1112.86,
          1101.41
         ],
         "type": "scatter"
        },
        {
         "mode": "lines",
         "name": "Well_5",
         "x": [
          0.0,
          0.1,
          0.2,
          0.30000000000000004,
          0.4,
          0.5,
          0.6000000000000001,
          0.7000000000000001,
          0.8,
          0.9,
          1.0,
          1.1,
          1.2000000000000002,
          1.3,
          1.4000000000000001,
          1.5,
          1.6,
          1.7000000000000002,
          1.8,
          1.9000000000000001,
          2.0,
          2.1,
          2.2,
          2.3000000000000003,
          2.4000000000000004,
          2.5,
          2.6,
          2.7,
          2.8000000000000003,
          2.9000000000000004,
          3.0,
          3.1,
          3.2,
          3.3000000000000003,
          3.4000000000000004,
          3.5,
          3.6,
          3.7,
          3.8000000000000003,
          3.9000000000000004,
          4.0,
          4.1000000000000005,
          4.2,
          4.3,
          4.4,
          4.5,
          4.6000000000000005,
          4.7,
          4.800000000000001,
          4.9
         ],
         "y": [
          997.05,
          1013.68,
          1027.6,
          1041.02,
          1051.22,
          1060.09,
          1067.58,
          1074.09,
          1079.76,
          1085.05,
          1089.13,
          1092.54,
          1095.47,
          1097.91,
          1099.84,
          1101.44,
          1102.61,
          1103.48,
          1103.99,
          1104.21,
          1096.0,
          1075.47,
          1072.51,
          1064.42,
          1059.93,
          1048.84,
          1045.06,
          1041.16,
          1037.17,
          1033.08,
          1002.26,
          1005.17,
          978.56,
          972.76,
          966.29,
          960.16,
          953.9,
          943.7,
          933.35,
          925.0,
          917.02,
          906.16,
          897.46,
          885.08,
          864.65,
          851.14,
          841.96,
          826.97,
          805.5,
          795.23
         ],
         "type": "scatter"
        },
        {
         "mode": "lines",
         "name": "Well_6",
         "x": [
          0.0,
          0.1,
          0.2,
          0.30000000000000004,
          0.4,
          0.5,
          0.6000000000000001,
          0.7000000000000001,
          0.8,
          0.9,
          1.0,
          1.1,
          1.2000000000000002,
          1.3,
          1.4000000000000001,
          1.5,
          1.6,
          1.7000000000000002,
          1.8,
          1.9000000000000001,
          2.0,
          2.1,
          2.2,
          2.3000000000000003,
          2.4000000000000004,
          2.5,
          2.6,
          2.7,
          2.8000000000000003,
          2.9000000000000004,
          3.0,
          3.1,
          3.2,
          3.3000000000000003,
          3.4000000000000004,
          3.5,
          3.6,
          3.7,
          3.8000000000000003,
          3.9000000000000004,
          4.0,
          4.1000000000000005,
          4.2,
          4.3,
          4.4,
          4.5,
          4.6000000000000005,
          4.7,
          4.800000000000001,
          4.9
         ],
         "y": [
          1858.4,
          1867.23,
          1874.69,
          1880.97,
          1886.24,
          1890.55,
          1895.85,
          1898.62,
          1900.76,
          1902.34,
          1903.41,
          1904.0,
          1904.17,
          1903.94,
          1903.33,
          1902.36,
          1900.93,
          1899.21,
          1897.19,
          1894.91,
          1892.38,
          1889.63,
          1886.6,
          1883.25,
          1879.7,
          1875.98,
          1872.09,
          1867.97,
          1856.63,
          1788.8,
          1781.28,
          1773.08,
          1746.08,
          1724.14,
          1714.59,
          1704.88,
          1695.0,
          1684.97,
          1674.79,
          1664.46,
          1653.68,
          1637.29,
          1631.49,
          1620.2,
          1609.99,
          1599.17,
          1587.3,
          1574.99,
          1558.91,
          1545.94
         ],
         "type": "scatter"
        }
       ],
       "layout": {
        "template": {
         "data": {
          "histogram2dcontour": [
           {
            "type": "histogram2dcontour",
            "colorbar": {
             "outlinewidth": 0,
             "ticks": ""
            },
            "colorscale": [
             [
              0.0,
              "#0d0887"
             ],
             [
              0.1111111111111111,
              "#46039f"
             ],
             [
              0.2222222222222222,
              "#7201a8"
             ],
             [
              0.3333333333333333,
              "#9c179e"
             ],
             [
              0.4444444444444444,
              "#bd3786"
             ],
             [
              0.5555555555555556,
              "#d8576b"
             ],
             [
              0.6666666666666666,
              "#ed7953"
             ],
             [
              0.7777777777777778,
              "#fb9f3a"
             ],
             [
              0.8888888888888888,
              "#fdca26"
             ],
             [
              1.0,
              "#f0f921"
             ]
            ]
           }
          ],
          "choropleth": [
           {
            "type": "choropleth",
            "colorbar": {
             "outlinewidth": 0,
             "ticks": ""
            }
           }
          ],
          "histogram2d": [
           {
            "type": "histogram2d",
            "colorbar": {
             "outlinewidth": 0,
             "ticks": ""
            },
            "colorscale": [
             [
              0.0,
              "#0d0887"
             ],
             [
              0.1111111111111111,
              "#46039f"
             ],
             [
              0.2222222222222222,
              "#7201a8"
             ],
             [
              0.3333333333333333,
              "#9c179e"
             ],
             [
              0.4444444444444444,
              "#bd3786"
             ],
             [
              0.5555555555555556,
              "#d8576b"
             ],
             [
              0.6666666666666666,
              "#ed7953"
             ],
             [
              0.7777777777777778,
              "#fb9f3a"
             ],
             [
              0.8888888888888888,
              "#fdca26"
             ],
             [
              1.0,
              "#f0f921"
             ]
            ]
           }
          ],
          "heatmap": [
           {
            "type": "heatmap",
            "colorbar": {
             "outlinewidth": 0,
             "ticks": ""
            },
            "colorscale": [
             [
              0.0,
              "#0d0887"
             ],
             [
              0.1111111111111111,
              "#46039f"
             ],
             [
              0.2222222222222222,
              "#7201a8"
             ],
             [
              0.3333333333333333,
              "#9c179e"
             ],
             [
              0.4444444444444444,
              "#bd3786"
             ],
             [
              0.5555555555555556,
              "#d8576b"
             ],
             [
              0.6666666666666666,
              "#ed7953"
             ],
             [
              0.7777777777777778,
              "#fb9f3a"
             ],
             [
              0.8888888888888888,
              "#fdca26"
             ],
             [
              1.0,
              "#f0f921"
             ]
            ]
           }
          ],
          "heatmapgl": [
           {
            "type": "heatmapgl",
            "colorbar": {
             "outlinewidth": 0,
             "ticks": ""
            },
            "colorscale": [
             [
              0.0,
              "#0d0887"
             ],
             [
              0.1111111111111111,
              "#46039f"
             ],
             [
              0.2222222222222222,
              "#7201a8"
             ],
             [
              0.3333333333333333,
              "#9c179e"
             ],
             [
              0.4444444444444444,
              "#bd3786"
             ],
             [
              0.5555555555555556,
              "#d8576b"
             ],
             [
              0.6666666666666666,
              "#ed7953"
             ],
             [
              0.7777777777777778,
              "#fb9f3a"
             ],
             [
              0.8888888888888888,
              "#fdca26"
             ],
             [
              1.0,
              "#f0f921"
             ]
            ]
           }
          ],
          "contourcarpet": [
           {
            "type": "contourcarpet",
            "colorbar": {
             "outlinewidth": 0,
             "ticks": ""
            }
           }
          ],
          "contour": [
           {
            "type": "contour",
            "colorbar": {
             "outlinewidth": 0,
             "ticks": ""
            },
            "colorscale": [
             [
              0.0,
              "#0d0887"
             ],
             [
              0.1111111111111111,
              "#46039f"
             ],
             [
              0.2222222222222222,
              "#7201a8"
             ],
             [
              0.3333333333333333,
              "#9c179e"
             ],
             [
              0.4444444444444444,
              "#bd3786"
             ],
             [
              0.5555555555555556,
              "#d8576b"
             ],
             [
              0.6666666666666666,
              "#ed7953"
             ],
             [
              0.7777777777777778,
              "#fb9f3a"
             ],
             [
              0.8888888888888888,
              "#fdca26"
             ],
             [
              1.0,
              "#f0f921"
             ]
            ]
           }
          ],
          "surface": [
           {
            "type": "surface",
            "colorbar": {
             "outlinewidth": 0,
             "ticks": ""
            },
            "colorscale": [
             [
              0.0,
              "#0d0887"
             ],
             [
              0.1111111111111111,
              "#46039f"
             ],
             [
              0.2222222222222222,
              "#7201a8"
             ],
             [
              0.3333333333333333,
              "#9c179e"
             ],
             [
              0.4444444444444444,
              "#bd3786"
             ],
             [
              0.5555555555555556,
              "#d8576b"
             ],
             [
              0.6666666666666666,
              "#ed7953"
             ],
             [
              0.7777777777777778,
              "#fb9f3a"
             ],
             [
              0.8888888888888888,
              "#fdca26"
             ],
             [
              1.0,
              "#f0f921"
             ]
            ]
           }
          ],
          "mesh3d": [
           {
            "type": "mesh3d",
            "colorbar": {
             "outlinewidth": 0,
             "ticks": ""
            }
           }
          ],
          "scatter": [
           {
            "marker": {
             "line": {
              "color": "#283442"
             }
            },
            "type": "scatter"
           }
          ],
          "parcoords": [
           {
            "type": "parcoords",
            "line": {
             "colorbar": {
              "outlinewidth": 0,
              "ticks": ""
             }
            }
           }
          ],
          "scatterpolargl": [
           {
            "type": "scatterpolargl",
            "marker": {
             "colorbar": {
              "outlinewidth": 0,
              "ticks": ""
             }
            }
           }
          ],
          "bar": [
           {
            "error_x": {
             "color": "#f2f5fa"
            },
            "error_y": {
             "color": "#f2f5fa"
            },
            "marker": {
             "line": {
              "color": "rgb(17,17,17)",
              "width": 0.5
             },
             "pattern": {
              "fillmode": "overlay",
              "size": 10,
              "solidity": 0.2
             }
            },
            "type": "bar"
           }
          ],
          "scattergeo": [
           {
            "type": "scattergeo",
            "marker": {
             "colorbar": {
              "outlinewidth": 0,
              "ticks": ""
             }
            }
           }
          ],
          "scatterpolar": [
           {
            "type": "scatterpolar",
            "marker": {
             "colorbar": {
              "outlinewidth": 0,
              "ticks": ""
             }
            }
           }
          ],
          "histogram": [
           {
            "marker": {
             "pattern": {
              "fillmode": "overlay",
              "size": 10,
              "solidity": 0.2
             }
            },
            "type": "histogram"
           }
          ],
          "scattergl": [
           {
            "marker": {
             "line": {
              "color": "#283442"
             }
            },
            "type": "scattergl"
           }
          ],
          "scatter3d": [
           {
            "type": "scatter3d",
            "line": {
             "colorbar": {
              "outlinewidth": 0,
              "ticks": ""
             }
            },
            "marker": {
             "colorbar": {
              "outlinewidth": 0,
              "ticks": ""
             }
            }
           }
          ],
          "scattermapbox": [
           {
            "type": "scattermapbox",
            "marker": {
             "colorbar": {
              "outlinewidth": 0,
              "ticks": ""
             }
            }
           }
          ],
          "scatterternary": [
           {
            "type": "scatterternary",
            "marker": {
             "colorbar": {
              "outlinewidth": 0,
              "ticks": ""
             }
            }
           }
          ],
          "scattercarpet": [
           {
            "type": "scattercarpet",
            "marker": {
             "colorbar": {
              "outlinewidth": 0,
              "ticks": ""
             }
            }
           }
          ],
          "carpet": [
           {
            "aaxis": {
             "endlinecolor": "#A2B1C6",
             "gridcolor": "#506784",
             "linecolor": "#506784",
             "minorgridcolor": "#506784",
             "startlinecolor": "#A2B1C6"
            },
            "baxis": {
             "endlinecolor": "#A2B1C6",
             "gridcolor": "#506784",
             "linecolor": "#506784",
             "minorgridcolor": "#506784",
             "startlinecolor": "#A2B1C6"
            },
            "type": "carpet"
           }
          ],
          "table": [
           {
            "cells": {
             "fill": {
              "color": "#506784"
             },
             "line": {
              "color": "rgb(17,17,17)"
             }
            },
            "header": {
             "fill": {
              "color": "#2a3f5f"
             },
             "line": {
              "color": "rgb(17,17,17)"
             }
            },
            "type": "table"
           }
          ],
          "barpolar": [
           {
            "marker": {
             "line": {
              "color": "rgb(17,17,17)",
              "width": 0.5
             },
             "pattern": {
              "fillmode": "overlay",
              "size": 10,
              "solidity": 0.2
             }
            },
            "type": "barpolar"
           }
          ],
          "pie": [
           {
            "automargin": true,
            "type": "pie"
           }
          ]
         },
         "layout": {
          "autotypenumbers": "strict",
          "colorway": [
           "#636efa",
           "#EF553B",
           "#00cc96",
           "#ab63fa",
           "#FFA15A",
           "#19d3f3",
           "#FF6692",
           "#B6E880",
           "#FF97FF",
           "#FECB52"
          ],
          "font": {
           "color": "#f2f5fa"
          },
          "hovermode": "closest",
          "hoverlabel": {
           "align": "left"
          },
          "paper_bgcolor": "rgb(17,17,17)",
          "plot_bgcolor": "rgb(17,17,17)",
          "polar": {
           "bgcolor": "rgb(17,17,17)",
           "angularaxis": {
            "gridcolor": "#506784",
            "linecolor": "#506784",
            "ticks": ""
           },
           "radialaxis": {
            "gridcolor": "#506784",
            "linecolor": "#506784",
            "ticks": ""
           }
          },
          "ternary": {
           "bgcolor": "rgb(17,17,17)",
           "aaxis": {
            "gridcolor": "#506784",
            "linecolor": "#506784",
            "ticks": ""
           },
           "baxis": {
            "gridcolor": "#506784",
            "linecolor": "#506784",
            "ticks": ""
           },
           "caxis": {
            "gridcolor": "#506784",
            "linecolor": "#506784",
            "ticks": ""
           }
          },
          "coloraxis": {
           "colorbar": {
            "outlinewidth": 0,
            "ticks": ""
           }
          },
          "colorscale": {
           "sequential": [
            [
             0.0,
             "#0d0887"
            ],
            [
             0.1111111111111111,
             "#46039f"
            ],
            [
             0.2222222222222222,
             "#7201a8"
            ],
            [
             0.3333333333333333,
             "#9c179e"
            ],
            [
             0.4444444444444444,
             "#bd3786"
            ],
            [
             0.5555555555555556,
             "#d8576b"
            ],
            [
             0.6666666666666666,
             "#ed7953"
            ],
            [
             0.7777777777777778,
             "#fb9f3a"
            ],
            [
             0.8888888888888888,
             "#fdca26"
            ],
            [
             1.0,
             "#f0f921"
            ]
           ],
           "sequentialminus": [
            [
             0.0,
             "#0d0887"
            ],
            [
             0.1111111111111111,
             "#46039f"
            ],
            [
             0.2222222222222222,
             "#7201a8"
            ],
            [
             0.3333333333333333,
             "#9c179e"
            ],
            [
             0.4444444444444444,
             "#bd3786"
            ],
            [
             0.5555555555555556,
             "#d8576b"
            ],
            [
             0.6666666666666666,
             "#ed7953"
            ],
            [
             0.7777777777777778,
             "#fb9f3a"
            ],
            [
             0.8888888888888888,
             "#fdca26"
            ],
            [
             1.0,
             "#f0f921"
            ]
           ],
           "diverging": [
            [
             0,
             "#8e0152"
            ],
            [
             0.1,
             "#c51b7d"
            ],
            [
             0.2,
             "#de77ae"
            ],
            [
             0.3,
             "#f1b6da"
            ],
            [
             0.4,
             "#fde0ef"
            ],
            [
             0.5,
             "#f7f7f7"
            ],
            [
             0.6,
             "#e6f5d0"
            ],
            [
             0.7,
             "#b8e186"
            ],
            [
             0.8,
             "#7fbc41"
            ],
            [
             0.9,
             "#4d9221"
            ],
            [
             1,
             "#276419"
            ]
           ]
          },
          "xaxis": {
           "gridcolor": "#283442",
           "linecolor": "#506784",
           "ticks": "",
           "title": {
            "standoff": 15
           },
           "zerolinecolor": "#283442",
           "automargin": true,
           "zerolinewidth": 2
          },
          "yaxis": {
           "gridcolor": "#283442",
           "linecolor": "#506784",
           "ticks": "",
           "title": {
            "standoff": 15
           },
           "zerolinecolor": "#283442",
           "automargin": true,
           "zerolinewidth": 2
          },
          "scene": {
           "xaxis": {
            "backgroundcolor": "rgb(17,17,17)",
            "gridcolor": "#506784",
            "linecolor": "#506784",
            "showbackground": true,
            "ticks": "",
            "zerolinecolor": "#C8D4E3",
            "gridwidth": 2
           },
           "yaxis": {
            "backgroundcolor": "rgb(17,17,17)",
            "gridcolor": "#506784",
            "linecolor": "#506784",
            "showbackground": true,
            "ticks": "",
            "zerolinecolor": "#C8D4E3",
            "gridwidth": 2
           },
           "zaxis": {
            "backgroundcolor": "rgb(17,17,17)",
            "gridcolor": "#506784",
            "linecolor": "#506784",
            "showbackground": true,
            "ticks": "",
            "zerolinecolor": "#C8D4E3",
            "gridwidth": 2
           }
          },
          "shapedefaults": {
           "line": {
            "color": "#f2f5fa"
           }
          },
          "annotationdefaults": {
           "arrowcolor": "#f2f5fa",
           "arrowhead": 0,
           "arrowwidth": 1
          },
          "geo": {
           "bgcolor": "rgb(17,17,17)",
           "landcolor": "rgb(17,17,17)",
           "subunitcolor": "#506784",
           "showland": true,
           "showlakes": true,
           "lakecolor": "rgb(17,17,17)"
          },
          "title": {
           "x": 0.05
          },
          "updatemenudefaults": {
           "bgcolor": "#506784",
           "borderwidth": 0
          },
          "sliderdefaults": {
           "bgcolor": "#C8D4E3",
           "borderwidth": 1,
           "bordercolor": "rgb(17,17,17)",
           "tickwidth": 0
          },
          "mapbox": {
           "style": "dark"
          }
         }
        },
        "title": {
         "text": "Sensitivity Plot(all wells receive equal amount of gas lift)",
         "x": 0.5
        },
        "xaxis": {
         "title": {
          "text": "Gaslift Gas Injection Rate(MMscf/day)"
         },
         "nticks": 50
        },
        "yaxis": {
         "title": {
          "text": "Oil Rate(STB/day)"
         },
         "nticks": 20
        }
       },
       "config": {
        "plotlyServerURL": "https://plot.ly"
       }
      },
      "text/html": "<div>                            <div id=\"b62be4e9-b716-448c-bd62-a39ce92f16ec\" class=\"plotly-graph-div\" style=\"height:525px; width:100%;\"></div>            <script type=\"text/javascript\">                require([\"plotly\"], function(Plotly) {                    window.PLOTLYENV=window.PLOTLYENV || {};                                    if (document.getElementById(\"b62be4e9-b716-448c-bd62-a39ce92f16ec\")) {                    Plotly.newPlot(                        \"b62be4e9-b716-448c-bd62-a39ce92f16ec\",                        [{\"mode\":\"lines\",\"name\":\"Well_1\",\"x\":[0.0,0.1,0.2,0.30000000000000004,0.4,0.5,0.6000000000000001,0.7000000000000001,0.8,0.9,1.0,1.1,1.2000000000000002,1.3,1.4000000000000001,1.5,1.6,1.7000000000000002,1.8,1.9000000000000001,2.0,2.1,2.2,2.3000000000000003,2.4000000000000004,2.5,2.6,2.7,2.8000000000000003,2.9000000000000004,3.0,3.1,3.2,3.3000000000000003,3.4000000000000004,3.5,3.6,3.7,3.8000000000000003,3.9000000000000004,4.0,4.1000000000000005,4.2,4.3,4.4,4.5,4.6000000000000005,4.7,4.800000000000001,4.9],\"y\":[878.37,896.05,911.9,924.19,935.19,944.14,951.77,958.21,963.73,968.49,973.15,976.58,979.43,981.79,983.78,985.32,986.52,987.44,979.24,978.66,974.25,955.93,951.2,948.38,939.12,928.62,923.88,919.3,914.17,909.44,904.6,898.34,887.27,867.07,853.65,847.09,838.34,830.57,823.54,814.95,807.55,800.24,791.88,780.77,766.07,750.27,735.8,726.96,717.8,708.5],\"type\":\"scatter\"},{\"mode\":\"lines\",\"name\":\"Well_2\",\"x\":[0.0,0.1,0.2,0.30000000000000004,0.4,0.5,0.6000000000000001,0.7000000000000001,0.8,0.9,1.0,1.1,1.2000000000000002,1.3,1.4000000000000001,1.5,1.6,1.7000000000000002,1.8,1.9000000000000001,2.0,2.1,2.2,2.3000000000000003,2.4000000000000004,2.5,2.6,2.7,2.8000000000000003,2.9000000000000004,3.0,3.1,3.2,3.3000000000000003,3.4000000000000004,3.5,3.6,3.7,3.8000000000000003,3.9000000000000004,4.0,4.1000000000000005,4.2,4.3,4.4,4.5,4.6000000000000005,4.7,4.800000000000001,4.9],\"y\":[1657.35,1668.4,1677.71,1685.58,1692.24,1697.85,1702.57,1706.89,1710.09,1712.6,1714.54,1715.98,1716.94,1717.44,1717.55,1717.3,1716.69,1715.76,1714.53,1713.02,1711.08,1708.83,1704.6,1692.93,1693.69,1679.89,1675.19,1670.21,1664.98,1659.46,1653.61,1633.27,1607.69,1562.68,1555.26,1583.54,1538.27,1513.61,1494.29,1468.17,1457.29,1434.41,1422.9,1412.91,1402.84,1392.67,1382.42,1368.46,1357.53,1346.42],\"type\":\"scatter\"},{\"mode\":\"lines\",\"name\":\"Well_3\",\"x\":[0.0,0.1,0.2,0.30000000000000004,0.4,0.5,0.6000000000000001,0.7000000000000001,0.8,0.9,1.0,1.1,1.2000000000000002,1.3,1.4000000000000001,1.5,1.6,1.7000000000000002,1.8,1.9000000000000001,2.0,2.1,2.2,2.3000000000000003,2.4000000000000004,2.5,2.6,2.7,2.8000000000000003,2.9000000000000004,3.0,3.1,3.2,3.3000000000000003,3.4000000000000004,3.5,3.6,3.7,3.8000000000000003,3.9000000000000004,4.0,4.1000000000000005,4.2,4.3,4.4,4.5,4.6000000000000005,4.7,4.800000000000001,4.9],\"y\":[1576.44,1588.09,1597.9,1606.21,1613.28,1619.15,1623.94,1630.42,1633.8,1636.59,1638.84,1640.6,1641.92,1642.82,1643.34,1643.5,1643.14,1642.45,1641.48,1640.25,1638.77,1637.05,1635.02,1632.71,1630.13,1627.38,1624.37,1618.9,1598.37,1573.41,1524.03,1558.63,1508.31,1468.74,1459.81,1445.25,1436.7,1428.05,1419.3,1410.46,1401.48,1392.33,1383.05,1371.22,1361.36,1351.4,1341.34,1328.43,1318.04,1304.56],\"type\":\"scatter\"},{\"mode\":\"lines\",\"name\":\"Well_4\",\"x\":[0.0,0.1,0.2,0.30000000000000004,0.4,0.5,0.6000000000000001,0.7000000000000001,0.8,0.9,1.0,1.1,1.2000000000000002,1.3,1.4000000000000001,1.5,1.6,1.7000000000000002,1.8,1.9000000000000001,2.0,2.1,2.2,2.3000000000000003,2.4000000000000004,2.5,2.6,2.7,2.8000000000000003,2.9000000000000004,3.0,3.1,3.2,3.3000000000000003,3.4000000000000004,3.5,3.6,3.7,3.8000000000000003,3.9000000000000004,4.0,4.1000000000000005,4.2,4.3,4.4,4.5,4.6000000000000005,4.7,4.800000000000001,4.9],\"y\":[1362.42,1375.9,1387.41,1397.28,1405.79,1413.16,1419.53,1425.0,1431.86,1435.76,1438.99,1441.7,1443.93,1445.58,1446.83,1447.71,1448.19,1448.2,1447.93,1447.39,1446.57,1445.45,1444.07,1415.06,1402.57,1393.1,1388.1,1382.84,1375.93,1359.22,1339.88,1345.71,1323.33,1315.47,1309.38,1303.22,1295.44,1289.14,1282.75,1257.79,1221.03,1234.96,1180.36,1168.34,1157.9,1147.98,1137.22,1126.83,1112.86,1101.41],\"type\":\"scatter\"},{\"mode\":\"lines\",\"name\":\"Well_5\",\"x\":[0.0,0.1,0.2,0.30000000000000004,0.4,0.5,0.6000000000000001,0.7000000000000001,0.8,0.9,1.0,1.1,1.2000000000000002,1.3,1.4000000000000001,1.5,1.6,1.7000000000000002,1.8,1.9000000000000001,2.0,2.1,2.2,2.3000000000000003,2.4000000000000004,2.5,2.6,2.7,2.8000000000000003,2.9000000000000004,3.0,3.1,3.2,3.3000000000000003,3.4000000000000004,3.5,3.6,3.7,3.8000000000000003,3.9000000000000004,4.0,4.1000000000000005,4.2,4.3,4.4,4.5,4.6000000000000005,4.7,4.800000000000001,4.9],\"y\":[997.05,1013.68,1027.6,1041.02,1051.22,1060.09,1067.58,1074.09,1079.76,1085.05,1089.13,1092.54,1095.47,1097.91,1099.84,1101.44,1102.61,1103.48,1103.99,1104.21,1096.0,1075.47,1072.51,1064.42,1059.93,1048.84,1045.06,1041.16,1037.17,1033.08,1002.26,1005.17,978.56,972.76,966.29,960.16,953.9,943.7,933.35,925.0,917.02,906.16,897.46,885.08,864.65,851.14,841.96,826.97,805.5,795.23],\"type\":\"scatter\"},{\"mode\":\"lines\",\"name\":\"Well_6\",\"x\":[0.0,0.1,0.2,0.30000000000000004,0.4,0.5,0.6000000000000001,0.7000000000000001,0.8,0.9,1.0,1.1,1.2000000000000002,1.3,1.4000000000000001,1.5,1.6,1.7000000000000002,1.8,1.9000000000000001,2.0,2.1,2.2,2.3000000000000003,2.4000000000000004,2.5,2.6,2.7,2.8000000000000003,2.9000000000000004,3.0,3.1,3.2,3.3000000000000003,3.4000000000000004,3.5,3.6,3.7,3.8000000000000003,3.9000000000000004,4.0,4.1000000000000005,4.2,4.3,4.4,4.5,4.6000000000000005,4.7,4.800000000000001,4.9],\"y\":[1858.4,1867.23,1874.69,1880.97,1886.24,1890.55,1895.85,1898.62,1900.76,1902.34,1903.41,1904.0,1904.17,1903.94,1903.33,1902.36,1900.93,1899.21,1897.19,1894.91,1892.38,1889.63,1886.6,1883.25,1879.7,1875.98,1872.09,1867.97,1856.63,1788.8,1781.28,1773.08,1746.08,1724.14,1714.59,1704.88,1695.0,1684.97,1674.79,1664.46,1653.68,1637.29,1631.49,1620.2,1609.99,1599.17,1587.3,1574.99,1558.91,1545.94],\"type\":\"scatter\"}],                        {\"template\":{\"data\":{\"histogram2dcontour\":[{\"type\":\"histogram2dcontour\",\"colorbar\":{\"outlinewidth\":0,\"ticks\":\"\"},\"colorscale\":[[0.0,\"#0d0887\"],[0.1111111111111111,\"#46039f\"],[0.2222222222222222,\"#7201a8\"],[0.3333333333333333,\"#9c179e\"],[0.4444444444444444,\"#bd3786\"],[0.5555555555555556,\"#d8576b\"],[0.6666666666666666,\"#ed7953\"],[0.7777777777777778,\"#fb9f3a\"],[0.8888888888888888,\"#fdca26\"],[1.0,\"#f0f921\"]]}],\"choropleth\":[{\"type\":\"choropleth\",\"colorbar\":{\"outlinewidth\":0,\"ticks\":\"\"}}],\"histogram2d\":[{\"type\":\"histogram2d\",\"colorbar\":{\"outlinewidth\":0,\"ticks\":\"\"},\"colorscale\":[[0.0,\"#0d0887\"],[0.1111111111111111,\"#46039f\"],[0.2222222222222222,\"#7201a8\"],[0.3333333333333333,\"#9c179e\"],[0.4444444444444444,\"#bd3786\"],[0.5555555555555556,\"#d8576b\"],[0.6666666666666666,\"#ed7953\"],[0.7777777777777778,\"#fb9f3a\"],[0.8888888888888888,\"#fdca26\"],[1.0,\"#f0f921\"]]}],\"heatmap\":[{\"type\":\"heatmap\",\"colorbar\":{\"outlinewidth\":0,\"ticks\":\"\"},\"colorscale\":[[0.0,\"#0d0887\"],[0.1111111111111111,\"#46039f\"],[0.2222222222222222,\"#7201a8\"],[0.3333333333333333,\"#9c179e\"],[0.4444444444444444,\"#bd3786\"],[0.5555555555555556,\"#d8576b\"],[0.6666666666666666,\"#ed7953\"],[0.7777777777777778,\"#fb9f3a\"],[0.8888888888888888,\"#fdca26\"],[1.0,\"#f0f921\"]]}],\"heatmapgl\":[{\"type\":\"heatmapgl\",\"colorbar\":{\"outlinewidth\":0,\"ticks\":\"\"},\"colorscale\":[[0.0,\"#0d0887\"],[0.1111111111111111,\"#46039f\"],[0.2222222222222222,\"#7201a8\"],[0.3333333333333333,\"#9c179e\"],[0.4444444444444444,\"#bd3786\"],[0.5555555555555556,\"#d8576b\"],[0.6666666666666666,\"#ed7953\"],[0.7777777777777778,\"#fb9f3a\"],[0.8888888888888888,\"#fdca26\"],[1.0,\"#f0f921\"]]}],\"contourcarpet\":[{\"type\":\"contourcarpet\",\"colorbar\":{\"outlinewidth\":0,\"ticks\":\"\"}}],\"contour\":[{\"type\":\"contour\",\"colorbar\":{\"outlinewidth\":0,\"ticks\":\"\"},\"colorscale\":[[0.0,\"#0d0887\"],[0.1111111111111111,\"#46039f\"],[0.2222222222222222,\"#7201a8\"],[0.3333333333333333,\"#9c179e\"],[0.4444444444444444,\"#bd3786\"],[0.5555555555555556,\"#d8576b\"],[0.6666666666666666,\"#ed7953\"],[0.7777777777777778,\"#fb9f3a\"],[0.8888888888888888,\"#fdca26\"],[1.0,\"#f0f921\"]]}],\"surface\":[{\"type\":\"surface\",\"colorbar\":{\"outlinewidth\":0,\"ticks\":\"\"},\"colorscale\":[[0.0,\"#0d0887\"],[0.1111111111111111,\"#46039f\"],[0.2222222222222222,\"#7201a8\"],[0.3333333333333333,\"#9c179e\"],[0.4444444444444444,\"#bd3786\"],[0.5555555555555556,\"#d8576b\"],[0.6666666666666666,\"#ed7953\"],[0.7777777777777778,\"#fb9f3a\"],[0.8888888888888888,\"#fdca26\"],[1.0,\"#f0f921\"]]}],\"mesh3d\":[{\"type\":\"mesh3d\",\"colorbar\":{\"outlinewidth\":0,\"ticks\":\"\"}}],\"scatter\":[{\"marker\":{\"line\":{\"color\":\"#283442\"}},\"type\":\"scatter\"}],\"parcoords\":[{\"type\":\"parcoords\",\"line\":{\"colorbar\":{\"outlinewidth\":0,\"ticks\":\"\"}}}],\"scatterpolargl\":[{\"type\":\"scatterpolargl\",\"marker\":{\"colorbar\":{\"outlinewidth\":0,\"ticks\":\"\"}}}],\"bar\":[{\"error_x\":{\"color\":\"#f2f5fa\"},\"error_y\":{\"color\":\"#f2f5fa\"},\"marker\":{\"line\":{\"color\":\"rgb(17,17,17)\",\"width\":0.5},\"pattern\":{\"fillmode\":\"overlay\",\"size\":10,\"solidity\":0.2}},\"type\":\"bar\"}],\"scattergeo\":[{\"type\":\"scattergeo\",\"marker\":{\"colorbar\":{\"outlinewidth\":0,\"ticks\":\"\"}}}],\"scatterpolar\":[{\"type\":\"scatterpolar\",\"marker\":{\"colorbar\":{\"outlinewidth\":0,\"ticks\":\"\"}}}],\"histogram\":[{\"marker\":{\"pattern\":{\"fillmode\":\"overlay\",\"size\":10,\"solidity\":0.2}},\"type\":\"histogram\"}],\"scattergl\":[{\"marker\":{\"line\":{\"color\":\"#283442\"}},\"type\":\"scattergl\"}],\"scatter3d\":[{\"type\":\"scatter3d\",\"line\":{\"colorbar\":{\"outlinewidth\":0,\"ticks\":\"\"}},\"marker\":{\"colorbar\":{\"outlinewidth\":0,\"ticks\":\"\"}}}],\"scattermapbox\":[{\"type\":\"scattermapbox\",\"marker\":{\"colorbar\":{\"outlinewidth\":0,\"ticks\":\"\"}}}],\"scatterternary\":[{\"type\":\"scatterternary\",\"marker\":{\"colorbar\":{\"outlinewidth\":0,\"ticks\":\"\"}}}],\"scattercarpet\":[{\"type\":\"scattercarpet\",\"marker\":{\"colorbar\":{\"outlinewidth\":0,\"ticks\":\"\"}}}],\"carpet\":[{\"aaxis\":{\"endlinecolor\":\"#A2B1C6\",\"gridcolor\":\"#506784\",\"linecolor\":\"#506784\",\"minorgridcolor\":\"#506784\",\"startlinecolor\":\"#A2B1C6\"},\"baxis\":{\"endlinecolor\":\"#A2B1C6\",\"gridcolor\":\"#506784\",\"linecolor\":\"#506784\",\"minorgridcolor\":\"#506784\",\"startlinecolor\":\"#A2B1C6\"},\"type\":\"carpet\"}],\"table\":[{\"cells\":{\"fill\":{\"color\":\"#506784\"},\"line\":{\"color\":\"rgb(17,17,17)\"}},\"header\":{\"fill\":{\"color\":\"#2a3f5f\"},\"line\":{\"color\":\"rgb(17,17,17)\"}},\"type\":\"table\"}],\"barpolar\":[{\"marker\":{\"line\":{\"color\":\"rgb(17,17,17)\",\"width\":0.5},\"pattern\":{\"fillmode\":\"overlay\",\"size\":10,\"solidity\":0.2}},\"type\":\"barpolar\"}],\"pie\":[{\"automargin\":true,\"type\":\"pie\"}]},\"layout\":{\"autotypenumbers\":\"strict\",\"colorway\":[\"#636efa\",\"#EF553B\",\"#00cc96\",\"#ab63fa\",\"#FFA15A\",\"#19d3f3\",\"#FF6692\",\"#B6E880\",\"#FF97FF\",\"#FECB52\"],\"font\":{\"color\":\"#f2f5fa\"},\"hovermode\":\"closest\",\"hoverlabel\":{\"align\":\"left\"},\"paper_bgcolor\":\"rgb(17,17,17)\",\"plot_bgcolor\":\"rgb(17,17,17)\",\"polar\":{\"bgcolor\":\"rgb(17,17,17)\",\"angularaxis\":{\"gridcolor\":\"#506784\",\"linecolor\":\"#506784\",\"ticks\":\"\"},\"radialaxis\":{\"gridcolor\":\"#506784\",\"linecolor\":\"#506784\",\"ticks\":\"\"}},\"ternary\":{\"bgcolor\":\"rgb(17,17,17)\",\"aaxis\":{\"gridcolor\":\"#506784\",\"linecolor\":\"#506784\",\"ticks\":\"\"},\"baxis\":{\"gridcolor\":\"#506784\",\"linecolor\":\"#506784\",\"ticks\":\"\"},\"caxis\":{\"gridcolor\":\"#506784\",\"linecolor\":\"#506784\",\"ticks\":\"\"}},\"coloraxis\":{\"colorbar\":{\"outlinewidth\":0,\"ticks\":\"\"}},\"colorscale\":{\"sequential\":[[0.0,\"#0d0887\"],[0.1111111111111111,\"#46039f\"],[0.2222222222222222,\"#7201a8\"],[0.3333333333333333,\"#9c179e\"],[0.4444444444444444,\"#bd3786\"],[0.5555555555555556,\"#d8576b\"],[0.6666666666666666,\"#ed7953\"],[0.7777777777777778,\"#fb9f3a\"],[0.8888888888888888,\"#fdca26\"],[1.0,\"#f0f921\"]],\"sequentialminus\":[[0.0,\"#0d0887\"],[0.1111111111111111,\"#46039f\"],[0.2222222222222222,\"#7201a8\"],[0.3333333333333333,\"#9c179e\"],[0.4444444444444444,\"#bd3786\"],[0.5555555555555556,\"#d8576b\"],[0.6666666666666666,\"#ed7953\"],[0.7777777777777778,\"#fb9f3a\"],[0.8888888888888888,\"#fdca26\"],[1.0,\"#f0f921\"]],\"diverging\":[[0,\"#8e0152\"],[0.1,\"#c51b7d\"],[0.2,\"#de77ae\"],[0.3,\"#f1b6da\"],[0.4,\"#fde0ef\"],[0.5,\"#f7f7f7\"],[0.6,\"#e6f5d0\"],[0.7,\"#b8e186\"],[0.8,\"#7fbc41\"],[0.9,\"#4d9221\"],[1,\"#276419\"]]},\"xaxis\":{\"gridcolor\":\"#283442\",\"linecolor\":\"#506784\",\"ticks\":\"\",\"title\":{\"standoff\":15},\"zerolinecolor\":\"#283442\",\"automargin\":true,\"zerolinewidth\":2},\"yaxis\":{\"gridcolor\":\"#283442\",\"linecolor\":\"#506784\",\"ticks\":\"\",\"title\":{\"standoff\":15},\"zerolinecolor\":\"#283442\",\"automargin\":true,\"zerolinewidth\":2},\"scene\":{\"xaxis\":{\"backgroundcolor\":\"rgb(17,17,17)\",\"gridcolor\":\"#506784\",\"linecolor\":\"#506784\",\"showbackground\":true,\"ticks\":\"\",\"zerolinecolor\":\"#C8D4E3\",\"gridwidth\":2},\"yaxis\":{\"backgroundcolor\":\"rgb(17,17,17)\",\"gridcolor\":\"#506784\",\"linecolor\":\"#506784\",\"showbackground\":true,\"ticks\":\"\",\"zerolinecolor\":\"#C8D4E3\",\"gridwidth\":2},\"zaxis\":{\"backgroundcolor\":\"rgb(17,17,17)\",\"gridcolor\":\"#506784\",\"linecolor\":\"#506784\",\"showbackground\":true,\"ticks\":\"\",\"zerolinecolor\":\"#C8D4E3\",\"gridwidth\":2}},\"shapedefaults\":{\"line\":{\"color\":\"#f2f5fa\"}},\"annotationdefaults\":{\"arrowcolor\":\"#f2f5fa\",\"arrowhead\":0,\"arrowwidth\":1},\"geo\":{\"bgcolor\":\"rgb(17,17,17)\",\"landcolor\":\"rgb(17,17,17)\",\"subunitcolor\":\"#506784\",\"showland\":true,\"showlakes\":true,\"lakecolor\":\"rgb(17,17,17)\"},\"title\":{\"x\":0.05},\"updatemenudefaults\":{\"bgcolor\":\"#506784\",\"borderwidth\":0},\"sliderdefaults\":{\"bgcolor\":\"#C8D4E3\",\"borderwidth\":1,\"bordercolor\":\"rgb(17,17,17)\",\"tickwidth\":0},\"mapbox\":{\"style\":\"dark\"}}},\"title\":{\"text\":\"Sensitivity Plot(all wells receive equal amount of gas lift)\",\"x\":0.5},\"xaxis\":{\"title\":{\"text\":\"Gaslift Gas Injection Rate(MMscf/day)\"},\"nticks\":50},\"yaxis\":{\"title\":{\"text\":\"Oil Rate(STB/day)\"},\"nticks\":20}},                        {\"responsive\": true}                    ).then(function(){\n                            \nvar gd = document.getElementById('b62be4e9-b716-448c-bd62-a39ce92f16ec');\nvar x = new MutationObserver(function (mutations, observer) {{\n        var display = window.getComputedStyle(gd).display;\n        if (!display || display === 'none') {{\n            console.log([gd, 'removed!']);\n            Plotly.purge(gd);\n            observer.disconnect();\n        }}\n}});\n\n// Listen for the removal of the full notebook cells\nvar notebookContainer = gd.closest('#notebook-container');\nif (notebookContainer) {{\n    x.observe(notebookContainer, {childList: true});\n}}\n\n// Listen for the clearing of the current output cell\nvar outputEl = gd.closest('.output');\nif (outputEl) {{\n    x.observe(outputEl, {childList: true});\n}}\n\n                        })                };                });            </script>        </div>"
     },
     "metadata": {},
     "output_type": "display_data"
    }
   ],
   "source": [
    "#sensisitivity plot if all wells receive equal amount of gas\n",
    "fig = go.Figure()\n",
    "for i in range(1,number_of_wells+1):\n",
    "    \n",
    "    fig.add_trace(go.Scatter(x=df['gas_injection_array'], y=df[f'Well_{i}'],\n",
    "                            mode='lines', name=f'Well_{i}'))\n",
    "fig.update_layout(title='Sensitivity Plot(all wells receive equal amount of gas lift)',\n",
    "                   xaxis_title='Gaslift Gas Injection Rate(MMscf/day)',\n",
    "                   yaxis_title='Oil Rate(STB/day)',\n",
    "                   title_x=0.5, \n",
    "                   )\n",
    "fig.update_xaxes(nticks=50)\n",
    "fig.update_yaxes(nticks=20)\n",
    "fig.show()"
   ]
  },
  {
   "cell_type": "code",
   "execution_count": 442,
   "metadata": {},
   "outputs": [
    {
     "data": {
      "text/plain": "   gas_injection_array  Well_1   Well_2   Well_3   Well_4   Well_5   Well_6\n0                  0.0  878.37  1657.35  1576.44  1362.42   997.05  1858.40\n1                  0.1  896.05  1668.40  1588.09  1375.90  1013.68  1867.23\n2                  0.2  911.90  1677.71  1597.90  1387.41  1027.60  1874.69\n3                  0.3  924.19  1685.58  1606.21  1397.28  1041.02  1880.97\n4                  0.4  935.19  1692.24  1613.28  1405.79  1051.22  1886.24",
      "text/html": "<div>\n<style scoped>\n    .dataframe tbody tr th:only-of-type {\n        vertical-align: middle;\n    }\n\n    .dataframe tbody tr th {\n        vertical-align: top;\n    }\n\n    .dataframe thead th {\n        text-align: right;\n    }\n</style>\n<table border=\"1\" class=\"dataframe\">\n  <thead>\n    <tr style=\"text-align: right;\">\n      <th></th>\n      <th>gas_injection_array</th>\n      <th>Well_1</th>\n      <th>Well_2</th>\n      <th>Well_3</th>\n      <th>Well_4</th>\n      <th>Well_5</th>\n      <th>Well_6</th>\n    </tr>\n  </thead>\n  <tbody>\n    <tr>\n      <th>0</th>\n      <td>0.0</td>\n      <td>878.37</td>\n      <td>1657.35</td>\n      <td>1576.44</td>\n      <td>1362.42</td>\n      <td>997.05</td>\n      <td>1858.40</td>\n    </tr>\n    <tr>\n      <th>1</th>\n      <td>0.1</td>\n      <td>896.05</td>\n      <td>1668.40</td>\n      <td>1588.09</td>\n      <td>1375.90</td>\n      <td>1013.68</td>\n      <td>1867.23</td>\n    </tr>\n    <tr>\n      <th>2</th>\n      <td>0.2</td>\n      <td>911.90</td>\n      <td>1677.71</td>\n      <td>1597.90</td>\n      <td>1387.41</td>\n      <td>1027.60</td>\n      <td>1874.69</td>\n    </tr>\n    <tr>\n      <th>3</th>\n      <td>0.3</td>\n      <td>924.19</td>\n      <td>1685.58</td>\n      <td>1606.21</td>\n      <td>1397.28</td>\n      <td>1041.02</td>\n      <td>1880.97</td>\n    </tr>\n    <tr>\n      <th>4</th>\n      <td>0.4</td>\n      <td>935.19</td>\n      <td>1692.24</td>\n      <td>1613.28</td>\n      <td>1405.79</td>\n      <td>1051.22</td>\n      <td>1886.24</td>\n    </tr>\n  </tbody>\n</table>\n</div>"
     },
     "execution_count": 442,
     "metadata": {},
     "output_type": "execute_result"
    }
   ],
   "source": [
    "df.head()"
   ]
  },
  {
   "cell_type": "code",
   "execution_count": 443,
   "metadata": {},
   "outputs": [
    {
     "data": {
      "text/plain": "[{'production_rate': 987.44, 'gas_lift': 1.7000000000000002},\n {'production_rate': 1717.55, 'gas_lift': 1.4000000000000001},\n {'production_rate': 1643.5, 'gas_lift': 1.5},\n {'production_rate': 1448.2, 'gas_lift': 1.7000000000000002},\n {'production_rate': 1104.21, 'gas_lift': 1.9000000000000001},\n {'production_rate': 1904.17, 'gas_lift': 1.2000000000000002}]"
     },
     "execution_count": 443,
     "metadata": {},
     "output_type": "execute_result"
    }
   ],
   "source": [
    "#extracting max gas lift oil rate pairs\n",
    "df_new = df.drop('gas_injection_array', axis=1)\n",
    "wells = []\n",
    "i=1\n",
    "for element in df_new.idxmax():\n",
    "    oil_rate = df_new[f'Well_{i}'][element]\n",
    "    gas_lift = df['gas_injection_array'][element]\n",
    "    wells.append({'production_rate':oil_rate, 'gas_lift':gas_lift})\n",
    "    i+=1\n",
    "wells"
   ]
  },
  {
   "cell_type": "code",
   "execution_count": 444,
   "metadata": {},
   "outputs": [],
   "source": [
    "# wells = [{'production_rate': 987.44, 'gas_lift': 1.7},\n",
    "#          {'production_rate': 1717.55, 'gas_lift': 1.4},\n",
    "#          {'production_rate': 1643.5, 'gas_lift': 1.5},\n",
    "#          {'production_rate': 1448.2, 'gas_lift': 1.7},\n",
    "#          {'production_rate': 1104.21, 'gas_lift': 1.9},\n",
    "#          {'production_rate': 1904.17, 'gas_lift': 1.2},\n",
    "#          {'production_rate': 1819.56, 'gas_lift': 1.3},\n",
    "#          {'production_rate': 1225.93, 'gas_lift': 1.9},\n",
    "#          {'production_rate': 1775.91, 'gas_lift': 1.3},\n",
    "#          {'production_rate': 1802.58, 'gas_lift': 1.3}]\n",
    "#copy and paste the values from above based on number of wells determineed\n",
    "wells = [\n",
    "    {'production_rate': 987.44, 'gas_lift': 1.7},\n",
    "    {'production_rate': 1717.55, 'gas_lift': 1.4},\n",
    "    {'production_rate': 1643.5, 'gas_lift': 1.5},\n",
    "    {'production_rate': 1448.2, 'gas_lift': 1.7},\n",
    "    {'production_rate': 1104.21, 'gas_lift': 1.9},\n",
    "    {'production_rate': 1904.17, 'gas_lift': 1.2},\n",
    "]\n",
    "well_list = [(d['production_rate'], d['gas_lift']) for d in wells]"
   ]
  },
  {
   "cell_type": "markdown",
   "metadata": {},
   "source": [
    "# Ant Colony Algorithm(ACO)"
   ]
  },
  {
   "attachments": {},
   "cell_type": "markdown",
   "metadata": {},
   "source": [
    "# Current solution with ACO"
   ]
  },
  {
   "cell_type": "code",
   "execution_count": 445,
   "outputs": [],
   "source": [
    "import numpy as np\n",
    "\n",
    "def optimize_gas_allocation(wells, gas_capacity, alpha, beta, evaporation_rate, iteration_count):\n",
    "    \"\"\"\n",
    "    Optimizes the allocation of gas to a group of wells using an ant colony algorithm.\n",
    "\n",
    "    Parameters:\n",
    "    - wells: a list of dictionaries representing the wells, where each dictionary contains the following keys:\n",
    "        - 'production_rate': the production rate of the well (in STB/day)\n",
    "        - 'gas_lift': the gas lift of the well (in STB/day)\n",
    "    - gas_capacity: the total gas capacity available for allocation (in STB/day)\n",
    "    - alpha: the weight of the pheromone trail in the decision making process\n",
    "    - beta: the weight of the heuristic value in the decision making process\n",
    "    - evaporation_rate: the rate at which the pheromone trails evaporate\n",
    "    - iteration_count: the number of iterations to run the algorithm for\n",
    "\n",
    "    Returns:\n",
    "    - A list of dictionaries representing the optimized allocation of gas to the wells, where each dictionary contains the following keys:\n",
    "        - 'well_id': the ID of the well\n",
    "        - 'allocation': the optimized allocation of gas to the well (in STB/day)\n",
    "    \"\"\"\n",
    "    # Initialize the pheromone trails and heuristic values for each well\n",
    "    pheromone_trails = np.ones(len(wells))\n",
    "    heuristic_values = np.array([well['production_rate'] / well['gas_lift'] for well in wells])\n",
    "\n",
    "    # Run the algorithm for the specified number of iterations\n",
    "    for i in range(iteration_count):\n",
    "        # Initialize the allocation for each well\n",
    "        allocations = np.zeros(len(wells))\n",
    "\n",
    "        # Allocate gas to each well using the ant colony algorithm\n",
    "        remaining_gas = gas_capacity\n",
    "        for j, well in enumerate(wells):\n",
    "            # Calculate the allocation probability for the well\n",
    "            allocation_probability = (pheromone_trails[j] ** alpha) * (heuristic_values[j] ** beta)\n",
    "            allocation_probability /= np.sum((pheromone_trails ** alpha) * (heuristic_values ** beta))\n",
    "\n",
    "            # Allocate gas to the well based on the allocation probability\n",
    "            # allocation = min(well['gas_lift'], remaining_gas * allocation_probability)\n",
    "            allocation = min(remaining_gas, remaining_gas * allocation_probability)\n",
    "            allocations[j] = allocation\n",
    "            remaining_gas -= allocation\n",
    "\n",
    "        # Evaporate the pheromone trails based on the evaporation rate\n",
    "        pheromone_trails *= (1 - evaporation_rate)\n",
    "\n",
    "        # Update the pheromone trails based on the allocations\n",
    "        for j, well in enumerate(wells):\n",
    "            pheromone_trails[j] += allocations[j] / well['production_rate']\n",
    "\n",
    "    # Return the optimized allocation of gas to the wells\n",
    "    return [{'well_id': j, 'allocation': allocations[j]} for j in range(len(wells))]\n"
   ],
   "metadata": {
    "collapsed": false
   }
  },
  {
   "attachments": {},
   "cell_type": "markdown",
   "metadata": {},
   "source": [
    "# Testing the current solution"
   ]
  },
  {
   "cell_type": "code",
   "execution_count": 446,
   "metadata": {},
   "outputs": [
    {
     "name": "stdout",
     "output_type": "stream",
     "text": [
      "[{'well_id': 0, 'allocation': 0.24812319875248218}, {'well_id': 1, 'allocation': 1.1024697670273906}, {'well_id': 2, 'allocation': 0.6596640295600968}, {'well_id': 3, 'allocation': 0.3169318718140276}, {'well_id': 4, 'allocation': 0.12772985020437203}, {'well_id': 5, 'allocation': 0.9768376277745121}]\n"
     ]
    }
   ],
   "source": [
    "gas_capacity = 5 #total available gas\n",
    "#best solution parameters\n",
    "alpha = 0.05\n",
    "beta = 2\n",
    "evaporation_rate = 0.7\n",
    "iteration_count = 50\n",
    "\n",
    "# Optimize the allocation of gas to the wells\n",
    "allocations = optimize_gas_allocation(wells, gas_capacity, alpha, beta, evaporation_rate, iteration_count)\n",
    "\n",
    "# Print the optimized allocation\n",
    "print(allocations)\n"
   ]
  },
  {
   "cell_type": "code",
   "execution_count": 447,
   "metadata": {},
   "outputs": [
    {
     "name": "stdout",
     "output_type": "stream",
     "text": [
      "3.4317563451328814\n"
     ]
    }
   ],
   "source": [
    "#total gas consumed\n",
    "sum_gas = 0\n",
    "for alloc in allocations:\n",
    "    sum_gas+=alloc['allocation']\n",
    "print(sum_gas)"
   ]
  },
  {
   "attachments": {},
   "cell_type": "markdown",
   "metadata": {},
   "source": [
    "# Visualize the current solution"
   ]
  },
  {
   "cell_type": "code",
   "execution_count": 448,
   "metadata": {},
   "outputs": [
    {
     "data": {
      "text/plain": "{'gas_injection_array_1': array([0. , 0.1, 0.2]),\n 'gas_injection_array_2': array([0. , 0.1, 0.2, 0.3, 0.4, 0.5, 0.6, 0.7, 0.8, 0.9, 1. , 1.1]),\n 'gas_injection_array_3': array([0. , 0.1, 0.2, 0.3, 0.4, 0.5, 0.6]),\n 'gas_injection_array_4': array([0. , 0.1, 0.2, 0.3]),\n 'gas_injection_array_5': array([0. , 0.1]),\n 'gas_injection_array_6': array([0. , 0.1, 0.2, 0.3, 0.4, 0.5, 0.6, 0.7, 0.8, 0.9])}"
     },
     "execution_count": 448,
     "metadata": {},
     "output_type": "execute_result"
    }
   ],
   "source": [
    "gas_dict = {}\n",
    "for i in range(len(allocations)):\n",
    "    gas_available = allocations[i]['allocation']\n",
    "    increment = increment\n",
    "    gas_injection_array = np.arange(0, gas_available, increment)\n",
    "    gas_dict[f'gas_injection_array_{i+1}'] = gas_injection_array\n",
    "gas_dict"
   ]
  },
  {
   "cell_type": "code",
   "execution_count": 449,
   "outputs": [
    {
     "name": "stdout",
     "output_type": "stream",
     "text": [
      "OpenServer connected\n",
      "Well 1 opened\n",
      "Well 1 closed\n",
      "Well 2 opened\n",
      "Well 2 closed\n",
      "Well 3 opened\n",
      "Well 3 closed\n",
      "Well 4 opened\n",
      "Well 4 closed\n",
      "Well 5 opened\n",
      "Well 5 closed\n",
      "Well 6 opened\n",
      "Well 6 closed\n"
     ]
    },
    {
     "data": {
      "text/plain": "{'well_1': [878.37, 896.05, 911.9],\n 'well_2': [1657.35,\n  1668.4,\n  1677.71,\n  1685.58,\n  1692.24,\n  1697.85,\n  1702.57,\n  1706.89,\n  1710.09,\n  1712.6,\n  1714.54,\n  1715.98],\n 'well_3': [1576.44, 1588.09, 1597.9, 1606.21, 1613.28, 1619.15, 1623.94],\n 'well_4': [1362.42, 1375.9, 1387.41, 1397.28],\n 'well_5': [997.05, 1013.68],\n 'well_6': [1858.4,\n  1867.23,\n  1874.69,\n  1880.97,\n  1886.24,\n  1890.55,\n  1895.85,\n  1898.62,\n  1900.76,\n  1902.34]}"
     },
     "execution_count": 449,
     "metadata": {},
     "output_type": "execute_result"
    }
   ],
   "source": [
    "# Initialises an 'OpenServer' class\n",
    "petex = OpenServer()\n",
    "\n",
    "petex.Connect()\n",
    "oil_rates_for_wells = {}\n",
    "\n",
    "# Perform functions\n",
    "cwd = os.getcwd()\n",
    "\n",
    "for j in range(len(gas_dict)):\n",
    "#opening well file\n",
    "    OSOpenFile(petex, cwd + f'\\models\\well_{j+1}.Out', 'PROSPER')\n",
    "    print(f'Well {j+1} opened')\n",
    "\n",
    "    for i in range(0,len(gas_dict[f'gas_injection_array_{j+1}'])):\n",
    "            command = f'PROSPER.ANL.SYS.Sens.SensDB.Sens[138].Vals[{i}]'\n",
    "            DoSet(petex, command,gas_dict[f'gas_injection_array_{j+1}'][i])\n",
    "\n",
    "    DoCmd(petex, 'PROSPER.ANL.SYS.CALC')\n",
    "    oil_rates = [] #list of oil rates for 1 well\n",
    "    for i in range(0, len(gas_dict[f'gas_injection_array_{j+1}'])):\n",
    "            value = f'PROSPER.OUT.SYS.Results[{i}].Sol.OilRate'\n",
    "            oil_rates.append(np.round(float(DoGet(petex, value)),2))\n",
    "    oil_rates_for_wells[f'well_{j+1}'] = oil_rates\n",
    "\n",
    "    OSSaveFile(petex, cwd + f'\\well_{j+1}.Out', 'PROSPER')\n",
    "    print(f'Well {j+1} closed')\n",
    "\n",
    "oil_rates_for_wells"
   ],
   "metadata": {
    "collapsed": false
   }
  },
  {
   "cell_type": "code",
   "execution_count": 450,
   "outputs": [
    {
     "data": {
      "application/vnd.plotly.v1+json": {
       "data": [
        {
         "mode": "lines",
         "name": "Well_1",
         "x": [
          0.0,
          0.1,
          0.2
         ],
         "y": [
          878.37,
          896.05,
          911.9
         ],
         "type": "scatter"
        },
        {
         "mode": "lines",
         "name": "Well_2",
         "x": [
          0.0,
          0.1,
          0.2,
          0.30000000000000004,
          0.4,
          0.5,
          0.6000000000000001,
          0.7000000000000001,
          0.8,
          0.9,
          1.0,
          1.1
         ],
         "y": [
          1657.35,
          1668.4,
          1677.71,
          1685.58,
          1692.24,
          1697.85,
          1702.57,
          1706.89,
          1710.09,
          1712.6,
          1714.54,
          1715.98
         ],
         "type": "scatter"
        },
        {
         "mode": "lines",
         "name": "Well_3",
         "x": [
          0.0,
          0.1,
          0.2,
          0.30000000000000004,
          0.4,
          0.5,
          0.6000000000000001
         ],
         "y": [
          1576.44,
          1588.09,
          1597.9,
          1606.21,
          1613.28,
          1619.15,
          1623.94
         ],
         "type": "scatter"
        },
        {
         "mode": "lines",
         "name": "Well_4",
         "x": [
          0.0,
          0.1,
          0.2,
          0.30000000000000004
         ],
         "y": [
          1362.42,
          1375.9,
          1387.41,
          1397.28
         ],
         "type": "scatter"
        },
        {
         "mode": "lines",
         "name": "Well_5",
         "x": [
          0.0,
          0.1
         ],
         "y": [
          997.05,
          1013.68
         ],
         "type": "scatter"
        },
        {
         "mode": "lines",
         "name": "Well_6",
         "x": [
          0.0,
          0.1,
          0.2,
          0.30000000000000004,
          0.4,
          0.5,
          0.6000000000000001,
          0.7000000000000001,
          0.8,
          0.9
         ],
         "y": [
          1858.4,
          1867.23,
          1874.69,
          1880.97,
          1886.24,
          1890.55,
          1895.85,
          1898.62,
          1900.76,
          1902.34
         ],
         "type": "scatter"
        }
       ],
       "layout": {
        "template": {
         "data": {
          "histogram2dcontour": [
           {
            "type": "histogram2dcontour",
            "colorbar": {
             "outlinewidth": 0,
             "ticks": ""
            },
            "colorscale": [
             [
              0.0,
              "#0d0887"
             ],
             [
              0.1111111111111111,
              "#46039f"
             ],
             [
              0.2222222222222222,
              "#7201a8"
             ],
             [
              0.3333333333333333,
              "#9c179e"
             ],
             [
              0.4444444444444444,
              "#bd3786"
             ],
             [
              0.5555555555555556,
              "#d8576b"
             ],
             [
              0.6666666666666666,
              "#ed7953"
             ],
             [
              0.7777777777777778,
              "#fb9f3a"
             ],
             [
              0.8888888888888888,
              "#fdca26"
             ],
             [
              1.0,
              "#f0f921"
             ]
            ]
           }
          ],
          "choropleth": [
           {
            "type": "choropleth",
            "colorbar": {
             "outlinewidth": 0,
             "ticks": ""
            }
           }
          ],
          "histogram2d": [
           {
            "type": "histogram2d",
            "colorbar": {
             "outlinewidth": 0,
             "ticks": ""
            },
            "colorscale": [
             [
              0.0,
              "#0d0887"
             ],
             [
              0.1111111111111111,
              "#46039f"
             ],
             [
              0.2222222222222222,
              "#7201a8"
             ],
             [
              0.3333333333333333,
              "#9c179e"
             ],
             [
              0.4444444444444444,
              "#bd3786"
             ],
             [
              0.5555555555555556,
              "#d8576b"
             ],
             [
              0.6666666666666666,
              "#ed7953"
             ],
             [
              0.7777777777777778,
              "#fb9f3a"
             ],
             [
              0.8888888888888888,
              "#fdca26"
             ],
             [
              1.0,
              "#f0f921"
             ]
            ]
           }
          ],
          "heatmap": [
           {
            "type": "heatmap",
            "colorbar": {
             "outlinewidth": 0,
             "ticks": ""
            },
            "colorscale": [
             [
              0.0,
              "#0d0887"
             ],
             [
              0.1111111111111111,
              "#46039f"
             ],
             [
              0.2222222222222222,
              "#7201a8"
             ],
             [
              0.3333333333333333,
              "#9c179e"
             ],
             [
              0.4444444444444444,
              "#bd3786"
             ],
             [
              0.5555555555555556,
              "#d8576b"
             ],
             [
              0.6666666666666666,
              "#ed7953"
             ],
             [
              0.7777777777777778,
              "#fb9f3a"
             ],
             [
              0.8888888888888888,
              "#fdca26"
             ],
             [
              1.0,
              "#f0f921"
             ]
            ]
           }
          ],
          "heatmapgl": [
           {
            "type": "heatmapgl",
            "colorbar": {
             "outlinewidth": 0,
             "ticks": ""
            },
            "colorscale": [
             [
              0.0,
              "#0d0887"
             ],
             [
              0.1111111111111111,
              "#46039f"
             ],
             [
              0.2222222222222222,
              "#7201a8"
             ],
             [
              0.3333333333333333,
              "#9c179e"
             ],
             [
              0.4444444444444444,
              "#bd3786"
             ],
             [
              0.5555555555555556,
              "#d8576b"
             ],
             [
              0.6666666666666666,
              "#ed7953"
             ],
             [
              0.7777777777777778,
              "#fb9f3a"
             ],
             [
              0.8888888888888888,
              "#fdca26"
             ],
             [
              1.0,
              "#f0f921"
             ]
            ]
           }
          ],
          "contourcarpet": [
           {
            "type": "contourcarpet",
            "colorbar": {
             "outlinewidth": 0,
             "ticks": ""
            }
           }
          ],
          "contour": [
           {
            "type": "contour",
            "colorbar": {
             "outlinewidth": 0,
             "ticks": ""
            },
            "colorscale": [
             [
              0.0,
              "#0d0887"
             ],
             [
              0.1111111111111111,
              "#46039f"
             ],
             [
              0.2222222222222222,
              "#7201a8"
             ],
             [
              0.3333333333333333,
              "#9c179e"
             ],
             [
              0.4444444444444444,
              "#bd3786"
             ],
             [
              0.5555555555555556,
              "#d8576b"
             ],
             [
              0.6666666666666666,
              "#ed7953"
             ],
             [
              0.7777777777777778,
              "#fb9f3a"
             ],
             [
              0.8888888888888888,
              "#fdca26"
             ],
             [
              1.0,
              "#f0f921"
             ]
            ]
           }
          ],
          "surface": [
           {
            "type": "surface",
            "colorbar": {
             "outlinewidth": 0,
             "ticks": ""
            },
            "colorscale": [
             [
              0.0,
              "#0d0887"
             ],
             [
              0.1111111111111111,
              "#46039f"
             ],
             [
              0.2222222222222222,
              "#7201a8"
             ],
             [
              0.3333333333333333,
              "#9c179e"
             ],
             [
              0.4444444444444444,
              "#bd3786"
             ],
             [
              0.5555555555555556,
              "#d8576b"
             ],
             [
              0.6666666666666666,
              "#ed7953"
             ],
             [
              0.7777777777777778,
              "#fb9f3a"
             ],
             [
              0.8888888888888888,
              "#fdca26"
             ],
             [
              1.0,
              "#f0f921"
             ]
            ]
           }
          ],
          "mesh3d": [
           {
            "type": "mesh3d",
            "colorbar": {
             "outlinewidth": 0,
             "ticks": ""
            }
           }
          ],
          "scatter": [
           {
            "marker": {
             "line": {
              "color": "#283442"
             }
            },
            "type": "scatter"
           }
          ],
          "parcoords": [
           {
            "type": "parcoords",
            "line": {
             "colorbar": {
              "outlinewidth": 0,
              "ticks": ""
             }
            }
           }
          ],
          "scatterpolargl": [
           {
            "type": "scatterpolargl",
            "marker": {
             "colorbar": {
              "outlinewidth": 0,
              "ticks": ""
             }
            }
           }
          ],
          "bar": [
           {
            "error_x": {
             "color": "#f2f5fa"
            },
            "error_y": {
             "color": "#f2f5fa"
            },
            "marker": {
             "line": {
              "color": "rgb(17,17,17)",
              "width": 0.5
             },
             "pattern": {
              "fillmode": "overlay",
              "size": 10,
              "solidity": 0.2
             }
            },
            "type": "bar"
           }
          ],
          "scattergeo": [
           {
            "type": "scattergeo",
            "marker": {
             "colorbar": {
              "outlinewidth": 0,
              "ticks": ""
             }
            }
           }
          ],
          "scatterpolar": [
           {
            "type": "scatterpolar",
            "marker": {
             "colorbar": {
              "outlinewidth": 0,
              "ticks": ""
             }
            }
           }
          ],
          "histogram": [
           {
            "marker": {
             "pattern": {
              "fillmode": "overlay",
              "size": 10,
              "solidity": 0.2
             }
            },
            "type": "histogram"
           }
          ],
          "scattergl": [
           {
            "marker": {
             "line": {
              "color": "#283442"
             }
            },
            "type": "scattergl"
           }
          ],
          "scatter3d": [
           {
            "type": "scatter3d",
            "line": {
             "colorbar": {
              "outlinewidth": 0,
              "ticks": ""
             }
            },
            "marker": {
             "colorbar": {
              "outlinewidth": 0,
              "ticks": ""
             }
            }
           }
          ],
          "scattermapbox": [
           {
            "type": "scattermapbox",
            "marker": {
             "colorbar": {
              "outlinewidth": 0,
              "ticks": ""
             }
            }
           }
          ],
          "scatterternary": [
           {
            "type": "scatterternary",
            "marker": {
             "colorbar": {
              "outlinewidth": 0,
              "ticks": ""
             }
            }
           }
          ],
          "scattercarpet": [
           {
            "type": "scattercarpet",
            "marker": {
             "colorbar": {
              "outlinewidth": 0,
              "ticks": ""
             }
            }
           }
          ],
          "carpet": [
           {
            "aaxis": {
             "endlinecolor": "#A2B1C6",
             "gridcolor": "#506784",
             "linecolor": "#506784",
             "minorgridcolor": "#506784",
             "startlinecolor": "#A2B1C6"
            },
            "baxis": {
             "endlinecolor": "#A2B1C6",
             "gridcolor": "#506784",
             "linecolor": "#506784",
             "minorgridcolor": "#506784",
             "startlinecolor": "#A2B1C6"
            },
            "type": "carpet"
           }
          ],
          "table": [
           {
            "cells": {
             "fill": {
              "color": "#506784"
             },
             "line": {
              "color": "rgb(17,17,17)"
             }
            },
            "header": {
             "fill": {
              "color": "#2a3f5f"
             },
             "line": {
              "color": "rgb(17,17,17)"
             }
            },
            "type": "table"
           }
          ],
          "barpolar": [
           {
            "marker": {
             "line": {
              "color": "rgb(17,17,17)",
              "width": 0.5
             },
             "pattern": {
              "fillmode": "overlay",
              "size": 10,
              "solidity": 0.2
             }
            },
            "type": "barpolar"
           }
          ],
          "pie": [
           {
            "automargin": true,
            "type": "pie"
           }
          ]
         },
         "layout": {
          "autotypenumbers": "strict",
          "colorway": [
           "#636efa",
           "#EF553B",
           "#00cc96",
           "#ab63fa",
           "#FFA15A",
           "#19d3f3",
           "#FF6692",
           "#B6E880",
           "#FF97FF",
           "#FECB52"
          ],
          "font": {
           "color": "#f2f5fa"
          },
          "hovermode": "closest",
          "hoverlabel": {
           "align": "left"
          },
          "paper_bgcolor": "rgb(17,17,17)",
          "plot_bgcolor": "rgb(17,17,17)",
          "polar": {
           "bgcolor": "rgb(17,17,17)",
           "angularaxis": {
            "gridcolor": "#506784",
            "linecolor": "#506784",
            "ticks": ""
           },
           "radialaxis": {
            "gridcolor": "#506784",
            "linecolor": "#506784",
            "ticks": ""
           }
          },
          "ternary": {
           "bgcolor": "rgb(17,17,17)",
           "aaxis": {
            "gridcolor": "#506784",
            "linecolor": "#506784",
            "ticks": ""
           },
           "baxis": {
            "gridcolor": "#506784",
            "linecolor": "#506784",
            "ticks": ""
           },
           "caxis": {
            "gridcolor": "#506784",
            "linecolor": "#506784",
            "ticks": ""
           }
          },
          "coloraxis": {
           "colorbar": {
            "outlinewidth": 0,
            "ticks": ""
           }
          },
          "colorscale": {
           "sequential": [
            [
             0.0,
             "#0d0887"
            ],
            [
             0.1111111111111111,
             "#46039f"
            ],
            [
             0.2222222222222222,
             "#7201a8"
            ],
            [
             0.3333333333333333,
             "#9c179e"
            ],
            [
             0.4444444444444444,
             "#bd3786"
            ],
            [
             0.5555555555555556,
             "#d8576b"
            ],
            [
             0.6666666666666666,
             "#ed7953"
            ],
            [
             0.7777777777777778,
             "#fb9f3a"
            ],
            [
             0.8888888888888888,
             "#fdca26"
            ],
            [
             1.0,
             "#f0f921"
            ]
           ],
           "sequentialminus": [
            [
             0.0,
             "#0d0887"
            ],
            [
             0.1111111111111111,
             "#46039f"
            ],
            [
             0.2222222222222222,
             "#7201a8"
            ],
            [
             0.3333333333333333,
             "#9c179e"
            ],
            [
             0.4444444444444444,
             "#bd3786"
            ],
            [
             0.5555555555555556,
             "#d8576b"
            ],
            [
             0.6666666666666666,
             "#ed7953"
            ],
            [
             0.7777777777777778,
             "#fb9f3a"
            ],
            [
             0.8888888888888888,
             "#fdca26"
            ],
            [
             1.0,
             "#f0f921"
            ]
           ],
           "diverging": [
            [
             0,
             "#8e0152"
            ],
            [
             0.1,
             "#c51b7d"
            ],
            [
             0.2,
             "#de77ae"
            ],
            [
             0.3,
             "#f1b6da"
            ],
            [
             0.4,
             "#fde0ef"
            ],
            [
             0.5,
             "#f7f7f7"
            ],
            [
             0.6,
             "#e6f5d0"
            ],
            [
             0.7,
             "#b8e186"
            ],
            [
             0.8,
             "#7fbc41"
            ],
            [
             0.9,
             "#4d9221"
            ],
            [
             1,
             "#276419"
            ]
           ]
          },
          "xaxis": {
           "gridcolor": "#283442",
           "linecolor": "#506784",
           "ticks": "",
           "title": {
            "standoff": 15
           },
           "zerolinecolor": "#283442",
           "automargin": true,
           "zerolinewidth": 2
          },
          "yaxis": {
           "gridcolor": "#283442",
           "linecolor": "#506784",
           "ticks": "",
           "title": {
            "standoff": 15
           },
           "zerolinecolor": "#283442",
           "automargin": true,
           "zerolinewidth": 2
          },
          "scene": {
           "xaxis": {
            "backgroundcolor": "rgb(17,17,17)",
            "gridcolor": "#506784",
            "linecolor": "#506784",
            "showbackground": true,
            "ticks": "",
            "zerolinecolor": "#C8D4E3",
            "gridwidth": 2
           },
           "yaxis": {
            "backgroundcolor": "rgb(17,17,17)",
            "gridcolor": "#506784",
            "linecolor": "#506784",
            "showbackground": true,
            "ticks": "",
            "zerolinecolor": "#C8D4E3",
            "gridwidth": 2
           },
           "zaxis": {
            "backgroundcolor": "rgb(17,17,17)",
            "gridcolor": "#506784",
            "linecolor": "#506784",
            "showbackground": true,
            "ticks": "",
            "zerolinecolor": "#C8D4E3",
            "gridwidth": 2
           }
          },
          "shapedefaults": {
           "line": {
            "color": "#f2f5fa"
           }
          },
          "annotationdefaults": {
           "arrowcolor": "#f2f5fa",
           "arrowhead": 0,
           "arrowwidth": 1
          },
          "geo": {
           "bgcolor": "rgb(17,17,17)",
           "landcolor": "rgb(17,17,17)",
           "subunitcolor": "#506784",
           "showland": true,
           "showlakes": true,
           "lakecolor": "rgb(17,17,17)"
          },
          "title": {
           "x": 0.05
          },
          "updatemenudefaults": {
           "bgcolor": "#506784",
           "borderwidth": 0
          },
          "sliderdefaults": {
           "bgcolor": "#C8D4E3",
           "borderwidth": 1,
           "bordercolor": "rgb(17,17,17)",
           "tickwidth": 0
          },
          "mapbox": {
           "style": "dark"
          }
         }
        },
        "title": {
         "text": "Sensitivity Plot with ACO algorithm",
         "x": 0.5
        },
        "xaxis": {
         "title": {
          "text": "Gaslift Gas Injection Rate(MMscf/day)"
         },
         "nticks": 50
        },
        "yaxis": {
         "title": {
          "text": "Oil Rate(STB/day)"
         },
         "nticks": 20
        }
       },
       "config": {
        "plotlyServerURL": "https://plot.ly"
       }
      },
      "text/html": "<div>                            <div id=\"161f1322-ed5d-4411-95b1-aa3a6454ed6b\" class=\"plotly-graph-div\" style=\"height:525px; width:100%;\"></div>            <script type=\"text/javascript\">                require([\"plotly\"], function(Plotly) {                    window.PLOTLYENV=window.PLOTLYENV || {};                                    if (document.getElementById(\"161f1322-ed5d-4411-95b1-aa3a6454ed6b\")) {                    Plotly.newPlot(                        \"161f1322-ed5d-4411-95b1-aa3a6454ed6b\",                        [{\"mode\":\"lines\",\"name\":\"Well_1\",\"x\":[0.0,0.1,0.2],\"y\":[878.37,896.05,911.9],\"type\":\"scatter\"},{\"mode\":\"lines\",\"name\":\"Well_2\",\"x\":[0.0,0.1,0.2,0.30000000000000004,0.4,0.5,0.6000000000000001,0.7000000000000001,0.8,0.9,1.0,1.1],\"y\":[1657.35,1668.4,1677.71,1685.58,1692.24,1697.85,1702.57,1706.89,1710.09,1712.6,1714.54,1715.98],\"type\":\"scatter\"},{\"mode\":\"lines\",\"name\":\"Well_3\",\"x\":[0.0,0.1,0.2,0.30000000000000004,0.4,0.5,0.6000000000000001],\"y\":[1576.44,1588.09,1597.9,1606.21,1613.28,1619.15,1623.94],\"type\":\"scatter\"},{\"mode\":\"lines\",\"name\":\"Well_4\",\"x\":[0.0,0.1,0.2,0.30000000000000004],\"y\":[1362.42,1375.9,1387.41,1397.28],\"type\":\"scatter\"},{\"mode\":\"lines\",\"name\":\"Well_5\",\"x\":[0.0,0.1],\"y\":[997.05,1013.68],\"type\":\"scatter\"},{\"mode\":\"lines\",\"name\":\"Well_6\",\"x\":[0.0,0.1,0.2,0.30000000000000004,0.4,0.5,0.6000000000000001,0.7000000000000001,0.8,0.9],\"y\":[1858.4,1867.23,1874.69,1880.97,1886.24,1890.55,1895.85,1898.62,1900.76,1902.34],\"type\":\"scatter\"}],                        {\"template\":{\"data\":{\"histogram2dcontour\":[{\"type\":\"histogram2dcontour\",\"colorbar\":{\"outlinewidth\":0,\"ticks\":\"\"},\"colorscale\":[[0.0,\"#0d0887\"],[0.1111111111111111,\"#46039f\"],[0.2222222222222222,\"#7201a8\"],[0.3333333333333333,\"#9c179e\"],[0.4444444444444444,\"#bd3786\"],[0.5555555555555556,\"#d8576b\"],[0.6666666666666666,\"#ed7953\"],[0.7777777777777778,\"#fb9f3a\"],[0.8888888888888888,\"#fdca26\"],[1.0,\"#f0f921\"]]}],\"choropleth\":[{\"type\":\"choropleth\",\"colorbar\":{\"outlinewidth\":0,\"ticks\":\"\"}}],\"histogram2d\":[{\"type\":\"histogram2d\",\"colorbar\":{\"outlinewidth\":0,\"ticks\":\"\"},\"colorscale\":[[0.0,\"#0d0887\"],[0.1111111111111111,\"#46039f\"],[0.2222222222222222,\"#7201a8\"],[0.3333333333333333,\"#9c179e\"],[0.4444444444444444,\"#bd3786\"],[0.5555555555555556,\"#d8576b\"],[0.6666666666666666,\"#ed7953\"],[0.7777777777777778,\"#fb9f3a\"],[0.8888888888888888,\"#fdca26\"],[1.0,\"#f0f921\"]]}],\"heatmap\":[{\"type\":\"heatmap\",\"colorbar\":{\"outlinewidth\":0,\"ticks\":\"\"},\"colorscale\":[[0.0,\"#0d0887\"],[0.1111111111111111,\"#46039f\"],[0.2222222222222222,\"#7201a8\"],[0.3333333333333333,\"#9c179e\"],[0.4444444444444444,\"#bd3786\"],[0.5555555555555556,\"#d8576b\"],[0.6666666666666666,\"#ed7953\"],[0.7777777777777778,\"#fb9f3a\"],[0.8888888888888888,\"#fdca26\"],[1.0,\"#f0f921\"]]}],\"heatmapgl\":[{\"type\":\"heatmapgl\",\"colorbar\":{\"outlinewidth\":0,\"ticks\":\"\"},\"colorscale\":[[0.0,\"#0d0887\"],[0.1111111111111111,\"#46039f\"],[0.2222222222222222,\"#7201a8\"],[0.3333333333333333,\"#9c179e\"],[0.4444444444444444,\"#bd3786\"],[0.5555555555555556,\"#d8576b\"],[0.6666666666666666,\"#ed7953\"],[0.7777777777777778,\"#fb9f3a\"],[0.8888888888888888,\"#fdca26\"],[1.0,\"#f0f921\"]]}],\"contourcarpet\":[{\"type\":\"contourcarpet\",\"colorbar\":{\"outlinewidth\":0,\"ticks\":\"\"}}],\"contour\":[{\"type\":\"contour\",\"colorbar\":{\"outlinewidth\":0,\"ticks\":\"\"},\"colorscale\":[[0.0,\"#0d0887\"],[0.1111111111111111,\"#46039f\"],[0.2222222222222222,\"#7201a8\"],[0.3333333333333333,\"#9c179e\"],[0.4444444444444444,\"#bd3786\"],[0.5555555555555556,\"#d8576b\"],[0.6666666666666666,\"#ed7953\"],[0.7777777777777778,\"#fb9f3a\"],[0.8888888888888888,\"#fdca26\"],[1.0,\"#f0f921\"]]}],\"surface\":[{\"type\":\"surface\",\"colorbar\":{\"outlinewidth\":0,\"ticks\":\"\"},\"colorscale\":[[0.0,\"#0d0887\"],[0.1111111111111111,\"#46039f\"],[0.2222222222222222,\"#7201a8\"],[0.3333333333333333,\"#9c179e\"],[0.4444444444444444,\"#bd3786\"],[0.5555555555555556,\"#d8576b\"],[0.6666666666666666,\"#ed7953\"],[0.7777777777777778,\"#fb9f3a\"],[0.8888888888888888,\"#fdca26\"],[1.0,\"#f0f921\"]]}],\"mesh3d\":[{\"type\":\"mesh3d\",\"colorbar\":{\"outlinewidth\":0,\"ticks\":\"\"}}],\"scatter\":[{\"marker\":{\"line\":{\"color\":\"#283442\"}},\"type\":\"scatter\"}],\"parcoords\":[{\"type\":\"parcoords\",\"line\":{\"colorbar\":{\"outlinewidth\":0,\"ticks\":\"\"}}}],\"scatterpolargl\":[{\"type\":\"scatterpolargl\",\"marker\":{\"colorbar\":{\"outlinewidth\":0,\"ticks\":\"\"}}}],\"bar\":[{\"error_x\":{\"color\":\"#f2f5fa\"},\"error_y\":{\"color\":\"#f2f5fa\"},\"marker\":{\"line\":{\"color\":\"rgb(17,17,17)\",\"width\":0.5},\"pattern\":{\"fillmode\":\"overlay\",\"size\":10,\"solidity\":0.2}},\"type\":\"bar\"}],\"scattergeo\":[{\"type\":\"scattergeo\",\"marker\":{\"colorbar\":{\"outlinewidth\":0,\"ticks\":\"\"}}}],\"scatterpolar\":[{\"type\":\"scatterpolar\",\"marker\":{\"colorbar\":{\"outlinewidth\":0,\"ticks\":\"\"}}}],\"histogram\":[{\"marker\":{\"pattern\":{\"fillmode\":\"overlay\",\"size\":10,\"solidity\":0.2}},\"type\":\"histogram\"}],\"scattergl\":[{\"marker\":{\"line\":{\"color\":\"#283442\"}},\"type\":\"scattergl\"}],\"scatter3d\":[{\"type\":\"scatter3d\",\"line\":{\"colorbar\":{\"outlinewidth\":0,\"ticks\":\"\"}},\"marker\":{\"colorbar\":{\"outlinewidth\":0,\"ticks\":\"\"}}}],\"scattermapbox\":[{\"type\":\"scattermapbox\",\"marker\":{\"colorbar\":{\"outlinewidth\":0,\"ticks\":\"\"}}}],\"scatterternary\":[{\"type\":\"scatterternary\",\"marker\":{\"colorbar\":{\"outlinewidth\":0,\"ticks\":\"\"}}}],\"scattercarpet\":[{\"type\":\"scattercarpet\",\"marker\":{\"colorbar\":{\"outlinewidth\":0,\"ticks\":\"\"}}}],\"carpet\":[{\"aaxis\":{\"endlinecolor\":\"#A2B1C6\",\"gridcolor\":\"#506784\",\"linecolor\":\"#506784\",\"minorgridcolor\":\"#506784\",\"startlinecolor\":\"#A2B1C6\"},\"baxis\":{\"endlinecolor\":\"#A2B1C6\",\"gridcolor\":\"#506784\",\"linecolor\":\"#506784\",\"minorgridcolor\":\"#506784\",\"startlinecolor\":\"#A2B1C6\"},\"type\":\"carpet\"}],\"table\":[{\"cells\":{\"fill\":{\"color\":\"#506784\"},\"line\":{\"color\":\"rgb(17,17,17)\"}},\"header\":{\"fill\":{\"color\":\"#2a3f5f\"},\"line\":{\"color\":\"rgb(17,17,17)\"}},\"type\":\"table\"}],\"barpolar\":[{\"marker\":{\"line\":{\"color\":\"rgb(17,17,17)\",\"width\":0.5},\"pattern\":{\"fillmode\":\"overlay\",\"size\":10,\"solidity\":0.2}},\"type\":\"barpolar\"}],\"pie\":[{\"automargin\":true,\"type\":\"pie\"}]},\"layout\":{\"autotypenumbers\":\"strict\",\"colorway\":[\"#636efa\",\"#EF553B\",\"#00cc96\",\"#ab63fa\",\"#FFA15A\",\"#19d3f3\",\"#FF6692\",\"#B6E880\",\"#FF97FF\",\"#FECB52\"],\"font\":{\"color\":\"#f2f5fa\"},\"hovermode\":\"closest\",\"hoverlabel\":{\"align\":\"left\"},\"paper_bgcolor\":\"rgb(17,17,17)\",\"plot_bgcolor\":\"rgb(17,17,17)\",\"polar\":{\"bgcolor\":\"rgb(17,17,17)\",\"angularaxis\":{\"gridcolor\":\"#506784\",\"linecolor\":\"#506784\",\"ticks\":\"\"},\"radialaxis\":{\"gridcolor\":\"#506784\",\"linecolor\":\"#506784\",\"ticks\":\"\"}},\"ternary\":{\"bgcolor\":\"rgb(17,17,17)\",\"aaxis\":{\"gridcolor\":\"#506784\",\"linecolor\":\"#506784\",\"ticks\":\"\"},\"baxis\":{\"gridcolor\":\"#506784\",\"linecolor\":\"#506784\",\"ticks\":\"\"},\"caxis\":{\"gridcolor\":\"#506784\",\"linecolor\":\"#506784\",\"ticks\":\"\"}},\"coloraxis\":{\"colorbar\":{\"outlinewidth\":0,\"ticks\":\"\"}},\"colorscale\":{\"sequential\":[[0.0,\"#0d0887\"],[0.1111111111111111,\"#46039f\"],[0.2222222222222222,\"#7201a8\"],[0.3333333333333333,\"#9c179e\"],[0.4444444444444444,\"#bd3786\"],[0.5555555555555556,\"#d8576b\"],[0.6666666666666666,\"#ed7953\"],[0.7777777777777778,\"#fb9f3a\"],[0.8888888888888888,\"#fdca26\"],[1.0,\"#f0f921\"]],\"sequentialminus\":[[0.0,\"#0d0887\"],[0.1111111111111111,\"#46039f\"],[0.2222222222222222,\"#7201a8\"],[0.3333333333333333,\"#9c179e\"],[0.4444444444444444,\"#bd3786\"],[0.5555555555555556,\"#d8576b\"],[0.6666666666666666,\"#ed7953\"],[0.7777777777777778,\"#fb9f3a\"],[0.8888888888888888,\"#fdca26\"],[1.0,\"#f0f921\"]],\"diverging\":[[0,\"#8e0152\"],[0.1,\"#c51b7d\"],[0.2,\"#de77ae\"],[0.3,\"#f1b6da\"],[0.4,\"#fde0ef\"],[0.5,\"#f7f7f7\"],[0.6,\"#e6f5d0\"],[0.7,\"#b8e186\"],[0.8,\"#7fbc41\"],[0.9,\"#4d9221\"],[1,\"#276419\"]]},\"xaxis\":{\"gridcolor\":\"#283442\",\"linecolor\":\"#506784\",\"ticks\":\"\",\"title\":{\"standoff\":15},\"zerolinecolor\":\"#283442\",\"automargin\":true,\"zerolinewidth\":2},\"yaxis\":{\"gridcolor\":\"#283442\",\"linecolor\":\"#506784\",\"ticks\":\"\",\"title\":{\"standoff\":15},\"zerolinecolor\":\"#283442\",\"automargin\":true,\"zerolinewidth\":2},\"scene\":{\"xaxis\":{\"backgroundcolor\":\"rgb(17,17,17)\",\"gridcolor\":\"#506784\",\"linecolor\":\"#506784\",\"showbackground\":true,\"ticks\":\"\",\"zerolinecolor\":\"#C8D4E3\",\"gridwidth\":2},\"yaxis\":{\"backgroundcolor\":\"rgb(17,17,17)\",\"gridcolor\":\"#506784\",\"linecolor\":\"#506784\",\"showbackground\":true,\"ticks\":\"\",\"zerolinecolor\":\"#C8D4E3\",\"gridwidth\":2},\"zaxis\":{\"backgroundcolor\":\"rgb(17,17,17)\",\"gridcolor\":\"#506784\",\"linecolor\":\"#506784\",\"showbackground\":true,\"ticks\":\"\",\"zerolinecolor\":\"#C8D4E3\",\"gridwidth\":2}},\"shapedefaults\":{\"line\":{\"color\":\"#f2f5fa\"}},\"annotationdefaults\":{\"arrowcolor\":\"#f2f5fa\",\"arrowhead\":0,\"arrowwidth\":1},\"geo\":{\"bgcolor\":\"rgb(17,17,17)\",\"landcolor\":\"rgb(17,17,17)\",\"subunitcolor\":\"#506784\",\"showland\":true,\"showlakes\":true,\"lakecolor\":\"rgb(17,17,17)\"},\"title\":{\"x\":0.05},\"updatemenudefaults\":{\"bgcolor\":\"#506784\",\"borderwidth\":0},\"sliderdefaults\":{\"bgcolor\":\"#C8D4E3\",\"borderwidth\":1,\"bordercolor\":\"rgb(17,17,17)\",\"tickwidth\":0},\"mapbox\":{\"style\":\"dark\"}}},\"title\":{\"text\":\"Sensitivity Plot with ACO algorithm\",\"x\":0.5},\"xaxis\":{\"title\":{\"text\":\"Gaslift Gas Injection Rate(MMscf/day)\"},\"nticks\":50},\"yaxis\":{\"title\":{\"text\":\"Oil Rate(STB/day)\"},\"nticks\":20}},                        {\"responsive\": true}                    ).then(function(){\n                            \nvar gd = document.getElementById('161f1322-ed5d-4411-95b1-aa3a6454ed6b');\nvar x = new MutationObserver(function (mutations, observer) {{\n        var display = window.getComputedStyle(gd).display;\n        if (!display || display === 'none') {{\n            console.log([gd, 'removed!']);\n            Plotly.purge(gd);\n            observer.disconnect();\n        }}\n}});\n\n// Listen for the removal of the full notebook cells\nvar notebookContainer = gd.closest('#notebook-container');\nif (notebookContainer) {{\n    x.observe(notebookContainer, {childList: true});\n}}\n\n// Listen for the clearing of the current output cell\nvar outputEl = gd.closest('.output');\nif (outputEl) {{\n    x.observe(outputEl, {childList: true});\n}}\n\n                        })                };                });            </script>        </div>"
     },
     "metadata": {},
     "output_type": "display_data"
    }
   ],
   "source": [
    "fig = go.Figure()\n",
    "for i in range(1,number_of_wells+1):\n",
    "\n",
    "    fig.add_trace(go.Scatter(x=gas_dict[f'gas_injection_array_{i}'], y=oil_rates_for_wells[f'well_{i}'],\n",
    "                            mode='lines', name=f'Well_{i}'))\n",
    "fig.update_layout(title='Sensitivity Plot with ACO algorithm',\n",
    "                   xaxis_title='Gaslift Gas Injection Rate(MMscf/day)',\n",
    "                   yaxis_title='Oil Rate(STB/day)',\n",
    "                   title_x=0.5,\n",
    "                   )\n",
    "fig.update_xaxes(nticks=50)\n",
    "fig.update_yaxes(nticks=20)\n",
    "fig.show()"
   ],
   "metadata": {
    "collapsed": false
   }
  },
  {
   "cell_type": "markdown",
   "source": [
    "# Particle Swarm Optimization (PSO)"
   ],
   "metadata": {
    "collapsed": false
   }
  },
  {
   "cell_type": "markdown",
   "source": [
    "# Current solution with PSO"
   ],
   "metadata": {
    "collapsed": false
   }
  },
  {
   "cell_type": "code",
   "execution_count": 451,
   "outputs": [],
   "source": [
    "import numpy as np\n",
    "import random\n",
    "\n",
    "def optimize_gas_allocation_PSO(wells, gas_capacity, iteration_count, num_particles):\n",
    "    # Initialize the particles and their velocities\n",
    "    particles = [np.random.rand(len(wells)) for _ in range(num_particles)]\n",
    "    velocities = [np.zeros(len(wells)) for _ in range(num_particles)]\n",
    "\n",
    "    # Initialize the best position and best fitness for each particle\n",
    "    personal_best_positions = particles.copy()\n",
    "    personal_best_fitness = [np.inf for _ in range(num_particles)]\n",
    "\n",
    "    # Initialize the global best position and global best fitness\n",
    "    global_best_position = personal_best_positions[np.argmin(personal_best_fitness)]\n",
    "    global_best_fitness = np.inf\n",
    "\n",
    "    # Run the algorithm for the specified number of iterations\n",
    "    for i in range(iteration_count):\n",
    "        # Update the position and fitness of each particle\n",
    "        for j, particle in enumerate(particles):\n",
    "            # Update the velocity of the particle\n",
    "            rp = random.uniform(0,1)\n",
    "            rg = random.uniform(0,1)\n",
    "            velocities[j] = 0.5 * velocities[j] + rp * (personal_best_positions[j] - particle) + rg * (global_best_position - particle)\n",
    "            # Update the position of the particle\n",
    "            particles[j] += velocities[j]\n",
    "            # Ensure that the particle's position is within the constraints\n",
    "            particles[j] = np.maximum(np.zeros(len(wells)), particles[j])\n",
    "\n",
    "            # Calculate the fitness of the particle\n",
    "            fitness = -1 * np.sum(particles[j] * [well['production_rate'] for well in wells])\n",
    "            # Update the personal best position and personal best fitness of the particle\n",
    "            if fitness < personal_best_fitness[j]:\n",
    "                personal_best_positions[j] = particles[j]\n",
    "                personal_best_fitness[j] = fitness\n",
    "\n",
    "            # Check if the total gas allocated to all wells is less than or equal to the total available gas capacity\n",
    "            total_gas_allocated = sum(particles[j])\n",
    "            if total_gas_allocated > gas_capacity:\n",
    "                particles[j] = particles[j] * (gas_capacity / total_gas_allocated)\n",
    "                total_gas_allocated = gas_capacity\n",
    "\n",
    "            # Update the global best position and global best fitness\n",
    "            if fitness < global_best_fitness:\n",
    "                global_best_position = particles[j]\n",
    "                global_best_fitness = fitness\n",
    "    return [{'well_id': j, 'allocation': global_best_position[j]} for j in range(len(wells))]\n"
   ],
   "metadata": {
    "collapsed": false
   }
  },
  {
   "cell_type": "markdown",
   "source": [
    "# Testing the current solution"
   ],
   "metadata": {
    "collapsed": false
   }
  },
  {
   "cell_type": "code",
   "execution_count": 452,
   "outputs": [
    {
     "data": {
      "text/plain": "[{'well_id': 0, 'allocation': 0.8172440007001558},\n {'well_id': 1, 'allocation': 1.0535139276545769},\n {'well_id': 2, 'allocation': 0.5033719289622917},\n {'well_id': 3, 'allocation': 1.2691104309174006},\n {'well_id': 4, 'allocation': 0.3188801257995092},\n {'well_id': 5, 'allocation': 1.0378795859660652}]"
     },
     "execution_count": 452,
     "metadata": {},
     "output_type": "execute_result"
    }
   ],
   "source": [
    "gas_capacity= 5\n",
    "iteration_count= 50\n",
    "num_part = 240\n",
    "allocations = optimize_gas_allocation_PSO(wells, gas_capacity, iteration_count, num_part)\n",
    "allocations"
   ],
   "metadata": {
    "collapsed": false
   }
  },
  {
   "cell_type": "code",
   "execution_count": 453,
   "outputs": [
    {
     "name": "stdout",
     "output_type": "stream",
     "text": [
      "5.0\n"
     ]
    }
   ],
   "source": [
    "#total gas consumed\n",
    "sum_gas = 0\n",
    "for alloc in allocations:\n",
    "    sum_gas+=alloc['allocation']\n",
    "print(sum_gas)"
   ],
   "metadata": {
    "collapsed": false
   }
  },
  {
   "cell_type": "markdown",
   "source": [
    "# Visualize the current solution"
   ],
   "metadata": {
    "collapsed": false
   }
  },
  {
   "cell_type": "code",
   "execution_count": 454,
   "outputs": [
    {
     "data": {
      "text/plain": "{'gas_injection_array_1': array([0. , 0.1, 0.2, 0.3, 0.4, 0.5, 0.6, 0.7, 0.8]),\n 'gas_injection_array_2': array([0. , 0.1, 0.2, 0.3, 0.4, 0.5, 0.6, 0.7, 0.8, 0.9, 1. ]),\n 'gas_injection_array_3': array([0. , 0.1, 0.2, 0.3, 0.4, 0.5]),\n 'gas_injection_array_4': array([0. , 0.1, 0.2, 0.3, 0.4, 0.5, 0.6, 0.7, 0.8, 0.9, 1. , 1.1, 1.2]),\n 'gas_injection_array_5': array([0. , 0.1, 0.2, 0.3]),\n 'gas_injection_array_6': array([0. , 0.1, 0.2, 0.3, 0.4, 0.5, 0.6, 0.7, 0.8, 0.9, 1. ])}"
     },
     "execution_count": 454,
     "metadata": {},
     "output_type": "execute_result"
    }
   ],
   "source": [
    "gas_dict = {}\n",
    "for i in range(len(allocations)):\n",
    "    gas_available = allocations[i]['allocation']\n",
    "    increment = increment\n",
    "    gas_injection_array = np.arange(0, gas_available, increment)\n",
    "    gas_dict[f'gas_injection_array_{i+1}'] = gas_injection_array\n",
    "gas_dict"
   ],
   "metadata": {
    "collapsed": false
   }
  },
  {
   "cell_type": "code",
   "execution_count": 455,
   "outputs": [
    {
     "name": "stdout",
     "output_type": "stream",
     "text": [
      "OpenServer connected\n",
      "Well 1 opened\n",
      "Well 1 closed\n",
      "Well 2 opened\n",
      "Well 2 closed\n",
      "Well 3 opened\n",
      "Well 3 closed\n",
      "Well 4 opened\n",
      "Well 4 closed\n",
      "Well 5 opened\n",
      "Well 5 closed\n",
      "Well 6 opened\n",
      "Well 6 closed\n"
     ]
    },
    {
     "data": {
      "text/plain": "{'well_1': [878.37,\n  896.05,\n  911.9,\n  924.19,\n  935.19,\n  944.14,\n  951.77,\n  958.21,\n  963.73],\n 'well_2': [1657.35,\n  1668.4,\n  1677.71,\n  1685.58,\n  1692.24,\n  1697.85,\n  1702.57,\n  1706.89,\n  1710.09,\n  1712.6,\n  1714.54],\n 'well_3': [1576.44, 1588.09, 1597.9, 1606.21, 1613.28, 1619.15],\n 'well_4': [1362.42,\n  1375.9,\n  1387.41,\n  1397.28,\n  1405.79,\n  1413.16,\n  1419.53,\n  1425.0,\n  1431.86,\n  1435.76,\n  1438.99,\n  1441.7,\n  1443.93],\n 'well_5': [997.05, 1013.68, 1027.6, 1041.02],\n 'well_6': [1858.4,\n  1867.23,\n  1874.69,\n  1880.97,\n  1886.24,\n  1890.55,\n  1895.85,\n  1898.62,\n  1900.76,\n  1902.34,\n  1903.41]}"
     },
     "execution_count": 455,
     "metadata": {},
     "output_type": "execute_result"
    }
   ],
   "source": [
    "# Initialises an 'OpenServer' class\n",
    "petex = OpenServer()\n",
    "\n",
    "petex.Connect()\n",
    "oil_rates_for_wells = {}\n",
    "\n",
    "# Perform functions\n",
    "cwd = os.getcwd()\n",
    "\n",
    "for j in range(len(gas_dict)):\n",
    "#opening well file\n",
    "    OSOpenFile(petex, cwd + f'\\models\\well_{j+1}.Out', 'PROSPER')\n",
    "    print(f'Well {j+1} opened')\n",
    "\n",
    "    for i in range(0,len(gas_dict[f'gas_injection_array_{j+1}'])):\n",
    "            command = f'PROSPER.ANL.SYS.Sens.SensDB.Sens[138].Vals[{i}]'\n",
    "            DoSet(petex, command,gas_dict[f'gas_injection_array_{j+1}'][i])\n",
    "\n",
    "    DoCmd(petex, 'PROSPER.ANL.SYS.CALC')\n",
    "    oil_rates = [] #list of oil rates for 1 well\n",
    "    for i in range(0, len(gas_dict[f'gas_injection_array_{j+1}'])):\n",
    "            value = f'PROSPER.OUT.SYS.Results[{i}].Sol.OilRate'\n",
    "            oil_rates.append(np.round(float(DoGet(petex, value)),2))\n",
    "    oil_rates_for_wells[f'well_{j+1}'] = oil_rates\n",
    "\n",
    "    OSSaveFile(petex, cwd + f'\\well_{j+1}.Out', 'PROSPER')\n",
    "    print(f'Well {j+1} closed')\n",
    "\n",
    "oil_rates_for_wells"
   ],
   "metadata": {
    "collapsed": false
   }
  },
  {
   "cell_type": "code",
   "execution_count": 456,
   "outputs": [
    {
     "data": {
      "application/vnd.plotly.v1+json": {
       "data": [
        {
         "mode": "lines",
         "name": "Well_1",
         "x": [
          0.0,
          0.1,
          0.2,
          0.30000000000000004,
          0.4,
          0.5,
          0.6000000000000001,
          0.7000000000000001,
          0.8
         ],
         "y": [
          878.37,
          896.05,
          911.9,
          924.19,
          935.19,
          944.14,
          951.77,
          958.21,
          963.73
         ],
         "type": "scatter"
        },
        {
         "mode": "lines",
         "name": "Well_2",
         "x": [
          0.0,
          0.1,
          0.2,
          0.30000000000000004,
          0.4,
          0.5,
          0.6000000000000001,
          0.7000000000000001,
          0.8,
          0.9,
          1.0
         ],
         "y": [
          1657.35,
          1668.4,
          1677.71,
          1685.58,
          1692.24,
          1697.85,
          1702.57,
          1706.89,
          1710.09,
          1712.6,
          1714.54
         ],
         "type": "scatter"
        },
        {
         "mode": "lines",
         "name": "Well_3",
         "x": [
          0.0,
          0.1,
          0.2,
          0.30000000000000004,
          0.4,
          0.5
         ],
         "y": [
          1576.44,
          1588.09,
          1597.9,
          1606.21,
          1613.28,
          1619.15
         ],
         "type": "scatter"
        },
        {
         "mode": "lines",
         "name": "Well_4",
         "x": [
          0.0,
          0.1,
          0.2,
          0.30000000000000004,
          0.4,
          0.5,
          0.6000000000000001,
          0.7000000000000001,
          0.8,
          0.9,
          1.0,
          1.1,
          1.2000000000000002
         ],
         "y": [
          1362.42,
          1375.9,
          1387.41,
          1397.28,
          1405.79,
          1413.16,
          1419.53,
          1425.0,
          1431.86,
          1435.76,
          1438.99,
          1441.7,
          1443.93
         ],
         "type": "scatter"
        },
        {
         "mode": "lines",
         "name": "Well_5",
         "x": [
          0.0,
          0.1,
          0.2,
          0.30000000000000004
         ],
         "y": [
          997.05,
          1013.68,
          1027.6,
          1041.02
         ],
         "type": "scatter"
        },
        {
         "mode": "lines",
         "name": "Well_6",
         "x": [
          0.0,
          0.1,
          0.2,
          0.30000000000000004,
          0.4,
          0.5,
          0.6000000000000001,
          0.7000000000000001,
          0.8,
          0.9,
          1.0
         ],
         "y": [
          1858.4,
          1867.23,
          1874.69,
          1880.97,
          1886.24,
          1890.55,
          1895.85,
          1898.62,
          1900.76,
          1902.34,
          1903.41
         ],
         "type": "scatter"
        }
       ],
       "layout": {
        "template": {
         "data": {
          "histogram2dcontour": [
           {
            "type": "histogram2dcontour",
            "colorbar": {
             "outlinewidth": 0,
             "ticks": ""
            },
            "colorscale": [
             [
              0.0,
              "#0d0887"
             ],
             [
              0.1111111111111111,
              "#46039f"
             ],
             [
              0.2222222222222222,
              "#7201a8"
             ],
             [
              0.3333333333333333,
              "#9c179e"
             ],
             [
              0.4444444444444444,
              "#bd3786"
             ],
             [
              0.5555555555555556,
              "#d8576b"
             ],
             [
              0.6666666666666666,
              "#ed7953"
             ],
             [
              0.7777777777777778,
              "#fb9f3a"
             ],
             [
              0.8888888888888888,
              "#fdca26"
             ],
             [
              1.0,
              "#f0f921"
             ]
            ]
           }
          ],
          "choropleth": [
           {
            "type": "choropleth",
            "colorbar": {
             "outlinewidth": 0,
             "ticks": ""
            }
           }
          ],
          "histogram2d": [
           {
            "type": "histogram2d",
            "colorbar": {
             "outlinewidth": 0,
             "ticks": ""
            },
            "colorscale": [
             [
              0.0,
              "#0d0887"
             ],
             [
              0.1111111111111111,
              "#46039f"
             ],
             [
              0.2222222222222222,
              "#7201a8"
             ],
             [
              0.3333333333333333,
              "#9c179e"
             ],
             [
              0.4444444444444444,
              "#bd3786"
             ],
             [
              0.5555555555555556,
              "#d8576b"
             ],
             [
              0.6666666666666666,
              "#ed7953"
             ],
             [
              0.7777777777777778,
              "#fb9f3a"
             ],
             [
              0.8888888888888888,
              "#fdca26"
             ],
             [
              1.0,
              "#f0f921"
             ]
            ]
           }
          ],
          "heatmap": [
           {
            "type": "heatmap",
            "colorbar": {
             "outlinewidth": 0,
             "ticks": ""
            },
            "colorscale": [
             [
              0.0,
              "#0d0887"
             ],
             [
              0.1111111111111111,
              "#46039f"
             ],
             [
              0.2222222222222222,
              "#7201a8"
             ],
             [
              0.3333333333333333,
              "#9c179e"
             ],
             [
              0.4444444444444444,
              "#bd3786"
             ],
             [
              0.5555555555555556,
              "#d8576b"
             ],
             [
              0.6666666666666666,
              "#ed7953"
             ],
             [
              0.7777777777777778,
              "#fb9f3a"
             ],
             [
              0.8888888888888888,
              "#fdca26"
             ],
             [
              1.0,
              "#f0f921"
             ]
            ]
           }
          ],
          "heatmapgl": [
           {
            "type": "heatmapgl",
            "colorbar": {
             "outlinewidth": 0,
             "ticks": ""
            },
            "colorscale": [
             [
              0.0,
              "#0d0887"
             ],
             [
              0.1111111111111111,
              "#46039f"
             ],
             [
              0.2222222222222222,
              "#7201a8"
             ],
             [
              0.3333333333333333,
              "#9c179e"
             ],
             [
              0.4444444444444444,
              "#bd3786"
             ],
             [
              0.5555555555555556,
              "#d8576b"
             ],
             [
              0.6666666666666666,
              "#ed7953"
             ],
             [
              0.7777777777777778,
              "#fb9f3a"
             ],
             [
              0.8888888888888888,
              "#fdca26"
             ],
             [
              1.0,
              "#f0f921"
             ]
            ]
           }
          ],
          "contourcarpet": [
           {
            "type": "contourcarpet",
            "colorbar": {
             "outlinewidth": 0,
             "ticks": ""
            }
           }
          ],
          "contour": [
           {
            "type": "contour",
            "colorbar": {
             "outlinewidth": 0,
             "ticks": ""
            },
            "colorscale": [
             [
              0.0,
              "#0d0887"
             ],
             [
              0.1111111111111111,
              "#46039f"
             ],
             [
              0.2222222222222222,
              "#7201a8"
             ],
             [
              0.3333333333333333,
              "#9c179e"
             ],
             [
              0.4444444444444444,
              "#bd3786"
             ],
             [
              0.5555555555555556,
              "#d8576b"
             ],
             [
              0.6666666666666666,
              "#ed7953"
             ],
             [
              0.7777777777777778,
              "#fb9f3a"
             ],
             [
              0.8888888888888888,
              "#fdca26"
             ],
             [
              1.0,
              "#f0f921"
             ]
            ]
           }
          ],
          "surface": [
           {
            "type": "surface",
            "colorbar": {
             "outlinewidth": 0,
             "ticks": ""
            },
            "colorscale": [
             [
              0.0,
              "#0d0887"
             ],
             [
              0.1111111111111111,
              "#46039f"
             ],
             [
              0.2222222222222222,
              "#7201a8"
             ],
             [
              0.3333333333333333,
              "#9c179e"
             ],
             [
              0.4444444444444444,
              "#bd3786"
             ],
             [
              0.5555555555555556,
              "#d8576b"
             ],
             [
              0.6666666666666666,
              "#ed7953"
             ],
             [
              0.7777777777777778,
              "#fb9f3a"
             ],
             [
              0.8888888888888888,
              "#fdca26"
             ],
             [
              1.0,
              "#f0f921"
             ]
            ]
           }
          ],
          "mesh3d": [
           {
            "type": "mesh3d",
            "colorbar": {
             "outlinewidth": 0,
             "ticks": ""
            }
           }
          ],
          "scatter": [
           {
            "marker": {
             "line": {
              "color": "#283442"
             }
            },
            "type": "scatter"
           }
          ],
          "parcoords": [
           {
            "type": "parcoords",
            "line": {
             "colorbar": {
              "outlinewidth": 0,
              "ticks": ""
             }
            }
           }
          ],
          "scatterpolargl": [
           {
            "type": "scatterpolargl",
            "marker": {
             "colorbar": {
              "outlinewidth": 0,
              "ticks": ""
             }
            }
           }
          ],
          "bar": [
           {
            "error_x": {
             "color": "#f2f5fa"
            },
            "error_y": {
             "color": "#f2f5fa"
            },
            "marker": {
             "line": {
              "color": "rgb(17,17,17)",
              "width": 0.5
             },
             "pattern": {
              "fillmode": "overlay",
              "size": 10,
              "solidity": 0.2
             }
            },
            "type": "bar"
           }
          ],
          "scattergeo": [
           {
            "type": "scattergeo",
            "marker": {
             "colorbar": {
              "outlinewidth": 0,
              "ticks": ""
             }
            }
           }
          ],
          "scatterpolar": [
           {
            "type": "scatterpolar",
            "marker": {
             "colorbar": {
              "outlinewidth": 0,
              "ticks": ""
             }
            }
           }
          ],
          "histogram": [
           {
            "marker": {
             "pattern": {
              "fillmode": "overlay",
              "size": 10,
              "solidity": 0.2
             }
            },
            "type": "histogram"
           }
          ],
          "scattergl": [
           {
            "marker": {
             "line": {
              "color": "#283442"
             }
            },
            "type": "scattergl"
           }
          ],
          "scatter3d": [
           {
            "type": "scatter3d",
            "line": {
             "colorbar": {
              "outlinewidth": 0,
              "ticks": ""
             }
            },
            "marker": {
             "colorbar": {
              "outlinewidth": 0,
              "ticks": ""
             }
            }
           }
          ],
          "scattermapbox": [
           {
            "type": "scattermapbox",
            "marker": {
             "colorbar": {
              "outlinewidth": 0,
              "ticks": ""
             }
            }
           }
          ],
          "scatterternary": [
           {
            "type": "scatterternary",
            "marker": {
             "colorbar": {
              "outlinewidth": 0,
              "ticks": ""
             }
            }
           }
          ],
          "scattercarpet": [
           {
            "type": "scattercarpet",
            "marker": {
             "colorbar": {
              "outlinewidth": 0,
              "ticks": ""
             }
            }
           }
          ],
          "carpet": [
           {
            "aaxis": {
             "endlinecolor": "#A2B1C6",
             "gridcolor": "#506784",
             "linecolor": "#506784",
             "minorgridcolor": "#506784",
             "startlinecolor": "#A2B1C6"
            },
            "baxis": {
             "endlinecolor": "#A2B1C6",
             "gridcolor": "#506784",
             "linecolor": "#506784",
             "minorgridcolor": "#506784",
             "startlinecolor": "#A2B1C6"
            },
            "type": "carpet"
           }
          ],
          "table": [
           {
            "cells": {
             "fill": {
              "color": "#506784"
             },
             "line": {
              "color": "rgb(17,17,17)"
             }
            },
            "header": {
             "fill": {
              "color": "#2a3f5f"
             },
             "line": {
              "color": "rgb(17,17,17)"
             }
            },
            "type": "table"
           }
          ],
          "barpolar": [
           {
            "marker": {
             "line": {
              "color": "rgb(17,17,17)",
              "width": 0.5
             },
             "pattern": {
              "fillmode": "overlay",
              "size": 10,
              "solidity": 0.2
             }
            },
            "type": "barpolar"
           }
          ],
          "pie": [
           {
            "automargin": true,
            "type": "pie"
           }
          ]
         },
         "layout": {
          "autotypenumbers": "strict",
          "colorway": [
           "#636efa",
           "#EF553B",
           "#00cc96",
           "#ab63fa",
           "#FFA15A",
           "#19d3f3",
           "#FF6692",
           "#B6E880",
           "#FF97FF",
           "#FECB52"
          ],
          "font": {
           "color": "#f2f5fa"
          },
          "hovermode": "closest",
          "hoverlabel": {
           "align": "left"
          },
          "paper_bgcolor": "rgb(17,17,17)",
          "plot_bgcolor": "rgb(17,17,17)",
          "polar": {
           "bgcolor": "rgb(17,17,17)",
           "angularaxis": {
            "gridcolor": "#506784",
            "linecolor": "#506784",
            "ticks": ""
           },
           "radialaxis": {
            "gridcolor": "#506784",
            "linecolor": "#506784",
            "ticks": ""
           }
          },
          "ternary": {
           "bgcolor": "rgb(17,17,17)",
           "aaxis": {
            "gridcolor": "#506784",
            "linecolor": "#506784",
            "ticks": ""
           },
           "baxis": {
            "gridcolor": "#506784",
            "linecolor": "#506784",
            "ticks": ""
           },
           "caxis": {
            "gridcolor": "#506784",
            "linecolor": "#506784",
            "ticks": ""
           }
          },
          "coloraxis": {
           "colorbar": {
            "outlinewidth": 0,
            "ticks": ""
           }
          },
          "colorscale": {
           "sequential": [
            [
             0.0,
             "#0d0887"
            ],
            [
             0.1111111111111111,
             "#46039f"
            ],
            [
             0.2222222222222222,
             "#7201a8"
            ],
            [
             0.3333333333333333,
             "#9c179e"
            ],
            [
             0.4444444444444444,
             "#bd3786"
            ],
            [
             0.5555555555555556,
             "#d8576b"
            ],
            [
             0.6666666666666666,
             "#ed7953"
            ],
            [
             0.7777777777777778,
             "#fb9f3a"
            ],
            [
             0.8888888888888888,
             "#fdca26"
            ],
            [
             1.0,
             "#f0f921"
            ]
           ],
           "sequentialminus": [
            [
             0.0,
             "#0d0887"
            ],
            [
             0.1111111111111111,
             "#46039f"
            ],
            [
             0.2222222222222222,
             "#7201a8"
            ],
            [
             0.3333333333333333,
             "#9c179e"
            ],
            [
             0.4444444444444444,
             "#bd3786"
            ],
            [
             0.5555555555555556,
             "#d8576b"
            ],
            [
             0.6666666666666666,
             "#ed7953"
            ],
            [
             0.7777777777777778,
             "#fb9f3a"
            ],
            [
             0.8888888888888888,
             "#fdca26"
            ],
            [
             1.0,
             "#f0f921"
            ]
           ],
           "diverging": [
            [
             0,
             "#8e0152"
            ],
            [
             0.1,
             "#c51b7d"
            ],
            [
             0.2,
             "#de77ae"
            ],
            [
             0.3,
             "#f1b6da"
            ],
            [
             0.4,
             "#fde0ef"
            ],
            [
             0.5,
             "#f7f7f7"
            ],
            [
             0.6,
             "#e6f5d0"
            ],
            [
             0.7,
             "#b8e186"
            ],
            [
             0.8,
             "#7fbc41"
            ],
            [
             0.9,
             "#4d9221"
            ],
            [
             1,
             "#276419"
            ]
           ]
          },
          "xaxis": {
           "gridcolor": "#283442",
           "linecolor": "#506784",
           "ticks": "",
           "title": {
            "standoff": 15
           },
           "zerolinecolor": "#283442",
           "automargin": true,
           "zerolinewidth": 2
          },
          "yaxis": {
           "gridcolor": "#283442",
           "linecolor": "#506784",
           "ticks": "",
           "title": {
            "standoff": 15
           },
           "zerolinecolor": "#283442",
           "automargin": true,
           "zerolinewidth": 2
          },
          "scene": {
           "xaxis": {
            "backgroundcolor": "rgb(17,17,17)",
            "gridcolor": "#506784",
            "linecolor": "#506784",
            "showbackground": true,
            "ticks": "",
            "zerolinecolor": "#C8D4E3",
            "gridwidth": 2
           },
           "yaxis": {
            "backgroundcolor": "rgb(17,17,17)",
            "gridcolor": "#506784",
            "linecolor": "#506784",
            "showbackground": true,
            "ticks": "",
            "zerolinecolor": "#C8D4E3",
            "gridwidth": 2
           },
           "zaxis": {
            "backgroundcolor": "rgb(17,17,17)",
            "gridcolor": "#506784",
            "linecolor": "#506784",
            "showbackground": true,
            "ticks": "",
            "zerolinecolor": "#C8D4E3",
            "gridwidth": 2
           }
          },
          "shapedefaults": {
           "line": {
            "color": "#f2f5fa"
           }
          },
          "annotationdefaults": {
           "arrowcolor": "#f2f5fa",
           "arrowhead": 0,
           "arrowwidth": 1
          },
          "geo": {
           "bgcolor": "rgb(17,17,17)",
           "landcolor": "rgb(17,17,17)",
           "subunitcolor": "#506784",
           "showland": true,
           "showlakes": true,
           "lakecolor": "rgb(17,17,17)"
          },
          "title": {
           "x": 0.05
          },
          "updatemenudefaults": {
           "bgcolor": "#506784",
           "borderwidth": 0
          },
          "sliderdefaults": {
           "bgcolor": "#C8D4E3",
           "borderwidth": 1,
           "bordercolor": "rgb(17,17,17)",
           "tickwidth": 0
          },
          "mapbox": {
           "style": "dark"
          }
         }
        },
        "title": {
         "text": "Sensitivity Plot with PSO algorithm",
         "x": 0.5
        },
        "xaxis": {
         "title": {
          "text": "Gaslift Gas Injection Rate(MMscf/day)"
         },
         "nticks": 50
        },
        "yaxis": {
         "title": {
          "text": "Oil Rate(STB/day)"
         },
         "nticks": 20
        }
       },
       "config": {
        "plotlyServerURL": "https://plot.ly"
       }
      },
      "text/html": "<div>                            <div id=\"a0032d75-5f29-45fc-8414-80f365e0dedc\" class=\"plotly-graph-div\" style=\"height:525px; width:100%;\"></div>            <script type=\"text/javascript\">                require([\"plotly\"], function(Plotly) {                    window.PLOTLYENV=window.PLOTLYENV || {};                                    if (document.getElementById(\"a0032d75-5f29-45fc-8414-80f365e0dedc\")) {                    Plotly.newPlot(                        \"a0032d75-5f29-45fc-8414-80f365e0dedc\",                        [{\"mode\":\"lines\",\"name\":\"Well_1\",\"x\":[0.0,0.1,0.2,0.30000000000000004,0.4,0.5,0.6000000000000001,0.7000000000000001,0.8],\"y\":[878.37,896.05,911.9,924.19,935.19,944.14,951.77,958.21,963.73],\"type\":\"scatter\"},{\"mode\":\"lines\",\"name\":\"Well_2\",\"x\":[0.0,0.1,0.2,0.30000000000000004,0.4,0.5,0.6000000000000001,0.7000000000000001,0.8,0.9,1.0],\"y\":[1657.35,1668.4,1677.71,1685.58,1692.24,1697.85,1702.57,1706.89,1710.09,1712.6,1714.54],\"type\":\"scatter\"},{\"mode\":\"lines\",\"name\":\"Well_3\",\"x\":[0.0,0.1,0.2,0.30000000000000004,0.4,0.5],\"y\":[1576.44,1588.09,1597.9,1606.21,1613.28,1619.15],\"type\":\"scatter\"},{\"mode\":\"lines\",\"name\":\"Well_4\",\"x\":[0.0,0.1,0.2,0.30000000000000004,0.4,0.5,0.6000000000000001,0.7000000000000001,0.8,0.9,1.0,1.1,1.2000000000000002],\"y\":[1362.42,1375.9,1387.41,1397.28,1405.79,1413.16,1419.53,1425.0,1431.86,1435.76,1438.99,1441.7,1443.93],\"type\":\"scatter\"},{\"mode\":\"lines\",\"name\":\"Well_5\",\"x\":[0.0,0.1,0.2,0.30000000000000004],\"y\":[997.05,1013.68,1027.6,1041.02],\"type\":\"scatter\"},{\"mode\":\"lines\",\"name\":\"Well_6\",\"x\":[0.0,0.1,0.2,0.30000000000000004,0.4,0.5,0.6000000000000001,0.7000000000000001,0.8,0.9,1.0],\"y\":[1858.4,1867.23,1874.69,1880.97,1886.24,1890.55,1895.85,1898.62,1900.76,1902.34,1903.41],\"type\":\"scatter\"}],                        {\"template\":{\"data\":{\"histogram2dcontour\":[{\"type\":\"histogram2dcontour\",\"colorbar\":{\"outlinewidth\":0,\"ticks\":\"\"},\"colorscale\":[[0.0,\"#0d0887\"],[0.1111111111111111,\"#46039f\"],[0.2222222222222222,\"#7201a8\"],[0.3333333333333333,\"#9c179e\"],[0.4444444444444444,\"#bd3786\"],[0.5555555555555556,\"#d8576b\"],[0.6666666666666666,\"#ed7953\"],[0.7777777777777778,\"#fb9f3a\"],[0.8888888888888888,\"#fdca26\"],[1.0,\"#f0f921\"]]}],\"choropleth\":[{\"type\":\"choropleth\",\"colorbar\":{\"outlinewidth\":0,\"ticks\":\"\"}}],\"histogram2d\":[{\"type\":\"histogram2d\",\"colorbar\":{\"outlinewidth\":0,\"ticks\":\"\"},\"colorscale\":[[0.0,\"#0d0887\"],[0.1111111111111111,\"#46039f\"],[0.2222222222222222,\"#7201a8\"],[0.3333333333333333,\"#9c179e\"],[0.4444444444444444,\"#bd3786\"],[0.5555555555555556,\"#d8576b\"],[0.6666666666666666,\"#ed7953\"],[0.7777777777777778,\"#fb9f3a\"],[0.8888888888888888,\"#fdca26\"],[1.0,\"#f0f921\"]]}],\"heatmap\":[{\"type\":\"heatmap\",\"colorbar\":{\"outlinewidth\":0,\"ticks\":\"\"},\"colorscale\":[[0.0,\"#0d0887\"],[0.1111111111111111,\"#46039f\"],[0.2222222222222222,\"#7201a8\"],[0.3333333333333333,\"#9c179e\"],[0.4444444444444444,\"#bd3786\"],[0.5555555555555556,\"#d8576b\"],[0.6666666666666666,\"#ed7953\"],[0.7777777777777778,\"#fb9f3a\"],[0.8888888888888888,\"#fdca26\"],[1.0,\"#f0f921\"]]}],\"heatmapgl\":[{\"type\":\"heatmapgl\",\"colorbar\":{\"outlinewidth\":0,\"ticks\":\"\"},\"colorscale\":[[0.0,\"#0d0887\"],[0.1111111111111111,\"#46039f\"],[0.2222222222222222,\"#7201a8\"],[0.3333333333333333,\"#9c179e\"],[0.4444444444444444,\"#bd3786\"],[0.5555555555555556,\"#d8576b\"],[0.6666666666666666,\"#ed7953\"],[0.7777777777777778,\"#fb9f3a\"],[0.8888888888888888,\"#fdca26\"],[1.0,\"#f0f921\"]]}],\"contourcarpet\":[{\"type\":\"contourcarpet\",\"colorbar\":{\"outlinewidth\":0,\"ticks\":\"\"}}],\"contour\":[{\"type\":\"contour\",\"colorbar\":{\"outlinewidth\":0,\"ticks\":\"\"},\"colorscale\":[[0.0,\"#0d0887\"],[0.1111111111111111,\"#46039f\"],[0.2222222222222222,\"#7201a8\"],[0.3333333333333333,\"#9c179e\"],[0.4444444444444444,\"#bd3786\"],[0.5555555555555556,\"#d8576b\"],[0.6666666666666666,\"#ed7953\"],[0.7777777777777778,\"#fb9f3a\"],[0.8888888888888888,\"#fdca26\"],[1.0,\"#f0f921\"]]}],\"surface\":[{\"type\":\"surface\",\"colorbar\":{\"outlinewidth\":0,\"ticks\":\"\"},\"colorscale\":[[0.0,\"#0d0887\"],[0.1111111111111111,\"#46039f\"],[0.2222222222222222,\"#7201a8\"],[0.3333333333333333,\"#9c179e\"],[0.4444444444444444,\"#bd3786\"],[0.5555555555555556,\"#d8576b\"],[0.6666666666666666,\"#ed7953\"],[0.7777777777777778,\"#fb9f3a\"],[0.8888888888888888,\"#fdca26\"],[1.0,\"#f0f921\"]]}],\"mesh3d\":[{\"type\":\"mesh3d\",\"colorbar\":{\"outlinewidth\":0,\"ticks\":\"\"}}],\"scatter\":[{\"marker\":{\"line\":{\"color\":\"#283442\"}},\"type\":\"scatter\"}],\"parcoords\":[{\"type\":\"parcoords\",\"line\":{\"colorbar\":{\"outlinewidth\":0,\"ticks\":\"\"}}}],\"scatterpolargl\":[{\"type\":\"scatterpolargl\",\"marker\":{\"colorbar\":{\"outlinewidth\":0,\"ticks\":\"\"}}}],\"bar\":[{\"error_x\":{\"color\":\"#f2f5fa\"},\"error_y\":{\"color\":\"#f2f5fa\"},\"marker\":{\"line\":{\"color\":\"rgb(17,17,17)\",\"width\":0.5},\"pattern\":{\"fillmode\":\"overlay\",\"size\":10,\"solidity\":0.2}},\"type\":\"bar\"}],\"scattergeo\":[{\"type\":\"scattergeo\",\"marker\":{\"colorbar\":{\"outlinewidth\":0,\"ticks\":\"\"}}}],\"scatterpolar\":[{\"type\":\"scatterpolar\",\"marker\":{\"colorbar\":{\"outlinewidth\":0,\"ticks\":\"\"}}}],\"histogram\":[{\"marker\":{\"pattern\":{\"fillmode\":\"overlay\",\"size\":10,\"solidity\":0.2}},\"type\":\"histogram\"}],\"scattergl\":[{\"marker\":{\"line\":{\"color\":\"#283442\"}},\"type\":\"scattergl\"}],\"scatter3d\":[{\"type\":\"scatter3d\",\"line\":{\"colorbar\":{\"outlinewidth\":0,\"ticks\":\"\"}},\"marker\":{\"colorbar\":{\"outlinewidth\":0,\"ticks\":\"\"}}}],\"scattermapbox\":[{\"type\":\"scattermapbox\",\"marker\":{\"colorbar\":{\"outlinewidth\":0,\"ticks\":\"\"}}}],\"scatterternary\":[{\"type\":\"scatterternary\",\"marker\":{\"colorbar\":{\"outlinewidth\":0,\"ticks\":\"\"}}}],\"scattercarpet\":[{\"type\":\"scattercarpet\",\"marker\":{\"colorbar\":{\"outlinewidth\":0,\"ticks\":\"\"}}}],\"carpet\":[{\"aaxis\":{\"endlinecolor\":\"#A2B1C6\",\"gridcolor\":\"#506784\",\"linecolor\":\"#506784\",\"minorgridcolor\":\"#506784\",\"startlinecolor\":\"#A2B1C6\"},\"baxis\":{\"endlinecolor\":\"#A2B1C6\",\"gridcolor\":\"#506784\",\"linecolor\":\"#506784\",\"minorgridcolor\":\"#506784\",\"startlinecolor\":\"#A2B1C6\"},\"type\":\"carpet\"}],\"table\":[{\"cells\":{\"fill\":{\"color\":\"#506784\"},\"line\":{\"color\":\"rgb(17,17,17)\"}},\"header\":{\"fill\":{\"color\":\"#2a3f5f\"},\"line\":{\"color\":\"rgb(17,17,17)\"}},\"type\":\"table\"}],\"barpolar\":[{\"marker\":{\"line\":{\"color\":\"rgb(17,17,17)\",\"width\":0.5},\"pattern\":{\"fillmode\":\"overlay\",\"size\":10,\"solidity\":0.2}},\"type\":\"barpolar\"}],\"pie\":[{\"automargin\":true,\"type\":\"pie\"}]},\"layout\":{\"autotypenumbers\":\"strict\",\"colorway\":[\"#636efa\",\"#EF553B\",\"#00cc96\",\"#ab63fa\",\"#FFA15A\",\"#19d3f3\",\"#FF6692\",\"#B6E880\",\"#FF97FF\",\"#FECB52\"],\"font\":{\"color\":\"#f2f5fa\"},\"hovermode\":\"closest\",\"hoverlabel\":{\"align\":\"left\"},\"paper_bgcolor\":\"rgb(17,17,17)\",\"plot_bgcolor\":\"rgb(17,17,17)\",\"polar\":{\"bgcolor\":\"rgb(17,17,17)\",\"angularaxis\":{\"gridcolor\":\"#506784\",\"linecolor\":\"#506784\",\"ticks\":\"\"},\"radialaxis\":{\"gridcolor\":\"#506784\",\"linecolor\":\"#506784\",\"ticks\":\"\"}},\"ternary\":{\"bgcolor\":\"rgb(17,17,17)\",\"aaxis\":{\"gridcolor\":\"#506784\",\"linecolor\":\"#506784\",\"ticks\":\"\"},\"baxis\":{\"gridcolor\":\"#506784\",\"linecolor\":\"#506784\",\"ticks\":\"\"},\"caxis\":{\"gridcolor\":\"#506784\",\"linecolor\":\"#506784\",\"ticks\":\"\"}},\"coloraxis\":{\"colorbar\":{\"outlinewidth\":0,\"ticks\":\"\"}},\"colorscale\":{\"sequential\":[[0.0,\"#0d0887\"],[0.1111111111111111,\"#46039f\"],[0.2222222222222222,\"#7201a8\"],[0.3333333333333333,\"#9c179e\"],[0.4444444444444444,\"#bd3786\"],[0.5555555555555556,\"#d8576b\"],[0.6666666666666666,\"#ed7953\"],[0.7777777777777778,\"#fb9f3a\"],[0.8888888888888888,\"#fdca26\"],[1.0,\"#f0f921\"]],\"sequentialminus\":[[0.0,\"#0d0887\"],[0.1111111111111111,\"#46039f\"],[0.2222222222222222,\"#7201a8\"],[0.3333333333333333,\"#9c179e\"],[0.4444444444444444,\"#bd3786\"],[0.5555555555555556,\"#d8576b\"],[0.6666666666666666,\"#ed7953\"],[0.7777777777777778,\"#fb9f3a\"],[0.8888888888888888,\"#fdca26\"],[1.0,\"#f0f921\"]],\"diverging\":[[0,\"#8e0152\"],[0.1,\"#c51b7d\"],[0.2,\"#de77ae\"],[0.3,\"#f1b6da\"],[0.4,\"#fde0ef\"],[0.5,\"#f7f7f7\"],[0.6,\"#e6f5d0\"],[0.7,\"#b8e186\"],[0.8,\"#7fbc41\"],[0.9,\"#4d9221\"],[1,\"#276419\"]]},\"xaxis\":{\"gridcolor\":\"#283442\",\"linecolor\":\"#506784\",\"ticks\":\"\",\"title\":{\"standoff\":15},\"zerolinecolor\":\"#283442\",\"automargin\":true,\"zerolinewidth\":2},\"yaxis\":{\"gridcolor\":\"#283442\",\"linecolor\":\"#506784\",\"ticks\":\"\",\"title\":{\"standoff\":15},\"zerolinecolor\":\"#283442\",\"automargin\":true,\"zerolinewidth\":2},\"scene\":{\"xaxis\":{\"backgroundcolor\":\"rgb(17,17,17)\",\"gridcolor\":\"#506784\",\"linecolor\":\"#506784\",\"showbackground\":true,\"ticks\":\"\",\"zerolinecolor\":\"#C8D4E3\",\"gridwidth\":2},\"yaxis\":{\"backgroundcolor\":\"rgb(17,17,17)\",\"gridcolor\":\"#506784\",\"linecolor\":\"#506784\",\"showbackground\":true,\"ticks\":\"\",\"zerolinecolor\":\"#C8D4E3\",\"gridwidth\":2},\"zaxis\":{\"backgroundcolor\":\"rgb(17,17,17)\",\"gridcolor\":\"#506784\",\"linecolor\":\"#506784\",\"showbackground\":true,\"ticks\":\"\",\"zerolinecolor\":\"#C8D4E3\",\"gridwidth\":2}},\"shapedefaults\":{\"line\":{\"color\":\"#f2f5fa\"}},\"annotationdefaults\":{\"arrowcolor\":\"#f2f5fa\",\"arrowhead\":0,\"arrowwidth\":1},\"geo\":{\"bgcolor\":\"rgb(17,17,17)\",\"landcolor\":\"rgb(17,17,17)\",\"subunitcolor\":\"#506784\",\"showland\":true,\"showlakes\":true,\"lakecolor\":\"rgb(17,17,17)\"},\"title\":{\"x\":0.05},\"updatemenudefaults\":{\"bgcolor\":\"#506784\",\"borderwidth\":0},\"sliderdefaults\":{\"bgcolor\":\"#C8D4E3\",\"borderwidth\":1,\"bordercolor\":\"rgb(17,17,17)\",\"tickwidth\":0},\"mapbox\":{\"style\":\"dark\"}}},\"title\":{\"text\":\"Sensitivity Plot with PSO algorithm\",\"x\":0.5},\"xaxis\":{\"title\":{\"text\":\"Gaslift Gas Injection Rate(MMscf/day)\"},\"nticks\":50},\"yaxis\":{\"title\":{\"text\":\"Oil Rate(STB/day)\"},\"nticks\":20}},                        {\"responsive\": true}                    ).then(function(){\n                            \nvar gd = document.getElementById('a0032d75-5f29-45fc-8414-80f365e0dedc');\nvar x = new MutationObserver(function (mutations, observer) {{\n        var display = window.getComputedStyle(gd).display;\n        if (!display || display === 'none') {{\n            console.log([gd, 'removed!']);\n            Plotly.purge(gd);\n            observer.disconnect();\n        }}\n}});\n\n// Listen for the removal of the full notebook cells\nvar notebookContainer = gd.closest('#notebook-container');\nif (notebookContainer) {{\n    x.observe(notebookContainer, {childList: true});\n}}\n\n// Listen for the clearing of the current output cell\nvar outputEl = gd.closest('.output');\nif (outputEl) {{\n    x.observe(outputEl, {childList: true});\n}}\n\n                        })                };                });            </script>        </div>"
     },
     "metadata": {},
     "output_type": "display_data"
    }
   ],
   "source": [
    "fig = go.Figure()\n",
    "for i in range(1,number_of_wells+1):\n",
    "\n",
    "    fig.add_trace(go.Scatter(x=gas_dict[f'gas_injection_array_{i}'], y=oil_rates_for_wells[f'well_{i}'],\n",
    "                            mode='lines', name=f'Well_{i}'))\n",
    "fig.update_layout(title='Sensitivity Plot with PSO algorithm',\n",
    "                   xaxis_title='Gaslift Gas Injection Rate(MMscf/day)',\n",
    "                   yaxis_title='Oil Rate(STB/day)',\n",
    "                   title_x=0.5,\n",
    "                   )\n",
    "fig.update_xaxes(nticks=50)\n",
    "fig.update_yaxes(nticks=20)\n",
    "fig.show()"
   ],
   "metadata": {
    "collapsed": false
   }
  }
 ],
 "metadata": {
  "kernelspec": {
   "display_name": "Python 3.8.13 ('internship')",
   "language": "python",
   "name": "python3"
  },
  "language_info": {
   "codemirror_mode": {
    "name": "ipython",
    "version": 3
   },
   "file_extension": ".py",
   "mimetype": "text/x-python",
   "name": "python",
   "nbconvert_exporter": "python",
   "pygments_lexer": "ipython3",
   "version": "3.8.13 (default, Mar 28 2022, 06:59:08) [MSC v.1916 64 bit (AMD64)]"
  },
  "orig_nbformat": 4,
  "vscode": {
   "interpreter": {
    "hash": "6dda936634b00118aa3fd5b09b5a04eabba3f4a622f0977e488f0946ea34a453"
   }
  }
 },
 "nbformat": 4,
 "nbformat_minor": 2
}
