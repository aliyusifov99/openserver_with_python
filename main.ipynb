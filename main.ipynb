{
 "cells": [
  {
   "cell_type": "markdown",
   "metadata": {},
   "source": [
    "# Important libraries"
   ]
  },
  {
   "cell_type": "code",
   "execution_count": 101,
   "metadata": {},
   "outputs": [],
   "source": [
    "import win32com.client\n",
    "import sys\n",
    "import time\n",
    "import os\n",
    "import numpy as np\n",
    "import plotly.express as px\n",
    "import pandas as pd"
   ]
  },
  {
   "cell_type": "markdown",
   "metadata": {},
   "source": [
    "# Openserver Connection"
   ]
  },
  {
   "cell_type": "markdown",
   "metadata": {},
   "source": [
    "Openserver class with methods to connect to the server, send commands, and disconnect from the server."
   ]
  },
  {
   "cell_type": "code",
   "execution_count": 102,
   "metadata": {},
   "outputs": [],
   "source": [
    "class OpenServer():\n",
    "    \"Class for holding ActiveX reference. Allows license disconnection\"\n",
    "    def __init__(self):\n",
    "        self.status = \"Disconnected\"\n",
    "        self.OSReference = None\n",
    "    \n",
    "    def Connect(self):\n",
    "        self.OSReference = win32com.client.Dispatch(\"PX32.OpenServer.1\")\n",
    "        self.status = \"Connected\"\n",
    "        print(\"OpenServer connected\")\n",
    "        \n",
    "    def Disconnect(self):\n",
    "        self.OSReference = None\n",
    "        self.status = \"Disconnected\"\n",
    "        print(\"OpenServer disconnected\")"
   ]
  },
  {
   "cell_type": "code",
   "execution_count": 103,
   "metadata": {},
   "outputs": [],
   "source": [
    "def GetAppName(sv):\n",
    "    # function for returning app name from tag string\n",
    "    pos = sv.find(\".\")\n",
    "    if pos < 2:\n",
    "        sys.exit(\"GetAppName: Badly formed tag string\")\n",
    "    app_name = sv[:pos]\n",
    "    if app_name.lower() not in [\"prosper\", \"mbal\", \"gap\", \"pvt\", \"resolve\",\n",
    "                                   \"reveal\"]:\n",
    "        sys.exit(\"GetAppName: Unrecognised application name in tag string\")\n",
    "    return app_name\n",
    "\n",
    "\n",
    "def DoCmd(OpenServe, cmd):\n",
    "    # perform a command and check for errors\n",
    "    lerr = OpenServe.OSReference.DoCommand(cmd)\n",
    "    if lerr > 0:\n",
    "        err = OpenServe.OSReference.GetErrorDescription(lerr)\n",
    "        OpenServe.Disconnect()\n",
    "        sys.exit(\"DoCmd: \" + err)\n",
    "\n",
    "\n",
    "def DoSet(OpenServe, sv, val):\n",
    "    # set a value and check for errors\n",
    "    lerr = OpenServe.OSReference.SetValue(sv, val)\n",
    "    app_name = GetAppName(sv)\n",
    "    lerr = OpenServe.OSReference.GetLastError(app_name)\n",
    "    if lerr > 0:\n",
    "        err = OpenServe.OSReference.GetErrorDescription(lerr)\n",
    "        OpenServe.Disconnect()\n",
    "        sys.exit(\"DoSet: \" + err)\n",
    "    \n",
    "def DoGet(OpenServe, gv):\n",
    "    # get a value and check for errors\n",
    "    get_value = OpenServe.OSReference.GetValue(gv)\n",
    "    app_name = GetAppName(gv)\n",
    "    lerr = OpenServe.OSReference.GetLastError(app_name)\n",
    "    if lerr > 0:\n",
    "        err = OpenServe.OSReference.GetErrorDescription(lerr)\n",
    "        OpenServe.Disconnect()\n",
    "        sys.exit(\"DoGet: \" + err)\n",
    "    return get_value\n",
    "\n",
    "\n",
    "def DoSlowCmd(OpenServe, cmd):\n",
    "    # perform a command then wait for command to exit and check for errors\n",
    "    step = 0.001\n",
    "    app_name = GetAppName(cmd)\n",
    "    lerr = OpenServe.OSReference.DoCommandAsync(cmd)\n",
    "    if lerr > 0:\n",
    "        err = OpenServe.OSReference.GetErrorDescription(lerr)\n",
    "        OpenServe.Disconnect()\n",
    "        sys.exit(\"DoSlowCmd: \" + err)\n",
    "    while OpenServe.OSReference.IsBusy(app_name) > 0:\n",
    "        if step < 2:\n",
    "            step = step*2\n",
    "        time.sleep(step)\n",
    "    lerr = OpenServe.OSReference.GetLastError(app_name)\n",
    "    if lerr > 0:\n",
    "        err = OpenServe.OSReference.GetErrorDescription(lerr)\n",
    "        OpenServe.Disconnect()\n",
    "        sys.exit(\"DoSlowCmd: \" + err)\n",
    "\n",
    "\n",
    "def DoGAPFunc(OpenServe, gv):\n",
    "    DoSlowCmd(gv)\n",
    "    DoGAPFunc = DoGet(OpenServe, \"GAP.LASTCMDRET\")\n",
    "    lerr = OpenServe.OSReference.GetLastError(\"GAP\")\n",
    "    if lerr > 0:\n",
    "        err = OpenServe.OSReference.GetErrorDescription(lerr)\n",
    "        OpenServe.Disconnect()\n",
    "        sys.exit(\"DoGAPFunc: \" + err)\n",
    "    return DoGAPFunc\n",
    "\n",
    "\n",
    "def OSOpenFile(OpenServe, theModel, appname):\n",
    "    DoSlowCmd(OpenServe, appname + '.OPENFILE (\"' + theModel + '\")')\n",
    "    lerr = OpenServe.OSReference.GetLastError(appname)\n",
    "    if lerr > 0:\n",
    "        err = OpenServe.OSReference.GetErrorDescription(lerr)\n",
    "        OpenServe.Disconnect()\n",
    "        sys.exit(\"OSOpenFile: \" + err)\n",
    "\n",
    "\n",
    "def OSSaveFile(OpenServe, theModel, appname):\n",
    "    DoSlowCmd(OpenServe, appname + '.SAVEFILE (\"' + theModel + '\")')\n",
    "    lerr = OpenServe.OSReference.GetLastError(appname)\n",
    "    if lerr > 0:\n",
    "        err = OpenServe.OSReference.GetErrorDescription(lerr)\n",
    "        OpenServe.Disconnect()\n",
    "        sys.exit(\"OSSaveFile: \" + err)"
   ]
  },
  {
   "cell_type": "markdown",
   "metadata": {},
   "source": [
    "# Single Well calculation"
   ]
  },
  {
   "cell_type": "code",
   "execution_count": 104,
   "metadata": {},
   "outputs": [],
   "source": [
    "#gas availability and increment steps\n",
    "gas_available = float(input('Please enter available gas'))\n",
    "increment = float(input('Please enter the increment value'))\n",
    "gas_injection_array = np.arange(0, gas_available, increment)\n",
    "oil_rate_array = []"
   ]
  },
  {
   "cell_type": "code",
   "execution_count": 105,
   "metadata": {},
   "outputs": [
    {
     "name": "stdout",
     "output_type": "stream",
     "text": [
      "OpenServer connected\n"
     ]
    },
    {
     "data": {
      "text/html": [
       "<div>\n",
       "<style scoped>\n",
       "    .dataframe tbody tr th:only-of-type {\n",
       "        vertical-align: middle;\n",
       "    }\n",
       "\n",
       "    .dataframe tbody tr th {\n",
       "        vertical-align: top;\n",
       "    }\n",
       "\n",
       "    .dataframe thead th {\n",
       "        text-align: right;\n",
       "    }\n",
       "</style>\n",
       "<table border=\"1\" class=\"dataframe\">\n",
       "  <thead>\n",
       "    <tr style=\"text-align: right;\">\n",
       "      <th></th>\n",
       "      <th>oil_rate</th>\n",
       "      <th>gas_injection</th>\n",
       "    </tr>\n",
       "  </thead>\n",
       "  <tbody>\n",
       "    <tr>\n",
       "      <th>0</th>\n",
       "      <td>1749.18</td>\n",
       "      <td>0.0</td>\n",
       "    </tr>\n",
       "    <tr>\n",
       "      <th>1</th>\n",
       "      <td>1767.97</td>\n",
       "      <td>0.2</td>\n",
       "    </tr>\n",
       "    <tr>\n",
       "      <th>2</th>\n",
       "      <td>1781.27</td>\n",
       "      <td>0.4</td>\n",
       "    </tr>\n",
       "    <tr>\n",
       "      <th>3</th>\n",
       "      <td>1790.62</td>\n",
       "      <td>0.6</td>\n",
       "    </tr>\n",
       "    <tr>\n",
       "      <th>4</th>\n",
       "      <td>1796.92</td>\n",
       "      <td>0.8</td>\n",
       "    </tr>\n",
       "  </tbody>\n",
       "</table>\n",
       "</div>"
      ],
      "text/plain": [
       "   oil_rate  gas_injection\n",
       "0   1749.18            0.0\n",
       "1   1767.97            0.2\n",
       "2   1781.27            0.4\n",
       "3   1790.62            0.6\n",
       "4   1796.92            0.8"
      ]
     },
     "execution_count": 105,
     "metadata": {},
     "output_type": "execute_result"
    }
   ],
   "source": [
    "# Initialises an 'OpenServer' class\n",
    "\n",
    "petex = OpenServer()\n",
    "\n",
    "# Creates ActiveX reference and holds a license\n",
    "\n",
    "petex.Connect()\n",
    "\n",
    "# Perform functions\n",
    "\n",
    "cwd = os.getcwd()\n",
    "OSOpenFile(petex, cwd + r'\\well_1.Out', 'PROSPER')\n",
    "for i in range(0, len(gas_injection_array)):\n",
    "    command = f'PROSPER.ANL.SYS.Sens.SensDB.Sens[138].Vals[{i}]'\n",
    "    DoSet(petex, command,\\\n",
    "        gas_injection_array[i])\n",
    "DoCmd(petex, 'PROSPER.ANL.SYS.CALC')\n",
    "for i in range(0, len(gas_injection_array)):\n",
    "    value = f'PROSPER.OUT.SYS.Results[{i}].Sol.OilRate'\n",
    "    oil_rate_array.append(np.round(float((DoGet(petex, value ))),2))\n",
    "OSSaveFile(petex, cwd + r'\\well_1.Out', 'PROSPER')\n",
    "\n",
    "\n",
    "#creating dataframe for gas injection rate and oil rate values\n",
    "df = pd.DataFrame({'oil_rate':oil_rate_array, 'gas_injection':gas_injection_array})\n",
    "df.head()"
   ]
  },
  {
   "cell_type": "code",
   "execution_count": 106,
   "metadata": {},
   "outputs": [
    {
     "data": {
      "application/vnd.plotly.v1+json": {
       "config": {
        "plotlyServerURL": "https://plot.ly"
       },
       "data": [
        {
         "hovertemplate": "gas_injection=%{x}<br>oil_rate=%{y}<extra></extra>",
         "legendgroup": "",
         "line": {
          "color": "#636efa",
          "dash": "solid"
         },
         "marker": {
          "symbol": "circle"
         },
         "mode": "lines+markers",
         "name": "",
         "orientation": "v",
         "showlegend": false,
         "type": "scatter",
         "x": [
          0,
          0.2,
          0.4,
          0.6000000000000001,
          0.8,
          1,
          1.2000000000000002,
          1.4000000000000001,
          1.6,
          1.8,
          2,
          2.2,
          2.4000000000000004,
          2.6,
          2.8000000000000003,
          3,
          3.2,
          3.4000000000000004,
          3.6,
          3.8000000000000003,
          4,
          4.2,
          4.4,
          4.6000000000000005,
          4.800000000000001
         ],
         "xaxis": "x",
         "y": [
          1749.18,
          1767.97,
          1781.27,
          1790.62,
          1796.92,
          1800.78,
          1802.44,
          1802.34,
          1800.76,
          1797.82,
          1793.75,
          1788.57,
          1782.45,
          1752.05,
          1760.88,
          1760.88,
          1725.12,
          1715.02,
          1715.02,
          1708.09,
          1700.95,
          1700.95,
          1693.59,
          1685.9,
          1685.9
         ],
         "yaxis": "y"
        }
       ],
       "layout": {
        "legend": {
         "tracegroupgap": 0
        },
        "margin": {
         "t": 60
        },
        "template": {
         "data": {
          "bar": [
           {
            "error_x": {
             "color": "#2a3f5f"
            },
            "error_y": {
             "color": "#2a3f5f"
            },
            "marker": {
             "line": {
              "color": "#E5ECF6",
              "width": 0.5
             },
             "pattern": {
              "fillmode": "overlay",
              "size": 10,
              "solidity": 0.2
             }
            },
            "type": "bar"
           }
          ],
          "barpolar": [
           {
            "marker": {
             "line": {
              "color": "#E5ECF6",
              "width": 0.5
             },
             "pattern": {
              "fillmode": "overlay",
              "size": 10,
              "solidity": 0.2
             }
            },
            "type": "barpolar"
           }
          ],
          "carpet": [
           {
            "aaxis": {
             "endlinecolor": "#2a3f5f",
             "gridcolor": "white",
             "linecolor": "white",
             "minorgridcolor": "white",
             "startlinecolor": "#2a3f5f"
            },
            "baxis": {
             "endlinecolor": "#2a3f5f",
             "gridcolor": "white",
             "linecolor": "white",
             "minorgridcolor": "white",
             "startlinecolor": "#2a3f5f"
            },
            "type": "carpet"
           }
          ],
          "choropleth": [
           {
            "colorbar": {
             "outlinewidth": 0,
             "ticks": ""
            },
            "type": "choropleth"
           }
          ],
          "contour": [
           {
            "colorbar": {
             "outlinewidth": 0,
             "ticks": ""
            },
            "colorscale": [
             [
              0,
              "#0d0887"
             ],
             [
              0.1111111111111111,
              "#46039f"
             ],
             [
              0.2222222222222222,
              "#7201a8"
             ],
             [
              0.3333333333333333,
              "#9c179e"
             ],
             [
              0.4444444444444444,
              "#bd3786"
             ],
             [
              0.5555555555555556,
              "#d8576b"
             ],
             [
              0.6666666666666666,
              "#ed7953"
             ],
             [
              0.7777777777777778,
              "#fb9f3a"
             ],
             [
              0.8888888888888888,
              "#fdca26"
             ],
             [
              1,
              "#f0f921"
             ]
            ],
            "type": "contour"
           }
          ],
          "contourcarpet": [
           {
            "colorbar": {
             "outlinewidth": 0,
             "ticks": ""
            },
            "type": "contourcarpet"
           }
          ],
          "heatmap": [
           {
            "colorbar": {
             "outlinewidth": 0,
             "ticks": ""
            },
            "colorscale": [
             [
              0,
              "#0d0887"
             ],
             [
              0.1111111111111111,
              "#46039f"
             ],
             [
              0.2222222222222222,
              "#7201a8"
             ],
             [
              0.3333333333333333,
              "#9c179e"
             ],
             [
              0.4444444444444444,
              "#bd3786"
             ],
             [
              0.5555555555555556,
              "#d8576b"
             ],
             [
              0.6666666666666666,
              "#ed7953"
             ],
             [
              0.7777777777777778,
              "#fb9f3a"
             ],
             [
              0.8888888888888888,
              "#fdca26"
             ],
             [
              1,
              "#f0f921"
             ]
            ],
            "type": "heatmap"
           }
          ],
          "heatmapgl": [
           {
            "colorbar": {
             "outlinewidth": 0,
             "ticks": ""
            },
            "colorscale": [
             [
              0,
              "#0d0887"
             ],
             [
              0.1111111111111111,
              "#46039f"
             ],
             [
              0.2222222222222222,
              "#7201a8"
             ],
             [
              0.3333333333333333,
              "#9c179e"
             ],
             [
              0.4444444444444444,
              "#bd3786"
             ],
             [
              0.5555555555555556,
              "#d8576b"
             ],
             [
              0.6666666666666666,
              "#ed7953"
             ],
             [
              0.7777777777777778,
              "#fb9f3a"
             ],
             [
              0.8888888888888888,
              "#fdca26"
             ],
             [
              1,
              "#f0f921"
             ]
            ],
            "type": "heatmapgl"
           }
          ],
          "histogram": [
           {
            "marker": {
             "pattern": {
              "fillmode": "overlay",
              "size": 10,
              "solidity": 0.2
             }
            },
            "type": "histogram"
           }
          ],
          "histogram2d": [
           {
            "colorbar": {
             "outlinewidth": 0,
             "ticks": ""
            },
            "colorscale": [
             [
              0,
              "#0d0887"
             ],
             [
              0.1111111111111111,
              "#46039f"
             ],
             [
              0.2222222222222222,
              "#7201a8"
             ],
             [
              0.3333333333333333,
              "#9c179e"
             ],
             [
              0.4444444444444444,
              "#bd3786"
             ],
             [
              0.5555555555555556,
              "#d8576b"
             ],
             [
              0.6666666666666666,
              "#ed7953"
             ],
             [
              0.7777777777777778,
              "#fb9f3a"
             ],
             [
              0.8888888888888888,
              "#fdca26"
             ],
             [
              1,
              "#f0f921"
             ]
            ],
            "type": "histogram2d"
           }
          ],
          "histogram2dcontour": [
           {
            "colorbar": {
             "outlinewidth": 0,
             "ticks": ""
            },
            "colorscale": [
             [
              0,
              "#0d0887"
             ],
             [
              0.1111111111111111,
              "#46039f"
             ],
             [
              0.2222222222222222,
              "#7201a8"
             ],
             [
              0.3333333333333333,
              "#9c179e"
             ],
             [
              0.4444444444444444,
              "#bd3786"
             ],
             [
              0.5555555555555556,
              "#d8576b"
             ],
             [
              0.6666666666666666,
              "#ed7953"
             ],
             [
              0.7777777777777778,
              "#fb9f3a"
             ],
             [
              0.8888888888888888,
              "#fdca26"
             ],
             [
              1,
              "#f0f921"
             ]
            ],
            "type": "histogram2dcontour"
           }
          ],
          "mesh3d": [
           {
            "colorbar": {
             "outlinewidth": 0,
             "ticks": ""
            },
            "type": "mesh3d"
           }
          ],
          "parcoords": [
           {
            "line": {
             "colorbar": {
              "outlinewidth": 0,
              "ticks": ""
             }
            },
            "type": "parcoords"
           }
          ],
          "pie": [
           {
            "automargin": true,
            "type": "pie"
           }
          ],
          "scatter": [
           {
            "marker": {
             "colorbar": {
              "outlinewidth": 0,
              "ticks": ""
             }
            },
            "type": "scatter"
           }
          ],
          "scatter3d": [
           {
            "line": {
             "colorbar": {
              "outlinewidth": 0,
              "ticks": ""
             }
            },
            "marker": {
             "colorbar": {
              "outlinewidth": 0,
              "ticks": ""
             }
            },
            "type": "scatter3d"
           }
          ],
          "scattercarpet": [
           {
            "marker": {
             "colorbar": {
              "outlinewidth": 0,
              "ticks": ""
             }
            },
            "type": "scattercarpet"
           }
          ],
          "scattergeo": [
           {
            "marker": {
             "colorbar": {
              "outlinewidth": 0,
              "ticks": ""
             }
            },
            "type": "scattergeo"
           }
          ],
          "scattergl": [
           {
            "marker": {
             "colorbar": {
              "outlinewidth": 0,
              "ticks": ""
             }
            },
            "type": "scattergl"
           }
          ],
          "scattermapbox": [
           {
            "marker": {
             "colorbar": {
              "outlinewidth": 0,
              "ticks": ""
             }
            },
            "type": "scattermapbox"
           }
          ],
          "scatterpolar": [
           {
            "marker": {
             "colorbar": {
              "outlinewidth": 0,
              "ticks": ""
             }
            },
            "type": "scatterpolar"
           }
          ],
          "scatterpolargl": [
           {
            "marker": {
             "colorbar": {
              "outlinewidth": 0,
              "ticks": ""
             }
            },
            "type": "scatterpolargl"
           }
          ],
          "scatterternary": [
           {
            "marker": {
             "colorbar": {
              "outlinewidth": 0,
              "ticks": ""
             }
            },
            "type": "scatterternary"
           }
          ],
          "surface": [
           {
            "colorbar": {
             "outlinewidth": 0,
             "ticks": ""
            },
            "colorscale": [
             [
              0,
              "#0d0887"
             ],
             [
              0.1111111111111111,
              "#46039f"
             ],
             [
              0.2222222222222222,
              "#7201a8"
             ],
             [
              0.3333333333333333,
              "#9c179e"
             ],
             [
              0.4444444444444444,
              "#bd3786"
             ],
             [
              0.5555555555555556,
              "#d8576b"
             ],
             [
              0.6666666666666666,
              "#ed7953"
             ],
             [
              0.7777777777777778,
              "#fb9f3a"
             ],
             [
              0.8888888888888888,
              "#fdca26"
             ],
             [
              1,
              "#f0f921"
             ]
            ],
            "type": "surface"
           }
          ],
          "table": [
           {
            "cells": {
             "fill": {
              "color": "#EBF0F8"
             },
             "line": {
              "color": "white"
             }
            },
            "header": {
             "fill": {
              "color": "#C8D4E3"
             },
             "line": {
              "color": "white"
             }
            },
            "type": "table"
           }
          ]
         },
         "layout": {
          "annotationdefaults": {
           "arrowcolor": "#2a3f5f",
           "arrowhead": 0,
           "arrowwidth": 1
          },
          "autotypenumbers": "strict",
          "coloraxis": {
           "colorbar": {
            "outlinewidth": 0,
            "ticks": ""
           }
          },
          "colorscale": {
           "diverging": [
            [
             0,
             "#8e0152"
            ],
            [
             0.1,
             "#c51b7d"
            ],
            [
             0.2,
             "#de77ae"
            ],
            [
             0.3,
             "#f1b6da"
            ],
            [
             0.4,
             "#fde0ef"
            ],
            [
             0.5,
             "#f7f7f7"
            ],
            [
             0.6,
             "#e6f5d0"
            ],
            [
             0.7,
             "#b8e186"
            ],
            [
             0.8,
             "#7fbc41"
            ],
            [
             0.9,
             "#4d9221"
            ],
            [
             1,
             "#276419"
            ]
           ],
           "sequential": [
            [
             0,
             "#0d0887"
            ],
            [
             0.1111111111111111,
             "#46039f"
            ],
            [
             0.2222222222222222,
             "#7201a8"
            ],
            [
             0.3333333333333333,
             "#9c179e"
            ],
            [
             0.4444444444444444,
             "#bd3786"
            ],
            [
             0.5555555555555556,
             "#d8576b"
            ],
            [
             0.6666666666666666,
             "#ed7953"
            ],
            [
             0.7777777777777778,
             "#fb9f3a"
            ],
            [
             0.8888888888888888,
             "#fdca26"
            ],
            [
             1,
             "#f0f921"
            ]
           ],
           "sequentialminus": [
            [
             0,
             "#0d0887"
            ],
            [
             0.1111111111111111,
             "#46039f"
            ],
            [
             0.2222222222222222,
             "#7201a8"
            ],
            [
             0.3333333333333333,
             "#9c179e"
            ],
            [
             0.4444444444444444,
             "#bd3786"
            ],
            [
             0.5555555555555556,
             "#d8576b"
            ],
            [
             0.6666666666666666,
             "#ed7953"
            ],
            [
             0.7777777777777778,
             "#fb9f3a"
            ],
            [
             0.8888888888888888,
             "#fdca26"
            ],
            [
             1,
             "#f0f921"
            ]
           ]
          },
          "colorway": [
           "#636efa",
           "#EF553B",
           "#00cc96",
           "#ab63fa",
           "#FFA15A",
           "#19d3f3",
           "#FF6692",
           "#B6E880",
           "#FF97FF",
           "#FECB52"
          ],
          "font": {
           "color": "#2a3f5f"
          },
          "geo": {
           "bgcolor": "white",
           "lakecolor": "white",
           "landcolor": "#E5ECF6",
           "showlakes": true,
           "showland": true,
           "subunitcolor": "white"
          },
          "hoverlabel": {
           "align": "left"
          },
          "hovermode": "closest",
          "mapbox": {
           "style": "light"
          },
          "paper_bgcolor": "white",
          "plot_bgcolor": "#E5ECF6",
          "polar": {
           "angularaxis": {
            "gridcolor": "white",
            "linecolor": "white",
            "ticks": ""
           },
           "bgcolor": "#E5ECF6",
           "radialaxis": {
            "gridcolor": "white",
            "linecolor": "white",
            "ticks": ""
           }
          },
          "scene": {
           "xaxis": {
            "backgroundcolor": "#E5ECF6",
            "gridcolor": "white",
            "gridwidth": 2,
            "linecolor": "white",
            "showbackground": true,
            "ticks": "",
            "zerolinecolor": "white"
           },
           "yaxis": {
            "backgroundcolor": "#E5ECF6",
            "gridcolor": "white",
            "gridwidth": 2,
            "linecolor": "white",
            "showbackground": true,
            "ticks": "",
            "zerolinecolor": "white"
           },
           "zaxis": {
            "backgroundcolor": "#E5ECF6",
            "gridcolor": "white",
            "gridwidth": 2,
            "linecolor": "white",
            "showbackground": true,
            "ticks": "",
            "zerolinecolor": "white"
           }
          },
          "shapedefaults": {
           "line": {
            "color": "#2a3f5f"
           }
          },
          "ternary": {
           "aaxis": {
            "gridcolor": "white",
            "linecolor": "white",
            "ticks": ""
           },
           "baxis": {
            "gridcolor": "white",
            "linecolor": "white",
            "ticks": ""
           },
           "bgcolor": "#E5ECF6",
           "caxis": {
            "gridcolor": "white",
            "linecolor": "white",
            "ticks": ""
           }
          },
          "title": {
           "x": 0.05
          },
          "xaxis": {
           "automargin": true,
           "gridcolor": "white",
           "linecolor": "white",
           "ticks": "",
           "title": {
            "standoff": 15
           },
           "zerolinecolor": "white",
           "zerolinewidth": 2
          },
          "yaxis": {
           "automargin": true,
           "gridcolor": "white",
           "linecolor": "white",
           "ticks": "",
           "title": {
            "standoff": 15
           },
           "zerolinecolor": "white",
           "zerolinewidth": 2
          }
         }
        },
        "title": {
         "text": "Sensitivity Plot",
         "x": 0.5
        },
        "xaxis": {
         "anchor": "y",
         "domain": [
          0,
          1
         ],
         "nticks": 50,
         "range": [
          0,
          5.000000000000001
         ],
         "title": {
          "text": "Gaslift Gas Injection Rate(MMscf/day)"
         }
        },
        "yaxis": {
         "anchor": "x",
         "domain": [
          0,
          1
         ],
         "nticks": 20,
         "title": {
          "text": "Oil Rate(STB/day)"
         }
        }
       }
      }
     },
     "metadata": {},
     "output_type": "display_data"
    }
   ],
   "source": [
    "fig = px.line(df, x='gas_injection', y='oil_rate', markers=True)\n",
    "fig.update_layout(title='Sensitivity Plot',\n",
    "                   xaxis_title='Gaslift Gas Injection Rate(MMscf/day)',\n",
    "                   yaxis_title='Oil Rate(STB/day)',\n",
    "                   title_x=0.5, \n",
    "                   xaxis={\n",
    "                       'range':[0, df['gas_injection'].max()+0.2]\n",
    "                   })\n",
    "fig.update_xaxes(nticks=50)\n",
    "fig.update_yaxes(nticks=20)\n",
    "fig.show()"
   ]
  }
 ],
 "metadata": {
  "kernelspec": {
   "display_name": "Python 3.8.13 ('internship')",
   "language": "python",
   "name": "python3"
  },
  "language_info": {
   "codemirror_mode": {
    "name": "ipython",
    "version": 3
   },
   "file_extension": ".py",
   "mimetype": "text/x-python",
   "name": "python",
   "nbconvert_exporter": "python",
   "pygments_lexer": "ipython3",
   "version": "3.8.13"
  },
  "orig_nbformat": 4,
  "vscode": {
   "interpreter": {
    "hash": "6dda936634b00118aa3fd5b09b5a04eabba3f4a622f0977e488f0946ea34a453"
   }
  }
 },
 "nbformat": 4,
 "nbformat_minor": 2
}
