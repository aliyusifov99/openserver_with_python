{
 "cells": [
  {
   "cell_type": "markdown",
   "metadata": {},
   "source": [
    "# Important libraries"
   ]
  },
  {
   "cell_type": "code",
   "execution_count": 6,
   "metadata": {},
   "outputs": [],
   "source": [
    "import win32com.client\n",
    "import sys\n",
    "import time\n",
    "import os\n",
    "import numpy as np\n",
    "import plotly.express as px\n",
    "import plotly.graph_objects as go\n",
    "import pandas as pd"
   ]
  },
  {
   "attachments": {},
   "cell_type": "markdown",
   "metadata": {},
   "source": [
    "# Openserver Setup"
   ]
  },
  {
   "cell_type": "markdown",
   "metadata": {},
   "source": [
    "Openserver class with methods to connect to the server, send commands, and disconnect from the server."
   ]
  },
  {
   "cell_type": "code",
   "execution_count": 24,
   "metadata": {},
   "outputs": [],
   "source": [
    "class OpenServer():\n",
    "    \"Class for holding ActiveX reference. Allows license disconnection\"\n",
    "    def __init__(self):\n",
    "        self.status = \"Disconnected\"\n",
    "        self.OSReference = None\n",
    "    \n",
    "    def Connect(self):\n",
    "        self.OSReference = win32com.client.Dispatch(\"PX32.OpenServer.1\")\n",
    "        self.status = \"Connected\"\n",
    "        print(\"OpenServer connected\")\n",
    "        \n",
    "    def Disconnect(self):\n",
    "        self.OSReference = None\n",
    "        self.status = \"Disconnected\"\n",
    "        print(\"OpenServer disconnected\")"
   ]
  },
  {
   "cell_type": "code",
   "execution_count": 25,
   "metadata": {},
   "outputs": [],
   "source": [
    "def GetAppName(sv):\n",
    "    # function for returning app name from tag string\n",
    "    pos = sv.find(\".\")\n",
    "    if pos < 2:\n",
    "        sys.exit(\"GetAppName: Badly formed tag string\")\n",
    "    app_name = sv[:pos]\n",
    "    if app_name.lower() not in [\"prosper\", \"mbal\", \"gap\", \"pvt\", \"resolve\",\n",
    "                                   \"reveal\"]:\n",
    "        sys.exit(\"GetAppName: Unrecognised application name in tag string\")\n",
    "    return app_name\n",
    "\n",
    "\n",
    "def DoCmd(OpenServe, cmd):\n",
    "    # perform a command and check for errors\n",
    "    lerr = OpenServe.OSReference.DoCommand(cmd)\n",
    "    if lerr > 0:\n",
    "        err = OpenServe.OSReference.GetErrorDescription(lerr)\n",
    "        OpenServe.Disconnect()\n",
    "        sys.exit(\"DoCmd: \" + err)\n",
    "\n",
    "\n",
    "def DoSet(OpenServe, sv, val):\n",
    "    # set a value and check for errors\n",
    "    lerr = OpenServe.OSReference.SetValue(sv, val)\n",
    "    app_name = GetAppName(sv)\n",
    "    lerr = OpenServe.OSReference.GetLastError(app_name)\n",
    "    if lerr > 0:\n",
    "        err = OpenServe.OSReference.GetErrorDescription(lerr)\n",
    "        OpenServe.Disconnect()\n",
    "        sys.exit(\"DoSet: \" + err)\n",
    "    \n",
    "def DoGet(OpenServe, gv):\n",
    "    # get a value and check for errors\n",
    "    get_value = OpenServe.OSReference.GetValue(gv)\n",
    "    app_name = GetAppName(gv)\n",
    "    lerr = OpenServe.OSReference.GetLastError(app_name)\n",
    "    if lerr > 0:\n",
    "        err = OpenServe.OSReference.GetErrorDescription(lerr)\n",
    "        OpenServe.Disconnect()\n",
    "        sys.exit(\"DoGet: \" + err)\n",
    "    return get_value\n",
    "\n",
    "\n",
    "def DoSlowCmd(OpenServe, cmd):\n",
    "    # perform a command then wait for command to exit and check for errors\n",
    "    step = 0.001\n",
    "    app_name = GetAppName(cmd)\n",
    "    lerr = OpenServe.OSReference.DoCommandAsync(cmd)\n",
    "    if lerr > 0:\n",
    "        err = OpenServe.OSReference.GetErrorDescription(lerr)\n",
    "        OpenServe.Disconnect()\n",
    "        sys.exit(\"DoSlowCmd: \" + err)\n",
    "    while OpenServe.OSReference.IsBusy(app_name) > 0:\n",
    "        if step < 2:\n",
    "            step = step*2\n",
    "        time.sleep(step)\n",
    "    lerr = OpenServe.OSReference.GetLastError(app_name)\n",
    "    if lerr > 0:\n",
    "        err = OpenServe.OSReference.GetErrorDescription(lerr)\n",
    "        OpenServe.Disconnect()\n",
    "        sys.exit(\"DoSlowCmd: \" + err)\n",
    "\n",
    "\n",
    "def DoGAPFunc(OpenServe, gv):\n",
    "    DoSlowCmd(gv)\n",
    "    DoGAPFunc = DoGet(OpenServe, \"GAP.LASTCMDRET\")\n",
    "    lerr = OpenServe.OSReference.GetLastError(\"GAP\")\n",
    "    if lerr > 0:\n",
    "        err = OpenServe.OSReference.GetErrorDescription(lerr)\n",
    "        OpenServe.Disconnect()\n",
    "        sys.exit(\"DoGAPFunc: \" + err)\n",
    "    return DoGAPFunc\n",
    "\n",
    "\n",
    "def OSOpenFile(OpenServe, theModel, appname):\n",
    "    DoSlowCmd(OpenServe, appname + '.OPENFILE (\"' + theModel + '\")')\n",
    "    lerr = OpenServe.OSReference.GetLastError(appname)\n",
    "    if lerr > 0:\n",
    "        err = OpenServe.OSReference.GetErrorDescription(lerr)\n",
    "        OpenServe.Disconnect()\n",
    "        sys.exit(\"OSOpenFile: \" + err)\n",
    "\n",
    "\n",
    "def OSSaveFile(OpenServe, theModel, appname):\n",
    "    DoSlowCmd(OpenServe, appname + '.SAVEFILE (\"' + theModel + '\")')\n",
    "    lerr = OpenServe.OSReference.GetLastError(appname)\n",
    "    if lerr > 0:\n",
    "        err = OpenServe.OSReference.GetErrorDescription(lerr)\n",
    "        OpenServe.Disconnect()\n",
    "        sys.exit(\"OSSaveFile: \" + err)"
   ]
  },
  {
   "cell_type": "markdown",
   "metadata": {},
   "source": [
    "# Multiple well calculation"
   ]
  },
  {
   "cell_type": "code",
   "execution_count": 4,
   "metadata": {},
   "outputs": [
    {
     "data": {
      "text/html": [
       "<div>\n",
       "<style scoped>\n",
       "    .dataframe tbody tr th:only-of-type {\n",
       "        vertical-align: middle;\n",
       "    }\n",
       "\n",
       "    .dataframe tbody tr th {\n",
       "        vertical-align: top;\n",
       "    }\n",
       "\n",
       "    .dataframe thead th {\n",
       "        text-align: right;\n",
       "    }\n",
       "</style>\n",
       "<table border=\"1\" class=\"dataframe\">\n",
       "  <thead>\n",
       "    <tr style=\"text-align: right;\">\n",
       "      <th></th>\n",
       "      <th>gas_injection_array</th>\n",
       "    </tr>\n",
       "  </thead>\n",
       "  <tbody>\n",
       "    <tr>\n",
       "      <th>0</th>\n",
       "      <td>0.0</td>\n",
       "    </tr>\n",
       "    <tr>\n",
       "      <th>1</th>\n",
       "      <td>0.1</td>\n",
       "    </tr>\n",
       "    <tr>\n",
       "      <th>2</th>\n",
       "      <td>0.2</td>\n",
       "    </tr>\n",
       "    <tr>\n",
       "      <th>3</th>\n",
       "      <td>0.3</td>\n",
       "    </tr>\n",
       "    <tr>\n",
       "      <th>4</th>\n",
       "      <td>0.4</td>\n",
       "    </tr>\n",
       "    <tr>\n",
       "      <th>5</th>\n",
       "      <td>0.5</td>\n",
       "    </tr>\n",
       "    <tr>\n",
       "      <th>6</th>\n",
       "      <td>0.6</td>\n",
       "    </tr>\n",
       "    <tr>\n",
       "      <th>7</th>\n",
       "      <td>0.7</td>\n",
       "    </tr>\n",
       "    <tr>\n",
       "      <th>8</th>\n",
       "      <td>0.8</td>\n",
       "    </tr>\n",
       "    <tr>\n",
       "      <th>9</th>\n",
       "      <td>0.9</td>\n",
       "    </tr>\n",
       "    <tr>\n",
       "      <th>10</th>\n",
       "      <td>1.0</td>\n",
       "    </tr>\n",
       "    <tr>\n",
       "      <th>11</th>\n",
       "      <td>1.1</td>\n",
       "    </tr>\n",
       "    <tr>\n",
       "      <th>12</th>\n",
       "      <td>1.2</td>\n",
       "    </tr>\n",
       "    <tr>\n",
       "      <th>13</th>\n",
       "      <td>1.3</td>\n",
       "    </tr>\n",
       "    <tr>\n",
       "      <th>14</th>\n",
       "      <td>1.4</td>\n",
       "    </tr>\n",
       "    <tr>\n",
       "      <th>15</th>\n",
       "      <td>1.5</td>\n",
       "    </tr>\n",
       "    <tr>\n",
       "      <th>16</th>\n",
       "      <td>1.6</td>\n",
       "    </tr>\n",
       "    <tr>\n",
       "      <th>17</th>\n",
       "      <td>1.7</td>\n",
       "    </tr>\n",
       "    <tr>\n",
       "      <th>18</th>\n",
       "      <td>1.8</td>\n",
       "    </tr>\n",
       "    <tr>\n",
       "      <th>19</th>\n",
       "      <td>1.9</td>\n",
       "    </tr>\n",
       "    <tr>\n",
       "      <th>20</th>\n",
       "      <td>2.0</td>\n",
       "    </tr>\n",
       "    <tr>\n",
       "      <th>21</th>\n",
       "      <td>2.1</td>\n",
       "    </tr>\n",
       "    <tr>\n",
       "      <th>22</th>\n",
       "      <td>2.2</td>\n",
       "    </tr>\n",
       "    <tr>\n",
       "      <th>23</th>\n",
       "      <td>2.3</td>\n",
       "    </tr>\n",
       "    <tr>\n",
       "      <th>24</th>\n",
       "      <td>2.4</td>\n",
       "    </tr>\n",
       "    <tr>\n",
       "      <th>25</th>\n",
       "      <td>2.5</td>\n",
       "    </tr>\n",
       "    <tr>\n",
       "      <th>26</th>\n",
       "      <td>2.6</td>\n",
       "    </tr>\n",
       "    <tr>\n",
       "      <th>27</th>\n",
       "      <td>2.7</td>\n",
       "    </tr>\n",
       "    <tr>\n",
       "      <th>28</th>\n",
       "      <td>2.8</td>\n",
       "    </tr>\n",
       "    <tr>\n",
       "      <th>29</th>\n",
       "      <td>2.9</td>\n",
       "    </tr>\n",
       "    <tr>\n",
       "      <th>30</th>\n",
       "      <td>3.0</td>\n",
       "    </tr>\n",
       "    <tr>\n",
       "      <th>31</th>\n",
       "      <td>3.1</td>\n",
       "    </tr>\n",
       "    <tr>\n",
       "      <th>32</th>\n",
       "      <td>3.2</td>\n",
       "    </tr>\n",
       "    <tr>\n",
       "      <th>33</th>\n",
       "      <td>3.3</td>\n",
       "    </tr>\n",
       "    <tr>\n",
       "      <th>34</th>\n",
       "      <td>3.4</td>\n",
       "    </tr>\n",
       "  </tbody>\n",
       "</table>\n",
       "</div>"
      ],
      "text/plain": [
       "    gas_injection_array\n",
       "0                   0.0\n",
       "1                   0.1\n",
       "2                   0.2\n",
       "3                   0.3\n",
       "4                   0.4\n",
       "5                   0.5\n",
       "6                   0.6\n",
       "7                   0.7\n",
       "8                   0.8\n",
       "9                   0.9\n",
       "10                  1.0\n",
       "11                  1.1\n",
       "12                  1.2\n",
       "13                  1.3\n",
       "14                  1.4\n",
       "15                  1.5\n",
       "16                  1.6\n",
       "17                  1.7\n",
       "18                  1.8\n",
       "19                  1.9\n",
       "20                  2.0\n",
       "21                  2.1\n",
       "22                  2.2\n",
       "23                  2.3\n",
       "24                  2.4\n",
       "25                  2.5\n",
       "26                  2.6\n",
       "27                  2.7\n",
       "28                  2.8\n",
       "29                  2.9\n",
       "30                  3.0\n",
       "31                  3.1\n",
       "32                  3.2\n",
       "33                  3.3\n",
       "34                  3.4"
      ]
     },
     "execution_count": 4,
     "metadata": {},
     "output_type": "execute_result"
    }
   ],
   "source": [
    "#gas availability and increment steps\n",
    "number_of_wells = int(input('Please enter the number of wells:'))\n",
    "gas_available = float(input('Please enter available gas'))\n",
    "increment = float(input('Please enter the increment value'))\n",
    "gas_injection_array = np.arange(0, gas_available, increment)\n",
    "df=pd.DataFrame()\n",
    "df['gas_injection_array'] = gas_injection_array\n",
    "df"
   ]
  },
  {
   "cell_type": "code",
   "execution_count": 5,
   "metadata": {},
   "outputs": [
    {
     "name": "stdout",
     "output_type": "stream",
     "text": [
      "OpenServer connected\n",
      "Well 1 opened\n",
      "Well 1 closed\n",
      "Well 2 opened\n",
      "Well 2 closed\n",
      "Well 3 opened\n",
      "Well 3 closed\n",
      "Well 4 opened\n",
      "Well 4 closed\n",
      "Well 5 opened\n",
      "Well 5 closed\n",
      "Well 6 opened\n",
      "Well 6 closed\n",
      "Well 7 opened\n",
      "Well 7 closed\n",
      "Well 8 opened\n",
      "Well 8 closed\n",
      "Well 9 opened\n",
      "Well 9 closed\n",
      "Well 10 opened\n",
      "Well 10 closed\n"
     ]
    },
    {
     "data": {
      "text/html": [
       "<div>\n",
       "<style scoped>\n",
       "    .dataframe tbody tr th:only-of-type {\n",
       "        vertical-align: middle;\n",
       "    }\n",
       "\n",
       "    .dataframe tbody tr th {\n",
       "        vertical-align: top;\n",
       "    }\n",
       "\n",
       "    .dataframe thead th {\n",
       "        text-align: right;\n",
       "    }\n",
       "</style>\n",
       "<table border=\"1\" class=\"dataframe\">\n",
       "  <thead>\n",
       "    <tr style=\"text-align: right;\">\n",
       "      <th></th>\n",
       "      <th>gas_injection_array</th>\n",
       "      <th>Well_1</th>\n",
       "      <th>Well_2</th>\n",
       "      <th>Well_3</th>\n",
       "      <th>Well_4</th>\n",
       "      <th>Well_5</th>\n",
       "      <th>Well_6</th>\n",
       "      <th>Well_7</th>\n",
       "      <th>Well_8</th>\n",
       "      <th>Well_9</th>\n",
       "      <th>Well_10</th>\n",
       "    </tr>\n",
       "  </thead>\n",
       "  <tbody>\n",
       "    <tr>\n",
       "      <th>0</th>\n",
       "      <td>0.0</td>\n",
       "      <td>878.37</td>\n",
       "      <td>1657.35</td>\n",
       "      <td>1576.44</td>\n",
       "      <td>1362.42</td>\n",
       "      <td>997.05</td>\n",
       "      <td>1858.40</td>\n",
       "      <td>1767.62</td>\n",
       "      <td>1123.93</td>\n",
       "      <td>1717.52</td>\n",
       "      <td>1749.18</td>\n",
       "    </tr>\n",
       "    <tr>\n",
       "      <th>1</th>\n",
       "      <td>0.1</td>\n",
       "      <td>896.05</td>\n",
       "      <td>1668.40</td>\n",
       "      <td>1588.09</td>\n",
       "      <td>1375.90</td>\n",
       "      <td>1013.68</td>\n",
       "      <td>1867.23</td>\n",
       "      <td>1777.72</td>\n",
       "      <td>1139.83</td>\n",
       "      <td>1728.00</td>\n",
       "      <td>1759.44</td>\n",
       "    </tr>\n",
       "    <tr>\n",
       "      <th>2</th>\n",
       "      <td>0.2</td>\n",
       "      <td>911.90</td>\n",
       "      <td>1677.71</td>\n",
       "      <td>1597.90</td>\n",
       "      <td>1387.41</td>\n",
       "      <td>1027.60</td>\n",
       "      <td>1874.69</td>\n",
       "      <td>1786.06</td>\n",
       "      <td>1153.42</td>\n",
       "      <td>1739.01</td>\n",
       "      <td>1767.97</td>\n",
       "    </tr>\n",
       "    <tr>\n",
       "      <th>3</th>\n",
       "      <td>0.3</td>\n",
       "      <td>924.19</td>\n",
       "      <td>1685.58</td>\n",
       "      <td>1606.21</td>\n",
       "      <td>1397.28</td>\n",
       "      <td>1041.02</td>\n",
       "      <td>1880.97</td>\n",
       "      <td>1793.10</td>\n",
       "      <td>1164.63</td>\n",
       "      <td>1746.45</td>\n",
       "      <td>1775.18</td>\n",
       "    </tr>\n",
       "    <tr>\n",
       "      <th>4</th>\n",
       "      <td>0.4</td>\n",
       "      <td>935.19</td>\n",
       "      <td>1692.24</td>\n",
       "      <td>1613.28</td>\n",
       "      <td>1405.79</td>\n",
       "      <td>1051.22</td>\n",
       "      <td>1886.24</td>\n",
       "      <td>1799.04</td>\n",
       "      <td>1174.25</td>\n",
       "      <td>1752.74</td>\n",
       "      <td>1781.27</td>\n",
       "    </tr>\n",
       "  </tbody>\n",
       "</table>\n",
       "</div>"
      ],
      "text/plain": [
       "   gas_injection_array  Well_1   Well_2   Well_3   Well_4   Well_5   Well_6  \\\n",
       "0                  0.0  878.37  1657.35  1576.44  1362.42   997.05  1858.40   \n",
       "1                  0.1  896.05  1668.40  1588.09  1375.90  1013.68  1867.23   \n",
       "2                  0.2  911.90  1677.71  1597.90  1387.41  1027.60  1874.69   \n",
       "3                  0.3  924.19  1685.58  1606.21  1397.28  1041.02  1880.97   \n",
       "4                  0.4  935.19  1692.24  1613.28  1405.79  1051.22  1886.24   \n",
       "\n",
       "    Well_7   Well_8   Well_9  Well_10  \n",
       "0  1767.62  1123.93  1717.52  1749.18  \n",
       "1  1777.72  1139.83  1728.00  1759.44  \n",
       "2  1786.06  1153.42  1739.01  1767.97  \n",
       "3  1793.10  1164.63  1746.45  1775.18  \n",
       "4  1799.04  1174.25  1752.74  1781.27  "
      ]
     },
     "execution_count": 5,
     "metadata": {},
     "output_type": "execute_result"
    }
   ],
   "source": [
    "# Initialises an 'OpenServer' class\n",
    "\n",
    "petex = OpenServer()\n",
    "\n",
    "# Creates ActiveX reference and holds a license\n",
    "\n",
    "petex.Connect()\n",
    "oil_rates_for_wells = {}\n",
    "\n",
    "# Perform functions\n",
    "\n",
    "cwd = os.getcwd()\n",
    "for j in range(1,number_of_wells+1):\n",
    "    #opening well file\n",
    "    OSOpenFile(petex, cwd + f'\\models\\well_{j}.Out', 'PROSPER')\n",
    "    print(f'Well {j} opened')\n",
    "    #oil rates calculation\n",
    "    for i in range(0,len(gas_injection_array)):\n",
    "        command = f'PROSPER.ANL.SYS.Sens.SensDB.Sens[138].Vals[{i}]'\n",
    "        DoSet(petex, command,gas_injection_array[i])\n",
    "    DoCmd(petex, 'PROSPER.ANL.SYS.CALC')\n",
    "    oil_rates = [] #list of oil rates for 1 well\n",
    "    for i in range(0, len(gas_injection_array)):\n",
    "        value = f'PROSPER.OUT.SYS.Results[{i}].Sol.OilRate'\n",
    "        oil_rates.append(np.round(float(DoGet(petex, value)),2))\n",
    "    oil_rates_for_wells[f'well_{j}'] = oil_rates\n",
    "    #closing file   \n",
    "    OSSaveFile(petex, cwd + f'\\well_{j}.Out', 'PROSPER')\n",
    "    print(f'Well {j} closed')\n",
    "\n",
    "#merging to main dataframe\n",
    "for i in range(1,number_of_wells+1):\n",
    "    df[f'Well_{i}'] = oil_rates_for_wells[f'well_{i}']\n",
    "\n",
    "df.head()"
   ]
  },
  {
   "cell_type": "code",
   "execution_count": 6,
   "metadata": {},
   "outputs": [
    {
     "data": {
      "application/vnd.plotly.v1+json": {
       "config": {
        "plotlyServerURL": "https://plot.ly"
       },
       "data": [
        {
         "mode": "lines",
         "name": "Well_1",
         "type": "scatter",
         "x": [
          0,
          0.1,
          0.2,
          0.30000000000000004,
          0.4,
          0.5,
          0.6000000000000001,
          0.7000000000000001,
          0.8,
          0.9,
          1,
          1.1,
          1.2000000000000002,
          1.3,
          1.4000000000000001,
          1.5,
          1.6,
          1.7000000000000002,
          1.8,
          1.9000000000000001,
          2,
          2.1,
          2.2,
          2.3000000000000003,
          2.4000000000000004,
          2.5,
          2.6,
          2.7,
          2.8000000000000003,
          2.9000000000000004,
          3,
          3.1,
          3.2,
          3.3000000000000003,
          3.4000000000000004
         ],
         "y": [
          878.37,
          896.05,
          911.9,
          924.19,
          935.19,
          944.14,
          951.77,
          958.21,
          963.73,
          968.49,
          973.15,
          976.58,
          979.43,
          981.79,
          983.78,
          985.32,
          986.52,
          987.44,
          979.24,
          978.66,
          974.25,
          955.93,
          951.2,
          948.38,
          939.12,
          928.62,
          923.88,
          919.3,
          914.17,
          909.44,
          904.6,
          898.34,
          887.27,
          867.07,
          853.65
         ]
        },
        {
         "mode": "lines",
         "name": "Well_2",
         "type": "scatter",
         "x": [
          0,
          0.1,
          0.2,
          0.30000000000000004,
          0.4,
          0.5,
          0.6000000000000001,
          0.7000000000000001,
          0.8,
          0.9,
          1,
          1.1,
          1.2000000000000002,
          1.3,
          1.4000000000000001,
          1.5,
          1.6,
          1.7000000000000002,
          1.8,
          1.9000000000000001,
          2,
          2.1,
          2.2,
          2.3000000000000003,
          2.4000000000000004,
          2.5,
          2.6,
          2.7,
          2.8000000000000003,
          2.9000000000000004,
          3,
          3.1,
          3.2,
          3.3000000000000003,
          3.4000000000000004
         ],
         "y": [
          1657.35,
          1668.4,
          1677.71,
          1685.58,
          1692.24,
          1697.85,
          1702.57,
          1706.89,
          1710.09,
          1712.6,
          1714.54,
          1715.98,
          1716.94,
          1717.44,
          1717.55,
          1717.3,
          1716.69,
          1715.76,
          1714.53,
          1713.02,
          1711.08,
          1708.83,
          1704.6,
          1692.93,
          1693.69,
          1679.89,
          1675.19,
          1670.21,
          1664.98,
          1659.46,
          1653.61,
          1633.27,
          1607.69,
          1562.68,
          1555.26
         ]
        },
        {
         "mode": "lines",
         "name": "Well_3",
         "type": "scatter",
         "x": [
          0,
          0.1,
          0.2,
          0.30000000000000004,
          0.4,
          0.5,
          0.6000000000000001,
          0.7000000000000001,
          0.8,
          0.9,
          1,
          1.1,
          1.2000000000000002,
          1.3,
          1.4000000000000001,
          1.5,
          1.6,
          1.7000000000000002,
          1.8,
          1.9000000000000001,
          2,
          2.1,
          2.2,
          2.3000000000000003,
          2.4000000000000004,
          2.5,
          2.6,
          2.7,
          2.8000000000000003,
          2.9000000000000004,
          3,
          3.1,
          3.2,
          3.3000000000000003,
          3.4000000000000004
         ],
         "y": [
          1576.44,
          1588.09,
          1597.9,
          1606.21,
          1613.28,
          1619.15,
          1623.94,
          1630.42,
          1633.8,
          1636.59,
          1638.84,
          1640.6,
          1641.92,
          1642.82,
          1643.34,
          1643.5,
          1643.14,
          1642.45,
          1641.48,
          1640.25,
          1638.77,
          1637.05,
          1635.02,
          1632.71,
          1630.13,
          1627.38,
          1624.37,
          1618.9,
          1598.37,
          1573.41,
          1524.03,
          1558.63,
          1508.31,
          1468.74,
          1459.81
         ]
        },
        {
         "mode": "lines",
         "name": "Well_4",
         "type": "scatter",
         "x": [
          0,
          0.1,
          0.2,
          0.30000000000000004,
          0.4,
          0.5,
          0.6000000000000001,
          0.7000000000000001,
          0.8,
          0.9,
          1,
          1.1,
          1.2000000000000002,
          1.3,
          1.4000000000000001,
          1.5,
          1.6,
          1.7000000000000002,
          1.8,
          1.9000000000000001,
          2,
          2.1,
          2.2,
          2.3000000000000003,
          2.4000000000000004,
          2.5,
          2.6,
          2.7,
          2.8000000000000003,
          2.9000000000000004,
          3,
          3.1,
          3.2,
          3.3000000000000003,
          3.4000000000000004
         ],
         "y": [
          1362.42,
          1375.9,
          1387.41,
          1397.28,
          1405.79,
          1413.16,
          1419.53,
          1425,
          1431.86,
          1435.76,
          1438.99,
          1441.7,
          1443.93,
          1445.58,
          1446.83,
          1447.71,
          1448.19,
          1448.2,
          1447.93,
          1447.39,
          1446.57,
          1445.45,
          1444.07,
          1415.06,
          1402.57,
          1393.1,
          1388.1,
          1382.84,
          1375.93,
          1359.22,
          1339.88,
          1345.71,
          1323.33,
          1315.47,
          1309.38
         ]
        },
        {
         "mode": "lines",
         "name": "Well_5",
         "type": "scatter",
         "x": [
          0,
          0.1,
          0.2,
          0.30000000000000004,
          0.4,
          0.5,
          0.6000000000000001,
          0.7000000000000001,
          0.8,
          0.9,
          1,
          1.1,
          1.2000000000000002,
          1.3,
          1.4000000000000001,
          1.5,
          1.6,
          1.7000000000000002,
          1.8,
          1.9000000000000001,
          2,
          2.1,
          2.2,
          2.3000000000000003,
          2.4000000000000004,
          2.5,
          2.6,
          2.7,
          2.8000000000000003,
          2.9000000000000004,
          3,
          3.1,
          3.2,
          3.3000000000000003,
          3.4000000000000004
         ],
         "y": [
          997.05,
          1013.68,
          1027.6,
          1041.02,
          1051.22,
          1060.09,
          1067.58,
          1074.09,
          1079.76,
          1085.05,
          1089.13,
          1092.54,
          1095.47,
          1097.91,
          1099.84,
          1101.44,
          1102.61,
          1103.48,
          1103.99,
          1104.21,
          1096,
          1075.47,
          1072.51,
          1064.42,
          1059.93,
          1048.84,
          1045.06,
          1041.16,
          1037.17,
          1033.08,
          1002.26,
          1005.17,
          978.56,
          972.76,
          966.29
         ]
        },
        {
         "mode": "lines",
         "name": "Well_6",
         "type": "scatter",
         "x": [
          0,
          0.1,
          0.2,
          0.30000000000000004,
          0.4,
          0.5,
          0.6000000000000001,
          0.7000000000000001,
          0.8,
          0.9,
          1,
          1.1,
          1.2000000000000002,
          1.3,
          1.4000000000000001,
          1.5,
          1.6,
          1.7000000000000002,
          1.8,
          1.9000000000000001,
          2,
          2.1,
          2.2,
          2.3000000000000003,
          2.4000000000000004,
          2.5,
          2.6,
          2.7,
          2.8000000000000003,
          2.9000000000000004,
          3,
          3.1,
          3.2,
          3.3000000000000003,
          3.4000000000000004
         ],
         "y": [
          1858.4,
          1867.23,
          1874.69,
          1880.97,
          1886.24,
          1890.55,
          1895.85,
          1898.62,
          1900.76,
          1902.34,
          1903.41,
          1904,
          1904.17,
          1903.94,
          1903.33,
          1902.36,
          1900.93,
          1899.21,
          1897.19,
          1894.91,
          1892.38,
          1889.63,
          1886.6,
          1883.25,
          1879.7,
          1875.98,
          1872.09,
          1867.97,
          1856.63,
          1788.8,
          1781.28,
          1773.08,
          1746.08,
          1724.14,
          1714.59
         ]
        },
        {
         "mode": "lines",
         "name": "Well_7",
         "type": "scatter",
         "x": [
          0,
          0.1,
          0.2,
          0.30000000000000004,
          0.4,
          0.5,
          0.6000000000000001,
          0.7000000000000001,
          0.8,
          0.9,
          1,
          1.1,
          1.2000000000000002,
          1.3,
          1.4000000000000001,
          1.5,
          1.6,
          1.7000000000000002,
          1.8,
          1.9000000000000001,
          2,
          2.1,
          2.2,
          2.3000000000000003,
          2.4000000000000004,
          2.5,
          2.6,
          2.7,
          2.8000000000000003,
          2.9000000000000004,
          3,
          3.1,
          3.2,
          3.3000000000000003,
          3.4000000000000004
         ],
         "y": [
          1767.62,
          1777.72,
          1786.06,
          1793.1,
          1799.04,
          1804.02,
          1808.15,
          1811.54,
          1814.25,
          1816.36,
          1817.93,
          1819,
          1819.5,
          1819.56,
          1819.23,
          1818.56,
          1817.55,
          1816.18,
          1814.48,
          1812.5,
          1810.24,
          1807.75,
          1805.01,
          1801.96,
          1798.72,
          1792.38,
          1755.16,
          1770.67,
          1724.79,
          1717.58,
          1710.17,
          1702.55,
          1694.7,
          1686.63,
          1678.31
         ]
        },
        {
         "mode": "lines",
         "name": "Well_8",
         "type": "scatter",
         "x": [
          0,
          0.1,
          0.2,
          0.30000000000000004,
          0.4,
          0.5,
          0.6000000000000001,
          0.7000000000000001,
          0.8,
          0.9,
          1,
          1.1,
          1.2000000000000002,
          1.3,
          1.4000000000000001,
          1.5,
          1.6,
          1.7000000000000002,
          1.8,
          1.9000000000000001,
          2,
          2.1,
          2.2,
          2.3000000000000003,
          2.4000000000000004,
          2.5,
          2.6,
          2.7,
          2.8000000000000003,
          2.9000000000000004,
          3,
          3.1,
          3.2,
          3.3000000000000003,
          3.4000000000000004
         ],
         "y": [
          1123.93,
          1139.83,
          1153.42,
          1164.63,
          1174.25,
          1182.55,
          1189.79,
          1197.9,
          1203.44,
          1207.98,
          1211.93,
          1215.35,
          1218.15,
          1220.41,
          1222.28,
          1223.78,
          1224.76,
          1225.44,
          1225.85,
          1225.93,
          1225.67,
          1225.19,
          1217.3,
          1204.19,
          1163.03,
          1159.09,
          1154.29,
          1145.01,
          1139.69,
          1133.85,
          1128.2,
          1122.35,
          1116.33,
          1110.18,
          1103.9
         ]
        },
        {
         "mode": "lines",
         "name": "Well_9",
         "type": "scatter",
         "x": [
          0,
          0.1,
          0.2,
          0.30000000000000004,
          0.4,
          0.5,
          0.6000000000000001,
          0.7000000000000001,
          0.8,
          0.9,
          1,
          1.1,
          1.2000000000000002,
          1.3,
          1.4000000000000001,
          1.5,
          1.6,
          1.7000000000000002,
          1.8,
          1.9000000000000001,
          2,
          2.1,
          2.2,
          2.3000000000000003,
          2.4000000000000004,
          2.5,
          2.6,
          2.7,
          2.8000000000000003,
          2.9000000000000004,
          3,
          3.1,
          3.2,
          3.3000000000000003,
          3.4000000000000004
         ],
         "y": [
          1717.52,
          1728,
          1739.01,
          1746.45,
          1752.74,
          1758.03,
          1762.44,
          1766.08,
          1769.02,
          1771.35,
          1773.09,
          1774.24,
          1774.93,
          1775.91,
          1775.8,
          1775.25,
          1774.36,
          1773.18,
          1771.7,
          1769.92,
          1767.82,
          1765.47,
          1762.89,
          1758.05,
          1749.86,
          1739.91,
          1719.97,
          1705.1,
          1698.88,
          1692.43,
          1685.75,
          1677.63,
          1670.49,
          1614.66,
          1630.18
         ]
        },
        {
         "mode": "lines",
         "name": "Well_10",
         "type": "scatter",
         "x": [
          0,
          0.1,
          0.2,
          0.30000000000000004,
          0.4,
          0.5,
          0.6000000000000001,
          0.7000000000000001,
          0.8,
          0.9,
          1,
          1.1,
          1.2000000000000002,
          1.3,
          1.4000000000000001,
          1.5,
          1.6,
          1.7000000000000002,
          1.8,
          1.9000000000000001,
          2,
          2.1,
          2.2,
          2.3000000000000003,
          2.4000000000000004,
          2.5,
          2.6,
          2.7,
          2.8000000000000003,
          2.9000000000000004,
          3,
          3.1,
          3.2,
          3.3000000000000003,
          3.4000000000000004
         ],
         "y": [
          1749.18,
          1759.44,
          1767.97,
          1775.18,
          1781.27,
          1786.37,
          1790.62,
          1794.11,
          1796.92,
          1799.13,
          1800.78,
          1801.88,
          1802.44,
          1802.58,
          1802.34,
          1801.74,
          1800.76,
          1799.43,
          1797.82,
          1795.94,
          1793.75,
          1791.29,
          1788.57,
          1785.61,
          1782.45,
          1752.05,
          1760.88,
          1725.12,
          1715.02,
          1708.09,
          1700.95,
          1693.59,
          1685.9,
          1678.01,
          1669.91
         ]
        }
       ],
       "layout": {
        "template": {
         "data": {
          "bar": [
           {
            "error_x": {
             "color": "#2a3f5f"
            },
            "error_y": {
             "color": "#2a3f5f"
            },
            "marker": {
             "line": {
              "color": "#E5ECF6",
              "width": 0.5
             },
             "pattern": {
              "fillmode": "overlay",
              "size": 10,
              "solidity": 0.2
             }
            },
            "type": "bar"
           }
          ],
          "barpolar": [
           {
            "marker": {
             "line": {
              "color": "#E5ECF6",
              "width": 0.5
             },
             "pattern": {
              "fillmode": "overlay",
              "size": 10,
              "solidity": 0.2
             }
            },
            "type": "barpolar"
           }
          ],
          "carpet": [
           {
            "aaxis": {
             "endlinecolor": "#2a3f5f",
             "gridcolor": "white",
             "linecolor": "white",
             "minorgridcolor": "white",
             "startlinecolor": "#2a3f5f"
            },
            "baxis": {
             "endlinecolor": "#2a3f5f",
             "gridcolor": "white",
             "linecolor": "white",
             "minorgridcolor": "white",
             "startlinecolor": "#2a3f5f"
            },
            "type": "carpet"
           }
          ],
          "choropleth": [
           {
            "colorbar": {
             "outlinewidth": 0,
             "ticks": ""
            },
            "type": "choropleth"
           }
          ],
          "contour": [
           {
            "colorbar": {
             "outlinewidth": 0,
             "ticks": ""
            },
            "colorscale": [
             [
              0,
              "#0d0887"
             ],
             [
              0.1111111111111111,
              "#46039f"
             ],
             [
              0.2222222222222222,
              "#7201a8"
             ],
             [
              0.3333333333333333,
              "#9c179e"
             ],
             [
              0.4444444444444444,
              "#bd3786"
             ],
             [
              0.5555555555555556,
              "#d8576b"
             ],
             [
              0.6666666666666666,
              "#ed7953"
             ],
             [
              0.7777777777777778,
              "#fb9f3a"
             ],
             [
              0.8888888888888888,
              "#fdca26"
             ],
             [
              1,
              "#f0f921"
             ]
            ],
            "type": "contour"
           }
          ],
          "contourcarpet": [
           {
            "colorbar": {
             "outlinewidth": 0,
             "ticks": ""
            },
            "type": "contourcarpet"
           }
          ],
          "heatmap": [
           {
            "colorbar": {
             "outlinewidth": 0,
             "ticks": ""
            },
            "colorscale": [
             [
              0,
              "#0d0887"
             ],
             [
              0.1111111111111111,
              "#46039f"
             ],
             [
              0.2222222222222222,
              "#7201a8"
             ],
             [
              0.3333333333333333,
              "#9c179e"
             ],
             [
              0.4444444444444444,
              "#bd3786"
             ],
             [
              0.5555555555555556,
              "#d8576b"
             ],
             [
              0.6666666666666666,
              "#ed7953"
             ],
             [
              0.7777777777777778,
              "#fb9f3a"
             ],
             [
              0.8888888888888888,
              "#fdca26"
             ],
             [
              1,
              "#f0f921"
             ]
            ],
            "type": "heatmap"
           }
          ],
          "heatmapgl": [
           {
            "colorbar": {
             "outlinewidth": 0,
             "ticks": ""
            },
            "colorscale": [
             [
              0,
              "#0d0887"
             ],
             [
              0.1111111111111111,
              "#46039f"
             ],
             [
              0.2222222222222222,
              "#7201a8"
             ],
             [
              0.3333333333333333,
              "#9c179e"
             ],
             [
              0.4444444444444444,
              "#bd3786"
             ],
             [
              0.5555555555555556,
              "#d8576b"
             ],
             [
              0.6666666666666666,
              "#ed7953"
             ],
             [
              0.7777777777777778,
              "#fb9f3a"
             ],
             [
              0.8888888888888888,
              "#fdca26"
             ],
             [
              1,
              "#f0f921"
             ]
            ],
            "type": "heatmapgl"
           }
          ],
          "histogram": [
           {
            "marker": {
             "pattern": {
              "fillmode": "overlay",
              "size": 10,
              "solidity": 0.2
             }
            },
            "type": "histogram"
           }
          ],
          "histogram2d": [
           {
            "colorbar": {
             "outlinewidth": 0,
             "ticks": ""
            },
            "colorscale": [
             [
              0,
              "#0d0887"
             ],
             [
              0.1111111111111111,
              "#46039f"
             ],
             [
              0.2222222222222222,
              "#7201a8"
             ],
             [
              0.3333333333333333,
              "#9c179e"
             ],
             [
              0.4444444444444444,
              "#bd3786"
             ],
             [
              0.5555555555555556,
              "#d8576b"
             ],
             [
              0.6666666666666666,
              "#ed7953"
             ],
             [
              0.7777777777777778,
              "#fb9f3a"
             ],
             [
              0.8888888888888888,
              "#fdca26"
             ],
             [
              1,
              "#f0f921"
             ]
            ],
            "type": "histogram2d"
           }
          ],
          "histogram2dcontour": [
           {
            "colorbar": {
             "outlinewidth": 0,
             "ticks": ""
            },
            "colorscale": [
             [
              0,
              "#0d0887"
             ],
             [
              0.1111111111111111,
              "#46039f"
             ],
             [
              0.2222222222222222,
              "#7201a8"
             ],
             [
              0.3333333333333333,
              "#9c179e"
             ],
             [
              0.4444444444444444,
              "#bd3786"
             ],
             [
              0.5555555555555556,
              "#d8576b"
             ],
             [
              0.6666666666666666,
              "#ed7953"
             ],
             [
              0.7777777777777778,
              "#fb9f3a"
             ],
             [
              0.8888888888888888,
              "#fdca26"
             ],
             [
              1,
              "#f0f921"
             ]
            ],
            "type": "histogram2dcontour"
           }
          ],
          "mesh3d": [
           {
            "colorbar": {
             "outlinewidth": 0,
             "ticks": ""
            },
            "type": "mesh3d"
           }
          ],
          "parcoords": [
           {
            "line": {
             "colorbar": {
              "outlinewidth": 0,
              "ticks": ""
             }
            },
            "type": "parcoords"
           }
          ],
          "pie": [
           {
            "automargin": true,
            "type": "pie"
           }
          ],
          "scatter": [
           {
            "marker": {
             "colorbar": {
              "outlinewidth": 0,
              "ticks": ""
             }
            },
            "type": "scatter"
           }
          ],
          "scatter3d": [
           {
            "line": {
             "colorbar": {
              "outlinewidth": 0,
              "ticks": ""
             }
            },
            "marker": {
             "colorbar": {
              "outlinewidth": 0,
              "ticks": ""
             }
            },
            "type": "scatter3d"
           }
          ],
          "scattercarpet": [
           {
            "marker": {
             "colorbar": {
              "outlinewidth": 0,
              "ticks": ""
             }
            },
            "type": "scattercarpet"
           }
          ],
          "scattergeo": [
           {
            "marker": {
             "colorbar": {
              "outlinewidth": 0,
              "ticks": ""
             }
            },
            "type": "scattergeo"
           }
          ],
          "scattergl": [
           {
            "marker": {
             "colorbar": {
              "outlinewidth": 0,
              "ticks": ""
             }
            },
            "type": "scattergl"
           }
          ],
          "scattermapbox": [
           {
            "marker": {
             "colorbar": {
              "outlinewidth": 0,
              "ticks": ""
             }
            },
            "type": "scattermapbox"
           }
          ],
          "scatterpolar": [
           {
            "marker": {
             "colorbar": {
              "outlinewidth": 0,
              "ticks": ""
             }
            },
            "type": "scatterpolar"
           }
          ],
          "scatterpolargl": [
           {
            "marker": {
             "colorbar": {
              "outlinewidth": 0,
              "ticks": ""
             }
            },
            "type": "scatterpolargl"
           }
          ],
          "scatterternary": [
           {
            "marker": {
             "colorbar": {
              "outlinewidth": 0,
              "ticks": ""
             }
            },
            "type": "scatterternary"
           }
          ],
          "surface": [
           {
            "colorbar": {
             "outlinewidth": 0,
             "ticks": ""
            },
            "colorscale": [
             [
              0,
              "#0d0887"
             ],
             [
              0.1111111111111111,
              "#46039f"
             ],
             [
              0.2222222222222222,
              "#7201a8"
             ],
             [
              0.3333333333333333,
              "#9c179e"
             ],
             [
              0.4444444444444444,
              "#bd3786"
             ],
             [
              0.5555555555555556,
              "#d8576b"
             ],
             [
              0.6666666666666666,
              "#ed7953"
             ],
             [
              0.7777777777777778,
              "#fb9f3a"
             ],
             [
              0.8888888888888888,
              "#fdca26"
             ],
             [
              1,
              "#f0f921"
             ]
            ],
            "type": "surface"
           }
          ],
          "table": [
           {
            "cells": {
             "fill": {
              "color": "#EBF0F8"
             },
             "line": {
              "color": "white"
             }
            },
            "header": {
             "fill": {
              "color": "#C8D4E3"
             },
             "line": {
              "color": "white"
             }
            },
            "type": "table"
           }
          ]
         },
         "layout": {
          "annotationdefaults": {
           "arrowcolor": "#2a3f5f",
           "arrowhead": 0,
           "arrowwidth": 1
          },
          "autotypenumbers": "strict",
          "coloraxis": {
           "colorbar": {
            "outlinewidth": 0,
            "ticks": ""
           }
          },
          "colorscale": {
           "diverging": [
            [
             0,
             "#8e0152"
            ],
            [
             0.1,
             "#c51b7d"
            ],
            [
             0.2,
             "#de77ae"
            ],
            [
             0.3,
             "#f1b6da"
            ],
            [
             0.4,
             "#fde0ef"
            ],
            [
             0.5,
             "#f7f7f7"
            ],
            [
             0.6,
             "#e6f5d0"
            ],
            [
             0.7,
             "#b8e186"
            ],
            [
             0.8,
             "#7fbc41"
            ],
            [
             0.9,
             "#4d9221"
            ],
            [
             1,
             "#276419"
            ]
           ],
           "sequential": [
            [
             0,
             "#0d0887"
            ],
            [
             0.1111111111111111,
             "#46039f"
            ],
            [
             0.2222222222222222,
             "#7201a8"
            ],
            [
             0.3333333333333333,
             "#9c179e"
            ],
            [
             0.4444444444444444,
             "#bd3786"
            ],
            [
             0.5555555555555556,
             "#d8576b"
            ],
            [
             0.6666666666666666,
             "#ed7953"
            ],
            [
             0.7777777777777778,
             "#fb9f3a"
            ],
            [
             0.8888888888888888,
             "#fdca26"
            ],
            [
             1,
             "#f0f921"
            ]
           ],
           "sequentialminus": [
            [
             0,
             "#0d0887"
            ],
            [
             0.1111111111111111,
             "#46039f"
            ],
            [
             0.2222222222222222,
             "#7201a8"
            ],
            [
             0.3333333333333333,
             "#9c179e"
            ],
            [
             0.4444444444444444,
             "#bd3786"
            ],
            [
             0.5555555555555556,
             "#d8576b"
            ],
            [
             0.6666666666666666,
             "#ed7953"
            ],
            [
             0.7777777777777778,
             "#fb9f3a"
            ],
            [
             0.8888888888888888,
             "#fdca26"
            ],
            [
             1,
             "#f0f921"
            ]
           ]
          },
          "colorway": [
           "#636efa",
           "#EF553B",
           "#00cc96",
           "#ab63fa",
           "#FFA15A",
           "#19d3f3",
           "#FF6692",
           "#B6E880",
           "#FF97FF",
           "#FECB52"
          ],
          "font": {
           "color": "#2a3f5f"
          },
          "geo": {
           "bgcolor": "white",
           "lakecolor": "white",
           "landcolor": "#E5ECF6",
           "showlakes": true,
           "showland": true,
           "subunitcolor": "white"
          },
          "hoverlabel": {
           "align": "left"
          },
          "hovermode": "closest",
          "mapbox": {
           "style": "light"
          },
          "paper_bgcolor": "white",
          "plot_bgcolor": "#E5ECF6",
          "polar": {
           "angularaxis": {
            "gridcolor": "white",
            "linecolor": "white",
            "ticks": ""
           },
           "bgcolor": "#E5ECF6",
           "radialaxis": {
            "gridcolor": "white",
            "linecolor": "white",
            "ticks": ""
           }
          },
          "scene": {
           "xaxis": {
            "backgroundcolor": "#E5ECF6",
            "gridcolor": "white",
            "gridwidth": 2,
            "linecolor": "white",
            "showbackground": true,
            "ticks": "",
            "zerolinecolor": "white"
           },
           "yaxis": {
            "backgroundcolor": "#E5ECF6",
            "gridcolor": "white",
            "gridwidth": 2,
            "linecolor": "white",
            "showbackground": true,
            "ticks": "",
            "zerolinecolor": "white"
           },
           "zaxis": {
            "backgroundcolor": "#E5ECF6",
            "gridcolor": "white",
            "gridwidth": 2,
            "linecolor": "white",
            "showbackground": true,
            "ticks": "",
            "zerolinecolor": "white"
           }
          },
          "shapedefaults": {
           "line": {
            "color": "#2a3f5f"
           }
          },
          "ternary": {
           "aaxis": {
            "gridcolor": "white",
            "linecolor": "white",
            "ticks": ""
           },
           "baxis": {
            "gridcolor": "white",
            "linecolor": "white",
            "ticks": ""
           },
           "bgcolor": "#E5ECF6",
           "caxis": {
            "gridcolor": "white",
            "linecolor": "white",
            "ticks": ""
           }
          },
          "title": {
           "x": 0.05
          },
          "xaxis": {
           "automargin": true,
           "gridcolor": "white",
           "linecolor": "white",
           "ticks": "",
           "title": {
            "standoff": 15
           },
           "zerolinecolor": "white",
           "zerolinewidth": 2
          },
          "yaxis": {
           "automargin": true,
           "gridcolor": "white",
           "linecolor": "white",
           "ticks": "",
           "title": {
            "standoff": 15
           },
           "zerolinecolor": "white",
           "zerolinewidth": 2
          }
         }
        },
        "title": {
         "text": "Sensitivity Plot",
         "x": 0.5
        },
        "xaxis": {
         "nticks": 50,
         "title": {
          "text": "Gaslift Gas Injection Rate(MMscf/day)"
         }
        },
        "yaxis": {
         "nticks": 20,
         "title": {
          "text": "Oil Rate(STB/day)"
         }
        }
       }
      }
     },
     "metadata": {},
     "output_type": "display_data"
    }
   ],
   "source": [
    "fig = go.Figure()\n",
    "for i in range(1,number_of_wells+1):\n",
    "    \n",
    "    fig.add_trace(go.Scatter(x=df['gas_injection_array'], y=df[f'Well_{i}'],\\\n",
    "                            mode='lines', name=f'Well_{i}'))\n",
    "fig.update_layout(title='Sensitivity Plot',\n",
    "                   xaxis_title='Gaslift Gas Injection Rate(MMscf/day)',\n",
    "                   yaxis_title='Oil Rate(STB/day)',\n",
    "                   title_x=0.5, \n",
    "                   )\n",
    "fig.update_xaxes(nticks=50)\n",
    "fig.update_yaxes(nticks=20)\n",
    "fig.show()"
   ]
  },
  {
   "cell_type": "code",
   "execution_count": 7,
   "metadata": {},
   "outputs": [
    {
     "data": {
      "text/html": [
       "<div>\n",
       "<style scoped>\n",
       "    .dataframe tbody tr th:only-of-type {\n",
       "        vertical-align: middle;\n",
       "    }\n",
       "\n",
       "    .dataframe tbody tr th {\n",
       "        vertical-align: top;\n",
       "    }\n",
       "\n",
       "    .dataframe thead th {\n",
       "        text-align: right;\n",
       "    }\n",
       "</style>\n",
       "<table border=\"1\" class=\"dataframe\">\n",
       "  <thead>\n",
       "    <tr style=\"text-align: right;\">\n",
       "      <th></th>\n",
       "      <th>gas_injection_array</th>\n",
       "      <th>Well_1</th>\n",
       "      <th>Well_2</th>\n",
       "      <th>Well_3</th>\n",
       "      <th>Well_4</th>\n",
       "      <th>Well_5</th>\n",
       "      <th>Well_6</th>\n",
       "      <th>Well_7</th>\n",
       "      <th>Well_8</th>\n",
       "      <th>Well_9</th>\n",
       "      <th>Well_10</th>\n",
       "    </tr>\n",
       "  </thead>\n",
       "  <tbody>\n",
       "    <tr>\n",
       "      <th>0</th>\n",
       "      <td>0.0</td>\n",
       "      <td>878.37</td>\n",
       "      <td>1657.35</td>\n",
       "      <td>1576.44</td>\n",
       "      <td>1362.42</td>\n",
       "      <td>997.05</td>\n",
       "      <td>1858.40</td>\n",
       "      <td>1767.62</td>\n",
       "      <td>1123.93</td>\n",
       "      <td>1717.52</td>\n",
       "      <td>1749.18</td>\n",
       "    </tr>\n",
       "    <tr>\n",
       "      <th>1</th>\n",
       "      <td>0.1</td>\n",
       "      <td>896.05</td>\n",
       "      <td>1668.40</td>\n",
       "      <td>1588.09</td>\n",
       "      <td>1375.90</td>\n",
       "      <td>1013.68</td>\n",
       "      <td>1867.23</td>\n",
       "      <td>1777.72</td>\n",
       "      <td>1139.83</td>\n",
       "      <td>1728.00</td>\n",
       "      <td>1759.44</td>\n",
       "    </tr>\n",
       "    <tr>\n",
       "      <th>2</th>\n",
       "      <td>0.2</td>\n",
       "      <td>911.90</td>\n",
       "      <td>1677.71</td>\n",
       "      <td>1597.90</td>\n",
       "      <td>1387.41</td>\n",
       "      <td>1027.60</td>\n",
       "      <td>1874.69</td>\n",
       "      <td>1786.06</td>\n",
       "      <td>1153.42</td>\n",
       "      <td>1739.01</td>\n",
       "      <td>1767.97</td>\n",
       "    </tr>\n",
       "    <tr>\n",
       "      <th>3</th>\n",
       "      <td>0.3</td>\n",
       "      <td>924.19</td>\n",
       "      <td>1685.58</td>\n",
       "      <td>1606.21</td>\n",
       "      <td>1397.28</td>\n",
       "      <td>1041.02</td>\n",
       "      <td>1880.97</td>\n",
       "      <td>1793.10</td>\n",
       "      <td>1164.63</td>\n",
       "      <td>1746.45</td>\n",
       "      <td>1775.18</td>\n",
       "    </tr>\n",
       "    <tr>\n",
       "      <th>4</th>\n",
       "      <td>0.4</td>\n",
       "      <td>935.19</td>\n",
       "      <td>1692.24</td>\n",
       "      <td>1613.28</td>\n",
       "      <td>1405.79</td>\n",
       "      <td>1051.22</td>\n",
       "      <td>1886.24</td>\n",
       "      <td>1799.04</td>\n",
       "      <td>1174.25</td>\n",
       "      <td>1752.74</td>\n",
       "      <td>1781.27</td>\n",
       "    </tr>\n",
       "  </tbody>\n",
       "</table>\n",
       "</div>"
      ],
      "text/plain": [
       "   gas_injection_array  Well_1   Well_2   Well_3   Well_4   Well_5   Well_6  \\\n",
       "0                  0.0  878.37  1657.35  1576.44  1362.42   997.05  1858.40   \n",
       "1                  0.1  896.05  1668.40  1588.09  1375.90  1013.68  1867.23   \n",
       "2                  0.2  911.90  1677.71  1597.90  1387.41  1027.60  1874.69   \n",
       "3                  0.3  924.19  1685.58  1606.21  1397.28  1041.02  1880.97   \n",
       "4                  0.4  935.19  1692.24  1613.28  1405.79  1051.22  1886.24   \n",
       "\n",
       "    Well_7   Well_8   Well_9  Well_10  \n",
       "0  1767.62  1123.93  1717.52  1749.18  \n",
       "1  1777.72  1139.83  1728.00  1759.44  \n",
       "2  1786.06  1153.42  1739.01  1767.97  \n",
       "3  1793.10  1164.63  1746.45  1775.18  \n",
       "4  1799.04  1174.25  1752.74  1781.27  "
      ]
     },
     "execution_count": 7,
     "metadata": {},
     "output_type": "execute_result"
    }
   ],
   "source": [
    "df.head()"
   ]
  },
  {
   "cell_type": "code",
   "execution_count": 8,
   "metadata": {},
   "outputs": [
    {
     "data": {
      "text/plain": [
       "[{'production_rate': 987.44, 'gas_lift': 1.7000000000000002},\n",
       " {'production_rate': 1717.55, 'gas_lift': 1.4000000000000001},\n",
       " {'production_rate': 1643.5, 'gas_lift': 1.5},\n",
       " {'production_rate': 1448.2, 'gas_lift': 1.7000000000000002},\n",
       " {'production_rate': 1104.21, 'gas_lift': 1.9000000000000001},\n",
       " {'production_rate': 1904.17, 'gas_lift': 1.2000000000000002},\n",
       " {'production_rate': 1819.56, 'gas_lift': 1.3},\n",
       " {'production_rate': 1225.93, 'gas_lift': 1.9000000000000001},\n",
       " {'production_rate': 1775.91, 'gas_lift': 1.3},\n",
       " {'production_rate': 1802.58, 'gas_lift': 1.3}]"
      ]
     },
     "execution_count": 8,
     "metadata": {},
     "output_type": "execute_result"
    }
   ],
   "source": [
    "#extracting max gas lift oil rate pairs\n",
    "df_new = df.drop('gas_injection_array', axis=1)\n",
    "wells = []\n",
    "i=1\n",
    "for element in df_new.idxmax():\n",
    "    oil_rate = df_new[f'Well_{i}'][element]\n",
    "    gas_lift = df['gas_injection_array'][element]\n",
    "    wells.append({'production_rate':oil_rate, 'gas_lift':gas_lift})\n",
    "    i+=1\n",
    "wells"
   ]
  },
  {
   "cell_type": "code",
   "execution_count": 1,
   "metadata": {},
   "outputs": [],
   "source": [
    "wells = [{'production_rate': 987.44, 'gas_lift': 1.7},\n",
    "         {'production_rate': 1717.55, 'gas_lift': 1.4},\n",
    "         {'production_rate': 1643.5, 'gas_lift': 1.5},\n",
    "         {'production_rate': 1448.2, 'gas_lift': 1.7},\n",
    "         {'production_rate': 1104.21, 'gas_lift': 1.9},\n",
    "         {'production_rate': 1904.17, 'gas_lift': 1.2},\n",
    "         {'production_rate': 1819.56, 'gas_lift': 1.3},\n",
    "         {'production_rate': 1225.93, 'gas_lift': 1.9},\n",
    "         {'production_rate': 1775.91, 'gas_lift': 1.3},\n",
    "         {'production_rate': 1802.58, 'gas_lift': 1.3}]\n",
    "well_list = [(d['production_rate'], d['gas_lift']) for d in wells]"
   ]
  },
  {
   "cell_type": "markdown",
   "metadata": {},
   "source": [
    "# Ant Colony Algorithm"
   ]
  },
  {
   "cell_type": "code",
   "execution_count": 28,
   "metadata": {},
   "outputs": [],
   "source": [
    "import numpy as np\n",
    "\n",
    "def optimize_gas_allocation(wells, gas_capacity, alpha, beta, evaporation_rate, iteration_count):\n",
    "    \"\"\"\n",
    "    Optimizes the allocation of gas to a group of wells using an ant colony algorithm.\n",
    "    \n",
    "    Parameters:\n",
    "    - wells: a list of dictionaries representing the wells, where each dictionary contains the following keys:\n",
    "        - 'production_rate': the production rate of the well (in STB/day)\n",
    "        - 'gas_lift': the gas lift of the well (in STB/day)\n",
    "    - gas_capacity: the total gas capacity available for allocation (in STB/day)\n",
    "    - alpha: the weight of the pheromone trail in the decision making process\n",
    "    - beta: the weight of the heuristic value in the decision making process\n",
    "    - evaporation_rate: the rate at which the pheromone trails evaporate\n",
    "    - iteration_count: the number of iterations to run the algorithm for\n",
    "    \n",
    "    Returns:\n",
    "    - A list of dictionaries representing the optimized allocation of gas to the wells, where each dictionary contains the following keys:\n",
    "        - 'well_id': the ID of the well\n",
    "        - 'allocation': the optimized allocation of gas to the well (in STB/day)\n",
    "    \"\"\"\n",
    "    # Initialize the pheromone trails and heuristic values for each well\n",
    "    pheromone_trails = np.ones(len(wells))\n",
    "    heuristic_values = np.array([well['gas_lift'] / well['production_rate'] for well in wells])\n",
    "    \n",
    "    # Run the algorithm for the specified number of iterations\n",
    "    for i in range(iteration_count):\n",
    "        # Initialize the allocation for each well\n",
    "        allocations = np.zeros(len(wells))\n",
    "        \n",
    "        # Allocate gas to each well using the ant colony algorithm\n",
    "        remaining_gas = gas_capacity\n",
    "        for j, well in enumerate(wells):\n",
    "            # Calculate the allocation probability for the well\n",
    "            allocation_probability = (pheromone_trails[j] ** alpha) * (heuristic_values[j] ** beta)\n",
    "            allocation_probability /= np.sum((pheromone_trails ** alpha) * (heuristic_values ** beta))\n",
    "            \n",
    "            # Allocate gas to the well based on the allocation probability\n",
    "            allocation = remaining_gas * allocation_probability\n",
    "            allocations[j] = allocation\n",
    "            remaining_gas -= allocation\n",
    "            \n",
    "        # Evaporate the pheromone trails based on the evaporation rate\n",
    "        pheromone_trails *= (1 - evaporation_rate)\n",
    "        \n",
    "        # Update the pheromone trails based on the allocations\n",
    "        for j, well in enumerate(wells):\n",
    "            pheromone_trails[j] += allocations[j] / well['production_rate']\n",
    "    \n",
    "    # Return the optimized allocation of gas to the wells\n",
    "    return [{'well_id': j, 'allocation': allocations[j]} for j in range(len(wells))]\n",
    "   \n"
   ]
  },
  {
   "attachments": {},
   "cell_type": "markdown",
   "metadata": {},
   "source": [
    "# Current solution"
   ]
  },
  {
   "cell_type": "code",
   "execution_count": 58,
   "metadata": {},
   "outputs": [],
   "source": [
    "import numpy as np\n",
    "\n",
    "def optimize_gas_allocation(wells, gas_capacity, alpha, beta, evaporation_rate, iteration_count):\n",
    "    \"\"\"\n",
    "    Optimizes the allocation of gas to a group of wells using an ant colony algorithm.\n",
    "    \n",
    "    Parameters:\n",
    "    - wells: a list of dictionaries representing the wells, where each dictionary contains the following keys:\n",
    "        - 'production_rate': the production rate of the well (in STB/day)\n",
    "        - 'gas_lift': the gas lift of the well (in STB/day)\n",
    "    - gas_capacity: the total gas capacity available for allocation (in STB/day)\n",
    "    - alpha: the weight of the pheromone trail in the decision making process\n",
    "    - beta: the weight of the heuristic value in the decision making process\n",
    "    - evaporation_rate: the rate at which the pheromone trails evaporate\n",
    "    - iteration_count: the number of iterations to run the algorithm for\n",
    "    \n",
    "    Returns:\n",
    "    - A list of dictionaries representing the optimized allocation of gas to the wells, where each dictionary contains the following keys:\n",
    "        - 'well_id': the ID of the well\n",
    "        - 'allocation': the optimized allocation of gas to the well (in STB/day)\n",
    "    \"\"\"\n",
    "    # Initialize the pheromone trails and heuristic values for each well\n",
    "    pheromone_trails = np.ones(len(wells))\n",
    "    heuristic_values = np.array([well['gas_lift'] / well['production_rate'] for well in wells])\n",
    "    \n",
    "    # Run the algorithm for the specified number of iterations\n",
    "    for i in range(iteration_count):\n",
    "        # Initialize the allocation for each well\n",
    "        allocations = np.zeros(len(wells))\n",
    "        \n",
    "        # Allocate gas to each well using the ant colony algorithm\n",
    "        remaining_gas = gas_capacity\n",
    "        for j, well in enumerate(wells):\n",
    "            # Calculate the allocation probability for the well\n",
    "            allocation_probability = (pheromone_trails[j] ** alpha) * (heuristic_values[j] ** beta)\n",
    "            allocation_probability /= np.sum((pheromone_trails ** alpha) * (heuristic_values ** beta))\n",
    "            \n",
    "            # Allocate gas to the well based on the allocation probability\n",
    "            allocation = remaining_gas * allocation_probability\n",
    "            allocations[j] = allocation\n",
    "            remaining_gas -= allocation\n",
    "            \n",
    "        # Evaporate the pheromone trails based on the evaporation rate\n",
    "        pheromone_trails *= (1 - evaporation_rate)\n",
    "        \n",
    "        # Update the pheromone trails based on the allocations\n",
    "        for j, well in enumerate(wells):\n",
    "            pheromone_trails[j] += allocations[j] / well['production_rate']\n",
    "    \n",
    "    # Return the optimized allocation of gas to the wells\n",
    "    return [{'well_id': j, 'allocation': allocations[j]} for j in range(len(wells))]\n",
    "   \n"
   ]
  },
  {
   "cell_type": "code",
   "execution_count": 2,
   "metadata": {},
   "outputs": [],
   "source": [
    "import numpy as np\n",
    "\n",
    "def optimize_gas_allocation(wells, gas_capacity, alpha, beta, evaporation_rate, iteration_count):\n",
    "    \"\"\"\n",
    "    Optimizes the allocation of gas to a group of wells using an ant colony algorithm.\n",
    "    \n",
    "    Parameters:\n",
    "    - wells: a list of dictionaries representing the wells, where each dictionary contains the following keys:\n",
    "        - 'production_rate': the production rate of the well (in STB/day)\n",
    "        - 'gas_lift': the gas lift of the well (in STB/day)\n",
    "    - gas_capacity: the total gas capacity available for allocation (in STB/day)\n",
    "    - alpha: the weight of the pheromone trail in the decision making process\n",
    "    - beta: the weight of the heuristic value in the decision making process\n",
    "    - evaporation_rate: the rate at which the pheromone trails evaporate\n",
    "    - iteration_count: the number of iterations to run the algorithm for\n",
    "    \n",
    "    Returns:\n",
    "    - A list of dictionaries representing the optimized allocation of gas to the wells, where each dictionary contains the following keys:\n",
    "        - 'well_id': the ID of the well\n",
    "        - 'allocation': the optimized allocation of gas to the well (in STB/day)\n",
    "    \"\"\"\n",
    "    # Initialize the pheromone trails and heuristic values for each well\n",
    "    pheromone_trails = np.ones(len(wells))\n",
    "    heuristic_values = np.array([well['production_rate'] / well['gas_lift'] for well in wells])\n",
    "    \n",
    "    # Run the algorithm for the specified number of iterations\n",
    "    for i in range(iteration_count):\n",
    "        # Initialize the allocation for each well\n",
    "        allocations = np.zeros(len(wells))\n",
    "        \n",
    "        # Allocate gas to each well using the ant colony algorithm\n",
    "        remaining_gas = gas_capacity\n",
    "        for j, well in enumerate(wells):\n",
    "            # Calculate the allocation probability for the well\n",
    "            allocation_probability = (pheromone_trails[j] ** alpha) * (heuristic_values[j] ** beta)\n",
    "            allocation_probability /= np.sum((pheromone_trails ** alpha) * (heuristic_values ** beta))\n",
    "            \n",
    "            # Allocate gas to the well based on the allocation probability\n",
    "            allocation = min(well['gas_lift'], remaining_gas * allocation_probability)\n",
    "            allocations[j] = allocation\n",
    "            remaining_gas -= allocation\n",
    "        \n",
    "        # Evaporate the pheromone trails based on the evaporation rate\n",
    "        pheromone_trails *= (1 - evaporation_rate)\n",
    "        \n",
    "        # Update the pheromone trails based on the allocations\n",
    "        for j, well in enumerate(wells):\n",
    "            pheromone_trails[j] += allocations[j] / well['production_rate']\n",
    "    \n",
    "    # Return the optimized allocation of gas to the wells\n",
    "    return [{'well_id': j, 'allocation': allocations[j]} for j in range(len(wells))]\n"
   ]
  },
  {
   "attachments": {},
   "cell_type": "markdown",
   "metadata": {},
   "source": [
    "# Testing the current solution"
   ]
  },
  {
   "cell_type": "code",
   "execution_count": 3,
   "metadata": {},
   "outputs": [
    {
     "name": "stdout",
     "output_type": "stream",
     "text": [
      "[{'well_id': 0, 'allocation': 0.09094789272866953}, {'well_id': 1, 'allocation': 0.40633464193362706}, {'well_id': 2, 'allocation': 0.2819790109739494}, {'well_id': 3, 'allocation': 0.15247020108331652}, {'well_id': 4, 'allocation': 0.06638461126992312}, {'well_id': 5, 'allocation': 0.5013861782060725}, {'well_id': 6, 'allocation': 0.3063987178399005}, {'well_id': 7, 'allocation': 0.05379974424759531}, {'well_id': 8, 'allocation': 0.23771980390858372}, {'well_id': 9, 'allocation': 0.20867506038042455}]\n"
     ]
    }
   ],
   "source": [
    "gas_capacity = 3.5\n",
    "alpha = 1\n",
    "beta = 2\n",
    "evaporation_rate = 0.1\n",
    "iteration_count = 30\n",
    "\n",
    "# Optimize the allocation of gas to the wells\n",
    "allocations = optimize_gas_allocation(wells, gas_capacity, alpha, beta, evaporation_rate, iteration_count)\n",
    "\n",
    "# Print the optimized allocation\n",
    "print(allocations)\n"
   ]
  },
  {
   "cell_type": "code",
   "execution_count": 4,
   "metadata": {},
   "outputs": [
    {
     "name": "stdout",
     "output_type": "stream",
     "text": [
      "2.3060958625720622\n"
     ]
    }
   ],
   "source": [
    "sum_gas = 0\n",
    "for alloc in allocations:\n",
    "    sum_gas+=alloc['allocation']\n",
    "print(sum_gas)"
   ]
  },
  {
   "attachments": {},
   "cell_type": "markdown",
   "metadata": {},
   "source": [
    "# Visualize the current solution"
   ]
  },
  {
   "cell_type": "code",
   "execution_count": 27,
   "metadata": {},
   "outputs": [
    {
     "data": {
      "text/plain": [
       "{'gas_injection_array_1': array([0.  , 0.05]),\n",
       " 'gas_injection_array_2': array([0.  , 0.05, 0.1 , 0.15, 0.2 , 0.25, 0.3 , 0.35, 0.4 ]),\n",
       " 'gas_injection_array_3': array([0.  , 0.05, 0.1 , 0.15, 0.2 , 0.25]),\n",
       " 'gas_injection_array_4': array([0.  , 0.05, 0.1 , 0.15]),\n",
       " 'gas_injection_array_5': array([0.  , 0.05]),\n",
       " 'gas_injection_array_6': array([0.  , 0.05, 0.1 , 0.15, 0.2 , 0.25, 0.3 , 0.35, 0.4 , 0.45, 0.5 ]),\n",
       " 'gas_injection_array_7': array([0.  , 0.05, 0.1 , 0.15, 0.2 , 0.25, 0.3 ]),\n",
       " 'gas_injection_array_8': array([0.  , 0.05]),\n",
       " 'gas_injection_array_9': array([0.  , 0.05, 0.1 , 0.15, 0.2 ]),\n",
       " 'gas_injection_array_10': array([0.  , 0.05, 0.1 , 0.15, 0.2 ])}"
      ]
     },
     "execution_count": 27,
     "metadata": {},
     "output_type": "execute_result"
    }
   ],
   "source": [
    "# for j in range(len(allocations)):\n",
    "gas_dict = {}\n",
    "for i in range(len(allocations)):\n",
    "    gas_available = allocations[i]['allocation']\n",
    "    increment = 0.05\n",
    "    gas_injection_array = np.arange(0, gas_available, increment)\n",
    "    gas_dict[f'gas_injection_array_{i+1}'] = gas_injection_array\n",
    "gas_dict"
   ]
  },
  {
   "cell_type": "code",
   "execution_count": 37,
   "metadata": {},
   "outputs": [
    {
     "name": "stdout",
     "output_type": "stream",
     "text": [
      "OpenServer connected\n",
      "Well 1 opened\n",
      "Well 1 closed\n",
      "Well 2 opened\n",
      "Well 2 closed\n",
      "Well 3 opened\n",
      "Well 3 closed\n",
      "Well 4 opened\n",
      "Well 4 closed\n",
      "Well 5 opened\n",
      "Well 5 closed\n",
      "Well 6 opened\n",
      "Well 6 closed\n",
      "Well 7 opened\n",
      "Well 7 closed\n",
      "Well 8 opened\n",
      "Well 8 closed\n",
      "Well 9 opened\n",
      "Well 9 closed\n",
      "Well 10 opened\n",
      "Well 10 closed\n"
     ]
    },
    {
     "data": {
      "text/plain": [
       "{'well_1': [878.37, 887.66],\n",
       " 'well_2': [1657.35,\n",
       "  1663.12,\n",
       "  1668.4,\n",
       "  1673.25,\n",
       "  1677.71,\n",
       "  1681.81,\n",
       "  1685.58,\n",
       "  1689.05,\n",
       "  1692.24],\n",
       " 'well_3': [1576.44, 1582.52, 1588.09, 1593.2, 1597.9, 1602.23],\n",
       " 'well_4': [1362.42, 1369.43, 1375.9, 1381.88],\n",
       " 'well_5': [997.05, 1005.79],\n",
       " 'well_6': [1858.4,\n",
       "  1863.0,\n",
       "  1867.23,\n",
       "  1871.12,\n",
       "  1874.69,\n",
       "  1877.97,\n",
       "  1880.97,\n",
       "  1883.72,\n",
       "  1886.24,\n",
       "  1888.53,\n",
       "  1890.55],\n",
       " 'well_7': [1767.62, 1772.88, 1777.72, 1782.06, 1786.06, 1789.73, 1793.1],\n",
       " 'well_8': [1123.93, 1132.25],\n",
       " 'well_9': [1717.52, 1723.02, 1728.0, 1734.79, 1739.01],\n",
       " 'well_10': [1749.18, 1754.56, 1759.44, 1763.88, 1767.97]}"
      ]
     },
     "execution_count": 37,
     "metadata": {},
     "output_type": "execute_result"
    }
   ],
   "source": [
    "# Initialises an 'OpenServer' class\n",
    "\n",
    "petex = OpenServer()\n",
    "\n",
    "# Creates ActiveX reference and holds a license\n",
    "\n",
    "petex.Connect()\n",
    "oil_rates_for_wells = {}\n",
    "\n",
    "# Perform functions\n",
    "\n",
    "cwd = os.getcwd()\n",
    "for j in range(len(gas_dict)):\n",
    "#opening well file\n",
    "    OSOpenFile(petex, cwd + f'\\models\\well_{j+1}.Out', 'PROSPER')\n",
    "    print(f'Well {j+1} opened')\n",
    "\n",
    "    for i in range(0,len(gas_dict[f'gas_injection_array_{j+1}'])):\n",
    "            command = f'PROSPER.ANL.SYS.Sens.SensDB.Sens[138].Vals[{i}]'\n",
    "            DoSet(petex, command,gas_dict[f'gas_injection_array_{j+1}'][i])\n",
    "    DoCmd(petex, 'PROSPER.ANL.SYS.CALC')\n",
    "    oil_rates = [] #list of oil rates for 1 well\n",
    "    for i in range(0, len(gas_dict[f'gas_injection_array_{j+1}'])):\n",
    "            value = f'PROSPER.OUT.SYS.Results[{i}].Sol.OilRate'\n",
    "            oil_rates.append(np.round(float(DoGet(petex, value)),2))\n",
    "    oil_rates_for_wells[f'well_{j+1}'] = oil_rates\n",
    "\n",
    "    #closing file   \n",
    "    OSSaveFile(petex, cwd + f'\\well_{j+1}.Out', 'PROSPER')\n",
    "    print(f'Well {j+1} closed')\n",
    "\n",
    "#merging to main dataframe\n",
    "\n",
    "# df[f'Well_2'] = oil_rates_for_wells[f'well_2']\n",
    "\n",
    "oil_rates_for_wells"
   ]
  },
  {
   "cell_type": "code",
   "execution_count": 42,
   "metadata": {},
   "outputs": [
    {
     "ename": "AttributeError",
     "evalue": "module 'plotly.graph_objects' has no attribute 'make_subplots'",
     "output_type": "error",
     "traceback": [
      "\u001b[1;31m---------------------------------------------------------------------------\u001b[0m",
      "\u001b[1;31mAttributeError\u001b[0m                            Traceback (most recent call last)",
      "\u001b[1;32mc:\\prosper\\openserver_with_python\\main.ipynb Cell 25\u001b[0m in \u001b[0;36m<cell line: 12>\u001b[1;34m()\u001b[0m\n\u001b[0;32m      <a href='vscode-notebook-cell:/c%3A/prosper/openserver_with_python/main.ipynb#Y101sZmlsZQ%3D%3D?line=8'>9</a>\u001b[0m gas_injection_values \u001b[39m=\u001b[39m \u001b[39mlist\u001b[39m(gas_dict\u001b[39m.\u001b[39mvalues())\n\u001b[0;32m     <a href='vscode-notebook-cell:/c%3A/prosper/openserver_with_python/main.ipynb#Y101sZmlsZQ%3D%3D?line=10'>11</a>\u001b[0m \u001b[39m# Create a figure with subplots for each well\u001b[39;00m\n\u001b[1;32m---> <a href='vscode-notebook-cell:/c%3A/prosper/openserver_with_python/main.ipynb#Y101sZmlsZQ%3D%3D?line=11'>12</a>\u001b[0m fig \u001b[39m=\u001b[39m go\u001b[39m.\u001b[39;49mmake_subplots(rows\u001b[39m=\u001b[39m\u001b[39mlen\u001b[39m(well_names), cols\u001b[39m=\u001b[39m\u001b[39m1\u001b[39m, subplot_titles\u001b[39m=\u001b[39mwell_names)\n\u001b[0;32m     <a href='vscode-notebook-cell:/c%3A/prosper/openserver_with_python/main.ipynb#Y101sZmlsZQ%3D%3D?line=13'>14</a>\u001b[0m \u001b[39m# Loop through the well names, oil rates, and gas injection arrays\u001b[39;00m\n\u001b[0;32m     <a href='vscode-notebook-cell:/c%3A/prosper/openserver_with_python/main.ipynb#Y101sZmlsZQ%3D%3D?line=14'>15</a>\u001b[0m \u001b[39mfor\u001b[39;00m i, well_name, oil_rate, gas_injection \u001b[39min\u001b[39;00m \u001b[39mzip\u001b[39m(\u001b[39mrange\u001b[39m(\u001b[39mlen\u001b[39m(well_names)), well_names, oil_rates_values, gas_injection_values):\n\u001b[0;32m     <a href='vscode-notebook-cell:/c%3A/prosper/openserver_with_python/main.ipynb#Y101sZmlsZQ%3D%3D?line=15'>16</a>\u001b[0m     \u001b[39m# Add a trace to the figure for the current well\u001b[39;00m\n",
      "File \u001b[1;32mc:\\Users\\aliyu\\anaconda3\\envs\\internship\\lib\\site-packages\\plotly\\graph_objects\\__init__.py:298\u001b[0m, in \u001b[0;36m__getattr__\u001b[1;34m(import_name)\u001b[0m\n\u001b[0;32m    294\u001b[0m         \u001b[39mfrom\u001b[39;00m \u001b[39m.\u001b[39;00m\u001b[39m.\u001b[39;00m\u001b[39mmissing_ipywidgets\u001b[39;00m \u001b[39mimport\u001b[39;00m FigureWidget\n\u001b[0;32m    296\u001b[0m         \u001b[39mreturn\u001b[39;00m FigureWidget\n\u001b[1;32m--> 298\u001b[0m \u001b[39mreturn\u001b[39;00m orig_getattr(import_name)\n",
      "File \u001b[1;32mc:\\Users\\aliyu\\anaconda3\\envs\\internship\\lib\\site-packages\\_plotly_utils\\importers.py:39\u001b[0m, in \u001b[0;36mrelative_import.<locals>.__getattr__\u001b[1;34m(import_name)\u001b[0m\n\u001b[0;32m     36\u001b[0m     class_module \u001b[39m=\u001b[39m importlib\u001b[39m.\u001b[39mimport_module(rel_module, parent_name)\n\u001b[0;32m     37\u001b[0m     \u001b[39mreturn\u001b[39;00m \u001b[39mgetattr\u001b[39m(class_module, class_name)\n\u001b[1;32m---> 39\u001b[0m \u001b[39mraise\u001b[39;00m \u001b[39mAttributeError\u001b[39;00m(\n\u001b[0;32m     40\u001b[0m     \u001b[39m\"\u001b[39m\u001b[39mmodule \u001b[39m\u001b[39m{__name__!r}\u001b[39;00m\u001b[39m has no attribute \u001b[39m\u001b[39m{name!r}\u001b[39;00m\u001b[39m\"\u001b[39m\u001b[39m.\u001b[39mformat(\n\u001b[0;32m     41\u001b[0m         name\u001b[39m=\u001b[39mimport_name, \u001b[39m__name__\u001b[39m\u001b[39m=\u001b[39mparent_name\n\u001b[0;32m     42\u001b[0m     )\n\u001b[0;32m     43\u001b[0m )\n",
      "\u001b[1;31mAttributeError\u001b[0m: module 'plotly.graph_objects' has no attribute 'make_subplots'"
     ]
    }
   ],
   "source": [
    "import plotly.express as px\n",
    "import plotly.graph_objects as go\n",
    "\n",
    "# Extract the keys (well names) and values (oil rates) from the oil_rates_for_wells dictionary\n",
    "well_names = list(oil_rates_for_wells.keys())\n",
    "oil_rates_values = list(oil_rates_for_wells.values())\n",
    "\n",
    "# Extract the values (gas injection arrays) from the gas_dict dictionary\n",
    "gas_injection_values = list(gas_dict.values())\n",
    "\n",
    "# Create a figure with subplots for each well\n",
    "fig = go.make_subplots(rows=len(well_names), cols=1, subplot_titles=well_names)\n",
    "\n",
    "# Loop through the well names, oil rates, and gas injection arrays\n",
    "for i, well_name, oil_rate, gas_injection in zip(range(len(well_names)), well_names, oil_rates_values, gas_injection_values):\n",
    "    # Add a trace to the figure for the current well\n",
    "    fig.add_trace(go.Scatter(x=gas_injection, y=oil_rate, name=well_name))\n",
    "\n",
    "# Update the layout of the figure\n",
    "fig.update_layout(title='Gas injection vs oil rate')\n",
    "\n",
    "# Show the figure\n",
    "fig.show()\n"
   ]
  },
  {
   "cell_type": "code",
   "execution_count": null,
   "metadata": {},
   "outputs": [],
   "source": []
  },
  {
   "attachments": {},
   "cell_type": "markdown",
   "metadata": {},
   "source": [
    "# 1"
   ]
  },
  {
   "cell_type": "code",
   "execution_count": 57,
   "metadata": {},
   "outputs": [],
   "source": [
    "import numpy as np\n",
    "class Ant:\n",
    "  def __init__(self, num_wells):\n",
    "    self.num_wells = num_wells\n",
    "    self.solution = []\n",
    "    \n",
    "  def choose_next_node(self, pheromone, graph):\n",
    "    # Choose the next node based on the pheromone levels and heuristic information\n",
    "    pass\n",
    "    \n",
    "  def get_solution(self):\n",
    "    return self.solution\n",
    "\n",
    "def evaluate_solution(solution, wells, graph):\n",
    "  total_oil_rate = 0\n",
    "  total_gas_lift = 0\n",
    "  for i, j in zip(solution[:-1], solution[1:]):\n",
    "    oil_rate, _ = wells[i]\n",
    "    gas_lift = graph[i, j]\n",
    "    total_oil_rate += oil_rate * gas_lift\n",
    "    total_gas_lift += gas_lift\n",
    "  return total_oil_rate / total_gas_lift\n",
    "\n",
    "def optimize_gas_lift(wells, gas_lift):\n",
    "  num_wells = len(wells)\n",
    "  \n",
    "  # Initialize the pheromone levels on the edges\n",
    "  pheromone = np.ones((num_wells, num_wells))\n",
    "  \n",
    "  # Initialize the graph with the initial gas lift allocation\n",
    "  graph = np.zeros((num_wells, num_wells))\n",
    "  for i in range(num_wells):\n",
    "    _, gas_lift = wells[i]\n",
    "    graph[i, i] = gas_lift\n",
    "  \n",
    "  # Create the colony of ants\n",
    "  colony_size = 10  # Number of ants in the colony\n",
    "  colony = []\n",
    "  for _ in range(colony_size):\n",
    "    colony.append(Ant(num_wells))\n",
    "  \n",
    "  # Iterate until the solution converges\n",
    "  best_solution = None\n",
    "  while True:\n",
    "    # Let each ant choose the next node to visit based on the pheromone levels and heuristic information\n",
    "    for ant in colony:\n",
    "      ant.choose_next_node(pheromone, graph)\n",
    "      \n",
    "    # Update the pheromone levels based on the quality of the solutions found by the ants\n",
    "    for ant in colony:\n",
    "      solution = ant.get_solution()\n",
    "      quality = evaluate_solution(solution)  # Calculate the quality of the solution\n",
    "      for i, j in zip(solution[:-1], solution[1:]):\n",
    "        pheromone[i, j] += quality\n",
    "        pheromone[j, i] += quality\n",
    "    \n"
   ]
  },
  {
   "cell_type": "code",
   "execution_count": 29,
   "metadata": {},
   "outputs": [],
   "source": [
    "def test_optimize_gas_lift():\n",
    "  # Test with a simple input where all wells have the same oil production rate\n",
    "  wells = [(100, 1) for _ in range(10)]\n",
    "  gas_lift = 5\n",
    "  expected_output = [(100, 1.5) for _ in range(5)] + [(100, 1) for _ in range(5)]\n",
    "  assert optimize_gas_lift(wells, gas_lift) == expected_output\n",
    "\n"
   ]
  },
  {
   "cell_type": "code",
   "execution_count": 32,
   "metadata": {},
   "outputs": [
    {
     "ename": "TypeError",
     "evalue": "evaluate_solution() missing 2 required positional arguments: 'wells' and 'graph'",
     "output_type": "error",
     "traceback": [
      "\u001b[1;31m---------------------------------------------------------------------------\u001b[0m",
      "\u001b[1;31mTypeError\u001b[0m                                 Traceback (most recent call last)",
      "\u001b[1;32mc:\\prosper\\openserver_with_python\\main.ipynb Cell 19\u001b[0m in \u001b[0;36m<cell line: 7>\u001b[1;34m()\u001b[0m\n\u001b[0;32m      <a href='vscode-notebook-cell:/c%3A/prosper/openserver_with_python/main.ipynb#X42sZmlsZQ%3D%3D?line=3'>4</a>\u001b[0m gas_lift \u001b[39m=\u001b[39m \u001b[39m20\u001b[39m\n\u001b[0;32m      <a href='vscode-notebook-cell:/c%3A/prosper/openserver_with_python/main.ipynb#X42sZmlsZQ%3D%3D?line=4'>5</a>\u001b[0m expected_output \u001b[39m=\u001b[39m [(\u001b[39m987.44\u001b[39m, \u001b[39m1.9\u001b[39m), (\u001b[39m1717.55\u001b[39m, \u001b[39m1.6\u001b[39m), (\u001b[39m1643.5\u001b[39m, \u001b[39m1.7\u001b[39m), (\u001b[39m1448.2\u001b[39m, \u001b[39m1.9\u001b[39m), (\u001b[39m1104.21\u001b[39m, \u001b[39m2.1\u001b[39m),\n\u001b[0;32m      <a href='vscode-notebook-cell:/c%3A/prosper/openserver_with_python/main.ipynb#X42sZmlsZQ%3D%3D?line=5'>6</a>\u001b[0m                   (\u001b[39m1904.17\u001b[39m, \u001b[39m1.4\u001b[39m), (\u001b[39m1819.56\u001b[39m, \u001b[39m1.5\u001b[39m), (\u001b[39m1225.93\u001b[39m, \u001b[39m2.1\u001b[39m), (\u001b[39m1775.91\u001b[39m, \u001b[39m1.5\u001b[39m), (\u001b[39m1802.58\u001b[39m, \u001b[39m1.5\u001b[39m)]\n\u001b[1;32m----> <a href='vscode-notebook-cell:/c%3A/prosper/openserver_with_python/main.ipynb#X42sZmlsZQ%3D%3D?line=6'>7</a>\u001b[0m \u001b[39massert\u001b[39;00m optimize_gas_lift(wells, gas_lift) \u001b[39m==\u001b[39m expected_output\n",
      "\u001b[1;32mc:\\prosper\\openserver_with_python\\main.ipynb Cell 19\u001b[0m in \u001b[0;36moptimize_gas_lift\u001b[1;34m(wells, gas_lift)\u001b[0m\n\u001b[0;32m     <a href='vscode-notebook-cell:/c%3A/prosper/openserver_with_python/main.ipynb#X42sZmlsZQ%3D%3D?line=49'>50</a>\u001b[0m \u001b[39mfor\u001b[39;00m ant \u001b[39min\u001b[39;00m colony:\n\u001b[0;32m     <a href='vscode-notebook-cell:/c%3A/prosper/openserver_with_python/main.ipynb#X42sZmlsZQ%3D%3D?line=50'>51</a>\u001b[0m   solution \u001b[39m=\u001b[39m ant\u001b[39m.\u001b[39mget_solution()\n\u001b[1;32m---> <a href='vscode-notebook-cell:/c%3A/prosper/openserver_with_python/main.ipynb#X42sZmlsZQ%3D%3D?line=51'>52</a>\u001b[0m   quality \u001b[39m=\u001b[39m evaluate_solution(solution)  \u001b[39m# Calculate the quality of the solution\u001b[39;00m\n\u001b[0;32m     <a href='vscode-notebook-cell:/c%3A/prosper/openserver_with_python/main.ipynb#X42sZmlsZQ%3D%3D?line=52'>53</a>\u001b[0m   \u001b[39mfor\u001b[39;00m i, j \u001b[39min\u001b[39;00m \u001b[39mzip\u001b[39m(solution[:\u001b[39m-\u001b[39m\u001b[39m1\u001b[39m], solution[\u001b[39m1\u001b[39m:]):\n\u001b[0;32m     <a href='vscode-notebook-cell:/c%3A/prosper/openserver_with_python/main.ipynb#X42sZmlsZQ%3D%3D?line=53'>54</a>\u001b[0m     pheromone[i, j] \u001b[39m+\u001b[39m\u001b[39m=\u001b[39m quality\n",
      "\u001b[1;31mTypeError\u001b[0m: evaluate_solution() missing 2 required positional arguments: 'wells' and 'graph'"
     ]
    }
   ],
   "source": [
    "  # Test with the list of tuples provided in the question\n",
    "wells = [(987.44, 1.7), (1717.55, 1.4), (1643.5, 1.5), (1448.2, 1.7), (1104.21, 1.9),\n",
    "          (1904.17, 1.2), (1819.56, 1.3), (1225.93, 1.9), (1775.91, 1.3), (1802.58, 1.3)]\n",
    "gas_lift = 20\n",
    "expected_output = [(987.44, 1.9), (1717.55, 1.6), (1643.5, 1.7), (1448.2, 1.9), (1104.21, 2.1),\n",
    "                    (1904.17, 1.4), (1819.56, 1.5), (1225.93, 2.1), (1775.91, 1.5), (1802.58, 1.5)]\n",
    "assert optimize_gas_lift(wells, gas_lift) == expected_output"
   ]
  },
  {
   "cell_type": "code",
   "execution_count": 27,
   "metadata": {},
   "outputs": [
    {
     "name": "stdout",
     "output_type": "stream",
     "text": [
      "2.9280910888115694\n"
     ]
    }
   ],
   "source": [
    "sum = 0\n",
    "for i in range(len(allocations)):\n",
    "    sum+=allocations[i]['allocation']\n",
    "print(sum)"
   ]
  },
  {
   "attachments": {},
   "cell_type": "markdown",
   "metadata": {},
   "source": [
    "# 2"
   ]
  },
  {
   "cell_type": "code",
   "execution_count": 23,
   "metadata": {},
   "outputs": [],
   "source": [
    "def optimize_gas_lift(wells, gas_lift):\n",
    "  # Sort the wells in descending order based on their current oil production rate\n",
    "  wells.sort(key=lambda x: -x[0])\n",
    "  \n",
    "  # Allocate the gas lift to the wells\n",
    "  for well in wells:\n",
    "    oil_rate, current_gas_lift = well\n",
    "    while gas_lift > 0:\n",
    "      # Calculate the increase in oil production rate if we increase the gas lift by 1 unit\n",
    "      increase_in_oil_rate = calculate_increase_in_oil_rate(oil_rate, current_gas_lift + 1)\n",
    "      if increase_in_oil_rate <= 0:\n",
    "        break\n",
    "      # Increase the gas lift for this well and decrease the available gas lift\n",
    "      current_gas_lift += 1\n",
    "      gas_lift -= 1\n",
    "      \n",
    "  # Return the updated list of wells with the optimized gas lift allocation\n",
    "  return [(oil_rate, current_gas_lift) for oil_rate, _ in wells]\n"
   ]
  },
  {
   "cell_type": "code",
   "execution_count": 25,
   "metadata": {},
   "outputs": [
    {
     "ename": "ZeroDivisionError",
     "evalue": "division by zero",
     "output_type": "error",
     "traceback": [
      "\u001b[1;31m---------------------------------------------------------------------------\u001b[0m",
      "\u001b[1;31mZeroDivisionError\u001b[0m                         Traceback (most recent call last)",
      "\u001b[1;32mc:\\prosper\\openserver_with_python\\main.ipynb Cell 22\u001b[0m in \u001b[0;36m<cell line: 16>\u001b[1;34m()\u001b[0m\n\u001b[0;32m     <a href='vscode-notebook-cell:/c%3A/prosper/openserver_with_python/main.ipynb#X33sZmlsZQ%3D%3D?line=12'>13</a>\u001b[0m num_ants \u001b[39m=\u001b[39m \u001b[39m10\u001b[39m\n\u001b[0;32m     <a href='vscode-notebook-cell:/c%3A/prosper/openserver_with_python/main.ipynb#X33sZmlsZQ%3D%3D?line=13'>14</a>\u001b[0m num_iterations \u001b[39m=\u001b[39m \u001b[39m100\u001b[39m\n\u001b[1;32m---> <a href='vscode-notebook-cell:/c%3A/prosper/openserver_with_python/main.ipynb#X33sZmlsZQ%3D%3D?line=15'>16</a>\u001b[0m solution \u001b[39m=\u001b[39m ACO(wells, gas_lift, num_ants, num_iterations)\n\u001b[0;32m     <a href='vscode-notebook-cell:/c%3A/prosper/openserver_with_python/main.ipynb#X33sZmlsZQ%3D%3D?line=16'>17</a>\u001b[0m \u001b[39mprint\u001b[39m(\u001b[39mf\u001b[39m\u001b[39m\"\u001b[39m\u001b[39mSolution: \u001b[39m\u001b[39m{\u001b[39;00msolution\u001b[39m}\u001b[39;00m\u001b[39m\"\u001b[39m)\n\u001b[0;32m     <a href='vscode-notebook-cell:/c%3A/prosper/openserver_with_python/main.ipynb#X33sZmlsZQ%3D%3D?line=17'>18</a>\u001b[0m \u001b[39mprint\u001b[39m(\u001b[39mf\u001b[39m\u001b[39m\"\u001b[39m\u001b[39mTotal production rate: \u001b[39m\u001b[39m{\u001b[39;00mcalculate_production_rate(solution, wells)\u001b[39m}\u001b[39;00m\u001b[39m\"\u001b[39m)\n",
      "\u001b[1;32mc:\\prosper\\openserver_with_python\\main.ipynb Cell 22\u001b[0m in \u001b[0;36mACO\u001b[1;34m(wells, gas_lift, num_ants, num_iterations)\u001b[0m\n\u001b[0;32m     <a href='vscode-notebook-cell:/c%3A/prosper/openserver_with_python/main.ipynb#X33sZmlsZQ%3D%3D?line=73'>74</a>\u001b[0m     best_solution_index \u001b[39m=\u001b[39m production_rates\u001b[39m.\u001b[39mindex(\u001b[39mmax\u001b[39m(production_rates))\n\u001b[0;32m     <a href='vscode-notebook-cell:/c%3A/prosper/openserver_with_python/main.ipynb#X33sZmlsZQ%3D%3D?line=75'>76</a>\u001b[0m     \u001b[39m# Update the pheromone matrix\u001b[39;00m\n\u001b[1;32m---> <a href='vscode-notebook-cell:/c%3A/prosper/openserver_with_python/main.ipynb#X33sZmlsZQ%3D%3D?line=76'>77</a>\u001b[0m     pheromone_matrix \u001b[39m=\u001b[39m update_pheromone_matrix(pheromone_matrix, solution_matrix[best_solution_index], alpha\u001b[39m=\u001b[39;49m\u001b[39m1\u001b[39;49m, beta\u001b[39m=\u001b[39;49m\u001b[39m1\u001b[39;49m)\n\u001b[0;32m     <a href='vscode-notebook-cell:/c%3A/prosper/openserver_with_python/main.ipynb#X33sZmlsZQ%3D%3D?line=78'>79</a>\u001b[0m \u001b[39m# Return the best solution\u001b[39;00m\n\u001b[0;32m     <a href='vscode-notebook-cell:/c%3A/prosper/openserver_with_python/main.ipynb#X33sZmlsZQ%3D%3D?line=79'>80</a>\u001b[0m \u001b[39mreturn\u001b[39;00m solution_matrix[best_solution_index]\n",
      "\u001b[1;32mc:\\prosper\\openserver_with_python\\main.ipynb Cell 22\u001b[0m in \u001b[0;36mupdate_pheromone_matrix\u001b[1;34m(pheromone_matrix, solution, alpha, beta)\u001b[0m\n\u001b[0;32m     <a href='vscode-notebook-cell:/c%3A/prosper/openserver_with_python/main.ipynb#X33sZmlsZQ%3D%3D?line=30'>31</a>\u001b[0m \u001b[39m\"\"\"Update the pheromone matrix based on the solution.\"\"\"\u001b[39;00m\n\u001b[0;32m     <a href='vscode-notebook-cell:/c%3A/prosper/openserver_with_python/main.ipynb#X33sZmlsZQ%3D%3D?line=31'>32</a>\u001b[0m \u001b[39m# Calculate the pheromone deposit\u001b[39;00m\n\u001b[1;32m---> <a href='vscode-notebook-cell:/c%3A/prosper/openserver_with_python/main.ipynb#X33sZmlsZQ%3D%3D?line=32'>33</a>\u001b[0m pheromone_deposit \u001b[39m=\u001b[39m \u001b[39m1\u001b[39;49m \u001b[39m/\u001b[39;49m calculate_production_rate(solution, wells)\n\u001b[0;32m     <a href='vscode-notebook-cell:/c%3A/prosper/openserver_with_python/main.ipynb#X33sZmlsZQ%3D%3D?line=34'>35</a>\u001b[0m \u001b[39m# Update the pheromone matrix\u001b[39;00m\n\u001b[0;32m     <a href='vscode-notebook-cell:/c%3A/prosper/openserver_with_python/main.ipynb#X33sZmlsZQ%3D%3D?line=35'>36</a>\u001b[0m \u001b[39mfor\u001b[39;00m i \u001b[39min\u001b[39;00m \u001b[39mrange\u001b[39m(\u001b[39mlen\u001b[39m(pheromone_matrix)):\n",
      "\u001b[1;31mZeroDivisionError\u001b[0m: division by zero"
     ]
    }
   ],
   "source": [
    "# Test the ACO algorithm\n",
    "wells = [{'production_rate': 987.44, 'gas_lift': 1.7000000000000002},\n",
    "         {'production_rate': 1717.55, 'gas_lift': 1.4000000000000001},\n",
    "         {'production_rate': 1643.5, 'gas_lift': 1.5},\n",
    "         {'production_rate': 1448.2, 'gas_lift': 1.7000000000000002},\n",
    "         {'production_rate': 1104.21, 'gas_lift': 1.9000000000000001},\n",
    "         {'production_rate': 1904.17, 'gas_lift': 1.2000000000000002},\n",
    "         {'production_rate': 1819.56, 'gas_lift': 1.3},\n",
    "         {'production_rate': 1225.93, 'gas_lift': 1.9000000000000001},\n",
    "         {'production_rate': 1775.91, 'gas_lift': 1.3},\n",
    "         {'production_rate': 1802.58, 'gas_lift': 1.3}]\n",
    "gas_lift = 20\n",
    "num_ants = 10\n",
    "num_iterations = 100\n",
    "\n",
    "solution = ACO(wells, gas_lift, num_ants, num_iterations)\n",
    "print(f\"Solution: {solution}\")\n",
    "print(f\"Total production rate: {calculate_production_rate(solution, wells)}\")\n"
   ]
  },
  {
   "attachments": {},
   "cell_type": "markdown",
   "metadata": {},
   "source": [
    "# 3"
   ]
  },
  {
   "cell_type": "code",
   "execution_count": 35,
   "metadata": {},
   "outputs": [
    {
     "data": {
      "text/plain": [
       "<__main__.Solution at 0x20844f5c250>"
      ]
     },
     "execution_count": 35,
     "metadata": {},
     "output_type": "execute_result"
    }
   ],
   "source": [
    "import random\n",
    "\n",
    "# Define a class to represent a candidate solution (i.e., allocation of gas to the wells)\n",
    "class Solution:\n",
    "  def __init__(self, gas_allocation):\n",
    "    self.gas_allocation = gas_allocation\n",
    "    self.fitness = 0\n",
    "  \n",
    "  def evaluate_fitness(self, well_data):\n",
    "    \"\"\"Calculate the fitness of the solution by summing the production rates of all the wells.\n",
    "    well_data is a list of tuples, where each tuple contains the maximum production rate and gas lift for a well.\n",
    "    \"\"\"\n",
    "    total_production_rate = 0\n",
    "    for i, (rate, lift) in enumerate(well_data):\n",
    "      allocated_gas = self.gas_allocation[i]\n",
    "      if allocated_gas > lift:\n",
    "        allocated_gas = lift\n",
    "      total_production_rate += rate * (allocated_gas / lift)\n",
    "    self.fitness = total_production_rate\n",
    "  \n",
    "  def generate_offspring(self, max_gas):\n",
    "    \"\"\"Create a new solution by making small changes to the gas allocation of the current solution.\"\"\"\n",
    "    new_allocation = self.gas_allocation[:]  # create a copy of the gas allocation\n",
    "    i = random.randint(0, len(new_allocation) - 1)  # choose a random well\n",
    "    delta = random.uniform(-10, 10)  # choose a random change in gas allocation\n",
    "    new_allocation[i] += delta\n",
    "    if new_allocation[i] < 0:  # make sure the gas allocation is non-negative\n",
    "      new_allocation[i] = 0\n",
    "    # Make sure the total gas allocation does not exceed the maximum gas available\n",
    "    if sum(new_allocation) > max_gas:\n",
    "      new_allocation[i] -= (sum(new_allocation) - max_gas)\n",
    "    return Solution(new_allocation)\n",
    "\n",
    "\n",
    "# Define the main Ant Colony Optimization algorithm\n",
    "def AntColonyOptimization(well_data, max_gas):\n",
    "  # Initialize the algorithm by generating a random set of candidate solutions\n",
    "  population = [Solution([random.uniform(0, max_gas) for _ in range(len(well_data))]) for _ in range(50)]\n",
    "  for solution in population:\n",
    "    solution.evaluate_fitness(well_data)\n",
    "  \n",
    "  # Run the algorithm for a specified number of iterations\n",
    "  for _ in range(100):\n",
    "    parent = random.choice(population)  # select a parent solution based on its fitness\n",
    "    offspring = parent.generate_offspring(max_gas)  # generate an offspring solution\n",
    "    offspring.evaluate_fitness(well_data)\n",
    "    if offspring.fitness > parent.fitness:  # if the offspring is better than the parent, replace the parent with the offspring\n",
    "      parent = offspring\n",
    "  \n",
    "  # Return the best solution found\n",
    "  return max(population, key=lambda x: x.fitness)\n",
    "\n",
    "\n",
    "# Example usage\n",
    "well_data = [\n",
    "  (100, 50),  # well 1 has a maximum production rate of 100 units with 50 units of gas lift\n",
    "  (80, 40),   # well 2 has a maximum production rate of 80 units with 40 units of gas lift\n",
    "  (60, 30),   # well 3 has a maximum production rate of 60 units with 30 units of gas lift\n",
    "]\n",
    "max_gas = 200  # total amount of gas available\n",
    "\n",
    "best_solution = AntColonyOptimization(well_data, max_gas)\n",
    "best_solution\n"
   ]
  },
  {
   "attachments": {},
   "cell_type": "markdown",
   "metadata": {},
   "source": [
    "# 4"
   ]
  },
  {
   "cell_type": "code",
   "execution_count": 52,
   "metadata": {},
   "outputs": [],
   "source": [
    "import random\n",
    "\n",
    "# Define a class to represent a candidate solution (i.e., allocation of gas to the wells)\n",
    "class Solution:\n",
    "  def __init__(self, gas_allocation):\n",
    "    self.gas_allocation = gas_allocation\n",
    "    self.fitness = 0\n",
    "  \n",
    "  def evaluate_fitness(self, well_data):\n",
    "    \"\"\"Calculate the fitness of the solution by summing the production rates of all the wells.\n",
    "    well_data is a list of tuples, where each tuple contains the maximum production rate and gas lift for a well.\n",
    "    \"\"\"\n",
    "    total_production_rate = 0\n",
    "    for i, (rate, lift) in enumerate(well_data):\n",
    "      allocated_gas = self.gas_allocation[i]\n",
    "      if allocated_gas > lift:\n",
    "        allocated_gas = lift\n",
    "      total_production_rate += rate * (allocated_gas / lift)\n",
    "    self.fitness = total_production_rate\n",
    "  \n",
    "  def generate_offspring(self, well_data):\n",
    "      \"\"\"Create a new solution by making small changes to the gas allocation of the current solution.\"\"\"\n",
    "      new_allocation = self.gas_allocation[:]  # create a copy of the gas allocation\n",
    "      i = random.randint(0, len(new_allocation) - 1)  # choose a random well\n",
    "      delta = random.uniform(-10, 10)  # choose a random change in gas allocation\n",
    "      new_allocation[i] += delta\n",
    "      if new_allocation[i] < 0:  # make sure the gas allocation is non-negative\n",
    "        new_allocation[i] = 0\n",
    "      # Make sure the gas allocation for each well does not exceed the maximum gas lift\n",
    "      for i, (rate, lift) in enumerate(well_data):\n",
    "        if new_allocation[i] > lift:\n",
    "          new_allocation[i] = lift\n",
    "      return Solution(new_allocation)\n",
    "\n",
    "\n",
    "\n",
    "def AntColonyOptimization(well_data, max_gas):\n",
    "  # Initialize the algorithm by generating a random set of candidate solutions\n",
    "  population = [Solution([random.uniform(0, max_gas) for _ in range(len(well_data))]) for _ in range(50)]\n",
    "  for solution in population:\n",
    "    solution.evaluate_fitness(well_data)\n",
    "  \n",
    "  # Run the algorithm for a specified number of iterations\n",
    "  for _ in range(100):\n",
    "    parent = random.choice(population)  # select a parent solution based on its fitness\n",
    "    offspring = parent.generate_offspring(well_data)  # generate an offspring solution\n",
    "    offspring.evaluate_fitness(well_data)\n",
    "    if offspring.fitness > parent.fitness:  # if the offspring is better than the parent, replace the parent with the offspring\n",
    "      parent = offspring\n",
    "  \n",
    "  # Return the best solution found\n",
    "  return max(population, key=lambda x: x.fitness)\n",
    "\n",
    "\n",
    "# Print the results of the optimization\n",
    "def print_results(solution, well_data):\n",
    "  total_production_rate = 0\n",
    "  total_gas_allocated = 0\n",
    "  for i, (rate, lift) in enumerate(well_data):\n",
    "    allocated_gas = solution.gas_allocation[i]\n",
    "    if allocated_gas > lift:\n",
    "      allocated_gas = lift\n",
    "    production_rate = rate * (allocated_gas / lift)\n",
    "    total_production_rate += production_rate\n",
    "    total_gas_allocated += allocated_gas\n",
    "    print(f\"Well {i+1}: allocated {allocated_gas} units of gas, production rate = {production_rate}\")\n",
    "  print(f\"Total gas allocated: {total_gas_allocated}\")\n",
    "  print(f\"Total production rate: {total_production_rate}\")\n",
    "\n"
   ]
  },
  {
   "cell_type": "code",
   "execution_count": 53,
   "metadata": {},
   "outputs": [
    {
     "name": "stdout",
     "output_type": "stream",
     "text": [
      "Well 1: allocated 50 units of gas, production rate = 100.0\n",
      "Well 2: allocated 40 units of gas, production rate = 80.0\n",
      "Well 3: allocated 30 units of gas, production rate = 60.0\n",
      "Well 4: allocated 50 units of gas, production rate = 70.0\n",
      "Well 5: allocated 90 units of gas, production rate = 80.0\n",
      "Total gas allocated: 260\n",
      "Total production rate: 390.0\n"
     ]
    }
   ],
   "source": [
    "# Example usage\n",
    "well_data = [\n",
    "  (100, 50),  # well 1 has a maximum production rate of 100 units with 50 units of gas lift\n",
    "  (80, 40),   # well 2 has a maximum production rate of 80 units with 40 units of gas lift\n",
    "  (60, 30),  \n",
    "  (70, 50),\n",
    "  (80, 90),# well 3 has a maximum production rate of 60 units with 30 units of gas lift\n",
    "]\n",
    "max_gas = 200  # total amount of gas available\n",
    "\n",
    "best_solution = AntColonyOptimization(well_data, max_gas)\n",
    "print_results(best_solution, well_data)\n"
   ]
  },
  {
   "attachments": {},
   "cell_type": "markdown",
   "metadata": {},
   "source": [
    "# 5"
   ]
  },
  {
   "cell_type": "code",
   "execution_count": 77,
   "metadata": {},
   "outputs": [],
   "source": [
    "class Ant:\n",
    "    def __init__(self):\n",
    "        self.allocation = []\n",
    "    \n",
    "    def update_allocation(self, pheromone_levels):\n",
    "        # Update the allocation of the ant based on the pheromone levels and the ACO rules\n",
    "        pass\n",
    "\n",
    "class ACO:\n",
    "    def __init__(self, ants):\n",
    "        self.ants = ants\n",
    "    \n",
    "    def update_allocations(self, pheromone_levels):\n",
    "        for ant in self.ants:\n",
    "            ant.update_allocation(pheromone_levels)\n",
    "\n",
    "def calculate_pheromone_levels(allocations, costs, benefits):\n",
    "    # Calculate the pheromone level for each allocation using a mathematical formula that takes into account the cost and benefit of the allocation\n",
    "    pheromone_levels = []\n",
    "    for allocation, cost, benefit in zip(allocations, costs, benefits):\n",
    "        pheromone_level = benefit / cost\n",
    "        pheromone_levels.append(pheromone_level)\n",
    "    return pheromone_levels\n",
    "\n",
    "def calculate_cost(allocation, costs):\n",
    "    cost = 0\n",
    "    for i, amount in enumerate(allocation):\n",
    "        cost += amount * costs[i]\n",
    "    return cost\n",
    "\n",
    "def allocate_gas(costs, benefits, num_ants, num_iterations):\n",
    "    # Initialize the list of ants and the ACO algorithm\n",
    "    ants = [Ant() for _ in range(num_ants)]\n",
    "    aco = ACO(ants)\n",
    "    \n",
    "    # Run the ACO algorithm for the specified number of iterations\n",
    "    for i in range(num_iterations):\n",
    "        pheromone_levels = calculate_pheromone_levels(ants, costs, benefits)\n",
    "        aco.update_allocations(pheromone_levels)\n",
    "    \n",
    "    # Evaluate the allocations made by the ants and return the allocation with the lowest cost\n",
    "    best_allocation = None\n",
    "    best_cost = float('inf')\n",
    "    for ant in ants:\n",
    "        cost = calculate_cost(ant.allocation, costs)\n",
    "        if cost < best_cost:\n",
    "            best_allocation = ant.allocation\n",
    "            best_cost = cost\n",
    "    return best_allocation\n"
   ]
  },
  {
   "cell_type": "code",
   "execution_count": 78,
   "metadata": {},
   "outputs": [
    {
     "name": "stdout",
     "output_type": "stream",
     "text": [
      "[]\n"
     ]
    }
   ],
   "source": [
    "# Define some test data\n",
    "costs = [10, 20, 30]\n",
    "benefits = [1, 2, 3]\n",
    "num_ants = 3\n",
    "num_iterations = 10\n",
    "\n",
    "# Allocate the gas using the ACO algorithm\n",
    "allocation = allocate_gas(costs, benefits, num_ants, num_iterations)\n",
    "print(allocation)"
   ]
  },
  {
   "attachments": {},
   "cell_type": "markdown",
   "metadata": {},
   "source": [
    "# 6"
   ]
  },
  {
   "cell_type": "code",
   "execution_count": 14,
   "metadata": {},
   "outputs": [],
   "source": [
    "def objective_function(gas_allocation, flow_rate, pressure):\n",
    "    \"\"\"Calculate the total production from the wells.\n",
    "\n",
    "    Parameters:\n",
    "        gas_allocation (list): The amount of gas allocated to each well.\n",
    "        flow_rate (list): The flow rate of each well.\n",
    "        pressure (list): The gas lift pressure of each well.\n",
    "\n",
    "    Returns:\n",
    "        float: The total production from the wells.\n",
    "    \"\"\"\n",
    "    total_production = 0\n",
    "    for i, allocation in enumerate(gas_allocation):\n",
    "        total_production += allocation * flow_rate[i] * pressure[i]\n",
    "    return total_production\n"
   ]
  },
  {
   "cell_type": "code",
   "execution_count": 15,
   "metadata": {},
   "outputs": [],
   "source": [
    "# Available gas supply\n",
    "gas_supply = 1000  # in units of gas\n",
    "\n",
    "# Flow rate of each well\n",
    "well_flow_rates = [100, 200, 300, 400]  # in units of flow per unit time\n",
    "\n",
    "# Cost of gas at different flow rates\n",
    "cost_per_unit_gas = [1, 2, 3, 4]  # in units of cost per unit gas\n"
   ]
  },
  {
   "cell_type": "code",
   "execution_count": 16,
   "metadata": {},
   "outputs": [],
   "source": [
    "# Import required modules\n",
    "from pulp import LpVariable, LpProblem, LpMaximize\n",
    "\n",
    "# Define the decision variables\n",
    "gas_allocation = [LpVariable(f\"gas_well_{i+1}\", lowBound=0) for i in range(4)]\n"
   ]
  },
  {
   "cell_type": "code",
   "execution_count": 17,
   "metadata": {},
   "outputs": [],
   "source": [
    "# Import required modules\n",
    "from pulp import LpVariable, LpProblem, LpMaximize\n",
    "\n",
    "# Define the decision variables\n",
    "gas_allocation = [LpVariable(f\"gas_well_{i+1}\", lowBound=0) for i in range(4)]\n",
    "\n",
    "# Define the optimization problem\n",
    "prob = LpProblem(\"Gas Allocation Optimization\", LpMaximize)\n",
    "\n",
    "# Add the objective function\n",
    "prob += sum(gas_allocation[i] * well_flow_rates[i]  for i in range(4))\n",
    "\n",
    "# Add constraints\n",
    "prob += sum(gas_allocation) <= gas_supply\n",
    "for i in range(4):\n",
    "    prob += gas_allocation[i] <= well_flow_rates[i]\n"
   ]
  },
  {
   "cell_type": "code",
   "execution_count": 18,
   "metadata": {},
   "outputs": [],
   "source": [
    "import random\n",
    "\n",
    "def ant_colony_optimization(prob, num_ants, num_iterations, evaporation_rate, choice_influence):\n",
    "    \"\"\"Solve the optimization problem using an ant colony algorithm.\n",
    "\n",
    "    Parameters:\n",
    "        prob (LpProblem): The optimization problem to solve.\n",
    "        num_ants (int): The number of ants in the colony.\n",
    "        num_iterations (int): The number of iterations to run the algorithm for.\n",
    "        evaporation_rate (float): The rate at which the pheromone trails evaporate.\n",
    "        choice_influence (float): The influence of the pheromone trails on the probability of an ant choosing a particular solution.\n",
    "\n",
    "    Returns:\n",
    "        list: The optimal solution found by the algorithm.\n",
    "    \"\"\"\n",
    "    # Initialize pheromone trails\n",
    "    pheromone_trails = [[1 for _ in prob.variables()] for _ in range(num_ants)]\n",
    "\n",
    "    # Run the algorithm for the specified number of iterations\n",
    "    for _ in range(num_iterations):\n",
    "        # Create a list of solutions, one for each ant\n",
    "        solutions = [[] for _ in range(num_ants)]\n",
    "\n",
    "        # Iterate over each ant\n",
    "        for i, ant in enumerate(solutions):\n",
    "            # Iterate over each decision variable\n",
    "            for var in prob.variables():\n",
    "                # Calculate the probability of choosing this variable\n",
    "                prob_choice = sum(pheromone_trails[i][j] ** choice_influence for j, _ in enumerate(prob.variables()))\n",
    "                rand = random.uniform(0, 1)\n",
    "                if rand < prob_choice:\n",
    "                    # Choose this variable\n",
    "                    ant.append(1)\n",
    "                else:\n",
    "                    # Don't choose this variable\n",
    "                    ant.append(0)\n",
    "\n",
    "        # Update the pheromone trails based on the solutions of the ants\n",
    "        for i, ant in enumerate(solutions):\n",
    "            for j, var in enumerate(prob.variables()):\n",
    "                pheromone_trails[i][j] *= (1 - evaporation_rate)\n",
    "                if ant[j] == 1 and prob.objective.value() is not None:\n",
    "                    pheromone_trails[i][j] += 1/prob.objective.value()\n",
    "\n",
    "    # Return the best solution found by the algorithm\n",
    "    return max(solutions, key=lambda x: prob.objective.value())\n"
   ]
  },
  {
   "cell_type": "code",
   "execution_count": 19,
   "metadata": {},
   "outputs": [
    {
     "ename": "TypeError",
     "evalue": "'>' not supported between instances of 'NoneType' and 'NoneType'",
     "output_type": "error",
     "traceback": [
      "\u001b[1;31m---------------------------------------------------------------------------\u001b[0m",
      "\u001b[1;31mTypeError\u001b[0m                                 Traceback (most recent call last)",
      "\u001b[1;32mc:\\prosper\\openserver_with_python\\main.ipynb Cell 43\u001b[0m in \u001b[0;36m<cell line: 2>\u001b[1;34m()\u001b[0m\n\u001b[0;32m      <a href='vscode-notebook-cell:/c%3A/prosper/openserver_with_python/main.ipynb#X63sZmlsZQ%3D%3D?line=0'>1</a>\u001b[0m \u001b[39m# Solve the optimization problem using the ant colony algorithm\u001b[39;00m\n\u001b[1;32m----> <a href='vscode-notebook-cell:/c%3A/prosper/openserver_with_python/main.ipynb#X63sZmlsZQ%3D%3D?line=1'>2</a>\u001b[0m solution \u001b[39m=\u001b[39m ant_colony_optimization(prob, num_ants\u001b[39m=\u001b[39;49m\u001b[39m100\u001b[39;49m, num_iterations\u001b[39m=\u001b[39;49m\u001b[39m1000\u001b[39;49m, evaporation_rate\u001b[39m=\u001b[39;49m\u001b[39m0.5\u001b[39;49m, choice_influence\u001b[39m=\u001b[39;49m\u001b[39m1\u001b[39;49m)\n\u001b[0;32m      <a href='vscode-notebook-cell:/c%3A/prosper/openserver_with_python/main.ipynb#X63sZmlsZQ%3D%3D?line=3'>4</a>\u001b[0m \u001b[39m# Print the optimal solution\u001b[39;00m\n\u001b[0;32m      <a href='vscode-notebook-cell:/c%3A/prosper/openserver_with_python/main.ipynb#X63sZmlsZQ%3D%3D?line=4'>5</a>\u001b[0m \u001b[39mprint\u001b[39m(solution)\n",
      "\u001b[1;32mc:\\prosper\\openserver_with_python\\main.ipynb Cell 43\u001b[0m in \u001b[0;36mant_colony_optimization\u001b[1;34m(prob, num_ants, num_iterations, evaporation_rate, choice_influence)\u001b[0m\n\u001b[0;32m     <a href='vscode-notebook-cell:/c%3A/prosper/openserver_with_python/main.ipynb#X63sZmlsZQ%3D%3D?line=42'>43</a>\u001b[0m                 pheromone_trails[i][j] \u001b[39m+\u001b[39m\u001b[39m=\u001b[39m \u001b[39m1\u001b[39m\u001b[39m/\u001b[39mprob\u001b[39m.\u001b[39mobjective\u001b[39m.\u001b[39mvalue()\n\u001b[0;32m     <a href='vscode-notebook-cell:/c%3A/prosper/openserver_with_python/main.ipynb#X63sZmlsZQ%3D%3D?line=44'>45</a>\u001b[0m \u001b[39m# Return the best solution found by the algorithm\u001b[39;00m\n\u001b[1;32m---> <a href='vscode-notebook-cell:/c%3A/prosper/openserver_with_python/main.ipynb#X63sZmlsZQ%3D%3D?line=45'>46</a>\u001b[0m \u001b[39mreturn\u001b[39;00m \u001b[39mmax\u001b[39;49m(solutions, key\u001b[39m=\u001b[39;49m\u001b[39mlambda\u001b[39;49;00m x: prob\u001b[39m.\u001b[39;49mobjective\u001b[39m.\u001b[39;49mvalue())\n",
      "\u001b[1;31mTypeError\u001b[0m: '>' not supported between instances of 'NoneType' and 'NoneType'"
     ]
    }
   ],
   "source": [
    "# Solve the optimization problem using the ant colony algorithm\n",
    "solution = ant_colony_optimization(prob, num_ants=100, num_iterations=1000, evaporation_rate=0.5, choice_influence=1)\n",
    "\n",
    "# Print the optimal solution\n",
    "print(solution)\n"
   ]
  },
  {
   "cell_type": "code",
   "execution_count": null,
   "metadata": {},
   "outputs": [
    {
     "name": "stdout",
     "output_type": "stream",
     "text": [
      "Optimal gas allocation:\n",
      "Well 1: None units\n",
      "Well 2: None units\n",
      "Well 3: None units\n",
      "Well 4: None units\n",
      "Optimal objective value: None\n"
     ]
    }
   ],
   "source": [
    "# Print the optimal gas allocation\n",
    "print(\"Optimal gas allocation:\")\n",
    "for i, var in enumerate(prob.variables()):\n",
    "    print(f\"Well {i+1}: {var.value()} units\")\n",
    "\n",
    "# Print the optimal objective value\n",
    "print(f\"Optimal objective value: {prob.objective.value()}\")\n"
   ]
  },
  {
   "cell_type": "code",
   "execution_count": null,
   "metadata": {},
   "outputs": [],
   "source": []
  }
 ],
 "metadata": {
  "kernelspec": {
   "display_name": "Python 3.8.13 ('internship')",
   "language": "python",
   "name": "python3"
  },
  "language_info": {
   "codemirror_mode": {
    "name": "ipython",
    "version": 3
   },
   "file_extension": ".py",
   "mimetype": "text/x-python",
   "name": "python",
   "nbconvert_exporter": "python",
   "pygments_lexer": "ipython3",
   "version": "3.8.13 (default, Mar 28 2022, 06:59:08) [MSC v.1916 64 bit (AMD64)]"
  },
  "orig_nbformat": 4,
  "vscode": {
   "interpreter": {
    "hash": "6dda936634b00118aa3fd5b09b5a04eabba3f4a622f0977e488f0946ea34a453"
   }
  }
 },
 "nbformat": 4,
 "nbformat_minor": 2
}
