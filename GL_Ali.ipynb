{
 "cells": [
  {
   "cell_type": "markdown",
   "metadata": {},
   "source": [
    "# Important libraries"
   ]
  },
  {
   "cell_type": "code",
   "execution_count": 13,
   "metadata": {},
   "outputs": [],
   "source": [
    "import win32com.client\n",
    "import sys\n",
    "import time\n",
    "import os\n",
    "import numpy as np\n",
    "import plotly.express as px\n",
    "import plotly.graph_objects as go\n",
    "import pandas as pd\n",
    "import math\n",
    "import matplotlib.pyplot as plt"
   ]
  },
  {
   "cell_type": "markdown",
   "metadata": {},
   "source": [
    "# Openserver Setup"
   ]
  },
  {
   "cell_type": "markdown",
   "metadata": {},
   "source": [
    "Openserver class with methods to connect to the server, send commands, and disconnect from the server."
   ]
  },
  {
   "cell_type": "code",
   "execution_count": 14,
   "metadata": {},
   "outputs": [],
   "source": [
    "class OpenServer():\n",
    "    \"Class for holding ActiveX reference. Allows license disconnectio\"\n",
    "    def __init__(self):\n",
    "        self.status = \"Disconnected\"\n",
    "        self.OSReference = None\n",
    "    \n",
    "    def Connect(self):\n",
    "        self.OSReference = win32com.client.Dispatch(\"PX32.OpenServer.1\")\n",
    "        self.status = \"Connected\"\n",
    "        print(\"OpenServer connected\")\n",
    "        \n",
    "    def Disconnect(self):\n",
    "        self.OSReference = None\n",
    "        self.status = \"Disconnected\"\n",
    "        print(\"OpenServer disconnected\")"
   ]
  },
  {
   "cell_type": "code",
   "execution_count": 15,
   "metadata": {},
   "outputs": [],
   "source": [
    "def GetAppName(sv):\n",
    "    # function for returning app name from tag string\n",
    "    pos = sv.find(\".\")\n",
    "    if pos < 2:\n",
    "        sys.exit(\"GetAppName: Badly formed tag string\")\n",
    "    app_name = sv[:pos]\n",
    "    if app_name.lower() not in [\"prosper\", \"mbal\", \"gap\", \"pvt\", \"resolve\",\n",
    "                                   \"reveal\"]:\n",
    "        sys.exit(\"GetAppName: Unrecognised application name in tag string\")\n",
    "    return app_name\n",
    "\n",
    "\n",
    "def DoCmd(OpenServe, cmd):\n",
    "    # perform a command and check for errors\n",
    "    lerr = OpenServe.OSReference.DoCommand(cmd)\n",
    "    if lerr > 0:\n",
    "        err = OpenServe.OSReference.GetErrorDescription(lerr)\n",
    "        OpenServe.Disconnect()\n",
    "        sys.exit(\"DoCmd: \" + err)\n",
    "\n",
    "\n",
    "def DoSet(OpenServe, sv, val):\n",
    "    # set a value and check for errors\n",
    "    lerr = OpenServe.OSReference.SetValue(sv, val)\n",
    "    app_name = GetAppName(sv)\n",
    "    lerr = OpenServe.OSReference.GetLastError(app_name)\n",
    "    if lerr > 0:\n",
    "        err = OpenServe.OSReference.GetErrorDescription(lerr)\n",
    "        OpenServe.Disconnect()\n",
    "        sys.exit(\"DoSet: \" + err)\n",
    "    \n",
    "def DoGet(OpenServe, gv):\n",
    "    # get a value and check for errors\n",
    "    get_value = OpenServe.OSReference.GetValue(gv)\n",
    "    app_name = GetAppName(gv)\n",
    "    lerr = OpenServe.OSReference.GetLastError(app_name)\n",
    "    if lerr > 0:\n",
    "        err = OpenServe.OSReference.GetErrorDescription(lerr)\n",
    "        OpenServe.Disconnect()\n",
    "        sys.exit(\"DoGet: \" + err)\n",
    "    return get_value\n",
    "\n",
    "\n",
    "def DoSlowCmd(OpenServe, cmd):\n",
    "    # perform a command then wait for command to exit and check for errors\n",
    "    step = 0.001\n",
    "    app_name = GetAppName(cmd)\n",
    "    lerr = OpenServe.OSReference.DoCommandAsync(cmd)\n",
    "    if lerr > 0:\n",
    "        err = OpenServe.OSReference.GetErrorDescription(lerr)\n",
    "        OpenServe.Disconnect()\n",
    "        sys.exit(\"DoSlowCmd: \" + err)\n",
    "    while OpenServe.OSReference.IsBusy(app_name) > 0:\n",
    "        if step < 2:\n",
    "            step = step*2\n",
    "        time.sleep(step)\n",
    "    lerr = OpenServe.OSReference.GetLastError(app_name)\n",
    "    if lerr > 0:\n",
    "        err = OpenServe.OSReference.GetErrorDescription(lerr)\n",
    "        OpenServe.Disconnect()\n",
    "        sys.exit(\"DoSlowCmd: \" + err)\n",
    "\n",
    "\n",
    "def DoGAPFunc(OpenServe, gv):\n",
    "    DoSlowCmd(gv)\n",
    "    DoGAPFunc = DoGet(OpenServe, \"GAP.LASTCMDRET\")\n",
    "    lerr = OpenServe.OSReference.GetLastError(\"GAP\")\n",
    "    if lerr > 0:\n",
    "        err = OpenServe.OSReference.GetErrorDescription(lerr)\n",
    "        OpenServe.Disconnect()\n",
    "        sys.exit(\"DoGAPFunc: \" + err)\n",
    "    return DoGAPFunc\n",
    "\n",
    "\n",
    "def OSOpenFile(OpenServe, theModel, appname):\n",
    "    DoSlowCmd(OpenServe, appname + '.OPENFILE (\"' + theModel + '\")')\n",
    "    lerr = OpenServe.OSReference.GetLastError(appname)\n",
    "    if lerr > 0:\n",
    "        err = OpenServe.OSReference.GetErrorDescription(lerr)\n",
    "        OpenServe.Disconnect()\n",
    "        sys.exit(\"OSOpenFile: \" + err)\n",
    "\n",
    "\n",
    "def OSSaveFile(OpenServe, theModel, appname):\n",
    "    DoSlowCmd(OpenServe, appname + '.SAVEFILE (\"' + theModel + '\")')\n",
    "    lerr = OpenServe.OSReference.GetLastError(appname)\n",
    "    if lerr > 0:\n",
    "        err = OpenServe.OSReference.GetErrorDescription(lerr)\n",
    "        OpenServe.Disconnect()\n",
    "        sys.exit(\"OSSaveFile: \" + err)"
   ]
  },
  {
   "cell_type": "markdown",
   "metadata": {},
   "source": [
    "# Multiple well calculation"
   ]
  },
  {
   "cell_type": "code",
   "execution_count": 16,
   "metadata": {},
   "outputs": [
    {
     "data": {
      "text/html": [
       "<div>\n",
       "<style scoped>\n",
       "    .dataframe tbody tr th:only-of-type {\n",
       "        vertical-align: middle;\n",
       "    }\n",
       "\n",
       "    .dataframe tbody tr th {\n",
       "        vertical-align: top;\n",
       "    }\n",
       "\n",
       "    .dataframe thead th {\n",
       "        text-align: right;\n",
       "    }\n",
       "</style>\n",
       "<table border=\"1\" class=\"dataframe\">\n",
       "  <thead>\n",
       "    <tr style=\"text-align: right;\">\n",
       "      <th></th>\n",
       "      <th>gas_injection_array</th>\n",
       "    </tr>\n",
       "  </thead>\n",
       "  <tbody>\n",
       "    <tr>\n",
       "      <th>0</th>\n",
       "      <td>0.00</td>\n",
       "    </tr>\n",
       "    <tr>\n",
       "      <th>1</th>\n",
       "      <td>0.05</td>\n",
       "    </tr>\n",
       "    <tr>\n",
       "      <th>2</th>\n",
       "      <td>0.10</td>\n",
       "    </tr>\n",
       "    <tr>\n",
       "      <th>3</th>\n",
       "      <td>0.15</td>\n",
       "    </tr>\n",
       "    <tr>\n",
       "      <th>4</th>\n",
       "      <td>0.20</td>\n",
       "    </tr>\n",
       "    <tr>\n",
       "      <th>5</th>\n",
       "      <td>0.25</td>\n",
       "    </tr>\n",
       "    <tr>\n",
       "      <th>6</th>\n",
       "      <td>0.30</td>\n",
       "    </tr>\n",
       "    <tr>\n",
       "      <th>7</th>\n",
       "      <td>0.35</td>\n",
       "    </tr>\n",
       "    <tr>\n",
       "      <th>8</th>\n",
       "      <td>0.40</td>\n",
       "    </tr>\n",
       "    <tr>\n",
       "      <th>9</th>\n",
       "      <td>0.45</td>\n",
       "    </tr>\n",
       "    <tr>\n",
       "      <th>10</th>\n",
       "      <td>0.50</td>\n",
       "    </tr>\n",
       "    <tr>\n",
       "      <th>11</th>\n",
       "      <td>0.55</td>\n",
       "    </tr>\n",
       "    <tr>\n",
       "      <th>12</th>\n",
       "      <td>0.60</td>\n",
       "    </tr>\n",
       "    <tr>\n",
       "      <th>13</th>\n",
       "      <td>0.65</td>\n",
       "    </tr>\n",
       "    <tr>\n",
       "      <th>14</th>\n",
       "      <td>0.70</td>\n",
       "    </tr>\n",
       "    <tr>\n",
       "      <th>15</th>\n",
       "      <td>0.75</td>\n",
       "    </tr>\n",
       "    <tr>\n",
       "      <th>16</th>\n",
       "      <td>0.80</td>\n",
       "    </tr>\n",
       "    <tr>\n",
       "      <th>17</th>\n",
       "      <td>0.85</td>\n",
       "    </tr>\n",
       "    <tr>\n",
       "      <th>18</th>\n",
       "      <td>0.90</td>\n",
       "    </tr>\n",
       "    <tr>\n",
       "      <th>19</th>\n",
       "      <td>0.95</td>\n",
       "    </tr>\n",
       "    <tr>\n",
       "      <th>20</th>\n",
       "      <td>1.00</td>\n",
       "    </tr>\n",
       "    <tr>\n",
       "      <th>21</th>\n",
       "      <td>1.05</td>\n",
       "    </tr>\n",
       "    <tr>\n",
       "      <th>22</th>\n",
       "      <td>1.10</td>\n",
       "    </tr>\n",
       "    <tr>\n",
       "      <th>23</th>\n",
       "      <td>1.15</td>\n",
       "    </tr>\n",
       "    <tr>\n",
       "      <th>24</th>\n",
       "      <td>1.20</td>\n",
       "    </tr>\n",
       "    <tr>\n",
       "      <th>25</th>\n",
       "      <td>1.25</td>\n",
       "    </tr>\n",
       "    <tr>\n",
       "      <th>26</th>\n",
       "      <td>1.30</td>\n",
       "    </tr>\n",
       "    <tr>\n",
       "      <th>27</th>\n",
       "      <td>1.35</td>\n",
       "    </tr>\n",
       "    <tr>\n",
       "      <th>28</th>\n",
       "      <td>1.40</td>\n",
       "    </tr>\n",
       "    <tr>\n",
       "      <th>29</th>\n",
       "      <td>1.45</td>\n",
       "    </tr>\n",
       "    <tr>\n",
       "      <th>30</th>\n",
       "      <td>1.50</td>\n",
       "    </tr>\n",
       "  </tbody>\n",
       "</table>\n",
       "</div>"
      ],
      "text/plain": [
       "    gas_injection_array\n",
       "0                  0.00\n",
       "1                  0.05\n",
       "2                  0.10\n",
       "3                  0.15\n",
       "4                  0.20\n",
       "5                  0.25\n",
       "6                  0.30\n",
       "7                  0.35\n",
       "8                  0.40\n",
       "9                  0.45\n",
       "10                 0.50\n",
       "11                 0.55\n",
       "12                 0.60\n",
       "13                 0.65\n",
       "14                 0.70\n",
       "15                 0.75\n",
       "16                 0.80\n",
       "17                 0.85\n",
       "18                 0.90\n",
       "19                 0.95\n",
       "20                 1.00\n",
       "21                 1.05\n",
       "22                 1.10\n",
       "23                 1.15\n",
       "24                 1.20\n",
       "25                 1.25\n",
       "26                 1.30\n",
       "27                 1.35\n",
       "28                 1.40\n",
       "29                 1.45\n",
       "30                 1.50"
      ]
     },
     "execution_count": 16,
     "metadata": {},
     "output_type": "execute_result"
    }
   ],
   "source": [
    "#gas availability and increment steps\n",
    "number_of_wells = int(input('Please enter the number of wells:'))\n",
    "gas_available = float(input('Please enter available gas'))\n",
    "increment = float(input('Please enter the increment value'))\n",
    "gas_injection_array = np.arange(0, gas_available + increment, increment)\n",
    "df=pd.DataFrame()\n",
    "df['gas_injection_array'] = gas_injection_array\n",
    "df"
   ]
  },
  {
   "cell_type": "code",
   "execution_count": 17,
   "metadata": {},
   "outputs": [],
   "source": [
    "# os.chdir(r'C:\\Users\\Mehdi\\Desktop\\Desktop2\\Desktop1\\Data Science\\Projects\\KL project\\GAS LIFT OPTIMIZATION')\n",
    "os.chdir(r'C:\\Users\\aliyu\\PycharmProjects\\openserver_with_python')"
   ]
  },
  {
   "cell_type": "code",
   "execution_count": null,
   "metadata": {
    "collapsed": false
   },
   "outputs": [],
   "source": []
  },
  {
   "cell_type": "code",
   "execution_count": 18,
   "metadata": {},
   "outputs": [
    {
     "name": "stdout",
     "output_type": "stream",
     "text": [
      "OpenServer connected\n",
      "Well 1 opened\n",
      "Well 1 closed\n",
      "Well 2 opened\n",
      "Well 2 closed\n",
      "Well 3 opened\n",
      "Well 3 closed\n",
      "Well 4 opened\n"
     ]
    },
    {
     "ename": "KeyboardInterrupt",
     "evalue": "",
     "output_type": "error",
     "traceback": [
      "\u001b[1;31m---------------------------------------------------------------------------\u001b[0m",
      "\u001b[1;31mKeyboardInterrupt\u001b[0m                         Traceback (most recent call last)",
      "\u001b[1;32mc:\\Users\\aliyu\\PycharmProjects\\openserver_with_python\\GL_Ali.ipynb Cell 11\u001b[0m in \u001b[0;36m<cell line: 13>\u001b[1;34m()\u001b[0m\n\u001b[0;32m     <a href='vscode-notebook-cell:/c%3A/Users/aliyu/PycharmProjects/openserver_with_python/GL_Ali.ipynb#X13sZmlsZQ%3D%3D?line=18'>19</a>\u001b[0m     command \u001b[39m=\u001b[39m \u001b[39mf\u001b[39m\u001b[39m'\u001b[39m\u001b[39mPROSPER.ANL.SYS.Sens.SensDB.Sens[138].Vals[\u001b[39m\u001b[39m{\u001b[39;00mi\u001b[39m}\u001b[39;00m\u001b[39m]\u001b[39m\u001b[39m'\u001b[39m\n\u001b[0;32m     <a href='vscode-notebook-cell:/c%3A/Users/aliyu/PycharmProjects/openserver_with_python/GL_Ali.ipynb#X13sZmlsZQ%3D%3D?line=19'>20</a>\u001b[0m     DoSet(petex, command,gas_injection_array[i])\n\u001b[1;32m---> <a href='vscode-notebook-cell:/c%3A/Users/aliyu/PycharmProjects/openserver_with_python/GL_Ali.ipynb#X13sZmlsZQ%3D%3D?line=20'>21</a>\u001b[0m DoCmd(petex, \u001b[39m'\u001b[39;49m\u001b[39mPROSPER.ANL.SYS.CALC\u001b[39;49m\u001b[39m'\u001b[39;49m)\n\u001b[0;32m     <a href='vscode-notebook-cell:/c%3A/Users/aliyu/PycharmProjects/openserver_with_python/GL_Ali.ipynb#X13sZmlsZQ%3D%3D?line=21'>22</a>\u001b[0m oil_rates \u001b[39m=\u001b[39m [] \u001b[39m#list of oil rates for 1 well\u001b[39;00m\n\u001b[0;32m     <a href='vscode-notebook-cell:/c%3A/Users/aliyu/PycharmProjects/openserver_with_python/GL_Ali.ipynb#X13sZmlsZQ%3D%3D?line=22'>23</a>\u001b[0m \u001b[39mfor\u001b[39;00m i \u001b[39min\u001b[39;00m \u001b[39mrange\u001b[39m(\u001b[39m0\u001b[39m, \u001b[39mlen\u001b[39m(gas_injection_array)):\n",
      "\u001b[1;32mc:\\Users\\aliyu\\PycharmProjects\\openserver_with_python\\GL_Ali.ipynb Cell 11\u001b[0m in \u001b[0;36mDoCmd\u001b[1;34m(OpenServe, cmd)\u001b[0m\n\u001b[0;32m     <a href='vscode-notebook-cell:/c%3A/Users/aliyu/PycharmProjects/openserver_with_python/GL_Ali.ipynb#X13sZmlsZQ%3D%3D?line=12'>13</a>\u001b[0m \u001b[39mdef\u001b[39;00m \u001b[39mDoCmd\u001b[39m(OpenServe, cmd):\n\u001b[0;32m     <a href='vscode-notebook-cell:/c%3A/Users/aliyu/PycharmProjects/openserver_with_python/GL_Ali.ipynb#X13sZmlsZQ%3D%3D?line=13'>14</a>\u001b[0m     \u001b[39m# perform a command and check for errors\u001b[39;00m\n\u001b[1;32m---> <a href='vscode-notebook-cell:/c%3A/Users/aliyu/PycharmProjects/openserver_with_python/GL_Ali.ipynb#X13sZmlsZQ%3D%3D?line=14'>15</a>\u001b[0m     lerr \u001b[39m=\u001b[39m OpenServe\u001b[39m.\u001b[39;49mOSReference\u001b[39m.\u001b[39;49mDoCommand(cmd)\n\u001b[0;32m     <a href='vscode-notebook-cell:/c%3A/Users/aliyu/PycharmProjects/openserver_with_python/GL_Ali.ipynb#X13sZmlsZQ%3D%3D?line=15'>16</a>\u001b[0m     \u001b[39mif\u001b[39;00m lerr \u001b[39m>\u001b[39m \u001b[39m0\u001b[39m:\n\u001b[0;32m     <a href='vscode-notebook-cell:/c%3A/Users/aliyu/PycharmProjects/openserver_with_python/GL_Ali.ipynb#X13sZmlsZQ%3D%3D?line=16'>17</a>\u001b[0m         err \u001b[39m=\u001b[39m OpenServe\u001b[39m.\u001b[39mOSReference\u001b[39m.\u001b[39mGetErrorDescription(lerr)\n",
      "File \u001b[1;32m<COMObject PX32.OpenServer.1>:2\u001b[0m, in \u001b[0;36mDoCommand\u001b[1;34m(self, CmdStr)\u001b[0m\n",
      "\u001b[1;31mKeyboardInterrupt\u001b[0m: "
     ]
    }
   ],
   "source": [
    "# Initialises an 'OpenServer' class\n",
    "\n",
    "petex = OpenServer()\n",
    "\n",
    "# Creates ActiveX reference and holds a license\n",
    "\n",
    "petex.Connect()\n",
    "oil_rates_for_wells = {}\n",
    "\n",
    "# Perform functions\n",
    "\n",
    "cwd = os.getcwd()\n",
    "for j in range(1,number_of_wells+1):\n",
    "    #opening well file\n",
    "    OSOpenFile(petex, cwd + f'\\models\\well_{j}.Out', 'PROSPER')\n",
    "    print(f'Well {j} opened')\n",
    "    #oil rates calculation\n",
    "    for i in range(0,len(gas_injection_array)):\n",
    "        command = f'PROSPER.ANL.SYS.Sens.SensDB.Sens[138].Vals[{i}]'\n",
    "        DoSet(petex, command,gas_injection_array[i])\n",
    "    DoCmd(petex, 'PROSPER.ANL.SYS.CALC')\n",
    "    oil_rates = [] #list of oil rates for 1 well\n",
    "    for i in range(0, len(gas_injection_array)):\n",
    "        value = f'PROSPER.OUT.SYS.Results[{i}].Sol.OilRate'\n",
    "        oil_rates.append(np.round(float(DoGet(petex, value)),2))\n",
    "    oil_rates_for_wells[f'well_{j}'] = oil_rates\n",
    "    #closing file   \n",
    "    OSSaveFile(petex, cwd + f'\\well_{j}.Out', 'PROSPER')\n",
    "    print(f'Well {j} closed')\n",
    "\n",
    "#merging to main dataframe\n",
    "for i in range(1,number_of_wells+1):\n",
    "    df[f'Well_{i}'] = oil_rates_for_wells[f'well_{i}']\n",
    "\n",
    "df.head()"
   ]
  },
  {
   "cell_type": "code",
   "execution_count": null,
   "metadata": {},
   "outputs": [
    {
     "data": {
      "application/vnd.plotly.v1+json": {
       "config": {
        "plotlyServerURL": "https://plot.ly"
       },
       "data": [
        {
         "mode": "lines",
         "name": "Well_1",
         "type": "scatter",
         "x": [
          0,
          0.05,
          0.1,
          0.15000000000000002,
          0.2,
          0.25,
          0.30000000000000004,
          0.35000000000000003,
          0.4,
          0.45,
          0.5,
          0.55,
          0.6000000000000001,
          0.65,
          0.7000000000000001,
          0.75,
          0.8,
          0.8500000000000001,
          0.9,
          0.9500000000000001,
          1,
          1.05,
          1.1,
          1.1500000000000001,
          1.2000000000000002,
          1.25,
          1.3,
          1.35,
          1.4000000000000001,
          1.4500000000000002,
          1.5
         ],
         "y": [
          878.37,
          887.66,
          896.05,
          904.96,
          911.9,
          918.29,
          924.19,
          930.24,
          935.19,
          939.81,
          944.14,
          948.1,
          951.77,
          955.13,
          958.21,
          961.05,
          963.73,
          966.25,
          968.49,
          971.21,
          973.15,
          974.95,
          976.58,
          978.08,
          979.43,
          980.65,
          981.79,
          982.84,
          983.78,
          984.59,
          985.32
         ]
        },
        {
         "mode": "lines",
         "name": "Well_2",
         "type": "scatter",
         "x": [
          0,
          0.05,
          0.1,
          0.15000000000000002,
          0.2,
          0.25,
          0.30000000000000004,
          0.35000000000000003,
          0.4,
          0.45,
          0.5,
          0.55,
          0.6000000000000001,
          0.65,
          0.7000000000000001,
          0.75,
          0.8,
          0.8500000000000001,
          0.9,
          0.9500000000000001,
          1,
          1.05,
          1.1,
          1.1500000000000001,
          1.2000000000000002,
          1.25,
          1.3,
          1.35,
          1.4000000000000001,
          1.4500000000000002,
          1.5
         ],
         "y": [
          1657.35,
          1663.12,
          1668.4,
          1673.25,
          1677.71,
          1681.81,
          1685.58,
          1689.05,
          1692.24,
          1695.17,
          1697.85,
          1700.31,
          1702.57,
          1705.03,
          1706.89,
          1708.57,
          1710.09,
          1711.42,
          1712.6,
          1713.64,
          1714.54,
          1715.32,
          1715.98,
          1716.53,
          1716.94,
          1717.24,
          1717.44,
          1717.54,
          1717.55,
          1717.47,
          1717.3
         ]
        },
        {
         "mode": "lines",
         "name": "Well_3",
         "type": "scatter",
         "x": [
          0,
          0.05,
          0.1,
          0.15000000000000002,
          0.2,
          0.25,
          0.30000000000000004,
          0.35000000000000003,
          0.4,
          0.45,
          0.5,
          0.55,
          0.6000000000000001,
          0.65,
          0.7000000000000001,
          0.75,
          0.8,
          0.8500000000000001,
          0.9,
          0.9500000000000001,
          1,
          1.05,
          1.1,
          1.1500000000000001,
          1.2000000000000002,
          1.25,
          1.3,
          1.35,
          1.4000000000000001,
          1.4500000000000002,
          1.5
         ],
         "y": [
          1576.44,
          1582.52,
          1588.09,
          1593.2,
          1597.9,
          1602.23,
          1606.21,
          1609.91,
          1613.28,
          1616.38,
          1619.15,
          1621.64,
          1623.94,
          1628.5,
          1630.42,
          1632.19,
          1633.8,
          1635.26,
          1636.59,
          1637.78,
          1638.84,
          1639.78,
          1640.6,
          1641.32,
          1641.92,
          1642.42,
          1642.82,
          1643.12,
          1643.34,
          1643.46,
          1643.5
         ]
        },
        {
         "mode": "lines",
         "name": "Well_4",
         "type": "scatter",
         "x": [
          0,
          0.05,
          0.1,
          0.15000000000000002,
          0.2,
          0.25,
          0.30000000000000004,
          0.35000000000000003,
          0.4,
          0.45,
          0.5,
          0.55,
          0.6000000000000001,
          0.65,
          0.7000000000000001,
          0.75,
          0.8,
          0.8500000000000001,
          0.9,
          0.9500000000000001,
          1,
          1.05,
          1.1,
          1.1500000000000001,
          1.2000000000000002,
          1.25,
          1.3,
          1.35,
          1.4000000000000001,
          1.4500000000000002,
          1.5
         ],
         "y": [
          1362.42,
          1369.43,
          1375.9,
          1381.88,
          1387.41,
          1392.53,
          1397.28,
          1401.69,
          1405.79,
          1409.61,
          1413.16,
          1416.47,
          1419.53,
          1422.37,
          1425,
          1428.51,
          1431.86,
          1433.93,
          1435.76,
          1437.45,
          1438.99,
          1440.41,
          1441.7,
          1442.87,
          1443.93,
          1444.82,
          1445.58,
          1446.26,
          1446.83,
          1447.31,
          1447.71
         ]
        },
        {
         "mode": "lines",
         "name": "Well_5",
         "type": "scatter",
         "x": [
          0,
          0.05,
          0.1,
          0.15000000000000002,
          0.2,
          0.25,
          0.30000000000000004,
          0.35000000000000003,
          0.4,
          0.45,
          0.5,
          0.55,
          0.6000000000000001,
          0.65,
          0.7000000000000001,
          0.75,
          0.8,
          0.8500000000000001,
          0.9,
          0.9500000000000001,
          1,
          1.05,
          1.1,
          1.1500000000000001,
          1.2000000000000002,
          1.25,
          1.3,
          1.35,
          1.4000000000000001,
          1.4500000000000002,
          1.5
         ],
         "y": [
          997.05,
          1005.79,
          1013.68,
          1020.93,
          1027.6,
          1035.34,
          1041.02,
          1046.3,
          1051.22,
          1055.8,
          1060.09,
          1064,
          1067.58,
          1070.94,
          1074.09,
          1077.05,
          1079.76,
          1082.73,
          1085.05,
          1087.16,
          1089.13,
          1090.91,
          1092.54,
          1094.06,
          1095.47,
          1096.78,
          1097.91,
          1098.92,
          1099.84,
          1100.68,
          1101.44
         ]
        },
        {
         "mode": "lines",
         "name": "Well_6",
         "type": "scatter",
         "x": [
          0,
          0.05,
          0.1,
          0.15000000000000002,
          0.2,
          0.25,
          0.30000000000000004,
          0.35000000000000003,
          0.4,
          0.45,
          0.5,
          0.55,
          0.6000000000000001,
          0.65,
          0.7000000000000001,
          0.75,
          0.8,
          0.8500000000000001,
          0.9,
          0.9500000000000001,
          1,
          1.05,
          1.1,
          1.1500000000000001,
          1.2000000000000002,
          1.25,
          1.3,
          1.35,
          1.4000000000000001,
          1.4500000000000002,
          1.5
         ],
         "y": [
          1858.4,
          1863,
          1867.23,
          1871.12,
          1874.69,
          1877.97,
          1880.97,
          1883.72,
          1886.24,
          1888.53,
          1890.55,
          1894.21,
          1895.85,
          1897.31,
          1898.62,
          1899.76,
          1900.76,
          1901.61,
          1902.34,
          1902.93,
          1903.41,
          1903.76,
          1904,
          1904.14,
          1904.17,
          1904.1,
          1903.94,
          1903.68,
          1903.33,
          1902.9,
          1902.36
         ]
        },
        {
         "mode": "lines",
         "name": "Well_7",
         "type": "scatter",
         "x": [
          0,
          0.05,
          0.1,
          0.15000000000000002,
          0.2,
          0.25,
          0.30000000000000004,
          0.35000000000000003,
          0.4,
          0.45,
          0.5,
          0.55,
          0.6000000000000001,
          0.65,
          0.7000000000000001,
          0.75,
          0.8,
          0.8500000000000001,
          0.9,
          0.9500000000000001,
          1,
          1.05,
          1.1,
          1.1500000000000001,
          1.2000000000000002,
          1.25,
          1.3,
          1.35,
          1.4000000000000001,
          1.4500000000000002,
          1.5
         ],
         "y": [
          1767.62,
          1772.88,
          1777.72,
          1782.06,
          1786.06,
          1789.73,
          1793.1,
          1796.2,
          1799.04,
          1801.64,
          1804.02,
          1806.19,
          1808.15,
          1809.93,
          1811.54,
          1812.97,
          1814.25,
          1815.38,
          1816.36,
          1817.21,
          1817.93,
          1818.52,
          1819,
          1819.32,
          1819.5,
          1819.58,
          1819.56,
          1819.44,
          1819.23,
          1818.94,
          1818.56
         ]
        },
        {
         "mode": "lines",
         "name": "Well_8",
         "type": "scatter",
         "x": [
          0,
          0.05,
          0.1,
          0.15000000000000002,
          0.2,
          0.25,
          0.30000000000000004,
          0.35000000000000003,
          0.4,
          0.45,
          0.5,
          0.55,
          0.6000000000000001,
          0.65,
          0.7000000000000001,
          0.75,
          0.8,
          0.8500000000000001,
          0.9,
          0.9500000000000001,
          1,
          1.05,
          1.1,
          1.1500000000000001,
          1.2000000000000002,
          1.25,
          1.3,
          1.35,
          1.4000000000000001,
          1.4500000000000002,
          1.5
         ],
         "y": [
          1123.93,
          1132.25,
          1139.83,
          1146.76,
          1153.42,
          1159.24,
          1164.63,
          1169.61,
          1174.25,
          1178.54,
          1182.55,
          1186.29,
          1189.79,
          1194.82,
          1197.9,
          1200.78,
          1203.44,
          1205.79,
          1207.98,
          1210.02,
          1211.93,
          1213.7,
          1215.35,
          1216.87,
          1218.15,
          1219.34,
          1220.41,
          1221.39,
          1222.28,
          1223.07,
          1223.78
         ]
        },
        {
         "mode": "lines",
         "name": "Well_9",
         "type": "scatter",
         "x": [
          0,
          0.05,
          0.1,
          0.15000000000000002,
          0.2,
          0.25,
          0.30000000000000004,
          0.35000000000000003,
          0.4,
          0.45,
          0.5,
          0.55,
          0.6000000000000001,
          0.65,
          0.7000000000000001,
          0.75,
          0.8,
          0.8500000000000001,
          0.9,
          0.9500000000000001,
          1,
          1.05,
          1.1,
          1.1500000000000001,
          1.2000000000000002,
          1.25,
          1.3,
          1.35,
          1.4000000000000001,
          1.4500000000000002,
          1.5
         ],
         "y": [
          1717.52,
          1723.02,
          1728,
          1734.79,
          1739.01,
          1742.89,
          1746.45,
          1749.73,
          1752.74,
          1755.5,
          1758.03,
          1760.34,
          1762.44,
          1764.35,
          1766.08,
          1767.63,
          1769.02,
          1770.26,
          1771.35,
          1772.31,
          1773.09,
          1773.72,
          1774.24,
          1774.64,
          1774.93,
          1775.12,
          1775.91,
          1775.9,
          1775.8,
          1775.57,
          1775.25
         ]
        },
        {
         "mode": "lines",
         "name": "Well_10",
         "type": "scatter",
         "x": [
          0,
          0.05,
          0.1,
          0.15000000000000002,
          0.2,
          0.25,
          0.30000000000000004,
          0.35000000000000003,
          0.4,
          0.45,
          0.5,
          0.55,
          0.6000000000000001,
          0.65,
          0.7000000000000001,
          0.75,
          0.8,
          0.8500000000000001,
          0.9,
          0.9500000000000001,
          1,
          1.05,
          1.1,
          1.1500000000000001,
          1.2000000000000002,
          1.25,
          1.3,
          1.35,
          1.4000000000000001,
          1.4500000000000002,
          1.5
         ],
         "y": [
          1749.18,
          1754.56,
          1759.44,
          1763.88,
          1767.97,
          1771.73,
          1775.18,
          1778.35,
          1781.27,
          1783.93,
          1786.37,
          1788.6,
          1790.62,
          1792.45,
          1794.11,
          1795.6,
          1796.92,
          1798.1,
          1799.13,
          1800.02,
          1800.78,
          1801.42,
          1801.88,
          1802.21,
          1802.44,
          1802.56,
          1802.58,
          1802.5,
          1802.34,
          1802.08,
          1801.74
         ]
        }
       ],
       "layout": {
        "template": {
         "data": {
          "bar": [
           {
            "error_x": {
             "color": "#f2f5fa"
            },
            "error_y": {
             "color": "#f2f5fa"
            },
            "marker": {
             "line": {
              "color": "rgb(17,17,17)",
              "width": 0.5
             },
             "pattern": {
              "fillmode": "overlay",
              "size": 10,
              "solidity": 0.2
             }
            },
            "type": "bar"
           }
          ],
          "barpolar": [
           {
            "marker": {
             "line": {
              "color": "rgb(17,17,17)",
              "width": 0.5
             },
             "pattern": {
              "fillmode": "overlay",
              "size": 10,
              "solidity": 0.2
             }
            },
            "type": "barpolar"
           }
          ],
          "carpet": [
           {
            "aaxis": {
             "endlinecolor": "#A2B1C6",
             "gridcolor": "#506784",
             "linecolor": "#506784",
             "minorgridcolor": "#506784",
             "startlinecolor": "#A2B1C6"
            },
            "baxis": {
             "endlinecolor": "#A2B1C6",
             "gridcolor": "#506784",
             "linecolor": "#506784",
             "minorgridcolor": "#506784",
             "startlinecolor": "#A2B1C6"
            },
            "type": "carpet"
           }
          ],
          "choropleth": [
           {
            "colorbar": {
             "outlinewidth": 0,
             "ticks": ""
            },
            "type": "choropleth"
           }
          ],
          "contour": [
           {
            "colorbar": {
             "outlinewidth": 0,
             "ticks": ""
            },
            "colorscale": [
             [
              0,
              "#0d0887"
             ],
             [
              0.1111111111111111,
              "#46039f"
             ],
             [
              0.2222222222222222,
              "#7201a8"
             ],
             [
              0.3333333333333333,
              "#9c179e"
             ],
             [
              0.4444444444444444,
              "#bd3786"
             ],
             [
              0.5555555555555556,
              "#d8576b"
             ],
             [
              0.6666666666666666,
              "#ed7953"
             ],
             [
              0.7777777777777778,
              "#fb9f3a"
             ],
             [
              0.8888888888888888,
              "#fdca26"
             ],
             [
              1,
              "#f0f921"
             ]
            ],
            "type": "contour"
           }
          ],
          "contourcarpet": [
           {
            "colorbar": {
             "outlinewidth": 0,
             "ticks": ""
            },
            "type": "contourcarpet"
           }
          ],
          "heatmap": [
           {
            "colorbar": {
             "outlinewidth": 0,
             "ticks": ""
            },
            "colorscale": [
             [
              0,
              "#0d0887"
             ],
             [
              0.1111111111111111,
              "#46039f"
             ],
             [
              0.2222222222222222,
              "#7201a8"
             ],
             [
              0.3333333333333333,
              "#9c179e"
             ],
             [
              0.4444444444444444,
              "#bd3786"
             ],
             [
              0.5555555555555556,
              "#d8576b"
             ],
             [
              0.6666666666666666,
              "#ed7953"
             ],
             [
              0.7777777777777778,
              "#fb9f3a"
             ],
             [
              0.8888888888888888,
              "#fdca26"
             ],
             [
              1,
              "#f0f921"
             ]
            ],
            "type": "heatmap"
           }
          ],
          "heatmapgl": [
           {
            "colorbar": {
             "outlinewidth": 0,
             "ticks": ""
            },
            "colorscale": [
             [
              0,
              "#0d0887"
             ],
             [
              0.1111111111111111,
              "#46039f"
             ],
             [
              0.2222222222222222,
              "#7201a8"
             ],
             [
              0.3333333333333333,
              "#9c179e"
             ],
             [
              0.4444444444444444,
              "#bd3786"
             ],
             [
              0.5555555555555556,
              "#d8576b"
             ],
             [
              0.6666666666666666,
              "#ed7953"
             ],
             [
              0.7777777777777778,
              "#fb9f3a"
             ],
             [
              0.8888888888888888,
              "#fdca26"
             ],
             [
              1,
              "#f0f921"
             ]
            ],
            "type": "heatmapgl"
           }
          ],
          "histogram": [
           {
            "marker": {
             "pattern": {
              "fillmode": "overlay",
              "size": 10,
              "solidity": 0.2
             }
            },
            "type": "histogram"
           }
          ],
          "histogram2d": [
           {
            "colorbar": {
             "outlinewidth": 0,
             "ticks": ""
            },
            "colorscale": [
             [
              0,
              "#0d0887"
             ],
             [
              0.1111111111111111,
              "#46039f"
             ],
             [
              0.2222222222222222,
              "#7201a8"
             ],
             [
              0.3333333333333333,
              "#9c179e"
             ],
             [
              0.4444444444444444,
              "#bd3786"
             ],
             [
              0.5555555555555556,
              "#d8576b"
             ],
             [
              0.6666666666666666,
              "#ed7953"
             ],
             [
              0.7777777777777778,
              "#fb9f3a"
             ],
             [
              0.8888888888888888,
              "#fdca26"
             ],
             [
              1,
              "#f0f921"
             ]
            ],
            "type": "histogram2d"
           }
          ],
          "histogram2dcontour": [
           {
            "colorbar": {
             "outlinewidth": 0,
             "ticks": ""
            },
            "colorscale": [
             [
              0,
              "#0d0887"
             ],
             [
              0.1111111111111111,
              "#46039f"
             ],
             [
              0.2222222222222222,
              "#7201a8"
             ],
             [
              0.3333333333333333,
              "#9c179e"
             ],
             [
              0.4444444444444444,
              "#bd3786"
             ],
             [
              0.5555555555555556,
              "#d8576b"
             ],
             [
              0.6666666666666666,
              "#ed7953"
             ],
             [
              0.7777777777777778,
              "#fb9f3a"
             ],
             [
              0.8888888888888888,
              "#fdca26"
             ],
             [
              1,
              "#f0f921"
             ]
            ],
            "type": "histogram2dcontour"
           }
          ],
          "mesh3d": [
           {
            "colorbar": {
             "outlinewidth": 0,
             "ticks": ""
            },
            "type": "mesh3d"
           }
          ],
          "parcoords": [
           {
            "line": {
             "colorbar": {
              "outlinewidth": 0,
              "ticks": ""
             }
            },
            "type": "parcoords"
           }
          ],
          "pie": [
           {
            "automargin": true,
            "type": "pie"
           }
          ],
          "scatter": [
           {
            "marker": {
             "line": {
              "color": "#283442"
             }
            },
            "type": "scatter"
           }
          ],
          "scatter3d": [
           {
            "line": {
             "colorbar": {
              "outlinewidth": 0,
              "ticks": ""
             }
            },
            "marker": {
             "colorbar": {
              "outlinewidth": 0,
              "ticks": ""
             }
            },
            "type": "scatter3d"
           }
          ],
          "scattercarpet": [
           {
            "marker": {
             "colorbar": {
              "outlinewidth": 0,
              "ticks": ""
             }
            },
            "type": "scattercarpet"
           }
          ],
          "scattergeo": [
           {
            "marker": {
             "colorbar": {
              "outlinewidth": 0,
              "ticks": ""
             }
            },
            "type": "scattergeo"
           }
          ],
          "scattergl": [
           {
            "marker": {
             "line": {
              "color": "#283442"
             }
            },
            "type": "scattergl"
           }
          ],
          "scattermapbox": [
           {
            "marker": {
             "colorbar": {
              "outlinewidth": 0,
              "ticks": ""
             }
            },
            "type": "scattermapbox"
           }
          ],
          "scatterpolar": [
           {
            "marker": {
             "colorbar": {
              "outlinewidth": 0,
              "ticks": ""
             }
            },
            "type": "scatterpolar"
           }
          ],
          "scatterpolargl": [
           {
            "marker": {
             "colorbar": {
              "outlinewidth": 0,
              "ticks": ""
             }
            },
            "type": "scatterpolargl"
           }
          ],
          "scatterternary": [
           {
            "marker": {
             "colorbar": {
              "outlinewidth": 0,
              "ticks": ""
             }
            },
            "type": "scatterternary"
           }
          ],
          "surface": [
           {
            "colorbar": {
             "outlinewidth": 0,
             "ticks": ""
            },
            "colorscale": [
             [
              0,
              "#0d0887"
             ],
             [
              0.1111111111111111,
              "#46039f"
             ],
             [
              0.2222222222222222,
              "#7201a8"
             ],
             [
              0.3333333333333333,
              "#9c179e"
             ],
             [
              0.4444444444444444,
              "#bd3786"
             ],
             [
              0.5555555555555556,
              "#d8576b"
             ],
             [
              0.6666666666666666,
              "#ed7953"
             ],
             [
              0.7777777777777778,
              "#fb9f3a"
             ],
             [
              0.8888888888888888,
              "#fdca26"
             ],
             [
              1,
              "#f0f921"
             ]
            ],
            "type": "surface"
           }
          ],
          "table": [
           {
            "cells": {
             "fill": {
              "color": "#506784"
             },
             "line": {
              "color": "rgb(17,17,17)"
             }
            },
            "header": {
             "fill": {
              "color": "#2a3f5f"
             },
             "line": {
              "color": "rgb(17,17,17)"
             }
            },
            "type": "table"
           }
          ]
         },
         "layout": {
          "annotationdefaults": {
           "arrowcolor": "#f2f5fa",
           "arrowhead": 0,
           "arrowwidth": 1
          },
          "autotypenumbers": "strict",
          "coloraxis": {
           "colorbar": {
            "outlinewidth": 0,
            "ticks": ""
           }
          },
          "colorscale": {
           "diverging": [
            [
             0,
             "#8e0152"
            ],
            [
             0.1,
             "#c51b7d"
            ],
            [
             0.2,
             "#de77ae"
            ],
            [
             0.3,
             "#f1b6da"
            ],
            [
             0.4,
             "#fde0ef"
            ],
            [
             0.5,
             "#f7f7f7"
            ],
            [
             0.6,
             "#e6f5d0"
            ],
            [
             0.7,
             "#b8e186"
            ],
            [
             0.8,
             "#7fbc41"
            ],
            [
             0.9,
             "#4d9221"
            ],
            [
             1,
             "#276419"
            ]
           ],
           "sequential": [
            [
             0,
             "#0d0887"
            ],
            [
             0.1111111111111111,
             "#46039f"
            ],
            [
             0.2222222222222222,
             "#7201a8"
            ],
            [
             0.3333333333333333,
             "#9c179e"
            ],
            [
             0.4444444444444444,
             "#bd3786"
            ],
            [
             0.5555555555555556,
             "#d8576b"
            ],
            [
             0.6666666666666666,
             "#ed7953"
            ],
            [
             0.7777777777777778,
             "#fb9f3a"
            ],
            [
             0.8888888888888888,
             "#fdca26"
            ],
            [
             1,
             "#f0f921"
            ]
           ],
           "sequentialminus": [
            [
             0,
             "#0d0887"
            ],
            [
             0.1111111111111111,
             "#46039f"
            ],
            [
             0.2222222222222222,
             "#7201a8"
            ],
            [
             0.3333333333333333,
             "#9c179e"
            ],
            [
             0.4444444444444444,
             "#bd3786"
            ],
            [
             0.5555555555555556,
             "#d8576b"
            ],
            [
             0.6666666666666666,
             "#ed7953"
            ],
            [
             0.7777777777777778,
             "#fb9f3a"
            ],
            [
             0.8888888888888888,
             "#fdca26"
            ],
            [
             1,
             "#f0f921"
            ]
           ]
          },
          "colorway": [
           "#636efa",
           "#EF553B",
           "#00cc96",
           "#ab63fa",
           "#FFA15A",
           "#19d3f3",
           "#FF6692",
           "#B6E880",
           "#FF97FF",
           "#FECB52"
          ],
          "font": {
           "color": "#f2f5fa"
          },
          "geo": {
           "bgcolor": "rgb(17,17,17)",
           "lakecolor": "rgb(17,17,17)",
           "landcolor": "rgb(17,17,17)",
           "showlakes": true,
           "showland": true,
           "subunitcolor": "#506784"
          },
          "hoverlabel": {
           "align": "left"
          },
          "hovermode": "closest",
          "mapbox": {
           "style": "dark"
          },
          "paper_bgcolor": "rgb(17,17,17)",
          "plot_bgcolor": "rgb(17,17,17)",
          "polar": {
           "angularaxis": {
            "gridcolor": "#506784",
            "linecolor": "#506784",
            "ticks": ""
           },
           "bgcolor": "rgb(17,17,17)",
           "radialaxis": {
            "gridcolor": "#506784",
            "linecolor": "#506784",
            "ticks": ""
           }
          },
          "scene": {
           "xaxis": {
            "backgroundcolor": "rgb(17,17,17)",
            "gridcolor": "#506784",
            "gridwidth": 2,
            "linecolor": "#506784",
            "showbackground": true,
            "ticks": "",
            "zerolinecolor": "#C8D4E3"
           },
           "yaxis": {
            "backgroundcolor": "rgb(17,17,17)",
            "gridcolor": "#506784",
            "gridwidth": 2,
            "linecolor": "#506784",
            "showbackground": true,
            "ticks": "",
            "zerolinecolor": "#C8D4E3"
           },
           "zaxis": {
            "backgroundcolor": "rgb(17,17,17)",
            "gridcolor": "#506784",
            "gridwidth": 2,
            "linecolor": "#506784",
            "showbackground": true,
            "ticks": "",
            "zerolinecolor": "#C8D4E3"
           }
          },
          "shapedefaults": {
           "line": {
            "color": "#f2f5fa"
           }
          },
          "sliderdefaults": {
           "bgcolor": "#C8D4E3",
           "bordercolor": "rgb(17,17,17)",
           "borderwidth": 1,
           "tickwidth": 0
          },
          "ternary": {
           "aaxis": {
            "gridcolor": "#506784",
            "linecolor": "#506784",
            "ticks": ""
           },
           "baxis": {
            "gridcolor": "#506784",
            "linecolor": "#506784",
            "ticks": ""
           },
           "bgcolor": "rgb(17,17,17)",
           "caxis": {
            "gridcolor": "#506784",
            "linecolor": "#506784",
            "ticks": ""
           }
          },
          "title": {
           "x": 0.05
          },
          "updatemenudefaults": {
           "bgcolor": "#506784",
           "borderwidth": 0
          },
          "xaxis": {
           "automargin": true,
           "gridcolor": "#283442",
           "linecolor": "#506784",
           "ticks": "",
           "title": {
            "standoff": 15
           },
           "zerolinecolor": "#283442",
           "zerolinewidth": 2
          },
          "yaxis": {
           "automargin": true,
           "gridcolor": "#283442",
           "linecolor": "#506784",
           "ticks": "",
           "title": {
            "standoff": 15
           },
           "zerolinecolor": "#283442",
           "zerolinewidth": 2
          }
         }
        },
        "title": {
         "text": "Sensitivity Plot(all wells receive equal amount of gas lift)",
         "x": 0.5
        },
        "xaxis": {
         "nticks": 50,
         "title": {
          "text": "Gaslift Gas Injection Rate(MMscf/day)"
         }
        },
        "yaxis": {
         "nticks": 20,
         "title": {
          "text": "Oil Rate(STB/day)"
         }
        }
       }
      },
      "text/html": [
       "<div>                            <div id=\"210f7656-9719-4482-8a2b-38deb0967cf9\" class=\"plotly-graph-div\" style=\"height:525px; width:100%;\"></div>            <script type=\"text/javascript\">                require([\"plotly\"], function(Plotly) {                    window.PLOTLYENV=window.PLOTLYENV || {};                                    if (document.getElementById(\"210f7656-9719-4482-8a2b-38deb0967cf9\")) {                    Plotly.newPlot(                        \"210f7656-9719-4482-8a2b-38deb0967cf9\",                        [{\"mode\":\"lines\",\"name\":\"Well_1\",\"x\":[0.0,0.05,0.1,0.15000000000000002,0.2,0.25,0.30000000000000004,0.35000000000000003,0.4,0.45,0.5,0.55,0.6000000000000001,0.65,0.7000000000000001,0.75,0.8,0.8500000000000001,0.9,0.9500000000000001,1.0,1.05,1.1,1.1500000000000001,1.2000000000000002,1.25,1.3,1.35,1.4000000000000001,1.4500000000000002,1.5],\"y\":[878.37,887.66,896.05,904.96,911.9,918.29,924.19,930.24,935.19,939.81,944.14,948.1,951.77,955.13,958.21,961.05,963.73,966.25,968.49,971.21,973.15,974.95,976.58,978.08,979.43,980.65,981.79,982.84,983.78,984.59,985.32],\"type\":\"scatter\"},{\"mode\":\"lines\",\"name\":\"Well_2\",\"x\":[0.0,0.05,0.1,0.15000000000000002,0.2,0.25,0.30000000000000004,0.35000000000000003,0.4,0.45,0.5,0.55,0.6000000000000001,0.65,0.7000000000000001,0.75,0.8,0.8500000000000001,0.9,0.9500000000000001,1.0,1.05,1.1,1.1500000000000001,1.2000000000000002,1.25,1.3,1.35,1.4000000000000001,1.4500000000000002,1.5],\"y\":[1657.35,1663.12,1668.4,1673.25,1677.71,1681.81,1685.58,1689.05,1692.24,1695.17,1697.85,1700.31,1702.57,1705.03,1706.89,1708.57,1710.09,1711.42,1712.6,1713.64,1714.54,1715.32,1715.98,1716.53,1716.94,1717.24,1717.44,1717.54,1717.55,1717.47,1717.3],\"type\":\"scatter\"},{\"mode\":\"lines\",\"name\":\"Well_3\",\"x\":[0.0,0.05,0.1,0.15000000000000002,0.2,0.25,0.30000000000000004,0.35000000000000003,0.4,0.45,0.5,0.55,0.6000000000000001,0.65,0.7000000000000001,0.75,0.8,0.8500000000000001,0.9,0.9500000000000001,1.0,1.05,1.1,1.1500000000000001,1.2000000000000002,1.25,1.3,1.35,1.4000000000000001,1.4500000000000002,1.5],\"y\":[1576.44,1582.52,1588.09,1593.2,1597.9,1602.23,1606.21,1609.91,1613.28,1616.38,1619.15,1621.64,1623.94,1628.5,1630.42,1632.19,1633.8,1635.26,1636.59,1637.78,1638.84,1639.78,1640.6,1641.32,1641.92,1642.42,1642.82,1643.12,1643.34,1643.46,1643.5],\"type\":\"scatter\"},{\"mode\":\"lines\",\"name\":\"Well_4\",\"x\":[0.0,0.05,0.1,0.15000000000000002,0.2,0.25,0.30000000000000004,0.35000000000000003,0.4,0.45,0.5,0.55,0.6000000000000001,0.65,0.7000000000000001,0.75,0.8,0.8500000000000001,0.9,0.9500000000000001,1.0,1.05,1.1,1.1500000000000001,1.2000000000000002,1.25,1.3,1.35,1.4000000000000001,1.4500000000000002,1.5],\"y\":[1362.42,1369.43,1375.9,1381.88,1387.41,1392.53,1397.28,1401.69,1405.79,1409.61,1413.16,1416.47,1419.53,1422.37,1425.0,1428.51,1431.86,1433.93,1435.76,1437.45,1438.99,1440.41,1441.7,1442.87,1443.93,1444.82,1445.58,1446.26,1446.83,1447.31,1447.71],\"type\":\"scatter\"},{\"mode\":\"lines\",\"name\":\"Well_5\",\"x\":[0.0,0.05,0.1,0.15000000000000002,0.2,0.25,0.30000000000000004,0.35000000000000003,0.4,0.45,0.5,0.55,0.6000000000000001,0.65,0.7000000000000001,0.75,0.8,0.8500000000000001,0.9,0.9500000000000001,1.0,1.05,1.1,1.1500000000000001,1.2000000000000002,1.25,1.3,1.35,1.4000000000000001,1.4500000000000002,1.5],\"y\":[997.05,1005.79,1013.68,1020.93,1027.6,1035.34,1041.02,1046.3,1051.22,1055.8,1060.09,1064.0,1067.58,1070.94,1074.09,1077.05,1079.76,1082.73,1085.05,1087.16,1089.13,1090.91,1092.54,1094.06,1095.47,1096.78,1097.91,1098.92,1099.84,1100.68,1101.44],\"type\":\"scatter\"},{\"mode\":\"lines\",\"name\":\"Well_6\",\"x\":[0.0,0.05,0.1,0.15000000000000002,0.2,0.25,0.30000000000000004,0.35000000000000003,0.4,0.45,0.5,0.55,0.6000000000000001,0.65,0.7000000000000001,0.75,0.8,0.8500000000000001,0.9,0.9500000000000001,1.0,1.05,1.1,1.1500000000000001,1.2000000000000002,1.25,1.3,1.35,1.4000000000000001,1.4500000000000002,1.5],\"y\":[1858.4,1863.0,1867.23,1871.12,1874.69,1877.97,1880.97,1883.72,1886.24,1888.53,1890.55,1894.21,1895.85,1897.31,1898.62,1899.76,1900.76,1901.61,1902.34,1902.93,1903.41,1903.76,1904.0,1904.14,1904.17,1904.1,1903.94,1903.68,1903.33,1902.9,1902.36],\"type\":\"scatter\"},{\"mode\":\"lines\",\"name\":\"Well_7\",\"x\":[0.0,0.05,0.1,0.15000000000000002,0.2,0.25,0.30000000000000004,0.35000000000000003,0.4,0.45,0.5,0.55,0.6000000000000001,0.65,0.7000000000000001,0.75,0.8,0.8500000000000001,0.9,0.9500000000000001,1.0,1.05,1.1,1.1500000000000001,1.2000000000000002,1.25,1.3,1.35,1.4000000000000001,1.4500000000000002,1.5],\"y\":[1767.62,1772.88,1777.72,1782.06,1786.06,1789.73,1793.1,1796.2,1799.04,1801.64,1804.02,1806.19,1808.15,1809.93,1811.54,1812.97,1814.25,1815.38,1816.36,1817.21,1817.93,1818.52,1819.0,1819.32,1819.5,1819.58,1819.56,1819.44,1819.23,1818.94,1818.56],\"type\":\"scatter\"},{\"mode\":\"lines\",\"name\":\"Well_8\",\"x\":[0.0,0.05,0.1,0.15000000000000002,0.2,0.25,0.30000000000000004,0.35000000000000003,0.4,0.45,0.5,0.55,0.6000000000000001,0.65,0.7000000000000001,0.75,0.8,0.8500000000000001,0.9,0.9500000000000001,1.0,1.05,1.1,1.1500000000000001,1.2000000000000002,1.25,1.3,1.35,1.4000000000000001,1.4500000000000002,1.5],\"y\":[1123.93,1132.25,1139.83,1146.76,1153.42,1159.24,1164.63,1169.61,1174.25,1178.54,1182.55,1186.29,1189.79,1194.82,1197.9,1200.78,1203.44,1205.79,1207.98,1210.02,1211.93,1213.7,1215.35,1216.87,1218.15,1219.34,1220.41,1221.39,1222.28,1223.07,1223.78],\"type\":\"scatter\"},{\"mode\":\"lines\",\"name\":\"Well_9\",\"x\":[0.0,0.05,0.1,0.15000000000000002,0.2,0.25,0.30000000000000004,0.35000000000000003,0.4,0.45,0.5,0.55,0.6000000000000001,0.65,0.7000000000000001,0.75,0.8,0.8500000000000001,0.9,0.9500000000000001,1.0,1.05,1.1,1.1500000000000001,1.2000000000000002,1.25,1.3,1.35,1.4000000000000001,1.4500000000000002,1.5],\"y\":[1717.52,1723.02,1728.0,1734.79,1739.01,1742.89,1746.45,1749.73,1752.74,1755.5,1758.03,1760.34,1762.44,1764.35,1766.08,1767.63,1769.02,1770.26,1771.35,1772.31,1773.09,1773.72,1774.24,1774.64,1774.93,1775.12,1775.91,1775.9,1775.8,1775.57,1775.25],\"type\":\"scatter\"},{\"mode\":\"lines\",\"name\":\"Well_10\",\"x\":[0.0,0.05,0.1,0.15000000000000002,0.2,0.25,0.30000000000000004,0.35000000000000003,0.4,0.45,0.5,0.55,0.6000000000000001,0.65,0.7000000000000001,0.75,0.8,0.8500000000000001,0.9,0.9500000000000001,1.0,1.05,1.1,1.1500000000000001,1.2000000000000002,1.25,1.3,1.35,1.4000000000000001,1.4500000000000002,1.5],\"y\":[1749.18,1754.56,1759.44,1763.88,1767.97,1771.73,1775.18,1778.35,1781.27,1783.93,1786.37,1788.6,1790.62,1792.45,1794.11,1795.6,1796.92,1798.1,1799.13,1800.02,1800.78,1801.42,1801.88,1802.21,1802.44,1802.56,1802.58,1802.5,1802.34,1802.08,1801.74],\"type\":\"scatter\"}],                        {\"template\":{\"data\":{\"histogram2dcontour\":[{\"type\":\"histogram2dcontour\",\"colorbar\":{\"outlinewidth\":0,\"ticks\":\"\"},\"colorscale\":[[0.0,\"#0d0887\"],[0.1111111111111111,\"#46039f\"],[0.2222222222222222,\"#7201a8\"],[0.3333333333333333,\"#9c179e\"],[0.4444444444444444,\"#bd3786\"],[0.5555555555555556,\"#d8576b\"],[0.6666666666666666,\"#ed7953\"],[0.7777777777777778,\"#fb9f3a\"],[0.8888888888888888,\"#fdca26\"],[1.0,\"#f0f921\"]]}],\"choropleth\":[{\"type\":\"choropleth\",\"colorbar\":{\"outlinewidth\":0,\"ticks\":\"\"}}],\"histogram2d\":[{\"type\":\"histogram2d\",\"colorbar\":{\"outlinewidth\":0,\"ticks\":\"\"},\"colorscale\":[[0.0,\"#0d0887\"],[0.1111111111111111,\"#46039f\"],[0.2222222222222222,\"#7201a8\"],[0.3333333333333333,\"#9c179e\"],[0.4444444444444444,\"#bd3786\"],[0.5555555555555556,\"#d8576b\"],[0.6666666666666666,\"#ed7953\"],[0.7777777777777778,\"#fb9f3a\"],[0.8888888888888888,\"#fdca26\"],[1.0,\"#f0f921\"]]}],\"heatmap\":[{\"type\":\"heatmap\",\"colorbar\":{\"outlinewidth\":0,\"ticks\":\"\"},\"colorscale\":[[0.0,\"#0d0887\"],[0.1111111111111111,\"#46039f\"],[0.2222222222222222,\"#7201a8\"],[0.3333333333333333,\"#9c179e\"],[0.4444444444444444,\"#bd3786\"],[0.5555555555555556,\"#d8576b\"],[0.6666666666666666,\"#ed7953\"],[0.7777777777777778,\"#fb9f3a\"],[0.8888888888888888,\"#fdca26\"],[1.0,\"#f0f921\"]]}],\"heatmapgl\":[{\"type\":\"heatmapgl\",\"colorbar\":{\"outlinewidth\":0,\"ticks\":\"\"},\"colorscale\":[[0.0,\"#0d0887\"],[0.1111111111111111,\"#46039f\"],[0.2222222222222222,\"#7201a8\"],[0.3333333333333333,\"#9c179e\"],[0.4444444444444444,\"#bd3786\"],[0.5555555555555556,\"#d8576b\"],[0.6666666666666666,\"#ed7953\"],[0.7777777777777778,\"#fb9f3a\"],[0.8888888888888888,\"#fdca26\"],[1.0,\"#f0f921\"]]}],\"contourcarpet\":[{\"type\":\"contourcarpet\",\"colorbar\":{\"outlinewidth\":0,\"ticks\":\"\"}}],\"contour\":[{\"type\":\"contour\",\"colorbar\":{\"outlinewidth\":0,\"ticks\":\"\"},\"colorscale\":[[0.0,\"#0d0887\"],[0.1111111111111111,\"#46039f\"],[0.2222222222222222,\"#7201a8\"],[0.3333333333333333,\"#9c179e\"],[0.4444444444444444,\"#bd3786\"],[0.5555555555555556,\"#d8576b\"],[0.6666666666666666,\"#ed7953\"],[0.7777777777777778,\"#fb9f3a\"],[0.8888888888888888,\"#fdca26\"],[1.0,\"#f0f921\"]]}],\"surface\":[{\"type\":\"surface\",\"colorbar\":{\"outlinewidth\":0,\"ticks\":\"\"},\"colorscale\":[[0.0,\"#0d0887\"],[0.1111111111111111,\"#46039f\"],[0.2222222222222222,\"#7201a8\"],[0.3333333333333333,\"#9c179e\"],[0.4444444444444444,\"#bd3786\"],[0.5555555555555556,\"#d8576b\"],[0.6666666666666666,\"#ed7953\"],[0.7777777777777778,\"#fb9f3a\"],[0.8888888888888888,\"#fdca26\"],[1.0,\"#f0f921\"]]}],\"mesh3d\":[{\"type\":\"mesh3d\",\"colorbar\":{\"outlinewidth\":0,\"ticks\":\"\"}}],\"scatter\":[{\"marker\":{\"line\":{\"color\":\"#283442\"}},\"type\":\"scatter\"}],\"parcoords\":[{\"type\":\"parcoords\",\"line\":{\"colorbar\":{\"outlinewidth\":0,\"ticks\":\"\"}}}],\"scatterpolargl\":[{\"type\":\"scatterpolargl\",\"marker\":{\"colorbar\":{\"outlinewidth\":0,\"ticks\":\"\"}}}],\"bar\":[{\"error_x\":{\"color\":\"#f2f5fa\"},\"error_y\":{\"color\":\"#f2f5fa\"},\"marker\":{\"line\":{\"color\":\"rgb(17,17,17)\",\"width\":0.5},\"pattern\":{\"fillmode\":\"overlay\",\"size\":10,\"solidity\":0.2}},\"type\":\"bar\"}],\"scattergeo\":[{\"type\":\"scattergeo\",\"marker\":{\"colorbar\":{\"outlinewidth\":0,\"ticks\":\"\"}}}],\"scatterpolar\":[{\"type\":\"scatterpolar\",\"marker\":{\"colorbar\":{\"outlinewidth\":0,\"ticks\":\"\"}}}],\"histogram\":[{\"marker\":{\"pattern\":{\"fillmode\":\"overlay\",\"size\":10,\"solidity\":0.2}},\"type\":\"histogram\"}],\"scattergl\":[{\"marker\":{\"line\":{\"color\":\"#283442\"}},\"type\":\"scattergl\"}],\"scatter3d\":[{\"type\":\"scatter3d\",\"line\":{\"colorbar\":{\"outlinewidth\":0,\"ticks\":\"\"}},\"marker\":{\"colorbar\":{\"outlinewidth\":0,\"ticks\":\"\"}}}],\"scattermapbox\":[{\"type\":\"scattermapbox\",\"marker\":{\"colorbar\":{\"outlinewidth\":0,\"ticks\":\"\"}}}],\"scatterternary\":[{\"type\":\"scatterternary\",\"marker\":{\"colorbar\":{\"outlinewidth\":0,\"ticks\":\"\"}}}],\"scattercarpet\":[{\"type\":\"scattercarpet\",\"marker\":{\"colorbar\":{\"outlinewidth\":0,\"ticks\":\"\"}}}],\"carpet\":[{\"aaxis\":{\"endlinecolor\":\"#A2B1C6\",\"gridcolor\":\"#506784\",\"linecolor\":\"#506784\",\"minorgridcolor\":\"#506784\",\"startlinecolor\":\"#A2B1C6\"},\"baxis\":{\"endlinecolor\":\"#A2B1C6\",\"gridcolor\":\"#506784\",\"linecolor\":\"#506784\",\"minorgridcolor\":\"#506784\",\"startlinecolor\":\"#A2B1C6\"},\"type\":\"carpet\"}],\"table\":[{\"cells\":{\"fill\":{\"color\":\"#506784\"},\"line\":{\"color\":\"rgb(17,17,17)\"}},\"header\":{\"fill\":{\"color\":\"#2a3f5f\"},\"line\":{\"color\":\"rgb(17,17,17)\"}},\"type\":\"table\"}],\"barpolar\":[{\"marker\":{\"line\":{\"color\":\"rgb(17,17,17)\",\"width\":0.5},\"pattern\":{\"fillmode\":\"overlay\",\"size\":10,\"solidity\":0.2}},\"type\":\"barpolar\"}],\"pie\":[{\"automargin\":true,\"type\":\"pie\"}]},\"layout\":{\"autotypenumbers\":\"strict\",\"colorway\":[\"#636efa\",\"#EF553B\",\"#00cc96\",\"#ab63fa\",\"#FFA15A\",\"#19d3f3\",\"#FF6692\",\"#B6E880\",\"#FF97FF\",\"#FECB52\"],\"font\":{\"color\":\"#f2f5fa\"},\"hovermode\":\"closest\",\"hoverlabel\":{\"align\":\"left\"},\"paper_bgcolor\":\"rgb(17,17,17)\",\"plot_bgcolor\":\"rgb(17,17,17)\",\"polar\":{\"bgcolor\":\"rgb(17,17,17)\",\"angularaxis\":{\"gridcolor\":\"#506784\",\"linecolor\":\"#506784\",\"ticks\":\"\"},\"radialaxis\":{\"gridcolor\":\"#506784\",\"linecolor\":\"#506784\",\"ticks\":\"\"}},\"ternary\":{\"bgcolor\":\"rgb(17,17,17)\",\"aaxis\":{\"gridcolor\":\"#506784\",\"linecolor\":\"#506784\",\"ticks\":\"\"},\"baxis\":{\"gridcolor\":\"#506784\",\"linecolor\":\"#506784\",\"ticks\":\"\"},\"caxis\":{\"gridcolor\":\"#506784\",\"linecolor\":\"#506784\",\"ticks\":\"\"}},\"coloraxis\":{\"colorbar\":{\"outlinewidth\":0,\"ticks\":\"\"}},\"colorscale\":{\"sequential\":[[0.0,\"#0d0887\"],[0.1111111111111111,\"#46039f\"],[0.2222222222222222,\"#7201a8\"],[0.3333333333333333,\"#9c179e\"],[0.4444444444444444,\"#bd3786\"],[0.5555555555555556,\"#d8576b\"],[0.6666666666666666,\"#ed7953\"],[0.7777777777777778,\"#fb9f3a\"],[0.8888888888888888,\"#fdca26\"],[1.0,\"#f0f921\"]],\"sequentialminus\":[[0.0,\"#0d0887\"],[0.1111111111111111,\"#46039f\"],[0.2222222222222222,\"#7201a8\"],[0.3333333333333333,\"#9c179e\"],[0.4444444444444444,\"#bd3786\"],[0.5555555555555556,\"#d8576b\"],[0.6666666666666666,\"#ed7953\"],[0.7777777777777778,\"#fb9f3a\"],[0.8888888888888888,\"#fdca26\"],[1.0,\"#f0f921\"]],\"diverging\":[[0,\"#8e0152\"],[0.1,\"#c51b7d\"],[0.2,\"#de77ae\"],[0.3,\"#f1b6da\"],[0.4,\"#fde0ef\"],[0.5,\"#f7f7f7\"],[0.6,\"#e6f5d0\"],[0.7,\"#b8e186\"],[0.8,\"#7fbc41\"],[0.9,\"#4d9221\"],[1,\"#276419\"]]},\"xaxis\":{\"gridcolor\":\"#283442\",\"linecolor\":\"#506784\",\"ticks\":\"\",\"title\":{\"standoff\":15},\"zerolinecolor\":\"#283442\",\"automargin\":true,\"zerolinewidth\":2},\"yaxis\":{\"gridcolor\":\"#283442\",\"linecolor\":\"#506784\",\"ticks\":\"\",\"title\":{\"standoff\":15},\"zerolinecolor\":\"#283442\",\"automargin\":true,\"zerolinewidth\":2},\"scene\":{\"xaxis\":{\"backgroundcolor\":\"rgb(17,17,17)\",\"gridcolor\":\"#506784\",\"linecolor\":\"#506784\",\"showbackground\":true,\"ticks\":\"\",\"zerolinecolor\":\"#C8D4E3\",\"gridwidth\":2},\"yaxis\":{\"backgroundcolor\":\"rgb(17,17,17)\",\"gridcolor\":\"#506784\",\"linecolor\":\"#506784\",\"showbackground\":true,\"ticks\":\"\",\"zerolinecolor\":\"#C8D4E3\",\"gridwidth\":2},\"zaxis\":{\"backgroundcolor\":\"rgb(17,17,17)\",\"gridcolor\":\"#506784\",\"linecolor\":\"#506784\",\"showbackground\":true,\"ticks\":\"\",\"zerolinecolor\":\"#C8D4E3\",\"gridwidth\":2}},\"shapedefaults\":{\"line\":{\"color\":\"#f2f5fa\"}},\"annotationdefaults\":{\"arrowcolor\":\"#f2f5fa\",\"arrowhead\":0,\"arrowwidth\":1},\"geo\":{\"bgcolor\":\"rgb(17,17,17)\",\"landcolor\":\"rgb(17,17,17)\",\"subunitcolor\":\"#506784\",\"showland\":true,\"showlakes\":true,\"lakecolor\":\"rgb(17,17,17)\"},\"title\":{\"x\":0.05},\"updatemenudefaults\":{\"bgcolor\":\"#506784\",\"borderwidth\":0},\"sliderdefaults\":{\"bgcolor\":\"#C8D4E3\",\"borderwidth\":1,\"bordercolor\":\"rgb(17,17,17)\",\"tickwidth\":0},\"mapbox\":{\"style\":\"dark\"}}},\"title\":{\"text\":\"Sensitivity Plot(all wells receive equal amount of gas lift)\",\"x\":0.5},\"xaxis\":{\"title\":{\"text\":\"Gaslift Gas Injection Rate(MMscf/day)\"},\"nticks\":50},\"yaxis\":{\"title\":{\"text\":\"Oil Rate(STB/day)\"},\"nticks\":20}},                        {\"responsive\": true}                    ).then(function(){\n",
       "                            \n",
       "var gd = document.getElementById('210f7656-9719-4482-8a2b-38deb0967cf9');\n",
       "var x = new MutationObserver(function (mutations, observer) {{\n",
       "        var display = window.getComputedStyle(gd).display;\n",
       "        if (!display || display === 'none') {{\n",
       "            console.log([gd, 'removed!']);\n",
       "            Plotly.purge(gd);\n",
       "            observer.disconnect();\n",
       "        }}\n",
       "}});\n",
       "\n",
       "// Listen for the removal of the full notebook cells\n",
       "var notebookContainer = gd.closest('#notebook-container');\n",
       "if (notebookContainer) {{\n",
       "    x.observe(notebookContainer, {childList: true});\n",
       "}}\n",
       "\n",
       "// Listen for the clearing of the current output cell\n",
       "var outputEl = gd.closest('.output');\n",
       "if (outputEl) {{\n",
       "    x.observe(outputEl, {childList: true});\n",
       "}}\n",
       "\n",
       "                        })                };                });            </script>        </div>"
      ]
     },
     "metadata": {},
     "output_type": "display_data"
    }
   ],
   "source": [
    "#sensisitivity plot if all wells receive equal amount of gas\n",
    "fig = go.Figure()\n",
    "for i in range(1,number_of_wells+1):\n",
    "    \n",
    "    fig.add_trace(go.Scatter(x=df['gas_injection_array'], y=df[f'Well_{i}'],\n",
    "                            mode='lines', name=f'Well_{i}'))\n",
    "fig.update_layout(title='Sensitivity Plot(all wells receive equal amount of gas lift)',\n",
    "                   xaxis_title='Gaslift Gas Injection Rate(MMscf/day)',\n",
    "                   yaxis_title='Oil Rate(STB/day)',\n",
    "                   title_x=0.5, \n",
    "                   )\n",
    "fig.update_xaxes(nticks=50)\n",
    "fig.update_yaxes(nticks=20)\n",
    "fig.show()"
   ]
  },
  {
   "cell_type": "code",
   "execution_count": null,
   "metadata": {},
   "outputs": [
    {
     "data": {
      "text/plain": [
       "[{'production_rate': 985.32, 'gas_lift': 1.5},\n",
       " {'production_rate': 1717.55, 'gas_lift': 1.4000000000000001},\n",
       " {'production_rate': 1643.5, 'gas_lift': 1.5},\n",
       " {'production_rate': 1447.71, 'gas_lift': 1.5},\n",
       " {'production_rate': 1101.44, 'gas_lift': 1.5},\n",
       " {'production_rate': 1904.17, 'gas_lift': 1.2000000000000002},\n",
       " {'production_rate': 1819.58, 'gas_lift': 1.25},\n",
       " {'production_rate': 1223.78, 'gas_lift': 1.5},\n",
       " {'production_rate': 1775.91, 'gas_lift': 1.3},\n",
       " {'production_rate': 1802.58, 'gas_lift': 1.3}]"
      ]
     },
     "execution_count": 25,
     "metadata": {},
     "output_type": "execute_result"
    }
   ],
   "source": [
    "#extracting max gas lift oil rate pairs\n",
    "df_new = df.drop('gas_injection_array', axis=1)\n",
    "wells = []\n",
    "i=1\n",
    "for element in df_new.idxmax():\n",
    "    oil_rate = df_new[f'Well_{i}'][element]\n",
    "    gas_lift = df['gas_injection_array'][element]\n",
    "    wells.append({'production_rate':oil_rate, 'gas_lift':gas_lift})\n",
    "    i+=1\n",
    "wells"
   ]
  },
  {
   "cell_type": "code",
   "execution_count": null,
   "metadata": {},
   "outputs": [
    {
     "data": {
      "text/plain": [
       "[(985.32, 1.5),\n",
       " (1717.55, 1.4000000000000001),\n",
       " (1643.5, 1.5),\n",
       " (1447.71, 1.5),\n",
       " (1101.44, 1.5),\n",
       " (1904.17, 1.2000000000000002),\n",
       " (1819.58, 1.25),\n",
       " (1223.78, 1.5),\n",
       " (1775.91, 1.3),\n",
       " (1802.58, 1.3)]"
      ]
     },
     "execution_count": 33,
     "metadata": {},
     "output_type": "execute_result"
    }
   ],
   "source": [
    "# wells = [{'production_rate': 987.44, 'gas_lift': 1.7},\n",
    "#          {'production_rate': 1717.55, 'gas_lift': 1.4},\n",
    "#          {'production_rate': 1643.5, 'gas_lift': 1.5},\n",
    "#          {'production_rate': 1448.2, 'gas_lift': 1.7},\n",
    "#          {'production_rate': 1104.21, 'gas_lift': 1.9},\n",
    "#          {'production_rate': 1904.17, 'gas_lift': 1.2},\n",
    "#          {'production_rate': 1819.56, 'gas_lift': 1.3},\n",
    "#          {'production_rate': 1225.93, 'gas_lift': 1.9},\n",
    "#          {'production_rate': 1775.91, 'gas_lift': 1.3},\n",
    "#          {'production_rate': 1802.58, 'gas_lift': 1.3}]\n",
    "#copy and paste the values from above based on number of wells determineed\n",
    "wells = [\n",
    " {'production_rate': 985.32, 'gas_lift': 1.5},\n",
    " {'production_rate': 1717.55, 'gas_lift': 1.4000000000000001},\n",
    " {'production_rate': 1643.5, 'gas_lift': 1.5},\n",
    " {'production_rate': 1447.71, 'gas_lift': 1.5},\n",
    " {'production_rate': 1101.44, 'gas_lift': 1.5},\n",
    " {'production_rate': 1904.17, 'gas_lift': 1.2000000000000002},\n",
    " {'production_rate': 1819.58, 'gas_lift': 1.25},\n",
    " {'production_rate': 1223.78, 'gas_lift': 1.5},\n",
    " {'production_rate': 1775.91, 'gas_lift': 1.3},\n",
    " {'production_rate': 1802.58, 'gas_lift': 1.3}]\n",
    "well_list = [(d['production_rate'], d['gas_lift']) for d in wells]\n",
    "well_list"
   ]
  },
  {
   "cell_type": "markdown",
   "metadata": {},
   "source": [
    "# Particle Swarm Optimization (PSO)"
   ]
  },
  {
   "cell_type": "markdown",
   "metadata": {},
   "source": [
    "# Current solution with PSO"
   ]
  },
  {
   "cell_type": "code",
   "execution_count": null,
   "metadata": {},
   "outputs": [],
   "source": [
    "import numpy as np\n",
    "import random\n",
    "\n",
    "def optimize_gas_allocation_PSO(wells, gas_capacity, iteration_count, num_particles):\n",
    "    # Initialize the particles and their velocities\n",
    "    particles = [np.random.rand(len(wells)) for _ in range(num_particles)]\n",
    "    velocities = [np.zeros(len(wells)) for _ in range(num_particles)]\n",
    "\n",
    "    # Initialize the best position and best fitness for each particle\n",
    "    personal_best_positions = particles.copy()\n",
    "    personal_best_fitness = [np.inf for _ in range(num_particles)]\n",
    "\n",
    "    # Initialize the global best position and global best fitness\n",
    "    global_best_position = personal_best_positions[np.argmin(personal_best_fitness)]\n",
    "    global_best_fitness = np.inf\n",
    "\n",
    "    # Run the algorithm for the specified number of iterations\n",
    "    for i in range(iteration_count):\n",
    "        # Update the position and fitness of each particle\n",
    "        for j, particle in enumerate(particles):\n",
    "            # Update the velocity of the particle\n",
    "            rp = random.uniform(0,1)\n",
    "            rg = random.uniform(0,1)\n",
    "            velocities[j] = 0.5 * velocities[j] + rp * (personal_best_positions[j] - particle) + rg * (global_best_position - particle)\n",
    "            # Update the position of the particle\n",
    "            particles[j] += velocities[j]\n",
    "            # Ensure that the particle's position is within the constraints\n",
    "            particles[j] = np.maximum(np.zeros(len(wells)), particles[j])\n",
    "\n",
    "            # Calculate the fitness of the particle\n",
    "            fitness = -1 * np.sum(particles[j] * [well['production_rate'] for well in wells])\n",
    "            # Update the personal best position and personal best fitness of the particle\n",
    "            if fitness < personal_best_fitness[j]:\n",
    "                personal_best_positions[j] = particles[j]\n",
    "                personal_best_fitness[j] = fitness\n",
    "\n",
    "            # Check if the total gas allocated to all wells is less than or equal to the total available gas capacity\n",
    "            total_gas_allocated = sum(particles[j])\n",
    "            if total_gas_allocated > gas_capacity:\n",
    "                particles[j] = particles[j] * (gas_capacity / total_gas_allocated)\n",
    "                total_gas_allocated = gas_capacity\n",
    "\n",
    "            # Update the global best position and global best fitness\n",
    "            if fitness < global_best_fitness:\n",
    "                global_best_position = particles[j]\n",
    "                global_best_fitness = fitness\n",
    "    return [{'well_id': j, 'allocation': global_best_position[j]} for j in range(len(wells))]\n"
   ]
  },
  {
   "cell_type": "markdown",
   "metadata": {},
   "source": [
    "# Testing the current solution"
   ]
  },
  {
   "cell_type": "code",
   "execution_count": null,
   "metadata": {},
   "outputs": [
    {
     "data": {
      "text/plain": [
       "[{'well_id': 0, 'allocation': 0.11856672957678785},\n",
       " {'well_id': 1, 'allocation': 0.22317546050798243},\n",
       " {'well_id': 2, 'allocation': 0.13624595549550425},\n",
       " {'well_id': 3, 'allocation': 0.16642961981824633},\n",
       " {'well_id': 4, 'allocation': 0.22977984673849056},\n",
       " {'well_id': 5, 'allocation': 0.09986468048060859},\n",
       " {'well_id': 6, 'allocation': 0.12270733767742853},\n",
       " {'well_id': 7, 'allocation': 0.11888142600872491},\n",
       " {'well_id': 8, 'allocation': 0.1278026399848467},\n",
       " {'well_id': 9, 'allocation': 0.15654630371137998}]"
      ]
     },
     "execution_count": 28,
     "metadata": {},
     "output_type": "execute_result"
    }
   ],
   "source": [
    "gas_capacity= 1.5\n",
    "iteration_count= 50\n",
    "num_part = 240\n",
    "allocations = optimize_gas_allocation_PSO(wells, gas_capacity, iteration_count, num_part)\n",
    "allocations"
   ]
  },
  {
   "cell_type": "code",
   "execution_count": null,
   "metadata": {},
   "outputs": [
    {
     "name": "stdout",
     "output_type": "stream",
     "text": [
      "1.5\n"
     ]
    }
   ],
   "source": [
    "#total gas consumed\n",
    "sum_gas = 0\n",
    "for alloc in allocations:\n",
    "    sum_gas+=alloc['allocation']\n",
    "print(sum_gas)"
   ]
  },
  {
   "cell_type": "code",
   "execution_count": null,
   "metadata": {},
   "outputs": [
    {
     "name": "stdout",
     "output_type": "stream",
     "text": [
      "OpenServer connected\n",
      "Well 1 opened\n",
      "Well 2 opened\n",
      "Well 3 opened\n",
      "Well 4 opened\n",
      "Well 5 opened\n",
      "Well 6 opened\n",
      "Well 7 opened\n",
      "Well 8 opened\n",
      "Well 9 opened\n",
      "Well 10 opened\n",
      "OpenServer disconnected\n"
     ]
    },
    {
     "data": {
      "text/plain": [
       "[(898.97, 0.11856672957678785),\n",
       " (1679.65, 0.22317546050798243),\n",
       " (1591.84, 0.13624595549550425),\n",
       " (1383.74, 0.16642961981824633),\n",
       " (1031.34, 0.22977984673849056),\n",
       " (1867.22, 0.09986468048060859),\n",
       " (1779.74, 0.12270733767742853),\n",
       " (1142.52, 0.11888142600872491),\n",
       " (1732.79, 0.1278026399848467),\n",
       " (1764.44, 0.15654630371137998)]"
      ]
     },
     "execution_count": 30,
     "metadata": {},
     "output_type": "execute_result"
    }
   ],
   "source": [
    "# test the accuracy of method-Matt\n",
    "petex = OpenServer()\n",
    "\n",
    "petex.Connect()\n",
    "oil_rates = []\n",
    "\n",
    "# Perform functions\n",
    "cwd = os.getcwd()\n",
    "\n",
    "for j in range(len(allocations)):\n",
    "#opening well file\n",
    "    OSOpenFile(petex, cwd + f'\\models\\well_{j+1}.Out', 'PROSPER')\n",
    "    print(f'Well {j+1} opened')\n",
    "\n",
    "    DoSet(petex,'PROSPER.ANL.SYS.Sens.SensDB.Clear',0)\n",
    "    DoSet(petex,\"PROSPER.ANL.SYS.Sens.SensDB.Vars[0]\",22)\n",
    "    \n",
    "    DoSet(petex,\"PROSPER.ANL.SYS.Sens.SensDB.Sens[138].Vals[\"+str(0)+\"]\",allocations[j]['allocation'])\n",
    "\n",
    "    DoCmd(petex, 'PROSPER.ANL.SYS.CALC')\n",
    "     \n",
    "    \n",
    "    oil_rates.append((np.round(float(DoGet(petex, 'PROSPER.OUT.SYS.Results[0].Sol.OilRate')),2),allocations[j]['allocation']))\n",
    "    \n",
    "\n",
    "petex.Disconnect()\n",
    "\n",
    "oil_rates"
   ]
  },
  {
   "cell_type": "code",
   "execution_count": null,
   "metadata": {},
   "outputs": [
    {
     "data": {
      "text/plain": [
       "(14872.250000000002, 1.5)"
      ]
     },
     "execution_count": 31,
     "metadata": {},
     "output_type": "execute_result"
    }
   ],
   "source": [
    "sum([x[0] for x in oil_rates]),sum([x[1] for x in oil_rates])"
   ]
  },
  {
   "cell_type": "markdown",
   "metadata": {},
   "source": [
    "# Visualize the current solution"
   ]
  },
  {
   "cell_type": "code",
   "execution_count": null,
   "metadata": {},
   "outputs": [
    {
     "data": {
      "image/png": "[encoded data removed]",
      "text/plain": [
       "<Figure size 1152x1440 with 10 Axes>"
      ]
     },
     "metadata": {},
     "output_type": "display_data"
    }
   ],
   "source": [
    "cols = 2\n",
    "rows = math.ceil(len(allocations)/cols)\n",
    "fig, axs = plt.subplots(nrows = rows, ncols = cols, figsize=(16,20))\n",
    "\n",
    "for i in range(number_of_wells):\n",
    "    k = i//2\n",
    "    j = i%2\n",
    "    \n",
    "    x=df['gas_injection_array'] \n",
    "    y=df[f'Well_{i+1}']\n",
    "    label=f'Well_{i+1}' \n",
    "    \n",
    "    axs[k,j].plot(x,y,'o')\n",
    "    axs[k,j].set_title(label)\n",
    "    axs[k,j].axvline(oil_rates[i][1],c='r', dashes=(5,2,1,2))\n",
    "    \n",
    "    fig.tight_layout()\n",
    "plt.show()"
   ]
  }
 ],
 "metadata": {
  "kernelspec": {
   "display_name": "Python 3 (ipykernel)",
   "language": "python",
   "name": "python3"
  },
  "language_info": {
   "codemirror_mode": {
    "name": "ipython",
    "version": 3
   },
   "file_extension": ".py",
   "mimetype": "text/x-python",
   "name": "python",
   "nbconvert_exporter": "python",
   "pygments_lexer": "ipython3",
   "version": "3.8.13"
  },
  "vscode": {
   "interpreter": {
    "hash": "6dda936634b00118aa3fd5b09b5a04eabba3f4a622f0977e488f0946ea34a453"
   }
  }
 },
 "nbformat": 4,
 "nbformat_minor": 2
}
